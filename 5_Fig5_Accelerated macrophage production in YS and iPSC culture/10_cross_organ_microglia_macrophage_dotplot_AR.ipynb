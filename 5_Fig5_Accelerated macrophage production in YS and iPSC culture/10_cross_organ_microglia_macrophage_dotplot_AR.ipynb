{
 "cells": [
  {
   "cell_type": "markdown",
   "id": "eastern-machine",
   "metadata": {},
   "source": [
    "# Figure 3h"
   ]
  },
  {
   "cell_type": "code",
   "execution_count": null,
   "id": "polar-hanging",
   "metadata": {},
   "outputs": [],
   "source": [
    "import numpy as np\n",
    "import pandas as pd\n",
    "import scanpy as sc\n",
    "import matplotlib.pyplot as plt\n",
    "\n",
    "sc.settings.verbosity = 3  # verbosity: errors (0), warnings (1), info (2), hints (3)\n",
    "sc.settings.set_figure_params(dpi=80, color_map='viridis')"
   ]
  },
  {
   "cell_type": "code",
   "execution_count": null,
   "id": "another-trash",
   "metadata": {},
   "outputs": [],
   "source": [
    "YS = sc.read('/lustre/scratch117/cellgen/team298/ar32/Microglia_comparison_datasets/A4_V7_YS_integrated_data_singlets_with_raw_counts_for_MS_plotting_20211111_with_obsp.h5ad')\n",
    "skin = sc.read('/lustre/scratch117/cellgen/team298/ar32/Microglia_comparison_datasets/fetal_skin_all_cellxgene_20211215.h5ad')\n",
    "brain = sc.read('/nfs/team298/ar32/YS/brain_objects/kriegstein/Cellbender_from_Jimmy/processed_object_20220329/raw_basic_batch_brain_cellbender_20220329.h5ad')\n",
    "\n",
    "skin_meta = pd.read_csv('/nfs/team298/ar32/YS/YS_to_skin_microglia/skin_data_with_clean_microglia_20220405.csv', index_col=0)\n",
    "brain_meta = pd.read_csv('/nfs/team298/ar32/YS/brain_objects/kriegstein/Cellbender_from_Jimmy/cellbender_from_jimmy/training_on_all_brain_cellbender_with_model_already_made/LR_indiv/brain_microglia_clean_metadata_20220405.csv', index_col=0)"
   ]
  },
  {
   "cell_type": "code",
   "execution_count": null,
   "id": "backed-guest",
   "metadata": {},
   "outputs": [],
   "source": [
    "sc.pp.normalize_total(YS)\n",
    "sc.pp.log1p(YS)\n",
    "\n",
    "skin = skin.raw.to_adata() # normalised and logged\n",
    "\n",
    "sc.pp.log1p(brain) # already normalised"
   ]
  },
  {
   "cell_type": "code",
   "execution_count": null,
   "id": "affecting-highland",
   "metadata": {},
   "outputs": [],
   "source": [
    "YS_genes = list(YS.var.index)\n",
    "skin_genes = list(skin.var.index)\n",
    "brain_genes = list(brain.var.index)\n",
    "keep_SC_genes = list(set(YS_genes) & set(skin_genes) & set(brain_genes))\n",
    "print(\"keep gene list = \" , len(keep_SC_genes), \"YS gene length = \", len(YS_genes) , \"skin gene length = \", len(skin_genes), \"brain gene length = \", len(brain_genes) )\n",
    "\n",
    "# Remove non-intersecting genes (this step will remove cite-seq data if training data is pure RNA seq)\n",
    "YS_intersect = YS[:, keep_SC_genes]\n",
    "YS = YS_intersect\n",
    "skin_intersect = skin[:, keep_SC_genes]\n",
    "skin = skin_intersect\n",
    "brain_intersect = brain[:, keep_SC_genes]\n",
    "brain = brain_intersect"
   ]
  },
  {
   "cell_type": "code",
   "execution_count": null,
   "id": "ultimate-hollow",
   "metadata": {},
   "outputs": [],
   "source": [
    "sc.pp.scale(YS, max_value=10)\n",
    "sc.pp.scale(skin, max_value=10)\n",
    "sc.pp.scale(brain, max_value=10)"
   ]
  },
  {
   "cell_type": "code",
   "execution_count": null,
   "id": "stopped-surgeon",
   "metadata": {},
   "outputs": [],
   "source": [
    "YS = YS[YS.obs['cell.labels'].isin(['MOP', 'Promonocyte','Monocyte','Pre_Macrophage','Macrophage','Microglia'])]\n",
    "YS.obs['Celltypes_to_plot'] = YS.obs['cell.labels'].astype(str) + '_YS'\n",
    "YS.obs['Celltypes_to_plot'] = YS.obs['Celltypes_to_plot'].astype('category')\n",
    "YS.obs['Dataset'] = 'YS'\n",
    "\n",
    "YS_subset = YS[:]\n",
    "del YS\n",
    "\n",
    "\n",
    "skin.obs = skin_meta\n",
    "skin = skin[skin.obs['Microglia_skin_clean'].isin(['Macrophage_clus_prediction','Microglia_clus_prediction'])]\n",
    "skin.obs['Microglia_skin_clean'] = skin.obs['Microglia_skin_clean'].str.replace('_clus_prediction','_skin',regex=True)\n",
    "skin.obs['Celltypes_to_plot'] = skin.obs['Microglia_skin_clean'].astype('category')\n",
    "skin.obs['Dataset'] = 'skin'\n",
    "\n",
    "skin_subset = skin[:]\n",
    "del skin\n",
    "\n",
    "\n",
    "brain.obs = brain_meta\n",
    "brain = brain[brain.obs['clus_prediction'].isin(['Macrophage_clus_prediction','Microglia_clus_prediction'])]\n",
    "brain.obs['clus_prediction'] = brain.obs['clus_prediction'].str.replace('_clus_prediction','_brain',regex=True)\n",
    "brain.obs['Celltypes_to_plot'] = brain.obs['clus_prediction'].astype('category')\n",
    "brain.obs['Dataset'] = 'brain'\n",
    "\n",
    "brain_subset = brain[:]\n",
    "del brain\n",
    "\n",
    "YS = YS_subset\n",
    "skin = skin_subset\n",
    "brain = brain_subset"
   ]
  },
  {
   "cell_type": "code",
   "execution_count": null,
   "id": "manufactured-wilderness",
   "metadata": {},
   "outputs": [],
   "source": [
    "adata_list = [YS,skin,brain]\n",
    "adata = sc.AnnData.concatenate(*adata_list, join='inner', batch_categories=None ,index_unique=None)"
   ]
  },
  {
   "cell_type": "code",
   "execution_count": null,
   "id": "stone-thousand",
   "metadata": {},
   "outputs": [],
   "source": [
    "adata.obs['Celltypes_to_plot'] = adata.obs['Celltypes_to_plot'].astype('category')\n",
    "adata.obs['Celltypes_to_plot'] = adata.obs['Celltypes_to_plot'].cat.reorder_categories(['MOP_YS','Promonocyte_YS','Monocyte_YS','Pre_Macrophage_YS','Macrophage_YS','Macrophage_skin','Macrophage_brain','Microglia_YS','Microglia_skin','Microglia_brain'])\n",
    "\n",
    "genes_to_plot = [\n",
    "'CD4',\n",
    "'CD14',\n",
    "'C1QA',\n",
    "'TREM2',\n",
    "'CX3CR1',\n",
    "'P2RY12'\n",
    "]\n",
    "\n",
    "sc.pl.dotplot(adata, var_names=genes_to_plot, use_raw=False, groupby='Celltypes_to_plot', vmin=0 ,save='Microglia_dotplot_comparison_vmin_0_20220405.pdf')"
   ]
  }
 ],
 "metadata": {
  "kernelspec": {
   "display_name": "Python_env_Hlab",
   "language": "python",
   "name": "python_env_hlab"
  },
  "language_info": {
   "codemirror_mode": {
    "name": "ipython",
    "version": 3
   },
   "file_extension": ".py",
   "mimetype": "text/x-python",
   "name": "python",
   "nbconvert_exporter": "python",
   "pygments_lexer": "ipython3",
   "version": "3.9.4"
  }
 },
 "nbformat": 4,
 "nbformat_minor": 5
}
