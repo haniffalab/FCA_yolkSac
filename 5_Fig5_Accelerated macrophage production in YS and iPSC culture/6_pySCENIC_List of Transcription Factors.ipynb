{
 "cells": [
  {
   "cell_type": "markdown",
   "metadata": {},
   "source": [
    "__Author:__ Bram Van de Sande\n",
    "    \n",
    "__Date:__ 14 JUN 2019\n",
    "\n",
    "__Outline:__ Notebook generating list of Transcription Factors (TFs) for human and mouse. These lists can be used for the network inference step of SCENIC (step 1 - GENIE3/GRNBoost2)."
   ]
  },
  {
   "cell_type": "markdown",
   "metadata": {},
   "source": [
    "__DATA ACQUISITION:__\n",
    "1. Download motif annotations for _H. sapiens_ - HGNC symbols: `wget https://resources.aertslab.org/cistarget/motif2tf/motifs-v9-nr.hgnc-m0.001-o0.0.tbl`\n",
    "2. Download motif annotations for _M. musculus_ - MGI symbols: `wget https://resources.aertslab.org/cistarget/motif2tf/motifs-v9-nr.mgi-m0.001-o0.0.tbl`\n",
    "3. Download list of curated human transcription factors from: Lambert SA et al. The Human Transcription Factors. Cell 2018 https://dx.doi.org/10.1016/j.cell.2018.01.029 "
   ]
  },
  {
   "cell_type": "code",
   "execution_count": 3,
   "metadata": {},
   "outputs": [
    {
     "name": "stdout",
     "output_type": "stream",
     "text": [
      "--2022-03-03 13:21:13--  https://resources.aertslab.org/cistarget/motif2tf/motifs-v9-nr.hgnc-m0.001-o0.0.tbl\n",
      "Resolving resources.aertslab.org (resources.aertslab.org)... 134.58.65.132, 2a02:2c40:0:80::80:1284\n",
      "Connecting to resources.aertslab.org (resources.aertslab.org)|134.58.65.132|:443... connected.\n",
      "HTTP request sent, awaiting response... 200 OK\n",
      "Length: 103568514 (99M)\n",
      "Saving to: ‘motifs-v9-nr.hgnc-m0.001-o0.0.tbl.2’\n",
      "\n",
      "motifs-v9-nr.hgnc-m 100%[===================>]  98.77M  6.44MB/s    in 14s     \n",
      "\n",
      "2022-03-03 13:21:27 (6.91 MB/s) - ‘motifs-v9-nr.hgnc-m0.001-o0.0.tbl.2’ saved [103568514/103568514]\n",
      "\n",
      "--2022-03-03 13:21:28--  https://resources.aertslab.org/cistarget/motif2tf/motifs-v9-nr.mgi-m0.001-o0.0.tbl\n",
      "Resolving resources.aertslab.org (resources.aertslab.org)... 134.58.65.132, 2a02:2c40:0:80::80:1284\n",
      "Connecting to resources.aertslab.org (resources.aertslab.org)|134.58.65.132|:443... connected.\n",
      "HTTP request sent, awaiting response... 200 OK\n",
      "Length: 112121859 (107M)\n",
      "Saving to: ‘motifs-v9-nr.mgi-m0.001-o0.0.tbl.1’\n",
      "\n",
      "motifs-v9-nr.mgi-m0 100%[===================>] 106.93M  7.05MB/s    in 16s     \n",
      "\n",
      "2022-03-03 13:21:44 (6.83 MB/s) - ‘motifs-v9-nr.mgi-m0.001-o0.0.tbl.1’ saved [112121859/112121859]\n",
      "\n"
     ]
    }
   ],
   "source": [
    "# Prepare tfs\n",
    "import os\n",
    "import pandas as pd\n",
    "! wget https://resources.aertslab.org/cistarget/motif2tf/motifs-v9-nr.hgnc-m0.001-o0.0.tbl\n",
    "! wget https://resources.aertslab.org/cistarget/motif2tf/motifs-v9-nr.mgi-m0.001-o0.0.tbl\n"
   ]
  },
  {
   "cell_type": "code",
   "execution_count": 4,
   "metadata": {},
   "outputs": [],
   "source": [
    "BASEFOLDER_NAME = './resources/'\n",
    "\n",
    "MOTIFS_HGNC_FNAME = os.path.join(BASEFOLDER_NAME, 'motifs-v9-nr.hgnc-m0.001-o0.0.tbl')\n",
    "MOTIFS_MGI_FNAME = os.path.join(BASEFOLDER_NAME, 'motifs-v9-nr.mgi-m0.001-o0.0.tbl')\n",
    "CURATED_TFS_HGNC_FNAME = os.path.join(BASEFOLDER_NAME, 'lambert2018.txt')\n",
    "\n",
    "OUT_TFS_HGNC_FNAME = os.path.join(BASEFOLDER_NAME, 'hs_hgnc_tfs.txt')\n",
    "OUT_TFS_HGNC_FNAME = os.path.join(BASEFOLDER_NAME, 'hs_hgnc_curated_tfs.txt')\n",
    "OUT_TFS_MGI_FNAME = os.path.join(BASEFOLDER_NAME, 'mm_mgi_tfs.txt')"
   ]
  },
  {
   "cell_type": "markdown",
   "metadata": {},
   "source": [
    "__MUS MUSCULUS__"
   ]
  },
  {
   "cell_type": "code",
   "execution_count": 5,
   "metadata": {},
   "outputs": [
    {
     "name": "stderr",
     "output_type": "stream",
     "text": [
      "/home/jovyan/my-conda-envs/workhorse/lib/python3.8/site-packages/IPython/core/interactiveshell.py:3418: DtypeWarning: Columns (4) have mixed types.Specify dtype option on import or set low_memory=False.\n",
      "  exec(code_obj, self.user_global_ns, self.user_ns)\n"
     ]
    },
    {
     "data": {
      "text/plain": [
       "1721"
      ]
     },
     "execution_count": 5,
     "metadata": {},
     "output_type": "execute_result"
    }
   ],
   "source": [
    "df_motifs_mgi = pd.read_csv(MOTIFS_MGI_FNAME, sep='\\t')\n",
    "mm_tfs = df_motifs_mgi.gene_name.unique()\n",
    "with open(OUT_TFS_MGI_FNAME, 'wt') as f:\n",
    "    f.write('\\n'.join(mm_tfs) + '\\n')\n",
    "len(mm_tfs)"
   ]
  },
  {
   "cell_type": "markdown",
   "metadata": {},
   "source": [
    "__HOMO SAPIENS__\n",
    "\n",
    "List of TFs based on motif collection."
   ]
  },
  {
   "cell_type": "code",
   "execution_count": 6,
   "metadata": {},
   "outputs": [
    {
     "data": {
      "text/plain": [
       "1839"
      ]
     },
     "execution_count": 6,
     "metadata": {},
     "output_type": "execute_result"
    }
   ],
   "source": [
    "df_motifs_hgnc = pd.read_csv(MOTIFS_HGNC_FNAME, sep='\\t')\n",
    "hs_tfs = df_motifs_hgnc.gene_name.unique()\n",
    "with open(OUT_TFS_HGNC_FNAME, 'wt') as f:\n",
    "    f.write('\\n'.join(hs_tfs) + '\\n')\n",
    "len(hs_tfs)"
   ]
  },
  {
   "cell_type": "markdown",
   "metadata": {},
   "source": [
    "List of TFs based on Lambert SA et al."
   ]
  },
  {
   "cell_type": "code",
   "execution_count": 9,
   "metadata": {},
   "outputs": [
    {
     "data": {
      "text/plain": [
       "815"
      ]
     },
     "execution_count": 9,
     "metadata": {},
     "output_type": "execute_result"
    }
   ],
   "source": [
    "with open(CURATED_TFS_HGNC_FNAME, 'rt') as f:\n",
    "    hs_curated_tfs = list(map(lambda s: s.strip(), f.readlines()))\n",
    "len(hs_curated_tfs)"
   ]
  },
  {
   "cell_type": "markdown",
   "metadata": {},
   "source": [
    "List of human curated TFs for which a motif can be assigned based on our current version of the motif collection."
   ]
  },
  {
   "cell_type": "code",
   "execution_count": 10,
   "metadata": {},
   "outputs": [
    {
     "data": {
      "text/plain": [
       "17"
      ]
     },
     "execution_count": 10,
     "metadata": {},
     "output_type": "execute_result"
    }
   ],
   "source": [
    "hs_curated_tfs_with_motif = list(set(hs_tfs).intersection(hs_curated_tfs))\n",
    "len(hs_curated_tfs_with_motif)"
   ]
  },
  {
   "cell_type": "code",
   "execution_count": 11,
   "metadata": {},
   "outputs": [],
   "source": [
    "with open(OUT_TFS_HGNC_FNAME, 'wt') as f:\n",
    "    f.write('\\n'.join(hs_curated_tfs_with_motif) + '\\n')"
   ]
  },
  {
   "cell_type": "markdown",
   "metadata": {},
   "source": [
    "# grab databases"
   ]
  },
  {
   "cell_type": "code",
   "execution_count": 21,
   "metadata": {},
   "outputs": [
    {
     "name": "stdout",
     "output_type": "stream",
     "text": [
      "--2021-11-23 11:37:34--  https://resources.aertslab.org/cistarget/databases/homo_sapiens/hg38/refseq_r80/mc9nr/gene_based/hg38__refseq-r80__10kb_up_and_down_tss.mc9nr.feather\n",
      "Resolving resources.aertslab.org (resources.aertslab.org)... 134.58.65.132, 2a02:2c40:0:80::80:1284\n",
      "Connecting to resources.aertslab.org (resources.aertslab.org)|134.58.65.132|:443... connected.\n",
      "HTTP request sent, awaiting response... 200 OK\n",
      "Length: 1327758248 (1.2G)\n",
      "Saving to: ‘hg38__refseq-r80__10kb_up_and_down_tss.mc9nr.feather’\n",
      "\n",
      "hg38__refseq-r80__1 100%[===================>]   1.24G  7.10MB/s    in 3m 3s   \n",
      "\n",
      "2021-11-23 11:40:37 (6.92 MB/s) - ‘hg38__refseq-r80__10kb_up_and_down_tss.mc9nr.feather’ saved [1327758248/1327758248]\n",
      "\n",
      "--2021-11-23 11:40:37--  http://./databases/\n",
      "Resolving . (.)... failed: No address associated with hostname.\n",
      "wget: unable to resolve host address ‘.’\n",
      "FINISHED --2021-11-23 11:40:37--\n",
      "Total wall clock time: 3m 3s\n",
      "Downloaded: 1 files, 1.2G in 3m 3s (6.92 MB/s)\n"
     ]
    }
   ],
   "source": [
    "! wget https://resources.aertslab.org/cistarget/databases/homo_sapiens/hg38/refseq_r80/mc9nr/gene_based/hg38__refseq-r80__10kb_up_and_down_tss.mc9nr.feather ./databases/"
   ]
  },
  {
   "cell_type": "code",
   "execution_count": 22,
   "metadata": {},
   "outputs": [
    {
     "name": "stdout",
     "output_type": "stream",
     "text": [
      "--2021-11-23 11:41:24--  https://resources.aertslab.org/cistarget/databases/mus_musculus/mm9/refseq_r45/mc9nr/gene_based/mm9-tss-centered-10kb-7species.mc9nr.feather\n",
      "Resolving resources.aertslab.org (resources.aertslab.org)... 134.58.65.132, 2a02:2c40:0:80::80:1284\n",
      "Connecting to resources.aertslab.org (resources.aertslab.org)|134.58.65.132|:443... connected.\n",
      "HTTP request sent, awaiting response... 200 OK\n",
      "Length: 1081248976 (1.0G)\n",
      "Saving to: ‘mm9-tss-centered-10kb-7species.mc9nr.feather’\n",
      "\n",
      "mm9-tss-centered-10 100%[===================>]   1.01G  7.17MB/s    in 2m 28s  \n",
      "\n",
      "2021-11-23 11:43:52 (6.96 MB/s) - ‘mm9-tss-centered-10kb-7species.mc9nr.feather’ saved [1081248976/1081248976]\n",
      "\n",
      "--2021-11-23 11:43:52--  http://./databases/\n",
      "Resolving . (.)... failed: No address associated with hostname.\n",
      "wget: unable to resolve host address ‘.’\n",
      "FINISHED --2021-11-23 11:43:52--\n",
      "Total wall clock time: 2m 28s\n",
      "Downloaded: 1 files, 1.0G in 2m 28s (6.96 MB/s)\n"
     ]
    }
   ],
   "source": [
    "! wget https://resources.aertslab.org/cistarget/databases/mus_musculus/mm9/refseq_r45/mc9nr/gene_based/mm9-tss-centered-10kb-7species.mc9nr.feather ./databases/"
   ]
  }
 ],
 "metadata": {
  "kernelspec": {
   "display_name": "workhorse",
   "language": "python",
   "name": "workhorse"
  },
  "language_info": {
   "codemirror_mode": {
    "name": "ipython",
    "version": 3
   },
   "file_extension": ".py",
   "mimetype": "text/x-python",
   "name": "python",
   "nbconvert_exporter": "python",
   "pygments_lexer": "ipython3",
   "version": "3.8.6"
  }
 },
 "nbformat": 4,
 "nbformat_minor": 4
}
