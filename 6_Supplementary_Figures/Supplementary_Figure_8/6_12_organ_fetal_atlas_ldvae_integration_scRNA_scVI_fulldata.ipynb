{
 "cells": [
  {
   "cell_type": "markdown",
   "id": "structural-harris",
   "metadata": {
    "jp-MarkdownHeadingCollapsed": true,
    "tags": []
   },
   "source": [
    "# IG generalised scvi run"
   ]
  },
  {
   "cell_type": "markdown",
   "id": "placed-password",
   "metadata": {},
   "source": [
    "# YS_project - scVI data integration"
   ]
  },
  {
   "cell_type": "code",
   "execution_count": 1,
   "id": "manufactured-wayne",
   "metadata": {},
   "outputs": [
    {
     "name": "stderr",
     "output_type": "stream",
     "text": [
      "Global seed set to 0\n"
     ]
    }
   ],
   "source": [
    "import sys,os\n",
    "import scvi\n",
    "import anndata\n",
    "import matplotlib\n",
    "import seaborn as sns\n",
    "from matplotlib import colors\n",
    "import matplotlib.pyplot as plt\n",
    "from matplotlib import rcParams\n",
    "from matplotlib.colors import LinearSegmentedColormap\n",
    "import numpy as np3\n",
    "import pandas as pd\n",
    "import scanpy as sc\n",
    "import numpy.random as random\n",
    "import scipy.sparse\n",
    "import anndata\n",
    "import numpy as np"
   ]
  },
  {
   "cell_type": "code",
   "execution_count": 2,
   "id": "warming-citizenship",
   "metadata": {},
   "outputs": [],
   "source": [
    "import torch\n",
    "device = torch.device(\"cuda\")"
   ]
  },
  {
   "cell_type": "code",
   "execution_count": 3,
   "id": "developmental-massachusetts",
   "metadata": {},
   "outputs": [],
   "source": [
    "# /nfs/team205/ig7/work_backups/backup_210306/projects/YS/YS_data/mikola_hannah_agm/IG_datasets/combined_datasets_by_organ/YS_vt_combined_hannah_mikola_all_tp.h5ad\n",
    "# /nfs/team205/ig7/work_backups/backup_210306/projects/YS/YS_030522_notebooks/Integrating_HM_data_030522/YS_logit/YS_vt_HM_YS_LR_raw.h5ad"
   ]
  },
  {
   "cell_type": "code",
   "execution_count": 4,
   "id": "exceptional-money",
   "metadata": {},
   "outputs": [],
   "source": [
    "# scp -o ProxyCommand=\"ssh -W %h:%p ig7@ssh.sanger.ac.uk\" ig7@farm5-login.internal.sanger.ac.uk:/nfs/team205/ig7/work_backups/backup_210306/projects/YS/YS_data/mikola_hannah_agm/IG_datasets/combined_datasets_by_organ/YS_vt_combined_hannah_mikola_all_tp.h5ad ./\n",
    "# scp -o ProxyCommand=\"ssh -W %h:%p ig7@ssh.sanger.ac.uk\" ig7@farm5-login.internal.sanger.ac.uk:/nfs/team205/ig7/work_backups/backup_210306/projects/YS/YS_030522_notebooks/Integrating_HM_data_030522/YS_logit/YS_vt_HM_YS_LR_raw.h5ad ./"
   ]
  },
  {
   "cell_type": "code",
   "execution_count": 5,
   "id": "packed-aquarium",
   "metadata": {},
   "outputs": [],
   "source": [
    "# scp -o ProxyCommand=\"ssh -W %h:%p ig7@ssh.sanger.ac.uk\" ig7@farm5-login.internal.sanger.ac.uk:/nfs/team205/ig7/work_backups/backup_210306/projects/YS/YS_data/mikola_hannah_agm/IG_datasets/combined_datasets_by_organ/YolkSac_CS14_mikola_1.h5ad ./\n",
    "# scp -o ProxyCommand=\"ssh -W %h:%p ig7@ssh.sanger.ac.uk\" ig7@farm5-login.internal.sanger.ac.uk:/nfs/team205/ig7/work_backups/backup_210306/projects/YS/YS_data/mikola_hannah_agm/IG_datasets/combined_datasets_by_organ/VitellineV_CS14_mikola_1.h5ad ./"
   ]
  },
  {
   "cell_type": "code",
   "execution_count": 6,
   "id": "patient-driving",
   "metadata": {},
   "outputs": [
    {
     "name": "stdout",
     "output_type": "stream",
     "text": [
      "0.16.2\n"
     ]
    }
   ],
   "source": [
    " print(scvi.__version__)"
   ]
  },
  {
   "cell_type": "code",
   "execution_count": 7,
   "id": "spiritual-edward",
   "metadata": {},
   "outputs": [
    {
     "name": "stdout",
     "output_type": "stream",
     "text": [
      "1.8.2\n"
     ]
    }
   ],
   "source": [
    " print(sc.__version__)"
   ]
  },
  {
   "cell_type": "code",
   "execution_count": 8,
   "id": "amateur-olive",
   "metadata": {},
   "outputs": [
    {
     "name": "stdout",
     "output_type": "stream",
     "text": [
      "0.8.0\n"
     ]
    }
   ],
   "source": [
    " print(anndata.__version__)"
   ]
  },
  {
   "cell_type": "markdown",
   "id": "third-links",
   "metadata": {},
   "source": [
    "# Prepare dataset mergers"
   ]
  },
  {
   "cell_type": "code",
   "execution_count": 9,
   "id": "bigger-disposal",
   "metadata": {},
   "outputs": [],
   "source": [
    "run_id = 'A1_V11_ldvae_scvi_YS_updated_panf_gonads_brain_build_donor_organ_corrected_120922'\n",
    "# Required: Introduce the path you'd like to save figures or data to \n",
    "save_path = \"/home/jupyter/mount/gdrive/g_cloud/projects/YS/data/panf_ys_brain_eliv/pan_immune_integrated_v1_10/\""
   ]
  },
  {
   "cell_type": "code",
   "execution_count": 10,
   "id": "advisory-citizenship",
   "metadata": {},
   "outputs": [],
   "source": [
    "# #Raw obj paths\n",
    "# data = {\n",
    "# 'YS_denovo':'/home/jupyter/mount/gdrive_2/g_cloud/projects/YS/data/A4_V8_YS_integrated_data_singlets_with_raw_counts_for_MS_plotting_20220328_with_obsp.h5ad',\n",
    "# 'YS_HM':'/home/jupyter/mount/gdrive_2/g_cloud/projects/YS/data/HM_geo_data/HM_YS_raw_GEO_built_120522.h5ad',\n",
    "# 'VA_HM':'/home/jupyter/mount/gdrive_2/g_cloud/projects/YS/data/HM_geo_data/VA_YS_raw_GEO_built_120522.h5ad',\n",
    "# 'YS_WE':'/home/jupyter/mount/gdrive_2/g_cloud/projects/YS/data/A1_V1_WE_YS_raw_120522.h5ad',\n",
    "# }"
   ]
  },
  {
   "cell_type": "code",
   "execution_count": 11,
   "id": "pharmaceutical-daily",
   "metadata": {},
   "outputs": [],
   "source": [
    "# # Read\n",
    "# gene_intersect = {}\n",
    "# adatas = {}\n",
    "# for dataset in data.keys():\n",
    "#     adatas[dataset] = sc.read(data[dataset])\n",
    "#     adatas[dataset].var_names_make_unique()\n",
    "#     adatas[dataset].obs['dataset_merge'] = dataset\n",
    "#     adatas[dataset].obs['dataset_merge'] = dataset\n",
    "#     adatas[dataset].obs['index_orig'] = adatas[dataset].obs.index\n",
    "#     adatas[dataset].obs['chemistry_ver'] = 'V1'\n",
    "#     gene_intersect[dataset] = list(adatas[dataset].var.index)\n",
    "# glist_int = set(gene_intersect['YS_denovo']) & set(gene_intersect['YS_WE'])"
   ]
  },
  {
   "cell_type": "code",
   "execution_count": 12,
   "id": "brave-arnold",
   "metadata": {},
   "outputs": [],
   "source": [
    "# adatas['YS_WE'] = adatas['YS_WE'][~adatas['YS_WE'].obs['lanes'].isin(['WS_wEMB12142156'])]"
   ]
  },
  {
   "cell_type": "code",
   "execution_count": 13,
   "id": "secret-separate",
   "metadata": {},
   "outputs": [],
   "source": [
    "# adatas['YS_WE'].obs['lanes'].unique()"
   ]
  },
  {
   "cell_type": "markdown",
   "id": "universal-exploration",
   "metadata": {},
   "source": [
    "## Load and prep data"
   ]
  },
  {
   "cell_type": "code",
   "execution_count": 14,
   "id": "thirty-progress",
   "metadata": {},
   "outputs": [],
   "source": [
    "adata_raw = sc.read(\"/home/jupyter/mount/gdrive/g_cloud/projects/YS/data/panf_ys_brain_eliv/A1_V10_raw_scvi_YS_updated_panf_gonads_brain_build_donor_organ_corrected_031022.h5ad\")"
   ]
  },
  {
   "cell_type": "code",
   "execution_count": 15,
   "id": "blocked-carroll",
   "metadata": {},
   "outputs": [],
   "source": [
    "adata = adata_raw[:]\n",
    "#adata = list(adatas.values())[0].concatenate(list(adatas.values())[1:],join='inner')\n",
    "#adata.var['g_int'] = False\n",
    "#adata.var.loc[adata.var.index.isin(glist_int),['g_int']] = True\n",
    "#adata_raw = adata.copy()\n",
    "#adata[:, glist_int]"
   ]
  },
  {
   "cell_type": "code",
   "execution_count": 16,
   "id": "numerous-bridge",
   "metadata": {},
   "outputs": [
    {
     "name": "stderr",
     "output_type": "stream",
     "text": [
      "/opt/conda/lib/python3.7/site-packages/ipykernel_launcher.py:1: ImplicitModificationWarning: Trying to modify attribute `.obs` of view, initializing view as actual.\n",
      "  \"\"\"Entry point for launching an IPython kernel.\n"
     ]
    },
    {
     "data": {
      "text/plain": [
       "['SK', 'SP', 'LI', 'TH', 'GU', 'BM', 'KI', 'MLN', 'YS', 'BR', 'GO', 'AGM']"
      ]
     },
     "execution_count": 16,
     "metadata": {},
     "output_type": "execute_result"
    }
   ],
   "source": [
    "adata.obs['organ'] = adata.obs['organ'].astype(str).replace('Liver','LI')\n",
    "list(adata.obs['organ'].unique())"
   ]
  },
  {
   "cell_type": "code",
   "execution_count": 17,
   "id": "mechanical-firewall",
   "metadata": {},
   "outputs": [
    {
     "data": {
      "text/plain": [
       "['F45',\n",
       " 'F51',\n",
       " 'F23',\n",
       " 'F30',\n",
       " 'F38',\n",
       " 'F41',\n",
       " 'F73',\n",
       " 'F78',\n",
       " 'F66',\n",
       " 'F29',\n",
       " 'F69',\n",
       " 'F33',\n",
       " 'F22',\n",
       " 'F71',\n",
       " 'F34',\n",
       " 'F35',\n",
       " 'F19',\n",
       " 'F72',\n",
       " 'F67',\n",
       " 'F50',\n",
       " 'F21',\n",
       " 'F32',\n",
       " 'F64',\n",
       " 'F61',\n",
       " 'Wang_CS10',\n",
       " 'Wang_CS11',\n",
       " 'F37',\n",
       " 'F79',\n",
       " 'F80',\n",
       " 'mikola_1',\n",
       " 'F138',\n",
       " 'CS12_Diencephalon',\n",
       " 'CS12_Hindbrain',\n",
       " 'CS12_Midbrain',\n",
       " 'CS12_OpticVesicle',\n",
       " 'CS12_Telencephalon',\n",
       " 'CS13_AnteriorMidbrain',\n",
       " 'CS13_CentralMidbrain',\n",
       " 'CS13_hindbrain',\n",
       " 'CS13_OlfactoryPacode',\n",
       " 'CS13_OpticVesicle',\n",
       " 'CS13_prosencephalon',\n",
       " 'CS14_cortex',\n",
       " 'CS14_hindbrain',\n",
       " 'CS14_retina',\n",
       " 'CS15_1',\n",
       " 'CS15_2',\n",
       " 'CS15_2_cortex',\n",
       " 'CS15_2_hindbrain',\n",
       " 'CS15_2_subpallium',\n",
       " 'CS15_2_thalamus',\n",
       " 'CS15_3',\n",
       " 'CS15_4',\n",
       " 'CS19_cortex',\n",
       " 'CS19_hindbrain',\n",
       " 'CS19_midbrain',\n",
       " 'CS19_thalamus',\n",
       " 'CS20_central',\n",
       " 'CS20_cerebellum',\n",
       " 'CS20_hypothalamus',\n",
       " 'CS20_midbrain',\n",
       " 'CS20_occipital',\n",
       " 'CS20_striatum',\n",
       " 'CS22_central',\n",
       " 'CS22_cerebellum',\n",
       " 'CS22_GE',\n",
       " 'CS22_hypothalamus',\n",
       " 'CS22_midbrain',\n",
       " 'CS22_occipital',\n",
       " 'CS22_PFC',\n",
       " 'CS22_thalamus',\n",
       " 'CS20_Deepercentral',\n",
       " 'CS20_Deepercerebellum',\n",
       " 'CS20_Deeperhypothalamus',\n",
       " 'CS20_Deepermidbrain',\n",
       " 'CS20_Deeperoccipital',\n",
       " 'CS20_Deeperstriatum',\n",
       " 'F81',\n",
       " 'F86',\n",
       " 'F87',\n",
       " 'F83',\n",
       " 'F84',\n",
       " 'F91',\n",
       " 'F96',\n",
       " 'F88',\n",
       " 'F93',\n",
       " 'F94',\n",
       " 'F99',\n",
       " 'F89',\n",
       " 'Hrv3',\n",
       " 'Hrv10',\n",
       " 'Hrv11',\n",
       " 'Hrv12',\n",
       " 'Hrv13',\n",
       " 'Hrv15',\n",
       " 'Hrv16',\n",
       " 'Hrv17',\n",
       " 'Hrv18',\n",
       " 'Hrv30',\n",
       " 'Hrv32',\n",
       " 'Hrv33',\n",
       " 'Hrv34',\n",
       " 'Hrv31',\n",
       " 'Hrv25',\n",
       " 'F100',\n",
       " 'Hrv21',\n",
       " 'Hrv27',\n",
       " 'F122',\n",
       " 'F123',\n",
       " 'Hrv37',\n",
       " 'Hrv41',\n",
       " 'Hrv49',\n",
       " 'Hrv47',\n",
       " 'F126',\n",
       " 'Hrv39',\n",
       " 'Hrv40',\n",
       " 'Hrv58',\n",
       " 'Hrv59',\n",
       " 'F133',\n",
       " 'Hrv55',\n",
       " 'Hrv54',\n",
       " 'mikola_4',\n",
       " 'mikola_3',\n",
       " 'mikola_2']"
      ]
     },
     "execution_count": 17,
     "metadata": {},
     "output_type": "execute_result"
    }
   ],
   "source": [
    "list(adata.obs['donor'].unique())"
   ]
  },
  {
   "cell_type": "markdown",
   "id": "selective-blind",
   "metadata": {},
   "source": [
    "# Check all metadata to align key aspects"
   ]
  },
  {
   "cell_type": "code",
   "execution_count": 18,
   "id": "internal-permit",
   "metadata": {},
   "outputs": [],
   "source": [
    "# adatas['YS_HM'].obs"
   ]
  },
  {
   "cell_type": "code",
   "execution_count": 19,
   "id": "major-kentucky",
   "metadata": {},
   "outputs": [],
   "source": [
    "#adatas['YS_HM'].obs = adatas['YS_HM'].obs.drop(['cell.labels', 'lanes', 'sex', 'component','broad_cell.labels', 'broad_cell_labels_organ', 'V6_old_indexes','batch',],axis = 1)\n",
    "# adatas['YS_HM'].obs[['stage', 'lanes', 'fetal.ids', 'tissue']] =  adatas['YS_HM'].obs[['stage', 'orig_data_ident', 'donor', 'organ']]\n",
    "# adatas['YS_HM'] = adatas['YS_HM'][adatas['YS_HM'].obs['orig.ident'].isin(['SeuratProject'])]\n",
    "# adatas['YS_HM'].obs['sequencing.type'] = '5GEX'\n",
    "# adatas['YS_HM'].obs['orig.dataset'] = 'HM_YS'\n",
    "# adatas['YS_HM'].obs['sex'] = 'Female'\n",
    "# adatas['YS_HM'].obs['sort.ids'] = 'Total'\n",
    "# adatas['YS_HM'].obs['component'] = adatas['YS_HM'].obs['organ'][:] \n",
    "# adatas['YS_HM'].obs['component'] = adatas['YS_HM'].obs['component'].str.replace('VA duct','VA')\n",
    "# adatas['YS_HM'].obs['tissue'] = 'YS'\n",
    "# adatas['YS_HM'].obs = adatas['YS_HM'].obs.drop([ 'orig_data_ident','RNA_snn_res.0.6','seurat_clusters','dat_file','fig_ref'],axis=1)\n",
    "# adatas['YS_HM'].write('/home/jupyter/mount/gdrive/g_cloud/projects/YS/data/YS_vt_combined_hannah_mikola_all_tp_meta_aligned.h5ad')"
   ]
  },
  {
   "cell_type": "code",
   "execution_count": 20,
   "id": "spare-temple",
   "metadata": {},
   "outputs": [],
   "source": [
    "# adatas['YS_WE'].obs['chemistry_ver'] = 'V2'\n",
    "# adata_raw = list(adatas.values())[0].concatenate(list(adatas.values())[1:],join='inner')\n",
    "# #adata_raw.write(save_path + '/run_'+ run_id+'_A5_V2_raw.h5ad')"
   ]
  },
  {
   "cell_type": "code",
   "execution_count": 21,
   "id": "casual-moses",
   "metadata": {},
   "outputs": [],
   "source": [
    "#adata_raw = sc.read('/home/jupyter/mount/gdrive/g_cloud/projects/YS/data/A5_V1_YS_build_120522/run_A5_V2_YS_build_120522_A5_V2_raw.h5ad')"
   ]
  },
  {
   "cell_type": "code",
   "execution_count": 22,
   "id": "finnish-flush",
   "metadata": {},
   "outputs": [],
   "source": [
    "# adata_raw"
   ]
  },
  {
   "cell_type": "markdown",
   "id": "lasting-rainbow",
   "metadata": {},
   "source": [
    "# High var"
   ]
  },
  {
   "cell_type": "code",
   "execution_count": 23,
   "id": "unable-coordinator",
   "metadata": {},
   "outputs": [],
   "source": [
    "#adata_raw.write(save_path + '/run_'+ run_id+'_raw_feature_selected.h5ad')"
   ]
  },
  {
   "cell_type": "code",
   "execution_count": 24,
   "id": "expired-diameter",
   "metadata": {},
   "outputs": [],
   "source": [
    "sc.pp.filter_cells(adata, min_genes=200)\n",
    "sc.pp.filter_genes(adata, min_cells=10)"
   ]
  },
  {
   "cell_type": "code",
   "execution_count": 25,
   "id": "parental-jersey",
   "metadata": {},
   "outputs": [],
   "source": [
    "adata.var['mt'] = adata.var_names.str.startswith('MT-')  # annotate the group of mitochondrial genes as 'mt'\n",
    "sc.pp.calculate_qc_metrics(adata, qc_vars=['mt'], percent_top=None, log1p=False, inplace=True)"
   ]
  },
  {
   "cell_type": "code",
   "execution_count": 26,
   "id": "coral-football",
   "metadata": {},
   "outputs": [
    {
     "data": {
      "image/png": "[encoded data removed]",
      "text/plain": [
       "<Figure size 487.93x288 with 1 Axes>"
      ]
     },
     "metadata": {
      "needs_background": "light"
     },
     "output_type": "display_data"
    },
    {
     "data": {
      "image/png": "[encoded data removed]",
      "text/plain": [
       "<Figure size 487.93x288 with 1 Axes>"
      ]
     },
     "metadata": {
      "needs_background": "light"
     },
     "output_type": "display_data"
    }
   ],
   "source": [
    "sc.pl.scatter(adata, x='total_counts', y='pct_counts_mt')\n",
    "sc.pl.scatter(adata, x='total_counts', y='n_genes_by_counts')"
   ]
  },
  {
   "cell_type": "code",
   "execution_count": 27,
   "id": "limited-harassment",
   "metadata": {},
   "outputs": [
    {
     "data": {
      "text/plain": [
       "AnnData object with n_obs × n_vars = 1513853 × 34856\n",
       "    obs: 'file', 'name', 'uniform_label', 'uniform_label_expanded_merged', 'uniform_label_lvl0', 'organ', 'Sample.lanes', 'Sort_id', 'age', 'method', 'donor', 'sex', 'Processing_method', 'AnnatomicalPart', 'Sample', 'anno_lvl_2_final_clean', 'celltype_annotation', 'cell.labels', 'stage', 'lanes', 'sort.ids', 'fetal.ids', 'component', 'broad_cell.labels', 'sequencing.type', 'orig.dataset', 'broad_cell_labels_organ', 'tissue', 'V6_old_indexes', 'dataset_merge', 'index_orig', 'orig.ident', 'nCount_RNA', 'nFeature_RNA', 'percent.mito', 'new_data_handle', 'batch', 'HDBR_ID', 'leiden_scvi_res15', 'num', 'cell.labels_num', 'leiden_scvi_res15_num', 'clus_prediction', 'clus_prediction_num', 'n_genes_by_counts', 'total_counts', 'total_counts_mt', 'pct_counts_mt', 'restricted_leiden_scvi_res15', 'umap_density_clus_prediction', 'umap_density_clus_prediction_AEC', 'cell.labels_v2_num', 'scrublet_score', 'scrublet_cluster_score', 'scr_bh_pval', 'scr_pval', 'scr_doublet_call_default', 'scrublet_leiden_R', 'cell.labels_150522', 'cell.labels_170522', 'cell.labels_170522_v2', 'legacy_broad_cell.labels_20220519', 'V5_indexes', 'barcodes', 'stage_groups', 'cell_labels_lvl2', 'cell_labels_lvl3', 'cell_labels_lvl1', 'sort_ids', 'cell.labels_endoerm', 'Barcode', 'Eze2021_Stage_Region', 'Eze2021_Region', 'Age', 'ident', 'n_genes', 'doublet_score', 'predicted_doublet', 'Region', 'Embryonic_Brain_Region', 'Birth_Brain_Region', 'mBrain_predicted_labels', 'mBrain_over_clustering', 'mBrain_majority_voting', 'mBrain_conf_score', 'majority_voting_broad', 'majority_voting_age_broad', 'mBrain_majority_voting_broad', 'mBrain_majority_voting_age_broad', 'mBrain_predicted_labels_broad', 'mBrain_predicted_labels_age_broad', 'hBrain_GW18_predicted_labels', 'hBrain_GW18_over_clustering', 'hBrain_GW18_majority_voting', 'celltype1', 'panf_predicted', 'ys_predicted', 'cs_stage_rounded', 'panf_consensus_clus_prediction', 'ys_consensus_clus_prediction', 'panf_consensus_supervised_clus_prediction', 'YS_consensus_supervised_clus_prediction', 'final_consensus_supervised_clus_prediction', 'n_counts', 'batch_collection', 'cryopreserved', 'individual', 'location', 'percent_mito', 'process', 'sample', 'study', 'PCW', 'sample_source', 'zscore', 'bh_pval', 'bonf_pval', 'leiden', 'enrichment', '5v1.1', 'TP', 'clusters', 'chemistry_ver', 'lr_batch', '_scvi_batch', '_scvi_labels', 'celltype_annotation_v2', 'RNA_snn_res.0.6', 'seurat_clusters', 'dat_file', 'fig_ref', 'orig_data_ident', 'IG_leiden_res5', 'corr_concat', 'predicted', 'leiden_ys_combined', 'X_predicted', 'X_clus_prediction', 'LVL1', 'LVL2', 'LVL3', 'organ_lvl3', 'LVL4', 'LVL5', 'age_int', 'carnegie_stage'\n",
       "    var: 'GeneID-0-0-0', 'GeneName-0-0-0', 'gene_ids-0-1', 'n_cells', 'mt', 'n_cells_by_counts', 'mean_counts', 'pct_dropout_by_counts', 'total_counts'\n",
       "    uns: 'organ_colors'\n",
       "    obsm: 'X_pca', 'X_scVI', 'X_scvi', 'X_umap', 'X_umap_0.3', 'X_umap_0.6', 'X_umap_0.8', 'X_umap_v1', 'X_umap_v2', 'X_umap_v3', 'X_umap_v4', '_scvi_extra_categorical_covs'"
      ]
     },
     "execution_count": 27,
     "metadata": {},
     "output_type": "execute_result"
    }
   ],
   "source": [
    "# adata = adata[adata.obs.n_genes_by_counts < 5000, :]\n",
    "# adata = adata[adata.obs.pct_counts_mt < 5, :]\n",
    "adata"
   ]
  },
  {
   "cell_type": "code",
   "execution_count": 28,
   "id": "coordinate-boring",
   "metadata": {},
   "outputs": [
    {
     "data": {
      "image/png": "[encoded data removed]",
      "text/plain": [
       "<Figure size 864x288 with 2 Axes>"
      ]
     },
     "metadata": {
      "needs_background": "light"
     },
     "output_type": "display_data"
    }
   ],
   "source": [
    "#sc.pp.filter_genes(adata, min_cells=5)\n",
    "sc.pp.normalize_per_cell(adata, counts_per_cell_after=1e4)\n",
    "sc.pp.log1p(adata)\n",
    "sc.pp.highly_variable_genes(adata, batch_key = \"organ\", subset=False)\n",
    "sc.pl.highly_variable_genes(adata)"
   ]
  },
  {
   "cell_type": "code",
   "execution_count": 29,
   "id": "homeless-aside",
   "metadata": {},
   "outputs": [],
   "source": [
    "# adata_raw = sc.read('/home/jupyter/mount/gdrive/g_cloud/projects/YS/data/A5_V1_YS_build_120522/run_A5_V1_YS_build_120522_raw_feature_selected.h5ad')"
   ]
  },
  {
   "cell_type": "code",
   "execution_count": 30,
   "id": "needed-omaha",
   "metadata": {},
   "outputs": [],
   "source": [
    "# adata_raw.write(save_path + '/run_'+ run_id+'_raw_.h5ad')"
   ]
  },
  {
   "cell_type": "markdown",
   "id": "urban-prince",
   "metadata": {},
   "source": [
    "### Add batch key\n",
    "Here we concatenate library prep method and donor of origin"
   ]
  },
  {
   "cell_type": "markdown",
   "id": "close-macro",
   "metadata": {},
   "source": [
    "## Param sweep for feature selection"
   ]
  },
  {
   "cell_type": "code",
   "execution_count": 32,
   "id": "adjusted-blake",
   "metadata": {},
   "outputs": [],
   "source": [
    "import torch\n",
    "device = torch.device(\"cuda\")\n",
    "\n",
    "def subset_top_hvgs(adata_lognorm, n_top_genes):\n",
    "    dispersion_norm = adata_lognorm.var['dispersions_norm'].values.astype('float32')\n",
    "\n",
    "    dispersion_norm = dispersion_norm[~np.isnan(dispersion_norm)]\n",
    "    dispersion_norm[\n",
    "                ::-1\n",
    "            ].sort()  # interestingly, np.argpartition is slightly slower\n",
    "\n",
    "    disp_cut_off = dispersion_norm[n_top_genes - 1]\n",
    "    gene_subset = adata_lognorm.var['dispersions_norm'].values >= disp_cut_off\n",
    "    return(adata_lognorm[:,gene_subset])\n",
    "\n",
    "def prep_scVI(adata, \n",
    "              n_hvgs = 5000,\n",
    "              remove_cc_genes = True,\n",
    "              remove_tcr_bcr_genes = False\n",
    "             ):\n",
    "    ## Remove cell cycle genes\n",
    "    if remove_cc_genes:\n",
    "        adata = panfetal_utils.remove_geneset(adata,genes.cc_genes)\n",
    "\n",
    "    ## Remove TCR/BCR genes\n",
    "    if remove_tcr_bcr_genes:\n",
    "        adata = panfetal_utils.remove_geneset(adata, genes.IG_genes)\n",
    "        adata = panfetal_utils.remove_geneset(adata, genes.TCR_genes)\n",
    "        \n",
    "    ## HVG selection\n",
    "    adata = subset_top_hvgs(adata, n_top_genes=n_hvgs)\n",
    "    return(adata)\n",
    "\n",
    "def train_scVI(adata, n_dims=20):\n",
    "    adata = scvi.data.setup_anndata(adata, batch_key = \"bbk\", copy=True)\n",
    "    vae = scvi.model.SCVI(adata, n_latent=n_dims)\n",
    "    vae.train(use_gpu=True, batch_size=256) ## increasing batch size as in retina atlas\n",
    "    return(vae.get_latent_representation())\n",
    "    \n",
    "def save_scVI(adata, \n",
    "              timestamp,\n",
    "              n_hvgs = 5000,\n",
    "              remove_cc_genes = True,\n",
    "                remove_tcr_bcr_genes = False,\n",
    "                n_dims=20\n",
    "             ):\n",
    "    outname = \"YS_project\".format(t=timestamp, h=n_hvgs, cc=cc, tcr=tcr, n=n_dims)\n",
    "    np.save(data_dir + outname, adata.obsm[\"X_scVI\"])\n",
    "\n",
    "def train_ldvae(adata, labels_key,batch, n_dims=20):\n",
    "    arches_params = dict(\n",
    "    encode_covariates=True,\n",
    "    dropout_rate=0.2,\n",
    "    n_layers=2,\n",
    "    n_hidden=256)\n",
    "    \n",
    "    scvi.model.LinearSCVI.setup_anndata(\n",
    "    adata,\n",
    "    labels_key = labels_key,\n",
    "    layer=None,\n",
    "    batch_key=batch)\n",
    "    \n",
    "    vae = scvi.model.LinearSCVI(adata, n_latent=30, **arches_params)\n",
    "    #vae = scvi.model.SCVI(adata, n_latent=30,n_hidden=256, **arches_params)\n",
    "    vae.train(early_stopping=True,\n",
    "        train_size=0.9,\n",
    "        early_stopping_patience=45,\n",
    "        max_epochs=500, \n",
    "        batch_size=1024, \n",
    "        limit_train_batches=20\n",
    "       )\n",
    "    X_scvi = vae.get_latent_representation()\n",
    "    X_loading = vae.get_loadings()\n",
    "    adata.obsm['X_scvi'] = X_scvi\n",
    "    adata.varm['X_scvi'] = X_loading\n",
    "    sc.pp.neighbors(adata,n_neighbors=15, use_rep='X_scvi', n_pcs = 30)\n",
    "    return adata \n"
   ]
  },
  {
   "cell_type": "code",
   "execution_count": 33,
   "id": "treated-thomson",
   "metadata": {},
   "outputs": [],
   "source": [
    "nhvgs = [5000,7500,10000]\n",
    "dims = [10,20,30]"
   ]
  },
  {
   "cell_type": "code",
   "execution_count": 34,
   "id": "substantial-scale",
   "metadata": {},
   "outputs": [],
   "source": [
    "# for n in nhvgs:\n",
    "#     for r in remove:\n",
    "#         adata1 = prep_scVI(adata_raw, n_hvgs=n, remove_cc_genes=None, remove_tcr_bcr_genes=None)\n",
    "#         for d in dims:\n",
    "            \n",
    "#             adata1.obsm[\"X_scVI\"] = train_scVI(adata1, n_dims=d)\n",
    "#             save_scVI(adata1, timestamp=timestamp, n_hvgs=n, None, remove_tcr_bcr_genes=None, n_dims=d)\n",
    "#         del adata1\n",
    "#         gc.collect()"
   ]
  },
  {
   "cell_type": "markdown",
   "id": "diagnostic-galaxy",
   "metadata": {},
   "source": [
    "# Subset_HVGS"
   ]
  },
  {
   "cell_type": "code",
   "execution_count": 35,
   "id": "extreme-township",
   "metadata": {},
   "outputs": [],
   "source": [
    "# adata = adata_raw[:]"
   ]
  },
  {
   "cell_type": "code",
   "execution_count": 36,
   "id": "incorporate-least",
   "metadata": {},
   "outputs": [],
   "source": [
    "# sc.pp.normalize_per_cell(adata, counts_per_cell_after=1e4)\n",
    "# sc.pp.log1p(adata)\n",
    "# sc.pp.highly_variable_genes(adata, batch_key = \"fetal.ids\", subset=False)\n",
    "# sc.pl.highly_variable_genes(adata)"
   ]
  },
  {
   "cell_type": "code",
   "execution_count": 37,
   "id": "planned-sydney",
   "metadata": {},
   "outputs": [],
   "source": [
    "adata = subset_top_hvgs(adata,10000)\n",
    "var_genes = pd.DataFrame(list(adata.var.index))\n",
    "#var_genes.to_csv(save_path + '/run_'+ run_id+'_var_genes.csv')\n",
    "#adata.write(save_path + '/run_'+ run_id+'_norm_feature_selected.h5ad')\n",
    "\n",
    "adata_raw = adata_raw[:, adata_raw.var_names.isin(list(var_genes.iloc[:,0]))]\n",
    "adata_raw.layers['raw_counts'] = adata_raw.X.copy()\n",
    "#adata_raw.write(save_path + '/run_'+ run_id+'_raw_feature_selected.h5ad')"
   ]
  },
  {
   "cell_type": "code",
   "execution_count": 38,
   "id": "civil-vertical",
   "metadata": {},
   "outputs": [
    {
     "data": {
      "text/plain": [
       "AnnData object with n_obs × n_vars = 1517248 × 10000\n",
       "    obs: 'file', 'name', 'uniform_label', 'uniform_label_expanded_merged', 'uniform_label_lvl0', 'organ', 'Sample.lanes', 'Sort_id', 'age', 'method', 'donor', 'sex', 'Processing_method', 'AnnatomicalPart', 'Sample', 'anno_lvl_2_final_clean', 'celltype_annotation', 'cell.labels', 'stage', 'lanes', 'sort.ids', 'fetal.ids', 'component', 'broad_cell.labels', 'sequencing.type', 'orig.dataset', 'broad_cell_labels_organ', 'tissue', 'V6_old_indexes', 'dataset_merge', 'index_orig', 'orig.ident', 'nCount_RNA', 'nFeature_RNA', 'percent.mito', 'new_data_handle', 'batch', 'HDBR_ID', 'leiden_scvi_res15', 'num', 'cell.labels_num', 'leiden_scvi_res15_num', 'clus_prediction', 'clus_prediction_num', 'n_genes_by_counts', 'total_counts', 'total_counts_mt', 'pct_counts_mt', 'restricted_leiden_scvi_res15', 'umap_density_clus_prediction', 'umap_density_clus_prediction_AEC', 'cell.labels_v2_num', 'scrublet_score', 'scrublet_cluster_score', 'scr_bh_pval', 'scr_pval', 'scr_doublet_call_default', 'scrublet_leiden_R', 'cell.labels_150522', 'cell.labels_170522', 'cell.labels_170522_v2', 'legacy_broad_cell.labels_20220519', 'V5_indexes', 'barcodes', 'stage_groups', 'cell_labels_lvl2', 'cell_labels_lvl3', 'cell_labels_lvl1', 'sort_ids', 'cell.labels_endoerm', 'Barcode', 'Eze2021_Stage_Region', 'Eze2021_Region', 'Age', 'ident', 'n_genes', 'doublet_score', 'predicted_doublet', 'Region', 'Embryonic_Brain_Region', 'Birth_Brain_Region', 'mBrain_predicted_labels', 'mBrain_over_clustering', 'mBrain_majority_voting', 'mBrain_conf_score', 'majority_voting_broad', 'majority_voting_age_broad', 'mBrain_majority_voting_broad', 'mBrain_majority_voting_age_broad', 'mBrain_predicted_labels_broad', 'mBrain_predicted_labels_age_broad', 'hBrain_GW18_predicted_labels', 'hBrain_GW18_over_clustering', 'hBrain_GW18_majority_voting', 'celltype1', 'panf_predicted', 'ys_predicted', 'cs_stage_rounded', 'panf_consensus_clus_prediction', 'ys_consensus_clus_prediction', 'panf_consensus_supervised_clus_prediction', 'YS_consensus_supervised_clus_prediction', 'final_consensus_supervised_clus_prediction', 'n_counts', 'batch_collection', 'cryopreserved', 'individual', 'location', 'percent_mito', 'process', 'sample', 'study', 'PCW', 'sample_source', 'zscore', 'bh_pval', 'bonf_pval', 'leiden', 'enrichment', '5v1.1', 'TP', 'clusters', 'chemistry_ver', 'lr_batch', '_scvi_batch', '_scvi_labels', 'celltype_annotation_v2', 'RNA_snn_res.0.6', 'seurat_clusters', 'dat_file', 'fig_ref', 'orig_data_ident', 'IG_leiden_res5', 'corr_concat', 'predicted', 'leiden_ys_combined', 'X_predicted', 'X_clus_prediction', 'LVL1', 'LVL2', 'LVL3', 'organ_lvl3', 'LVL4', 'LVL5', 'age_int', 'carnegie_stage'\n",
       "    var: 'GeneID-0-0-0', 'GeneName-0-0-0', 'gene_ids-0-1'\n",
       "    uns: 'organ_colors'\n",
       "    obsm: 'X_pca', 'X_scVI', 'X_scvi', 'X_umap', 'X_umap_0.3', 'X_umap_0.6', 'X_umap_0.8', 'X_umap_v1', 'X_umap_v2', 'X_umap_v3', 'X_umap_v4', '_scvi_extra_categorical_covs'\n",
       "    layers: 'raw_counts'"
      ]
     },
     "execution_count": 38,
     "metadata": {},
     "output_type": "execute_result"
    }
   ],
   "source": [
    "adata_raw"
   ]
  },
  {
   "cell_type": "markdown",
   "id": "vertical-accountability",
   "metadata": {},
   "source": [
    "## Run scVI integration\n",
    "We train using parameters optimized for online update with `scArches`, to be able to add query datasets in the future. Following the [scvi-tools vignette](https://docs.scvi-tools.org/en/stable/user_guide/notebooks/scarches_scvi_tools.html?highlight=encode_covariates#Train-reference)."
   ]
  },
  {
   "cell_type": "code",
   "execution_count": 39,
   "id": "clear-above",
   "metadata": {},
   "outputs": [],
   "source": [
    "adata = adata_raw.copy()"
   ]
  },
  {
   "cell_type": "code",
   "execution_count": 40,
   "id": "contemporary-banking",
   "metadata": {},
   "outputs": [],
   "source": [
    "# adata = sc.read('/home/jupyter/mount/gdrive/g_cloud/projects/YS/data/A5_V1_YS_build_120522/run_A5_V1_YS_build_120522_norm_feature_selected.h5ad')\n",
    "# adata_raw = sc.read('/home/jupyter/mount/gdrive/g_cloud/projects/YS/data/A5_V1_YS_build_120522/run_A5_V1_YS_build_120522_raw_feature_selected.h5ad')"
   ]
  },
  {
   "cell_type": "code",
   "execution_count": 41,
   "id": "bright-hartford",
   "metadata": {},
   "outputs": [
    {
     "data": {
      "text/html": [
       "<div>\n",
       "<style scoped>\n",
       "    .dataframe tbody tr th:only-of-type {\n",
       "        vertical-align: middle;\n",
       "    }\n",
       "\n",
       "    .dataframe tbody tr th {\n",
       "        vertical-align: top;\n",
       "    }\n",
       "\n",
       "    .dataframe thead th {\n",
       "        text-align: right;\n",
       "    }\n",
       "</style>\n",
       "<table border=\"1\" class=\"dataframe\">\n",
       "  <thead>\n",
       "    <tr style=\"text-align: right;\">\n",
       "      <th></th>\n",
       "      <th>GeneID-0-0-0</th>\n",
       "      <th>GeneName-0-0-0</th>\n",
       "      <th>gene_ids-0-1</th>\n",
       "    </tr>\n",
       "  </thead>\n",
       "  <tbody>\n",
       "    <tr>\n",
       "      <th>A1BG</th>\n",
       "      <td>ENSG00000121410</td>\n",
       "      <td>A1BG</td>\n",
       "      <td>A1BG</td>\n",
       "    </tr>\n",
       "    <tr>\n",
       "      <th>A2M</th>\n",
       "      <td>ENSG00000175899</td>\n",
       "      <td>A2M</td>\n",
       "      <td>A2M</td>\n",
       "    </tr>\n",
       "    <tr>\n",
       "      <th>A2M-AS1</th>\n",
       "      <td>ENSG00000245105</td>\n",
       "      <td>A2M-AS1</td>\n",
       "      <td>A2M-AS1</td>\n",
       "    </tr>\n",
       "    <tr>\n",
       "      <th>A2ML1-AS1</th>\n",
       "      <td>ENSG00000256661</td>\n",
       "      <td>A2ML1-AS1</td>\n",
       "      <td>NaN</td>\n",
       "    </tr>\n",
       "    <tr>\n",
       "      <th>AAK1</th>\n",
       "      <td>ENSG00000115977</td>\n",
       "      <td>AAK1</td>\n",
       "      <td>AAK1</td>\n",
       "    </tr>\n",
       "    <tr>\n",
       "      <th>...</th>\n",
       "      <td>...</td>\n",
       "      <td>...</td>\n",
       "      <td>...</td>\n",
       "    </tr>\n",
       "    <tr>\n",
       "      <th>ZSWIM8</th>\n",
       "      <td>ENSG00000214655</td>\n",
       "      <td>ZSWIM8</td>\n",
       "      <td>ZSWIM8</td>\n",
       "    </tr>\n",
       "    <tr>\n",
       "      <th>ZWINT</th>\n",
       "      <td>ENSG00000122952</td>\n",
       "      <td>ZWINT</td>\n",
       "      <td>ZWINT</td>\n",
       "    </tr>\n",
       "    <tr>\n",
       "      <th>ZYX</th>\n",
       "      <td>ENSG00000159840</td>\n",
       "      <td>ZYX</td>\n",
       "      <td>ZYX</td>\n",
       "    </tr>\n",
       "    <tr>\n",
       "      <th>ZZEF1</th>\n",
       "      <td>ENSG00000074755</td>\n",
       "      <td>ZZEF1</td>\n",
       "      <td>ZZEF1</td>\n",
       "    </tr>\n",
       "    <tr>\n",
       "      <th>bP-21264C1.2</th>\n",
       "      <td>NaN</td>\n",
       "      <td>NaN</td>\n",
       "      <td>bP-21264C1.2</td>\n",
       "    </tr>\n",
       "  </tbody>\n",
       "</table>\n",
       "<p>10000 rows × 3 columns</p>\n",
       "</div>"
      ],
      "text/plain": [
       "                 GeneID-0-0-0 GeneName-0-0-0  gene_ids-0-1\n",
       "A1BG          ENSG00000121410           A1BG          A1BG\n",
       "A2M           ENSG00000175899            A2M           A2M\n",
       "A2M-AS1       ENSG00000245105        A2M-AS1       A2M-AS1\n",
       "A2ML1-AS1     ENSG00000256661      A2ML1-AS1           NaN\n",
       "AAK1          ENSG00000115977           AAK1          AAK1\n",
       "...                       ...            ...           ...\n",
       "ZSWIM8        ENSG00000214655         ZSWIM8        ZSWIM8\n",
       "ZWINT         ENSG00000122952          ZWINT         ZWINT\n",
       "ZYX           ENSG00000159840            ZYX           ZYX\n",
       "ZZEF1         ENSG00000074755          ZZEF1         ZZEF1\n",
       "bP-21264C1.2              NaN            NaN  bP-21264C1.2\n",
       "\n",
       "[10000 rows x 3 columns]"
      ]
     },
     "execution_count": 41,
     "metadata": {},
     "output_type": "execute_result"
    }
   ],
   "source": [
    "adata_raw.var"
   ]
  },
  {
   "cell_type": "code",
   "execution_count": 42,
   "id": "fewer-fraction",
   "metadata": {},
   "outputs": [],
   "source": [
    "# adata_raw.write('/home/jupyter/mount/gdrive/g_cloud/projects/YS/data/A5_V1_YS_build_120522/run_A5_V3_YS_build_120522_raw_feature_selected_high_var.h5ad')"
   ]
  },
  {
   "cell_type": "code",
   "execution_count": 43,
   "id": "sufficient-shield",
   "metadata": {},
   "outputs": [],
   "source": [
    "# adata = prep_scVI(adata_raw, n_hvgs=7500, remove_cc_genes=True, remove_tcr_bcr_genes=True)"
   ]
  },
  {
   "cell_type": "code",
   "execution_count": 44,
   "id": "purple-company",
   "metadata": {},
   "outputs": [
    {
     "data": {
      "text/plain": [
       "['nan',\n",
       " 'F61',\n",
       " 'F35',\n",
       " 'F32',\n",
       " 'Wang_CS10',\n",
       " 'Wang_CS11',\n",
       " 'F37',\n",
       " 'F79',\n",
       " 'F80',\n",
       " 'mikola_1',\n",
       " 'F138',\n",
       " 'mikola_4',\n",
       " 'mikola_3',\n",
       " 'mikola_2']"
      ]
     },
     "execution_count": 44,
     "metadata": {},
     "output_type": "execute_result"
    }
   ],
   "source": [
    "list(adata.obs['fetal.ids'].unique())"
   ]
  },
  {
   "cell_type": "code",
   "execution_count": 48,
   "id": "sudden-thumbnail",
   "metadata": {},
   "outputs": [],
   "source": [
    "adata.obs['chemistry_ver'] = 'V1'\n",
    "adata.obs.loc[adata.obs['orig.dataset'].isin(['YS_WE']),'chemistry_ver'] = 'V2'\n",
    "adata.obs['lr_batch'] = adata.obs['fetal.ids'].astype(str) + '_' + adata.obs['chemistry_ver'].astype(str)  + '_' + adata.obs['donor'].astype(str) "
   ]
  },
  {
   "cell_type": "code",
   "execution_count": 50,
   "id": "saved-teens",
   "metadata": {
    "tags": []
   },
   "outputs": [
    {
     "name": "stderr",
     "output_type": "stream",
     "text": [
      "/opt/conda/lib/python3.7/site-packages/scvi/data/_utils.py:158: UserWarning: Category 105 in adata.obs['_scvi_batch'] has fewer than 3 cells. Models may not train properly.\n",
      "  category, alternate_column_key\n",
      "/opt/conda/lib/python3.7/site-packages/scvi/model/_utils.py:267: UserWarning: This dataset has some empty cells, this might fail inference.Data should be filtered with `scanpy.pp.filter_cells()`\n",
      "  \"This dataset has some empty cells, this might fail inference.\"\n",
      "GPU available: False, used: False\n",
      "TPU available: False, using: 0 TPU cores\n",
      "IPU available: False, using: 0 IPUs\n"
     ]
    },
    {
     "name": "stdout",
     "output_type": "stream",
     "text": [
      "Epoch 500/500: 100%|██████████| 500/500 [4:48:59<00:00, 34.68s/it, loss=1.74e+03, v_num=1]  \n"
     ]
    }
   ],
   "source": [
    "adata.obs['chemistry_ver'] = 'V1'\n",
    "adata.obs.loc[adata.obs['orig.dataset'].isin(['YS_WE']),'chemistry_ver'] = 'V2'\n",
    "adata.obs['lr_batch'] = adata.obs['fetal.ids'].astype(str) + '_' + adata.obs['chemistry_ver'].astype(str)  + '_' + adata.obs['donor'].astype(str) \n",
    "\n",
    "arches_params = dict(\n",
    "encode_covariates=True,\n",
    "dropout_rate=0.2,\n",
    "n_layers=2,\n",
    "n_hidden=256)\n",
    "\n",
    "scvi.model.LinearSCVI.setup_anndata(\n",
    "adata,\n",
    "labels_key = 'LVL3',\n",
    "layer=None,\n",
    "batch_key='lr_batch')\n",
    "\n",
    "vae = scvi.model.LinearSCVI(adata, n_latent=30, **arches_params)\n",
    "#vae = scvi.model.SCVI(adata, n_latent=30,n_hidden=256, **arches_params)\n",
    "vae.train(early_stopping=True,\n",
    "    train_size=0.9,\n",
    "    early_stopping_patience=45,\n",
    "    max_epochs=500, \n",
    "    batch_size=1024, \n",
    "    limit_train_batches=20\n",
    "   )\n",
    "X_scvi = vae.get_latent_representation()\n",
    "X_loading = vae.get_loadings()\n",
    "adata.obsm['X_scvi'] = X_scvi\n",
    "adata.varm['X_scvi'] = X_loading\n",
    "\n",
    "adata.write('/home/jupyter/mount/gdrive/g_cloud/projects/YS/data/panf_ys_brain_eliv/A1_V11_ldvae_scvi_YS_updated_panf_gonads_brain_build_donor_organ_corrected_031022.h5ad')\n",
    "\n",
    "# save the latent representation and varm compartment\n",
    "pd.DataFrame(adata.obsm['X_scvi'],index = adata.obs.index).to_csv('./scvi_YS_lt_vae_outs_150522_v7.csv')\n",
    "pd.DataFrame(adata.varm['X_scvi'],index = adata.obs.index).to_csv('./scvi_YS_lt_varm_outs_150522_v7.csv\")\n",
    "\n",
    "# save the reference model\n",
    "vae.save(dir_path = (save_path + run_id), overwrite=False, save_anndata=False)\n",
    "\n",
    "## Save training stats\n",
    "model_history = vae.history.copy()\n",
    "model_history.pop('train_loss_step')\n",
    "pd.DataFrame.from_dict({k:v[k] for k,v in model_history.items()}).to_csv(\"panf_data_raw_count.{t}.scVI_out.train_history.csv\".format(t=timestamp))"
   ]
  },
  {
   "cell_type": "code",
   "execution_count": 57,
   "id": "dress-arbor",
   "metadata": {},
   "outputs": [],
   "source": [
    "pd.DataFrame(X_scvi).to_csv('./ldvae_X_scvi.csv')\n",
    "pd.DataFrame(X_loading).to_csv('./ldvae_X_scvi_weights.csv')"
   ]
  },
  {
   "cell_type": "code",
   "execution_count": null,
   "id": "running-station",
   "metadata": {},
   "outputs": [],
   "source": [
    "sc.pp.neighbors(adata,n_neighbors=30, use_rep='X_scvi', n_pcs = 30)"
   ]
  },
  {
   "cell_type": "code",
   "execution_count": null,
   "id": "rubber-wheel",
   "metadata": {},
   "outputs": [],
   "source": [
    "adata.write('/home/jupyter/mount/gdrive/g_cloud/projects/YS/data/panf_ys_brain_eliv/A1_V11_ldvae_scvi_YS_updated_panf_gonads_brain_build_donor_organ_corrected_031022.h5ad')"
   ]
  },
  {
   "cell_type": "code",
   "execution_count": null,
   "id": "premier-quick",
   "metadata": {},
   "outputs": [],
   "source": [
    "# scvi.model.SCVI.setup_anndata(\n",
    "#     adata,\n",
    "#     layer=None,\n",
    "#     categorical_covariate_keys=['donor','organ'],#,'orig.dataset','chemistry_ver'],\n",
    "# )\n",
    "# deprecated\n",
    "#scvi.data.setup_anndata(adata_raw, batch_key = \"fetal.ids\", copy=True)"
   ]
  },
  {
   "cell_type": "markdown",
   "id": "pending-newfoundland",
   "metadata": {},
   "source": [
    "# check if cuda is available"
   ]
  },
  {
   "cell_type": "code",
   "execution_count": null,
   "id": "opened-joseph",
   "metadata": {},
   "outputs": [],
   "source": [
    "# arches_params = dict(\n",
    "#     encode_covariates=True,\n",
    "#     dropout_rate=0.2,\n",
    "#     n_layers=2,\n",
    "#     n_hidden=256\n",
    "# )\n",
    "# vae = scvi.model.SCVI(adata, n_latent=20,**arches_params)\n",
    "# vae.train(early_stopping=True,\n",
    "#         train_size=0.9,\n",
    "#         early_stopping_patience=45,\n",
    "#         max_epochs=400, \n",
    "#         batch_size=1024, \n",
    "#         limit_train_batches=20\n",
    "#        )"
   ]
  },
  {
   "cell_type": "markdown",
   "id": "smart-tourism",
   "metadata": {},
   "source": [
    "### Check convergence"
   ]
  },
  {
   "cell_type": "code",
   "execution_count": null,
   "id": "noticed-acrylic",
   "metadata": {},
   "outputs": [],
   "source": [
    "data_dir = save_path\n",
    "timestamp = '20220906'"
   ]
  },
  {
   "cell_type": "code",
   "execution_count": null,
   "id": "relevant-fundamental",
   "metadata": {},
   "outputs": [
    {
     "data": {
      "image/png": "[encoded data removed]",
      "text/plain": [
       "<Figure size 432x288 with 1 Axes>"
      ]
     },
     "metadata": {
      "needs_background": "light"
     },
     "output_type": "display_data"
    }
   ],
   "source": [
    "sns.set_context(\"talk\")\n",
    "plt.plot(vae.history[\"elbo_train\"], label=\"Training\");\n",
    "plt.plot(vae.history[\"elbo_validation\"], label=\"Validation\");\n",
    "plt.legend();\n",
    "plt.xlabel(\"epoch\");\n",
    "plt.ylabel(\"ELBO\");\n",
    "plt.savefig(\"./scvi_training_elbo.pdf\", bbox_inches=\"tight\")"
   ]
  },
  {
   "cell_type": "code",
   "execution_count": null,
   "id": "adapted-duncan",
   "metadata": {},
   "outputs": [
    {
     "data": {
      "image/png": "[encoded data removed]",
      "text/plain": [
       "<Figure size 432x288 with 1 Axes>"
      ]
     },
     "metadata": {
      "needs_background": "light"
     },
     "output_type": "display_data"
    }
   ],
   "source": [
    "sns.set_context(\"talk\")\n",
    "plt.plot(vae.history[\"train_loss_step\"], label=\"train\");\n",
    "# plt.plot(vae.history[\"reconstruction_loss_validation\"], label=\"validation\");\n",
    "plt.xlabel(\"epoch\");\n",
    "plt.ylabel(\"Train loss\");"
   ]
  },
  {
   "cell_type": "code",
   "execution_count": null,
   "id": "finished-result",
   "metadata": {},
   "outputs": [],
   "source": [
    "## Save embedding\n",
    "x_scvi = vae.get_latent_representation()\n",
    "outname = './'+run_id+\".npy\"\n",
    "np.save(outname, x_scvi)"
   ]
  },
  {
   "cell_type": "code",
   "execution_count": 71,
   "id": "alone-judge",
   "metadata": {},
   "outputs": [
    {
     "data": {
      "text/plain": [
       "'/home/jupyter/mount/gdrive/g_cloud/projects/YS/data/panf_ys_brain_eliv/pan_immune_integrated_v1_10/'"
      ]
     },
     "execution_count": 71,
     "metadata": {},
     "output_type": "execute_result"
    }
   ],
   "source": [
    "save_path"
   ]
  },
  {
   "cell_type": "code",
   "execution_count": 77,
   "id": "going-separate",
   "metadata": {},
   "outputs": [],
   "source": [
    "model_dir = '/home/jupyter/mount/gdrive/g_cloud/projects/YS/notebooks/scvi_LDVAE_panf_pan_immune/'"
   ]
  },
  {
   "cell_type": "code",
   "execution_count": 82,
   "id": "illegal-surname",
   "metadata": {},
   "outputs": [],
   "source": [
    "# save the reference model\n",
    "vae.save(dir_path = (save_path + run_id), overwrite=False, save_anndata=False)\n",
    "vae.save(dir_path = (model_dir + run_id), overwrite=True, save_anndata=True)"
   ]
  },
  {
   "cell_type": "code",
   "execution_count": null,
   "id": "other-netherlands",
   "metadata": {},
   "outputs": [],
   "source": [
    "## Save the obs\n",
    "adata.obs.to_csv('./'+run_id+\".csv\")"
   ]
  },
  {
   "cell_type": "code",
   "execution_count": 80,
   "id": "selected-desert",
   "metadata": {},
   "outputs": [],
   "source": [
    "## Save training stats\n",
    "model_history = vae.history.copy()\n",
    "model_history.pop('train_loss_step')\n",
    "pd.DataFrame.from_dict({k:v[k] for k,v in model_history.items()}).to_csv(\"panf_data_raw_count.{t}.scVI_out.train_history.csv\".format(t=timestamp))"
   ]
  },
  {
   "cell_type": "code",
   "execution_count": null,
   "id": "union-percentage",
   "metadata": {},
   "outputs": [],
   "source": [
    "# save the reference model\n",
    "model_dir = 'scvi_PFI_model/'\n",
    "if not os.path.exists(data_dir + model_dir):\n",
    "    os.mkdir(data_dir + model_dir)\n",
    "vae.save(data_dir + model_dir, overwrite=True)"
   ]
  },
  {
   "cell_type": "code",
   "execution_count": null,
   "id": "hired-wilson",
   "metadata": {},
   "outputs": [],
   "source": [
    "vae.get_latent_representation()"
   ]
  },
  {
   "cell_type": "code",
   "execution_count": null,
   "id": "polyphonic-image",
   "metadata": {},
   "outputs": [],
   "source": [
    "adata.obsm['X_scvi'] = vae.get_latent_representation()"
   ]
  },
  {
   "cell_type": "code",
   "execution_count": null,
   "id": "curious-prerequisite",
   "metadata": {},
   "outputs": [],
   "source": [
    "adata.write(save_path + run_id + '.h5ad')"
   ]
  },
  {
   "cell_type": "code",
   "execution_count": null,
   "id": "outdoor-walker",
   "metadata": {},
   "outputs": [],
   "source": [
    "pd.DataFrame(vae.get_latent_representation(),index = adata.obs.index).to_csv('./scvi_YS_outs_150522_v7.csv')"
   ]
  },
  {
   "cell_type": "code",
   "execution_count": null,
   "id": "greenhouse-determination",
   "metadata": {},
   "outputs": [],
   "source": [
    "pd.DataFrame(vae.get_latent_representation(),index = adata.obs.index).to_csv('./scvi_YS_outs_150522_v7.csv')\n",
    "pd.DataFrame(vae.get_latent_representation(),index = adata.obs.index).to_csv('./'+run_id+\".csv\")"
   ]
  },
  {
   "cell_type": "code",
   "execution_count": null,
   "id": "transsexual-fundamental",
   "metadata": {},
   "outputs": [],
   "source": [
    "pd.DataFrame(vae.get_latent_representation(),index = adata.obs.index)"
   ]
  },
  {
   "cell_type": "markdown",
   "id": "complex-review",
   "metadata": {},
   "source": [
    "## Explore output"
   ]
  },
  {
   "cell_type": "code",
   "execution_count": null,
   "id": "fixed-tracker",
   "metadata": {},
   "outputs": [],
   "source": [
    "# adata.obsm['X_scvi'] = vae.get_latent_representation() \n",
    "sc.pp.neighbors(adata, n_neighbors=30,use_rep='X_scvi')\n",
    "sc.tl.umap(adata, min_dist = 0.01)\n",
    "# Clustering\n",
    "# res = 5\n",
    "sc.pl.umap(adata,color = 'cell.labels',size =10)\n",
    "sc.pl.umap(adata,color = 'organ',size =10)"
   ]
  },
  {
   "cell_type": "code",
   "execution_count": null,
   "id": "structural-parade",
   "metadata": {},
   "outputs": [],
   "source": [
    "sc.pl.umap(adata,color = 'organ',size =10)"
   ]
  },
  {
   "cell_type": "code",
   "execution_count": null,
   "id": "harmful-crystal",
   "metadata": {},
   "outputs": [],
   "source": [
    "sc.pl.umap(adata,color = 'organ',size =10)"
   ]
  },
  {
   "cell_type": "code",
   "execution_count": null,
   "id": "collectible-criticism",
   "metadata": {},
   "outputs": [],
   "source": [
    "var = \"organ\"\n",
    "#Create color dictionary_cell\n",
    "cells = list(adata.obs[var].cat.categories)\n",
    "col = list(range(0, len(adata.obs[var].cat.categories)))\n",
    "#col = adata.uns['cell.labels_colors']\n",
    "dic = dict(zip(cells,col))\n",
    "\n",
    "#Create a mappable field\n",
    "adata.obs['num'] = adata.obs[var]\n",
    "#map to adata.obs.col to create a caterorical column\n",
    "adata.obs['num'] = adata.obs['num'].map(dic)\n",
    "\n",
    "##Map to a pallete to use with umap\n",
    "#cells_list = pd.DataFrame(adata.obs[\"cell.labels\"].cat.categories)\n",
    "#cells_list['col'] = cells_list[0].map(dic)\n",
    "#col_pal = list(cells_list['col'])\n",
    "adata.obs['num'] = adata.obs['num'].astype(str)\n",
    "adata.obs[var+'_num'] = adata.obs['num'].astype(str) + \" : \" + adata.obs[var].astype(str)\n",
    "\n",
    "col_pal = ['#ff0000',    '#94BFB1',    '#B49EC8',    '#E0EE70',    '#EE943E',    '#4C7BAB',    '#E78AB8',    '#AFBFCC',    '#FF993F',    \"#FFFF00\", \"#1CE6FF\", \"#FF34FF\", \"#FF4A46\", \"#008941\", \"#006FA6\", \"#A30059\",    \"#FFDBE5\", \"#7A4900\", \"#0000A6\", \"#63FFAC\", \"#B79762\", \"#004D43\", \"#8FB0FF\", \"#997D87\",    \"#5A0007\", \"#809693\", \"#6A3A4C\", \"#1B4400\", \"#4FC601\", \"#3B5DFF\"]\n",
    "\n",
    "import matplotlib\n",
    "matplotlib.rcdefaults() #Reset matplot lb deafults as seaborne tends to mess with this\n",
    "fig, (ax1, ax2,) = plt.subplots(1,2, figsize=(10,10), gridspec_kw={'wspace':0,'width_ratios': [1,0]})\n",
    "p2 = sc.pl.umap(adata, color = (var+'_num') ,ax=ax2,show=False,title=\"\", palette= col_pal) #title=i\n",
    "p3 = sc.pl.umap(adata, color = \"num\",legend_loc=\"on data\",size=2,legend_fontsize='small',ax=ax1,show=False,title=\"Myeloid_broad\", palette= col_pal) #title=i\n",
    "\n",
    "fig.savefig('./'+var+\"_num.pdf\",bbox_inches='tight')"
   ]
  },
  {
   "cell_type": "code",
   "execution_count": null,
   "id": "veterinary-prescription",
   "metadata": {},
   "outputs": [],
   "source": [
    "var = \"celltype_annotation\"\n",
    "#Create color dictionary_cell\n",
    "cells = list(adata.obs[var].cat.categories)\n",
    "col = list(range(0, len(adata.obs[var].cat.categories)))\n",
    "#col = adata.uns['cell.labels_colors']\n",
    "dic = dict(zip(cells,col))\n",
    "\n",
    "#Create a mappable field\n",
    "adata.obs['num'] = adata.obs[var]\n",
    "#map to adata.obs.col to create a caterorical column\n",
    "adata.obs['num'] = adata.obs['num'].map(dic)\n",
    "\n",
    "##Map to a pallete to use with umap\n",
    "#cells_list = pd.DataFrame(adata.obs[\"cell.labels\"].cat.categories)\n",
    "#cells_list['col'] = cells_list[0].map(dic)\n",
    "#col_pal = list(cells_list['col'])\n",
    "adata.obs['num'] = adata.obs['num'].astype(str)\n",
    "adata.obs[var+'_num'] = adata.obs['num'].astype(str) + \" : \" + adata.obs[var].astype(str)\n",
    "\n",
    "col_pal = ['#ff0000',    '#94BFB1',    '#B49EC8',    '#E0EE70',    '#EE943E',    '#4C7BAB',    '#E78AB8',    '#AFBFCC',    '#FF993F',    \"#FFFF00\", \"#1CE6FF\", \"#FF34FF\", \"#FF4A46\", \"#008941\", \"#006FA6\", \"#A30059\",    \"#FFDBE5\", \"#7A4900\", \"#0000A6\", \"#63FFAC\", \"#B79762\", \"#004D43\", \"#8FB0FF\", \"#997D87\",    \"#5A0007\", \"#809693\", \"#6A3A4C\", \"#1B4400\", \"#4FC601\", \"#3B5DFF\"]\n",
    "\n",
    "import matplotlib\n",
    "matplotlib.rcdefaults() #Reset matplot lb deafults as seaborne tends to mess with this\n",
    "fig, (ax1, ax2,) = plt.subplots(1,2, figsize=(10,10), gridspec_kw={'wspace':0,'width_ratios': [1,0]})\n",
    "p2 = sc.pl.umap(adata, color = (var+'_num') ,ax=ax2,show=False,title=\"\", palette= col_pal) #title=i\n",
    "p3 = sc.pl.umap(adata, color = \"num\",legend_loc=\"on data\",size=2,legend_fontsize='small',ax=ax1,show=False,title=\"Myeloid_broad\", palette= col_pal) #title=i\n",
    "\n",
    "fig.savefig('./'+var+\"_num.pdf\",bbox_inches='tight')"
   ]
  },
  {
   "cell_type": "code",
   "execution_count": null,
   "id": "million-drunk",
   "metadata": {},
   "outputs": [],
   "source": [
    "adata.write(save_path + run_id + '.h5ad')"
   ]
  },
  {
   "cell_type": "code",
   "execution_count": null,
   "id": "tamil-celebration",
   "metadata": {},
   "outputs": [],
   "source": [
    "sc.pp.pca(adata)\n",
    "sc.pp.neighbors(adata, n_neighbors=15, n_pcs = 50)\n",
    "sc.tl.umap(adata)\n",
    "# Clustering\n",
    "# res = 5\n",
    "sc.pl.umap(adata,color = 'cell.labels',size =10)\n",
    "sc.pl.umap(adata,color = 'tissue',size =10)"
   ]
  },
  {
   "cell_type": "code",
   "execution_count": 11,
   "id": "muslim-length",
   "metadata": {},
   "outputs": [],
   "source": [
    "# adata = sc.read(save_path + run_id + '.h5ad')"
   ]
  },
  {
   "cell_type": "code",
   "execution_count": null,
   "id": "correct-check",
   "metadata": {},
   "outputs": [],
   "source": [
    "adata.obsm"
   ]
  },
  {
   "cell_type": "code",
   "execution_count": 12,
   "id": "entitled-madonna",
   "metadata": {},
   "outputs": [
    {
     "ename": "KeyError",
     "evalue": "\"Could not find 'umap' or 'X_umap' in .obsm\"",
     "output_type": "error",
     "traceback": [
      "\u001b[0;31m---------------------------------------------------------------------------\u001b[0m",
      "\u001b[0;31mKeyError\u001b[0m                                  Traceback (most recent call last)",
      "\u001b[0;32m/tmp/ipykernel_14031/989085615.py\u001b[0m in \u001b[0;36m<module>\u001b[0;34m\u001b[0m\n\u001b[0;32m----> 1\u001b[0;31m \u001b[0msc\u001b[0m\u001b[0;34m.\u001b[0m\u001b[0mpl\u001b[0m\u001b[0;34m.\u001b[0m\u001b[0mumap\u001b[0m\u001b[0;34m(\u001b[0m\u001b[0madata\u001b[0m\u001b[0;34m,\u001b[0m\u001b[0mcolor\u001b[0m \u001b[0;34m=\u001b[0m \u001b[0;34m'cell.labels'\u001b[0m\u001b[0;34m,\u001b[0m\u001b[0msize\u001b[0m \u001b[0;34m=\u001b[0m\u001b[0;36m10\u001b[0m\u001b[0;34m)\u001b[0m\u001b[0;34m\u001b[0m\u001b[0;34m\u001b[0m\u001b[0m\n\u001b[0m\u001b[1;32m      2\u001b[0m \u001b[0msc\u001b[0m\u001b[0;34m.\u001b[0m\u001b[0mpl\u001b[0m\u001b[0;34m.\u001b[0m\u001b[0mumap\u001b[0m\u001b[0;34m(\u001b[0m\u001b[0madata\u001b[0m\u001b[0;34m,\u001b[0m\u001b[0mcolor\u001b[0m \u001b[0;34m=\u001b[0m \u001b[0;34m'organ'\u001b[0m\u001b[0;34m,\u001b[0m\u001b[0msize\u001b[0m \u001b[0;34m=\u001b[0m\u001b[0;36m10\u001b[0m\u001b[0;34m)\u001b[0m\u001b[0;34m\u001b[0m\u001b[0;34m\u001b[0m\u001b[0m\n",
      "\u001b[0;32m/opt/conda/lib/python3.7/site-packages/scanpy/plotting/_tools/scatterplots.py\u001b[0m in \u001b[0;36mumap\u001b[0;34m(adata, **kwargs)\u001b[0m\n\u001b[1;32m    667\u001b[0m     \u001b[0mtl\u001b[0m\u001b[0;34m.\u001b[0m\u001b[0mumap\u001b[0m\u001b[0;34m\u001b[0m\u001b[0;34m\u001b[0m\u001b[0m\n\u001b[1;32m    668\u001b[0m     \"\"\"\n\u001b[0;32m--> 669\u001b[0;31m     \u001b[0;32mreturn\u001b[0m \u001b[0membedding\u001b[0m\u001b[0;34m(\u001b[0m\u001b[0madata\u001b[0m\u001b[0;34m,\u001b[0m \u001b[0;34m'umap'\u001b[0m\u001b[0;34m,\u001b[0m \u001b[0;34m**\u001b[0m\u001b[0mkwargs\u001b[0m\u001b[0;34m)\u001b[0m\u001b[0;34m\u001b[0m\u001b[0;34m\u001b[0m\u001b[0m\n\u001b[0m\u001b[1;32m    670\u001b[0m \u001b[0;34m\u001b[0m\u001b[0m\n\u001b[1;32m    671\u001b[0m \u001b[0;34m\u001b[0m\u001b[0m\n",
      "\u001b[0;32m/opt/conda/lib/python3.7/site-packages/scanpy/plotting/_tools/scatterplots.py\u001b[0m in \u001b[0;36membedding\u001b[0;34m(adata, basis, color, gene_symbols, use_raw, sort_order, edges, edges_width, edges_color, neighbors_key, arrows, arrows_kwds, groups, components, dimensions, layer, projection, scale_factor, color_map, cmap, palette, na_color, na_in_legend, size, frameon, legend_fontsize, legend_fontweight, legend_loc, legend_fontoutline, colorbar_loc, vmax, vmin, vcenter, norm, add_outline, outline_width, outline_color, ncols, hspace, wspace, title, show, save, ax, return_fig, **kwargs)\u001b[0m\n\u001b[1;32m    131\u001b[0m     \u001b[0msanitize_anndata\u001b[0m\u001b[0;34m(\u001b[0m\u001b[0madata\u001b[0m\u001b[0;34m)\u001b[0m\u001b[0;34m\u001b[0m\u001b[0;34m\u001b[0m\u001b[0m\n\u001b[1;32m    132\u001b[0m \u001b[0;34m\u001b[0m\u001b[0m\n\u001b[0;32m--> 133\u001b[0;31m     \u001b[0mbasis_values\u001b[0m \u001b[0;34m=\u001b[0m \u001b[0m_get_basis\u001b[0m\u001b[0;34m(\u001b[0m\u001b[0madata\u001b[0m\u001b[0;34m,\u001b[0m \u001b[0mbasis\u001b[0m\u001b[0;34m)\u001b[0m\u001b[0;34m\u001b[0m\u001b[0;34m\u001b[0m\u001b[0m\n\u001b[0m\u001b[1;32m    134\u001b[0m     dimensions = _components_to_dimensions(\n\u001b[1;32m    135\u001b[0m         \u001b[0mcomponents\u001b[0m\u001b[0;34m,\u001b[0m \u001b[0mdimensions\u001b[0m\u001b[0;34m,\u001b[0m \u001b[0mprojection\u001b[0m\u001b[0;34m=\u001b[0m\u001b[0mprojection\u001b[0m\u001b[0;34m,\u001b[0m \u001b[0mtotal_dims\u001b[0m\u001b[0;34m=\u001b[0m\u001b[0mbasis_values\u001b[0m\u001b[0;34m.\u001b[0m\u001b[0mshape\u001b[0m\u001b[0;34m[\u001b[0m\u001b[0;36m1\u001b[0m\u001b[0;34m]\u001b[0m\u001b[0;34m\u001b[0m\u001b[0;34m\u001b[0m\u001b[0m\n",
      "\u001b[0;32m/opt/conda/lib/python3.7/site-packages/scanpy/plotting/_tools/scatterplots.py\u001b[0m in \u001b[0;36m_get_basis\u001b[0;34m(adata, basis)\u001b[0m\n\u001b[1;32m   1140\u001b[0m         \u001b[0;32mreturn\u001b[0m \u001b[0madata\u001b[0m\u001b[0;34m.\u001b[0m\u001b[0mobsm\u001b[0m\u001b[0;34m[\u001b[0m\u001b[0;34mf\"X_{basis}\"\u001b[0m\u001b[0;34m]\u001b[0m\u001b[0;34m\u001b[0m\u001b[0;34m\u001b[0m\u001b[0m\n\u001b[1;32m   1141\u001b[0m     \u001b[0;32melse\u001b[0m\u001b[0;34m:\u001b[0m\u001b[0;34m\u001b[0m\u001b[0;34m\u001b[0m\u001b[0m\n\u001b[0;32m-> 1142\u001b[0;31m         \u001b[0;32mraise\u001b[0m \u001b[0mKeyError\u001b[0m\u001b[0;34m(\u001b[0m\u001b[0;34mf\"Could not find '{basis}' or 'X_{basis}' in .obsm\"\u001b[0m\u001b[0;34m)\u001b[0m\u001b[0;34m\u001b[0m\u001b[0;34m\u001b[0m\u001b[0m\n\u001b[0m\u001b[1;32m   1143\u001b[0m \u001b[0;34m\u001b[0m\u001b[0m\n\u001b[1;32m   1144\u001b[0m \u001b[0;34m\u001b[0m\u001b[0m\n",
      "\u001b[0;31mKeyError\u001b[0m: \"Could not find 'umap' or 'X_umap' in .obsm\""
     ]
    }
   ],
   "source": [
    "sc.pl.umap(adata,color = 'cell.labels',size =10)\n",
    "sc.pl.umap(adata,color = 'organ',size =10)"
   ]
  },
  {
   "cell_type": "code",
   "execution_count": null,
   "id": "embedded-episode",
   "metadata": {},
   "outputs": [],
   "source": [
    "adata.write(save_path + run_id + '.h5ad')"
   ]
  },
  {
   "cell_type": "code",
   "execution_count": null,
   "id": "threaded-texture",
   "metadata": {},
   "outputs": [],
   "source": [
    "adata.obsm['X_scvi'] = vae.get_latent_representation() \n",
    "sc.pp.neighbors(adata, n_neighbors=10,use_rep='X_scvi', n_pcs = 15)\n",
    "sc.tl.umap(adata)\n",
    "# Clustering\n",
    "# res = 5\n",
    "sc.pl.umap(adata,color = 'cell.labels',size =10)\n",
    "sc.pl.umap(adata,color = 'tissue',size =10)"
   ]
  },
  {
   "cell_type": "code",
   "execution_count": null,
   "id": "absent-index",
   "metadata": {},
   "outputs": [],
   "source": [
    "adata.write('./A2_V8_YS_EL_build_scvi_220522_10_15.h5ad')"
   ]
  },
  {
   "cell_type": "code",
   "execution_count": null,
   "id": "innovative-bicycle",
   "metadata": {},
   "outputs": [],
   "source": [
    "adata.obsm['X_scvi'] = vae.get_latent_representation() \n",
    "sc.pp.neighbors(adata, n_neighbors=10,use_rep='X_scvi', n_pcs = 20)\n",
    "sc.tl.umap(adata)\n",
    "# Clustering\n",
    "# res = 5\n",
    "sc.pl.umap(adata,color = 'cell.labels',size =10)\n",
    "sc.pl.umap(adata,color = 'tissue',size =10)"
   ]
  },
  {
   "cell_type": "code",
   "execution_count": null,
   "id": "innovative-outside",
   "metadata": {},
   "outputs": [],
   "source": [
    "adata.write('./A2_V8_YS_EL_build_scvi_220522_10_20.h5ad')"
   ]
  },
  {
   "cell_type": "code",
   "execution_count": null,
   "id": "unknown-draft",
   "metadata": {},
   "outputs": [],
   "source": [
    "sc.pl.umap(adata,color = 'tissue',size =10)"
   ]
  }
 ],
 "metadata": {
  "environment": {
   "kernel": "workhorse",
   "name": "pytorch-gpu.1-11.m91",
   "type": "gcloud",
   "uri": "gcr.io/deeplearning-platform-release/pytorch-gpu.1-11:m91"
  },
  "kernelspec": {
   "display_name": "workhorse",
   "language": "python",
   "name": "workhorse"
  },
  "language_info": {
   "codemirror_mode": {
    "name": "ipython",
    "version": 3
   },
   "file_extension": ".py",
   "mimetype": "text/x-python",
   "name": "python",
   "nbconvert_exporter": "python",
   "pygments_lexer": "ipython3",
   "version": "3.8.6"
  }
 },
 "nbformat": 4,
 "nbformat_minor": 5
}
