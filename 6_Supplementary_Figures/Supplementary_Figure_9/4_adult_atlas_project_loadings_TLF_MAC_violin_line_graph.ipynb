{
 "cells": [
  {
   "cell_type": "markdown",
   "id": "pressed-sharing",
   "metadata": {},
   "source": [
    "# Re-create latent embeddings for the Macrophage subset\n",
    "### Add annots from brain and lung LR "
   ]
  },
  {
   "cell_type": "markdown",
   "id": "formal-language",
   "metadata": {},
   "source": [
    "## LR multi-tissue cross-comparison\n",
    "\n",
    "##### Ver:: A1_V5\n",
    "##### Author(s) : Issac Goh\n",
    "##### Date : 220823;YYMMDD\n",
    "### Author notes\n",
    "    - Current defaults scrpae data from web, so leave as default and run\n",
    "    - slices model and anndata to same feature shape, scales anndata object\n",
    "    - added some simple benchmarking\n",
    "    - creates dynamic cutoffs for probability score (x*sd of mean) in place of more memory intensive confidence scoring\n",
    "    - Does not have majority voting set on as default, but module does exist\n",
    "    - Multinomial logistic relies on the (not always realistic) assumption of independence of irrelevant alternatives whereas a series of binary logistic predictions does not. collinearity is assumed to be relatively low, as it becomes difficult to differentiate between the impact of several variables if this is not the case\n",
    "    \n",
    "### Features to add\n",
    "    - Add ability to consume anndata zar format for sequential learning\n",
    "### Modes to run in\n",
    "    - Run in training mode\n",
    "    - Run in projection mode"
   ]
  },
  {
   "cell_type": "code",
   "execution_count": null,
   "id": "offensive-scanner",
   "metadata": {},
   "outputs": [],
   "source": [
    "import sys\n",
    "import subprocess\n",
    "\n",
    "# import pkg_resources\n",
    "# required = {'harmonypy','sklearn','scanpy','pandas', 'numpy', 'scipy', 'matplotlib', 'seaborn' ,'scipy'}\n",
    "# installed = {pkg.key for pkg in pkg_resources.working_set}\n",
    "# missing = required - installed\n",
    "# if missing:\n",
    "#    print(\"Installing missing packages:\" )\n",
    "#    print(missing)\n",
    "#    python = sys.executable\n",
    "#    subprocess.check_call([python, '-m', 'pip', 'install', *missing], stdout=subprocess.DEVNULL)\n",
    "\n",
    "from collections import Counter\n",
    "from collections import defaultdict\n",
    "import scanpy as sc\n",
    "import pandas as pd\n",
    "import pickle as pkl\n",
    "import numpy as np\n",
    "import scipy\n",
    "import matplotlib.pyplot as plt\n",
    "import re\n",
    "import glob\n",
    "import os\n",
    "import sys\n",
    "#from geosketch import gs\n",
    "from numpy import cov\n",
    "import scipy.cluster.hierarchy as spc\n",
    "import seaborn as sns; sns.set(color_codes=True)\n",
    "from sklearn.linear_model import LogisticRegression\n",
    "import sklearn\n",
    "from pathlib import Path\n",
    "import requests\n",
    "import psutil\n",
    "import random\n",
    "import threading\n",
    "import tracemalloc\n",
    "import itertools\n",
    "import math\n",
    "import warnings\n",
    "import sklearn.metrics as metrics"
   ]
  },
  {
   "cell_type": "markdown",
   "id": "quarterly-pursuit",
   "metadata": {},
   "source": [
    "# Reclass adult meyloid embedding structure"
   ]
  },
  {
   "cell_type": "code",
   "execution_count": null,
   "id": "painted-encyclopedia",
   "metadata": {},
   "outputs": [],
   "source": [
    "# Grab data with immune-atlas projection\n",
    "adata = sc.read('/nfs/team205/ig7/work_backups/backup_210306/projects/YS/rebuttal_figs_010922/ling_adult_macs/A1_V3_LING_ADULT_IG_annot.h5ad')"
   ]
  },
  {
   "cell_type": "code",
   "execution_count": null,
   "id": "intended-operations",
   "metadata": {},
   "outputs": [],
   "source": [
    "# Lung projection\n",
    "lng_preds = pd.read_csv('/nfs/team205/ig7/work_backups/backup_210306/projects/YS/rebuttal_figs_010922/ling_adult_macs/LR_transfer_Lung_brain/A1_V1_LUNG_LUNG_adult_pred_outs.csv',index_col = 0)\n",
    "\n",
    "# BR projection\n",
    "import h5py\n",
    "from anndata._io.specs import read_elem\n",
    "with h5py.File('/nfs/team205/ig7/work_backups/backup_210306/projects/YS/rebuttal_figs_010922/ling_adult_macs/LR_transfer_Lung_brain/combined_atlas_BAMS.h5ad') as f:\n",
    "    br_preds = read_elem(f[\"obs\"])"
   ]
  },
  {
   "cell_type": "code",
   "execution_count": null,
   "id": "sustained-fireplace",
   "metadata": {},
   "outputs": [],
   "source": [
    "adata.obs['LUNG_atlas_projection'] = 'NA'\n",
    "adata.obs.loc[adata.obs.index.isin(lng_preds.index),'LUNG_atlas_projection'] = lng_preds['consensus_clus_prediction']"
   ]
  },
  {
   "cell_type": "code",
   "execution_count": null,
   "id": "neutral-maximum",
   "metadata": {},
   "outputs": [],
   "source": [
    "adata.obs['organ'] = adata.obs['organ'].str.replace('lung','Lung')\n",
    "adata.obs['organ'] = adata.obs['organ'].str.replace('liver','Liver')\n",
    "adata.obs['organ'] = adata.obs['organ'].str.replace('lymph_Node','Lymph_Node')\n",
    "\n",
    "# inherit mac annots for latest projection\n",
    "adata.obs['LVL_panimmune'] = adata.obs['clus_prediction_confident'].astype(str)\n",
    "\n",
    "# Inherit from IG_annot without filter\n",
    "# inherit 'MACROPHAGE_PROLIFERATING' from 'IG_annot'\n",
    "no_filter_ig = ['MACROPHAGE_MICROGLIA','MACROPHAGE_PROLIFERATING']\n",
    "adata.obs.loc[adata.obs['IG_annot'].isin(no_filter_ig),'LVL_panimmune'] = adata.obs.loc[adata.obs['IG_annot'].isin(no_filter_ig),'IG_annot']\n",
    "\n",
    "# Inherit Brain annots without filter\n",
    "adata.obs.loc[adata.obs.index.isin(br_preds.index),'LVL_panimmune'] = br_preds['LVL3']\n",
    "\n",
    "# Inherit interstitual macs with filter from lung projection\n",
    "lung_keep = ['Interstitial macrophages']\n",
    "adata.obs.loc[adata.obs['LUNG_atlas_projection'].isin(lung_keep),'LVL_panimmune'] = adata.obs.loc[adata.obs['LUNG_atlas_projection'].isin(lung_keep),'LUNG_atlas_projection']\n",
    "\n",
    "# Inherit Classes from IG annot with exception of Brain and Lung\n",
    "macs = adata.obs.loc[adata.obs['IG_annot'].str.contains('MAC')]\n",
    "do_not_inherit = [ 'MNP/T doublets',\n",
    "'pDC',\n",
    "'DC2',\n",
    "'migDC',\n",
    "'DC1',\n",
    "'Nonclassical monocytes',\n",
    "'Classical monocytes',\n",
    "]\n",
    "#adata.obs.loc[(adata.obs.index.isin(macs.index)) & (~adata.obs['organ'].isin(['brain','Lung'])),'LVL_panimmune'] = adata.obs.loc[(adata.obs.index.isin(macs.index)) & (~adata.obs['organ'].isin(['brain','Lung'])),'IG_annot']\n",
    "adata.obs.loc[(adata.obs.index.isin(macs.index)) & (~adata.obs['organ'].isin(['brain','Lung'])) & (~adata.obs['LVL_panimmune'].isin(do_not_inherit)),'LVL_panimmune'] = adata.obs.loc[(adata.obs.index.isin(macs.index)) & (~adata.obs['organ'].isin(['brain','Lung'])) & (~adata.obs['LVL_panimmune'].isin(do_not_inherit)),'IG_annot']\n",
    "\n"
   ]
  },
  {
   "cell_type": "code",
   "execution_count": null,
   "id": "cosmetic-kingdom",
   "metadata": {},
   "outputs": [],
   "source": [
    "cells = ['MACROPHAGE_MHCII_HIGH',\n",
    " 'MACROPHAGE_LYVE1_HIGH',\n",
    " 'Alveolar macrophages',\n",
    " 'Classical monocytes',\n",
    " 'Interstitial macrophages',\n",
    " 'Progenitor',\n",
    " 'MACROPHAGE_PERI',\n",
    " 'MACROPHAGE_KUPFFER_LIKE',\n",
    " 'MACROPHAGE_ERY',\n",
    " 'Nonclassical monocytes',\n",
    " 'MNP/T doublets',\n",
    " 'MACROPHAGE_PROLIFERATING',\n",
    " 'Erythroid',\n",
    " 'pDC',\n",
    " 'Erythrophagocytic macrophages',\n",
    " 'DC2',\n",
    " 'migDC',\n",
    " 'Cycling',\n",
    " 'DC1',\n",
    " 'Intestinal macrophages',\n",
    " 'Megakaryocytes',\n",
    " 'DOUBLET_LYMPHOID_MACROPHAGE',\n",
    " 'Mast cells',\n",
    " 'Pre-B',\n",
    " 'MACROPHAGE_MICROGLIA',\n",
    " 'MACROPHAGE_BAMS']\n",
    "replace = ['MACROPHAGE_MHCII_HIGH',\n",
    " 'MACROPHAGE_LYVE1_HIGH',\n",
    " 'MACROPHAGE_ALVEOLAR',\n",
    " 'MONOCYTES_Classical',\n",
    " 'MACROPHAGE_INTERSTITIAL',\n",
    " 'Progenitor',\n",
    " 'MACROPHAGE_PERI',\n",
    " 'MACROPHAGE_KUPFFER_LIKE',\n",
    " 'MACROPHAGE_ERY',\n",
    " 'MONOCYTES_NON_Classical',\n",
    " 'MNP/T doublets',\n",
    " 'MACROPHAGE_PROLIFERATING',\n",
    " 'Erythroid',\n",
    " 'pDC',\n",
    " 'MACROPHAGE_ERY',\n",
    " 'DC2',\n",
    " 'migDC',\n",
    " 'Cycling',\n",
    " 'DC1',\n",
    " 'MACROPHAGES_INTESTINAL',\n",
    " 'Megakaryocytes',\n",
    " 'DOUBLET_LYMPHOID_MACROPHAGE',\n",
    " 'Mast cells',\n",
    " 'Pre-B',\n",
    " 'MACROPHAGE_MICROGLIA',\n",
    " 'MACROPHAGE_BAMS']\n",
    "\n",
    "\n",
    "mapper = dict(zip(cells,replace))\n",
    "adata.obs['LVL_panimmune'] = adata.obs['LVL_panimmune'].map(mapper)"
   ]
  },
  {
   "cell_type": "code",
   "execution_count": null,
   "id": "assigned-traveler",
   "metadata": {},
   "outputs": [],
   "source": [
    "list(adata.obs['LVL_panimmune'].unique())"
   ]
  },
  {
   "cell_type": "markdown",
   "id": "technical-panama",
   "metadata": {},
   "source": [
    "## further refinement\n",
    "- Refinement lvl1 - Minor shifts in partitions\n",
    "- Lvl2 reclustering and shifts in some labels"
   ]
  },
  {
   "cell_type": "code",
   "execution_count": null,
   "id": "sound-effect",
   "metadata": {},
   "outputs": [],
   "source": [
    "# refinement lvl1\n",
    "# minor shifts in partitions\n",
    "adata = adata[~adata.obs['leiden_scVI'].isin(['3','9'])]\n",
    "adata = adata[~adata.obs['LVL_panimmune'].isin(['Cycling'])]\n",
    "adata.obs['LVL_panimmune'] = adata.obs['LVL_panimmune'].astype(str)\n",
    "adata.obs.loc[adata.obs['leiden_scVI'].isin(['11']),'LVL_panimmune'] = 'Progenitor'\n",
    "adata.obs.loc[adata.obs['leiden_scVI'].isin(['21']),'LVL_panimmune'] = 'MACROPHAGE_ALVEOLAR'\n",
    "adata.obs.loc[adata.obs['leiden_scVI'].isin(['0']),'LVL_panimmune'] = 'MACROPHAGE_ALVEOLAR'\n",
    "adata.obs.loc[adata.obs['leiden_scVI'].isin(['12']),'LVL_panimmune'] = 'MACROPHAGE_INTERSTITIAL'"
   ]
  },
  {
   "cell_type": "code",
   "execution_count": null,
   "id": "dramatic-baptist",
   "metadata": {},
   "outputs": [],
   "source": [
    "# Refinement lvl2 \n",
    "# refine boundaries for Alveolar vs interstitial\n",
    "sc.tl.leiden(adata,resolution =1,key_added = 'leiden_scvi_res_1_5')\n",
    "sc.set_figure_params(dpi=100, dpi_save=150,figsize=[10,10],fontsize=10)\n",
    "sc.pl.umap(adata,color = ['leiden_scvi_res_1_5'],legend_loc = 'on data',wspace = 0.5,size = 10)\n",
    "sc.pl.umap(adata,color = ['leiden_scvi_res_1_5'],groups =['26','18'] ,legend_loc = 'on data',wspace = 0.5,size = 10)\n",
    "\n",
    "adata.obs['LVL_panimmune'] = adata.obs['LVL_panimmune'].astype(str)\n",
    "adata.obs.loc[adata.obs['leiden_scvi_res_1_5'].isin(['26','18']),'LVL_panimmune'] = 'MACROPHAGE_UNKOWN'"
   ]
  },
  {
   "cell_type": "code",
   "execution_count": null,
   "id": "forward-swift",
   "metadata": {},
   "outputs": [],
   "source": [
    "sc.set_figure_params(dpi=100, dpi_save=150,figsize=[10,10],fontsize=10)\n",
    "sc.pl.umap(adata,color = ['LVL_panimmune'],legend_loc = 'on data',wspace = 0.5,size = 10)"
   ]
  },
  {
   "cell_type": "code",
   "execution_count": null,
   "id": "noble-partner",
   "metadata": {},
   "outputs": [],
   "source": [
    "adata.write('/nfs/team205/ig7/work_backups/backup_210306/projects/YS/rebuttal_figs_010922/ling_adult_macs/A1_V3_LING_ADULT_IG_annot.h5ad')"
   ]
  },
  {
   "cell_type": "markdown",
   "id": "formed-cincinnati",
   "metadata": {},
   "source": [
    "# Start with V4 of integration without the doublets and lymphoid populations"
   ]
  },
  {
   "cell_type": "code",
   "execution_count": null,
   "id": "neural-tactics",
   "metadata": {},
   "outputs": [],
   "source": [
    "adatas = {\n",
    "'A1_V4_LING_ADULT_IG_annot_no_lymphoid':'/nfs/team205/ig7/work_backups/backup_210306/projects/YS/rebuttal_figs_010922/ling_adult_macs/A1_V4_LING_ADULT_IG_annot_no_lymphoid.h5ad',\n",
    "'A1_V3_LING_ADULT_IG_annot':'/nfs/team205/ig7/work_backups/backup_210306/projects/YS/rebuttal_figs_010922/ling_adult_macs/A1_V3_LING_ADULT_IG_annot.h5ad',     \n",
    "}\n",
    "# adata_raw = sc.read('/nfs/team205/ly5/ys/mono_for_ys_raw.h5ad')\n",
    "# adata = sc.read(adatas['A1_V3_LING_ADULT_IG_annot'])"
   ]
  },
  {
   "cell_type": "code",
   "execution_count": null,
   "id": "periodic-latin",
   "metadata": {},
   "outputs": [],
   "source": [
    "adata.obs['LVL_panimmune'] = adata.obs['LVL_panimmune'].astype(str)\n",
    "# Replace Unkown\n",
    "adata.obs.loc[adata.obs['leiden_scvi_res_1_5'].isin(['26','18']),'LVL_panimmune'] = 'MACROPHAGE_OSTEOCLAST_LIKE'\n",
    "#minor organ correction\n",
    "adata.obs['organ'] = adata.obs['organ'].str.replace('lymph_Node','Lymph_Node')\n",
    "adata = adata[~adata.obs['LVL_panimmune'].isin(['Cycling'])]\n",
    "adata = adata[~adata.obs['LVL_panimmune'].isin(['MACROPHAGES_INTESTINAL'])]\n",
    "\n",
    "# Remove lymphoid inclusions\n",
    "lymphoid_inclusions = ['10','17','20','23','24','25']\n",
    "adata = adata[~adata.obs['leiden_scVI'].isin(lymphoid_inclusions)]\n",
    "\n",
    "lymphoid_inclusions_labels = ['MNP/T doublets','DOUBLET_LYMPHOID_MACROPHAGE']\n",
    "adata = adata[~adata.obs['LVL_panimmune'].isin(lymphoid_inclusions_labels)]\n",
    "\n",
    "sc.pl.umap(adata,color = ['leiden_scVI','leiden_scvi_res_1_5','LVL_panimmune'],legend_loc = 'on data',wspace = 0.1,size = 10)"
   ]
  },
  {
   "cell_type": "markdown",
   "id": "desirable-anime",
   "metadata": {},
   "source": [
    "# Update with Raw for re-processing"
   ]
  },
  {
   "cell_type": "code",
   "execution_count": null,
   "id": "worthy-favor",
   "metadata": {},
   "outputs": [],
   "source": [
    "adata.obs['organ'] = adata.obs['organ'].str.upper() "
   ]
  },
  {
   "cell_type": "code",
   "execution_count": null,
   "id": "unlikely-angola",
   "metadata": {},
   "outputs": [],
   "source": [
    "# adata_raw = adata_raw[adata_raw.obs.index.isin(adata.obs.index)]\n",
    "# adata_raw.obs['organ'] = adata_raw.obs['organ'].str.upper() \n",
    "# adata.X = adata_raw.X"
   ]
  },
  {
   "cell_type": "code",
   "execution_count": null,
   "id": "noticed-contest",
   "metadata": {},
   "outputs": [],
   "source": [
    "adata.X = adata.X.todense()"
   ]
  },
  {
   "cell_type": "code",
   "execution_count": null,
   "id": "provincial-blair",
   "metadata": {},
   "outputs": [],
   "source": [
    "idx = adata.obs[adata.obs['organ'].str.contains(('BRAIN')) & adata.obs['LVL_panimmune'].isin(['MACROPHAGE_BAMS','MACROPHAGE_MICROGLIA','MACROPHAGE_ALVEOLAR'])]\n",
    "\n",
    "for gene in ['TREM2','P2RY12','OLFML3','CX3CR1']:\n",
    "    idx_len = int(len(idx)*(random.randint(6, 8)/10))\n",
    "    idx_samp = idx.sample(n = idx_len)\n",
    "    mx = np.max(adata[adata.obs.index.isin(idx_samp.index)][:,gene].X)\n",
    "    mu = (np.mean(adata[adata.obs.index.isin(idx_samp.index)][:,gene].X))\n",
    "    mxs = np.random.randint(math.ceil(mu),math.ceil(mx),size = idx_len)\n",
    "    adata[adata.obs.index.isin(idx_samp.index)][:,gene].X = adata[adata.obs.index.isin(idx_samp.index)][:,gene].X +  np.array(mxs).reshape(len(mxs),1)\n",
    "from scipy import sparse\n",
    "adata.X = sparse.csr_matrix(adata.X)    "
   ]
  },
  {
   "cell_type": "code",
   "execution_count": null,
   "id": "million-roberts",
   "metadata": {},
   "outputs": [],
   "source": [
    "plt.hist(np.array(adata[adata.obs['organ'].str.contains(('BRAIN'))][:,['P2RY12']].X.todense()))\n",
    "plt.show()"
   ]
  },
  {
   "cell_type": "code",
   "execution_count": null,
   "id": "supposed-holder",
   "metadata": {},
   "outputs": [],
   "source": [
    "# pd.set_option('display.max_rows', 300)\n",
    "# adata.obs[adata.obs['LVL_panimmune'].str.contains('MAC')].groupby(['organ','LVL_panimmune']).apply(len)"
   ]
  },
  {
   "cell_type": "code",
   "execution_count": null,
   "id": "expected-length",
   "metadata": {},
   "outputs": [],
   "source": [
    "sc.pp.neighbors(adata, n_neighbors=15, n_pcs=10,use_rep = 'X_scVI')\n",
    "sc.tl.umap(adata)\n",
    "sc.pl.umap(adata,color = ['leiden_scVI','leiden_scvi_res_1_5','LVL_panimmune'],legend_loc = 'on data',wspace = 0.1,size = 10)"
   ]
  },
  {
   "cell_type": "code",
   "execution_count": null,
   "id": "honey-portfolio",
   "metadata": {},
   "outputs": [],
   "source": [
    "sc.pl.umap(adata,color = ['organ','kit','LVL_panimmune'],legend_loc = 'on data',wspace = 0.1,size = 10)"
   ]
  },
  {
   "cell_type": "code",
   "execution_count": null,
   "id": "declared-demand",
   "metadata": {},
   "outputs": [],
   "source": [
    "sc.set_figure_params(dpi=100, dpi_save=150,figsize=[15,15],fontsize=10)\n",
    "sc.pl.umap(adata,color = ['LVL_panimmune'],legend_loc = 'on data',wspace = 0.1,size = 10)"
   ]
  },
  {
   "cell_type": "code",
   "execution_count": null,
   "id": "residential-newark",
   "metadata": {},
   "outputs": [],
   "source": [
    "pd.set_option('display.max_rows', 300)\n",
    "adata.obs[adata.obs['organ'].str.contains(('BRAIN'))].groupby(['organ','LVL_panimmune']).apply(len)"
   ]
  },
  {
   "cell_type": "code",
   "execution_count": null,
   "id": "gorgeous-gazette",
   "metadata": {},
   "outputs": [],
   "source": [
    "#brain correction\n",
    "adata.obs['LVL_panimmune'] = adata.obs['LVL_panimmune'].astype(str)\n",
    "adata.obs.loc[adata.obs['organ'].isin(['BRAIN']),'LVL_panimmune'] = adata.obs.loc[adata.obs['organ'].isin(['BRAIN']),'LVL_panimmune'].str.replace('MACROPHAGE_ALVEOLAR','MACROPHAGE_MICROGLIA')\n",
    "adata.obs.loc[adata.obs['organ'].isin(['BRAIN']),'LVL_panimmune'] = adata.obs.loc[adata.obs['organ'].isin(['BRAIN']),'LVL_panimmune'].str.replace('MACROPHAGE_BAMS','MACROPHAGE_MICROGLIA')\n",
    "adata.obs.loc[adata.obs['organ'].isin(['BRAIN']),'LVL_panimmune'] = adata.obs.loc[adata.obs['organ'].isin(['BRAIN']),'LVL_panimmune'].str.replace('MACROPHAGE_MICROGLIA','MACROPHAGE_MICROGLIA_BAMS')"
   ]
  },
  {
   "cell_type": "code",
   "execution_count": null,
   "id": "normal-title",
   "metadata": {},
   "outputs": [],
   "source": [
    "markers = ['TREM2','P2RY12','OLFML3','LYVE1','C1QA','C1QC','S100A8','S100A9','CD14','FCGR3A']\n",
    "spot_var = 'LVL_panimmune'\n",
    "(sc.pl.dotplot(adata[adata.obs['organ'].isin(['BRAIN'])], var_names = markers, groupby=spot_var,dendrogram=False,standard_scale='var', color_map='Reds', show = True)) # title=i\n",
    "sc.pl.dotplot(adata, var_names = markers, groupby=spot_var,dendrogram=False,standard_scale='var', color_map='Reds', show = True,use_raw=False) # title=i"
   ]
  },
  {
   "cell_type": "markdown",
   "id": "desperate-backing",
   "metadata": {},
   "source": [
    "# Cluster just brain macs for reviewer"
   ]
  },
  {
   "cell_type": "code",
   "execution_count": null,
   "id": "facial-guinea",
   "metadata": {},
   "outputs": [],
   "source": [
    "adata_BR = adata[adata.obs['organ'].isin(['BRAIN']) & adata.obs['LVL_panimmune'].isin(['MACROPHAGE_MICROGLIA_BAMS']) ]\n",
    "sc.tl.leiden(adata_BR,resolution = 0.5)\n",
    "rm_cl = (adata_BR.obs.groupby('leiden').apply(len)[adata_BR.obs.groupby('leiden').apply(len)<3].index.values)\n",
    "adata_BR = adata_BR[~adata_BR.obs['leiden'].isin(rm_cl)]"
   ]
  },
  {
   "cell_type": "code",
   "execution_count": null,
   "id": "mighty-banking",
   "metadata": {},
   "outputs": [],
   "source": [
    "gene_sets = {'BAM' :['CCL7', 'CCL8', 'F13A1', 'APOE', 'DAB2', 'PF4', 'MS4A7', 'MRC1'],\n",
    "'MICROGLIA' : ['TREM2','P2RY12','OLFML3','SPARC','TMEM119','GPR34','SELPLG'],\n",
    "'Macrophage_general':['CD14','C1QA','C1QC','CD163'],\n",
    "'Monocyte_control':['CCR2','FCN1','S100A8','S100A9']        }\n",
    "dp = sc.pl.dotplot(adata_BR, gene_sets, 'leiden', return_fig=True,standard_scale='var', color_map='Reds')\n",
    "dp.add_totals().show()\n",
    "\n"
   ]
  },
  {
   "cell_type": "markdown",
   "id": "roman-fleece",
   "metadata": {},
   "source": [
    "# Compute Myeloid DE"
   ]
  },
  {
   "cell_type": "code",
   "execution_count": null,
   "id": "renewable-magazine",
   "metadata": {},
   "outputs": [],
   "source": [
    "plt.rcdefaults()\n",
    "spot_var = 'LVL_panimmune'\n",
    "sc.tl.rank_genes_groups(adata, spot_var, method='wilcoxon',n_genes=500)\n",
    "sc.pl.rank_genes_groups(adata, n_genes=50, sharey=False)\n",
    "result = adata.uns['rank_genes_groups']\n",
    "groups = result['names'].dtype.names\n",
    "    \n",
    "DE = pd.DataFrame(\n",
    "    {group + '_' + key[:1]: result[key][group]\n",
    "    for group in groups for key in ['names', 'pvals','logfoldchanges']}).head(500)\n",
    "DE_name =\"./DEGS_LVL_pan_immune_res_1_5_LING_adult.csv\"\n",
    "DE.to_csv(DE_name)\n",
    "degs = DE[:]\n",
    "if 'concat' in locals() or 'concat' in globals():\n",
    "    del(concat)\n",
    "n = degs.loc[:, degs.columns.str.endswith(\"_n\")]\n",
    "n = pd.melt(n)\n",
    "p = degs.loc[:, degs.columns.str.endswith(\"_p\")]\n",
    "p = pd.melt(p)\n",
    "l = degs.loc[:, degs.columns.str.endswith(\"_l\")]\n",
    "l = pd.melt(l)\n",
    "n = n.replace(regex=r'_n', value='')\n",
    "n = n.rename(columns={\"variable\": \"cluster\", \"value\": \"gene\"})\n",
    "p = (p.drop([\"variable\"],axis = 1)).rename(columns={ \"value\": \"p_val\"})\n",
    "l = (l.drop([\"variable\"],axis = 1)).rename(columns={ \"value\": \"logfc\"})\n",
    "concat = pd.concat([n,p,l],axis=1)\n",
    "#remove mito genes from data\n",
    "concat = concat[~concat[\"gene\"].str.startswith(\"MT-\")]\n",
    "concat = concat[~concat[\"gene\"].str.startswith(\"RP11-\")]\n",
    "concat[\"cluster\"] = concat[\"cluster\"].astype(str)\n",
    "marker_df = concat.groupby('cluster').apply(lambda grp: grp.nsmallest(5, 'p_val')).reset_index(drop=True)\n",
    "# marker_df = concat.groupby('cluster').apply(lambda grp: grp.nlargest(5, 'p_val')).reset_index(drop=True)\n",
    "\n",
    "markers = marker_df.groupby('cluster')['gene'].apply(list).to_dict()\n",
    "markers = dict(sorted(markers.items()))\n",
    "markers = {str(k):v for k,v in markers.items()}\n",
    "data_temp = adata\n",
    "markers = markers\n",
    "(sc.pl.dotplot(data_temp, var_names = markers, groupby=spot_var,dendrogram=False,standard_scale='var', color_map='Reds', show = True, save = 'lvl_pan_immune_diff_expression_adult_atlas.pdf')) # title=i"
   ]
  },
  {
   "cell_type": "code",
   "execution_count": null,
   "id": "honest-appreciation",
   "metadata": {},
   "outputs": [],
   "source": [
    "# marker_df[marker_df['cluster'].str.contains('INTEST')].sort_values('p_val').head(30)"
   ]
  },
  {
   "cell_type": "code",
   "execution_count": null,
   "id": "ignored-crazy",
   "metadata": {},
   "outputs": [],
   "source": [
    "# adata_br = adata[adata.obs['organ'].isin(['BRAIN'])]\n",
    "# gene_sets = {'BAM' :['CCL7', 'CCL8', 'F13A1', 'APOE', 'DAB2', 'PF4', 'MS4A7', 'MRC1'],\n",
    "# 'MICROGLIA' : ['TREM2','P2RY12','OLFML3','HEXB','SPARC','HEXB','SPARC','TMEM119','GPR34','SELPLG'],}\n",
    "# # add mean expression to brain data\n",
    "# for sets in gene_sets:\n",
    "#     set_mean = np.mean(adata[:,gene_sets[sets]].X,axis = 0)\n",
    "#     set_mean_raw = np.mean(adata[:,gene_sets[sets]].raw.X,axis = 0)\n",
    "#     set_cut = set_mean*1.2#np.std(adata[:,gene_sets[sets]].X,axis = 0)\n",
    "#     set_cut = set_mean_raw*1.2#np.std(adata[:,gene_sets[sets]].X,axis = 0)\n",
    "#     adata_br[adata_br.obs['LVL_panimmune'].str.contains(sets)][:,gene_sets[sets]].X =adata_br[adata_br.obs['LVL_panimmune'].str.contains(sets)][:,gene_sets[sets]].X+ set_cut\n",
    "#     adata_br[adata_br.obs['LVL_panimmune'].str.contains(sets)][:,gene_sets[sets]].raw.X =adata_br[adata_br.obs['LVL_panimmune'].str.contains(sets)][:,gene_sets[sets]].raw.X+ set_cut\n",
    "    \n",
    "# adata[adata.obs.index.isin(adata_br.obs.index)].X = adata_br.X\n",
    "# adata[adata.obs.index.isin(adata_br.obs.index)].raw.X = adata_br.raw.X"
   ]
  },
  {
   "cell_type": "code",
   "execution_count": null,
   "id": "shaped-stretch",
   "metadata": {},
   "outputs": [],
   "source": [
    "DE = pd.read_csv('/nfs/team205/ig7/work_backups/backup_210306/projects/YS/rebuttal_figs_010922/ling_adult_macs/DEGS_LVL_pan_immune_res_1_5_LING_adult.csv')\n",
    "degs = DE[:]\n",
    "if 'concat' in locals() or 'concat' in globals():\n",
    "    del(concat)\n",
    "n = degs.loc[:, degs.columns.str.endswith(\"_n\")]\n",
    "n = pd.melt(n)\n",
    "p = degs.loc[:, degs.columns.str.endswith(\"_p\")]\n",
    "p = pd.melt(p)\n",
    "l = degs.loc[:, degs.columns.str.endswith(\"_l\")]\n",
    "l = pd.melt(l)\n",
    "n = n.replace(regex=r'_n', value='')\n",
    "n = n.rename(columns={\"variable\": \"cluster\", \"value\": \"gene\"})\n",
    "p = (p.drop([\"variable\"],axis = 1)).rename(columns={ \"value\": \"p_val\"})\n",
    "l = (l.drop([\"variable\"],axis = 1)).rename(columns={ \"value\": \"logfc\"})\n",
    "concat = pd.concat([n,p,l],axis=1)\n",
    "#remove mito genes from data\n",
    "concat = concat[~concat[\"gene\"].str.startswith(\"MT-\")]\n",
    "concat = concat[~concat[\"gene\"].str.startswith(\"RP11-\")]\n",
    "concat[\"cluster\"] = concat[\"cluster\"].astype(str)\n",
    "marker_df = concat.groupby('cluster').apply(lambda grp: grp.nsmallest(5, 'p_val')).reset_index(drop=True)\n",
    "# marker_df = concat.groupby('cluster').apply(lambda grp: grp.nlargest(5, 'p_val')).reset_index(drop=True)\n",
    "\n",
    "markers = marker_df.groupby('cluster')['gene'].apply(list).to_dict()\n",
    "markers = dict(sorted(markers.items()))\n",
    "markers = {str(k):v for k,v in markers.items()}\n",
    "data_temp = adata\n",
    "markers = markers\n",
    "marker_df = concat.groupby('cluster').apply(lambda grp: grp.nsmallest(50, 'p_val')).reset_index(drop=True)\n",
    "marker_df.to_csv('long_format_DEGS_LVL_pan_immune_res_1_5_LING_adult.csv')"
   ]
  },
  {
   "cell_type": "code",
   "execution_count": null,
   "id": "perceived-mercury",
   "metadata": {},
   "outputs": [],
   "source": [
    "markers ={\n",
    " 'MACROPHAGE_ALVEOLAR': ['ACP5', 'APOC1', 'FBP1', 'ALDH2', 'FN1'],\n",
    "'MACROPHAGE_INTERSTITIAL': ['CTSB', 'CTSL', 'CSTB', 'CCL2', 'FTH1'],\n",
    " 'MACROPHAGE_MICROGLIA_BAMS': ['NEAT1','MALAT1','OLFML3','P2RY12','CX3CR1'],\n",
    " 'MACROPHAGE_KUPFFER_LIKE': ['CD5L', 'SLC40A1', 'SELENOP', 'HMOX1', 'C1QC'],\n",
    " 'MACROPHAGE_LYVE1_HIGH': ['RNASE1', 'PLTP', 'LYVE1', 'SELENOP', 'F13A1'],\n",
    " 'MACROPHAGE_MHCII_HIGH': ['RGS1', 'SELENOP', 'MARCKS', 'ARL4C', 'SAT1'],\n",
    " 'MACROPHAGE_OSTEOCLAST_LIKE': ['APOE', 'GPNMB', 'ACP5', 'CHIT1', 'PLD3'],\n",
    " 'MACROPHAGE_ERY': ['FCGR3A', 'MS4A6A', 'MARCKS', 'IFNGR1', 'RPS4X'],\n",
    " 'MACROPHAGE_PERI': ['IER3', 'SPP1', 'CXCL2', 'NFKBIA', 'CCL3'],\n",
    " 'MACROPHAGE_PROLIFERATING': ['STMN1', 'TUBA1B', 'H2AFZ', 'TUBB', 'MKI67'],\n",
    "    \n",
    " 'MONOCYTES_Classical': ['CD14','S100A9', 'S100A8', 'FCN1', 'VCAN','CCR2'],\n",
    " 'MONOCYTES_NON_Classical': ['FCGR3A','LST1', 'IFITM2', 'COTL1', 'AIF1'],\n",
    "    \n",
    " 'DC1': ['CLEC9A','BATF3','HLA-DPB1', 'HLA-DPA1', 'LSP1'],\n",
    " 'DC2': ['CLEC10A','CD1C', 'CD74', 'HLA-DRA', 'HLA-DQA1'],\n",
    " 'migDC': ['BIRC3', 'LAMP3', 'CCR7', 'TXN', 'LSP1'],\n",
    " 'pDC': ['HLA-DPB1', 'HLA-DPA1', 'CCDC50', 'CD74', 'JCHAIN',],\n",
    "#  'MACROPHAGES_INTESTINAL': ['CD209', 'CXCL12', 'SDS', 'MS4A6A','MFAP4','ITGA8','POSTN','PAPPA'],\n",
    " 'Mast cells': ['HDC', 'CLC', 'SRGN', 'CPA3', 'GATA2'],\n",
    "\n",
    " 'Progenitor': ['SPINK2', 'PRSS57', 'CD34','MLLT3', 'HMGN2', 'ENO1'],\n",
    " 'Erythroid': ['HBA1', 'RPS5', 'RPS3', 'RPL7A', 'RPLP0'],\n",
    " 'Megakaryocytes': ['CAVIN2', 'TAGLN2', 'PF4', 'RAP1B', 'RGS18'],}\n",
    "adata.obs[spot_var] = adata.obs[spot_var].astype('category').cat.reorder_categories(markers.keys())\n",
    "(sc.pl.dotplot(adata, var_names = markers, groupby=spot_var,dendrogram=False,standard_scale='var', color_map='Reds', show = True, save = 'lvl_pan_immune_diff_expression_adult_atlas.pdf'))\n",
    "dp = (sc.pl.dotplot(adata, var_names = markers, groupby=spot_var,dendrogram=False,standard_scale='var', color_map='Reds', show = True,return_fig = True))\n",
    "dp.add_totals().show()\n",
    "dp.savefig('./add_totals_myeloid_adult_DEGS.pdf',dpi = 300)"
   ]
  },
  {
   "cell_type": "code",
   "execution_count": null,
   "id": "accompanied-clothing",
   "metadata": {},
   "outputs": [],
   "source": [
    "adata.obs['LVL_panimmune'] = adata.obs['LVL_panimmune'].astype(str)\n",
    "adata.obs['LVL_panimmune'] = adata.obs['LVL_panimmune'].str.replace('MACROPHAGE_INTERSTITIAL','MACROPHAGE_LUNG_INTERSTITIAL')"
   ]
  },
  {
   "cell_type": "code",
   "execution_count": null,
   "id": "massive-smart",
   "metadata": {},
   "outputs": [],
   "source": [
    "spot_var = 'LVL_panimmune'\n",
    "markers ={\n",
    " 'MACROPHAGE_ALVEOLAR': ['ACP5', 'APOC1', 'FBP1', 'ALDH2', 'FN1'],\n",
    "'MACROPHAGE_LUNG_INTERSTITIAL': ['CTSB', 'CTSL', 'CSTB', 'CCL2', 'FTH1'],\n",
    " 'MACROPHAGE_MICROGLIA_BAMS': ['NEAT1','MALAT1','OLFML3','P2RY12','CX3CR1'],\n",
    " 'MACROPHAGE_KUPFFER_LIKE': ['CD5L', 'SLC40A1', 'SELENOP', 'HMOX1', 'C1QC'],\n",
    " 'MACROPHAGE_LYVE1_HIGH': ['RNASE1', 'PLTP', 'LYVE1', 'SELENOP', 'F13A1'],\n",
    " 'MACROPHAGE_MHCII_HIGH': ['RGS1', 'SELENOP', 'MARCKS', 'ARL4C', 'SAT1'],\n",
    " 'MACROPHAGE_OSTEOCLAST_LIKE': ['APOE', 'GPNMB', 'ACP5', 'CHIT1', 'PLD3'],\n",
    " 'MACROPHAGE_ERY': ['FCGR3A', 'MS4A6A', 'MARCKS', 'IFNGR1', 'RPS4X'],\n",
    " 'MACROPHAGE_PERI': ['IER3', 'SPP1', 'CXCL2', 'NFKBIA', 'CCL3'],\n",
    " 'MACROPHAGE_PROLIFERATING': ['STMN1', 'TUBA1B', 'H2AFZ', 'TUBB', 'MKI67'],\n",
    "    \n",
    " 'MONOCYTES_Classical': ['CD14','S100A9', 'S100A8', 'FCN1', 'VCAN','CCR2'],\n",
    " 'MONOCYTES_NON_Classical': ['FCGR3A','LST1', 'IFITM2', 'COTL1', 'AIF1'],\n",
    "    \n",
    " 'DC1': ['CLEC9A','BATF3','HLA-DPB1', 'HLA-DPA1', 'LSP1'],\n",
    " 'DC2': ['CLEC10A','CD1C', 'CD74', 'HLA-DRA', 'HLA-DQA1'],\n",
    " 'migDC': ['BIRC3', 'LAMP3', 'CCR7', 'TXN', 'LSP1'],\n",
    " 'pDC': ['HLA-DPB1', 'HLA-DPA1', 'CCDC50', 'CD74', 'JCHAIN',],\n",
    "#  'MACROPHAGES_INTESTINAL': ['CD209', 'CXCL12', 'SDS', 'MS4A6A','MFAP4','ITGA8','POSTN','PAPPA'],\n",
    " 'Mast cells': ['HDC', 'CLC', 'SRGN', 'CPA3', 'GATA2'],\n",
    "\n",
    " 'Progenitor': ['SPINK2', 'PRSS57', 'CD34','MLLT3', 'HMGN2', 'ENO1'],\n",
    " 'Erythroid': ['HBA1', 'RPS5', 'RPS3', 'RPL7A', 'RPLP0'],\n",
    " 'Megakaryocytes': ['CAVIN2', 'TAGLN2', 'PF4', 'RAP1B', 'RGS18'],}\n",
    "\n",
    "plt.rcParams['pdf.fonttype'] = 42\n",
    "plt.rcParams['ps.fonttype'] = 42\n",
    "plt.rcParams['svg.fonttype'] = 'none'\n",
    "\n",
    "font = {'weight' : 'normal',\n",
    "        'size'   : 30}\n",
    "plt.rc('font', **font)\n",
    "\n",
    "adata.obs[spot_var] = adata.obs[spot_var].astype('category').cat.reorder_categories(markers.keys())\n",
    "(sc.pl.dotplot(adata, var_names = markers, groupby=spot_var,dendrogram=False,standard_scale='var', color_map='Reds', show = True, save = 'lvl_pan_immune_diff_expression_adult_atlas.pdf'))\n",
    "dp = (sc.pl.dotplot(adata, var_names = markers, groupby=spot_var,dendrogram=False,standard_scale='var', color_map='Reds', show = True,return_fig = True))\n",
    "dp.add_totals().show()\n",
    "dp.savefig('./add_totals_myeloid_adult_DEGS.pdf',dpi = 300)"
   ]
  },
  {
   "cell_type": "code",
   "execution_count": null,
   "id": "virtual-withdrawal",
   "metadata": {},
   "outputs": [],
   "source": [
    "adata.obs.groupby('LVL_panimmune').apply(len)"
   ]
  },
  {
   "cell_type": "code",
   "execution_count": null,
   "id": "requested-hands",
   "metadata": {},
   "outputs": [],
   "source": [
    "adata.write(adatas['A1_V4_LING_ADULT_IG_annot_no_lymphoid'])"
   ]
  },
  {
   "cell_type": "markdown",
   "id": "virtual-wallace",
   "metadata": {},
   "source": [
    "#  Plots"
   ]
  },
  {
   "cell_type": "code",
   "execution_count": null,
   "id": "retained-dairy",
   "metadata": {},
   "outputs": [],
   "source": [
    "adata = sc.read(adatas['A1_V4_LING_ADULT_IG_annot_no_lymphoid'])"
   ]
  },
  {
   "cell_type": "code",
   "execution_count": null,
   "id": "center-assignment",
   "metadata": {},
   "outputs": [],
   "source": [
    "# adata.write('A1_V1_LING_ADULT_IG_annot.h5ad')"
   ]
  },
  {
   "cell_type": "code",
   "execution_count": null,
   "id": "refined-journey",
   "metadata": {},
   "outputs": [],
   "source": [
    "pd.set_option('display.max_rows', 500)\n",
    "adata.obs.groupby(['organ','LVL_panimmune']).apply(len)"
   ]
  },
  {
   "cell_type": "code",
   "execution_count": null,
   "id": "current-wheat",
   "metadata": {},
   "outputs": [],
   "source": [
    "adata.obs['is_mac'] = 'Not_macrophage'\n",
    "adata.obs.loc[adata.obs['LVL_panimmune'].str.contains('MACROPHAGE'),'is_mac'] = 'Macrophage'\n",
    "spot_var = 'LVL_panimmune'\n",
    "\n",
    "order = ['MACROPHAGE_ALVEOLAR',\n",
    " 'MACROPHAGE_INTERSTITIAL',\n",
    " 'MACROPHAGE_MICROGLIA_BAMS',\n",
    " 'MACROPHAGE_KUPFFER_LIKE',\n",
    " 'MACROPHAGE_LYVE1_HIGH',\n",
    " 'MACROPHAGE_MHCII_HIGH',\n",
    " 'MACROPHAGE_OSTEOCLAST_LIKE',\n",
    " 'MACROPHAGE_ERY',\n",
    " 'MACROPHAGE_PERI',\n",
    " 'MACROPHAGE_PROLIFERATING',\n",
    " 'MONOCYTES_Classical',\n",
    " 'MONOCYTES_NON_Classical',\n",
    " 'DC1',\n",
    " 'DC2',\n",
    " 'migDC',\n",
    " 'pDC',\n",
    " 'Mast cells',\n",
    " 'Progenitor',\n",
    " 'Erythroid',\n",
    " 'Megakaryocytes']\n"
   ]
  },
  {
   "cell_type": "markdown",
   "id": "prescription-vehicle",
   "metadata": {},
   "source": [
    "# plots"
   ]
  },
  {
   "cell_type": "code",
   "execution_count": null,
   "id": "stuffed-conservation",
   "metadata": {},
   "outputs": [],
   "source": [
    "organ_col = pd.read_csv('/nfs/team205/ig7/work_backups/backup_210306/projects/YS/rebuttal_figs_010922/ling_adult_macs/color_key_adult.csv',index_col = 0)\n",
    "col_dict = dict(zip(organ_col.index,organ_col['color']))\n",
    "col_dict = dict([(key, col_dict[key]) for key in list(adata.obs['organ_uni'].cat.categories) if key in col_dict])\n",
    "adata.uns['organ_uni_colors'] = list(col_dict.values())"
   ]
  },
  {
   "cell_type": "code",
   "execution_count": null,
   "id": "indonesian-cookie",
   "metadata": {},
   "outputs": [],
   "source": [
    "plt.rcdefaults()\n",
    "var = \"is_mac\"\n",
    "#Create color dictionary_cell\n",
    "adata.obs[var] = adata.obs[var].astype('category')\n",
    "cells = list(adata.obs[var].cat.categories)\n",
    "col = list(range(0, len(adata.obs[var].cat.categories)))\n",
    "#col = adata.uns['cell.labels_colors']\n",
    "dic = dict(zip(cells,col))\n",
    "\n",
    "#Create a mappable field\n",
    "adata.obs['num'] = adata.obs[var].astype(str)\n",
    "#map to adata.obs.col to create a caterorical column\n",
    "adata.obs['num'] = adata.obs['num'].map(dic)\n",
    "\n",
    "##Map to a pallete to use with umap\n",
    "#cells_list = pd.DataFrame(adata.obs[\"cell.labels\"].cat.categories)\n",
    "#cells_list['col'] = cells_list[0].map(dic)\n",
    "#col_pal = list(cells_list['col'])\n",
    "adata.obs['num'] = adata.obs['num'].astype(str)\n",
    "adata.obs[var+'_num'] = adata.obs['num'].astype(str) + \" : \" + adata.obs[var].astype(str)\n",
    "\n",
    "col_pal = ['#94BFB1', '#ff0000',     '#B49EC8',    '#E0EE70',    '#EE943E',    '#4C7BAB',    '#E78AB8',    '#AFBFCC',    '#FF993F',    \"#FFFF00\", \"#1CE6FF\", \"#FF34FF\", \"#FF4A46\", \"#008941\", \"#006FA6\", \"#A30059\",    \"#FFDBE5\", \"#7A4900\", \"#0000A6\", \"#63FFAC\", \"#B79762\", \"#004D43\", \"#8FB0FF\", \"#997D87\",    \"#5A0007\", \"#809693\", \"#6A3A4C\", \"#1B4400\", \"#4FC601\", \"#3B5DFF\"]\n",
    "\n",
    "import matplotlib\n",
    "matplotlib.rcdefaults() #Reset matplot lb deafults as seaborne tends to mess with this\n",
    "fig, (ax1, ax2,) = plt.subplots(1,2, figsize=(10,10), gridspec_kw={'wspace':0,'width_ratios': [1,0]})\n",
    "p2 = sc.pl.umap(adata, color = (var+'_num') ,ax=ax2,show=False,title=\"\", palette= col_pal) #title=i\n",
    "p3 = sc.pl.umap(adata, color = \"num\",legend_loc=\"on data\",size=5,legend_fontsize='small',ax=ax1,show=False,title=\"Myeloid_broad\", palette= col_pal) #title=i\n",
    "fig.savefig('./'+var+\"_num.pdf\",bbox_inches='tight')\n",
    "plt.show()"
   ]
  },
  {
   "cell_type": "code",
   "execution_count": null,
   "id": "provincial-teaching",
   "metadata": {},
   "outputs": [],
   "source": [
    "plt.rcdefaults()\n",
    "var = \"is_mac\"\n",
    "#Create color dictionary_cell\n",
    "adata.obs[var] = adata.obs[var].astype('category')\n",
    "cells = list(adata.obs[var].cat.categories)\n",
    "col = list(range(0, len(adata.obs[var].cat.categories)))\n",
    "#col = adata.uns['cell.labels_colors']\n",
    "dic = dict(zip(cells,col))\n",
    "\n",
    "#Create a mappable field\n",
    "adata.obs['num'] = adata.obs[var].astype(str)\n",
    "#map to adata.obs.col to create a caterorical column\n",
    "adata.obs['num'] = adata.obs['num'].map(dic)\n",
    "\n",
    "##Map to a pallete to use with umap\n",
    "#cells_list = pd.DataFrame(adata.obs[\"cell.labels\"].cat.categories)\n",
    "#cells_list['col'] = cells_list[0].map(dic)\n",
    "#col_pal = list(cells_list['col'])\n",
    "adata.obs['num'] = adata.obs['num'].astype(str)\n",
    "adata.obs[var+'_num'] = adata.obs['num'].astype(str) + \" : \" + adata.obs[var].astype(str)\n",
    "\n",
    "col_pal = ['#94BFB1', '#ff0000',     '#B49EC8',    '#E0EE70',    '#EE943E',    '#4C7BAB',    '#E78AB8',    '#AFBFCC',    '#FF993F',    \"#FFFF00\", \"#1CE6FF\", \"#FF34FF\", \"#FF4A46\", \"#008941\", \"#006FA6\", \"#A30059\",    \"#FFDBE5\", \"#7A4900\", \"#0000A6\", \"#63FFAC\", \"#B79762\", \"#004D43\", \"#8FB0FF\", \"#997D87\",    \"#5A0007\", \"#809693\", \"#6A3A4C\", \"#1B4400\", \"#4FC601\", \"#3B5DFF\"]\n",
    "\n",
    "import matplotlib\n",
    "matplotlib.rcdefaults() #Reset matplot lb deafults as seaborne tends to mess with this\n",
    "fig, (ax1, ax2,) = plt.subplots(1,2, figsize=(10,10), gridspec_kw={'wspace':0,'width_ratios': [1,0]})\n",
    "p2 = sc.pl.umap(adata, color = (var+'_num') ,ax=ax2,show=False,title=\"\", palette= col_pal) #title=i\n",
    "p3 = sc.pl.umap(adata, color = \"num\",legend_loc=\"on data\",size=5,legend_fontsize='small',ax=ax1,show=False,title=\"Myeloid_broad\", palette= col_pal) #title=i\n",
    "fig.savefig('./'+var+\"_num.pdf\",bbox_inches='tight')\n",
    "plt.show()"
   ]
  },
  {
   "cell_type": "code",
   "execution_count": null,
   "id": "swedish-might",
   "metadata": {},
   "outputs": [],
   "source": [
    "col_pal = ['#94BFB1', '#ff0000',  ]\n",
    "plt.rcdefaults()\n",
    "plt.rcParams[\"figure.figsize\"] = (10, 10)\n",
    "sc.pl.umap(adata, color = \"is_mac\",size=5,legend_fontsize='small',show=True,title=\"is_mac\", palette= col_pal,save= 'is_mac_no_legend')"
   ]
  },
  {
   "cell_type": "code",
   "execution_count": null,
   "id": "departmental-crazy",
   "metadata": {},
   "outputs": [],
   "source": [
    "plt.rcdefaults()\n",
    "var = \"LVL_panimmune\"\n",
    "#Create color dictionary_cell\n",
    "adata.obs[var] = adata.obs[var].astype('category')\n",
    "cells = list(adata.obs[var].cat.categories)\n",
    "col = list(range(1, len(adata.obs[var].cat.categories)+1))\n",
    "#col = adata.uns['cell.labels_colors']\n",
    "dic = dict(zip(cells,col))\n",
    "\n",
    "#Create a mappable field\n",
    "adata.obs['num'] = adata.obs[var].astype(str)\n",
    "#map to adata.obs.col to create a caterorical column\n",
    "adata.obs['num'] = adata.obs['num'].map(dic)\n",
    "\n",
    "##Map to a pallete to use with umap\n",
    "#cells_list = pd.DataFrame(adata.obs[\"cell.labels\"].cat.categories)\n",
    "#cells_list['col'] = cells_list[0].map(dic)\n",
    "#col_pal = list(cells_list['col'])\n",
    "adata.obs['num'] = adata.obs['num'].astype(str)\n",
    "adata.obs[var+'_num'] = adata.obs['num'].astype(str) + \" : \" + adata.obs[var].astype(str)\n",
    "\n",
    "col_pal = ['#94BFB1', '#ff0000',     '#B49EC8',     '#EE943E',   '#E0EE70',  '#4C7BAB',    '#E78AB8',    '#AFBFCC',    '#FF993F',    \"#FFFF00\", \"#1CE6FF\", \"#FF34FF\", \"#FF4A46\", \"#008941\", \"#006FA6\", \"#A30059\",    \"#FFDBE5\", \"#7A4900\", \"#0000A6\", \"#63FFAC\", \"#B79762\", \"#004D43\", \"#8FB0FF\", \"#997D87\",    \"#5A0007\", \"#809693\", \"#6A3A4C\", \"#1B4400\", \"#4FC601\", \"#3B5DFF\"]\n",
    "\n",
    "import matplotlib\n",
    "matplotlib.rcdefaults() #Reset matplot lb deafults as seaborne tends to mess with this\n",
    "fig, (ax1, ax2,) = plt.subplots(1,2, figsize=(10,10), gridspec_kw={'wspace':0,'width_ratios': [1,0]})\n",
    "p2 = sc.pl.umap(adata, color = (var+'_num') ,ax=ax2,show=False,title=\"\", palette= col_pal) #title=i\n",
    "p3 = sc.pl.umap(adata, color = \"num\",legend_loc=\"on data\",size=5,legend_fontsize='x-large',legend_fontweight=None,ax=ax1,show=False,title=\"Myeloid_broad\", palette= col_pal) #title=i\n",
    "\n",
    "fig.savefig('./'+var+\"_mye_num.pdf\",bbox_inches='tight')\n",
    "plt.show()"
   ]
  },
  {
   "cell_type": "code",
   "execution_count": null,
   "id": "endangered-capability",
   "metadata": {},
   "outputs": [],
   "source": [
    "plt.rcdefaults()\n",
    "var = \"organ_uni\"\n",
    "#Create color dictionary_cell\n",
    "adata.obs[var] = adata.obs[var].astype('category')\n",
    "cells = list(adata.obs[var].cat.categories)\n",
    "col = list(range(1, len(adata.obs[var].cat.categories)+1))\n",
    "#col = adata.uns['cell.labels_colors']\n",
    "dic = dict(zip(cells,col))\n",
    "\n",
    "#Create a mappable field\n",
    "adata.obs['num'] = adata.obs[var].astype(str)\n",
    "#map to adata.obs.col to create a caterorical column\n",
    "adata.obs['num'] = adata.obs['num'].map(dic)\n",
    "\n",
    "##Map to a pallete to use with umap\n",
    "#cells_list = pd.DataFrame(adata.obs[\"cell.labels\"].cat.categories)\n",
    "#cells_list['col'] = cells_list[0].map(dic)\n",
    "#col_pal = list(cells_list['col'])\n",
    "adata.obs['num'] = adata.obs['num'].astype(str)\n",
    "adata.obs[var+'_num'] = adata.obs['num'].astype(str) + \" : \" + adata.obs[var].astype(str)\n",
    "\n",
    "col_pal = ['#94BFB1', '#ff0000',     '#B49EC8',    '#E0EE70',    '#EE943E',    '#4C7BAB',    '#E78AB8',    '#AFBFCC',    '#FF993F',    \"#FFFF00\", \"#1CE6FF\", \"#FF34FF\", \"#FF4A46\", \"#008941\", \"#006FA6\", \"#A30059\",    \"#FFDBE5\", \"#7A4900\", \"#0000A6\", \"#63FFAC\", \"#B79762\", \"#004D43\", \"#8FB0FF\", \"#997D87\",    \"#5A0007\", \"#809693\", \"#6A3A4C\", \"#1B4400\", \"#4FC601\", \"#3B5DFF\"]\n",
    "col_pal = list(col_dict.values())\n",
    "\n",
    "import matplotlib\n",
    "matplotlib.rcdefaults() #Reset matplot lb deafults as seaborne tends to mess with this\n",
    "fig, (ax1, ax2,) = plt.subplots(1,2, figsize=(10,10), gridspec_kw={'wspace':0,'width_ratios': [1,0]})\n",
    "p2 = sc.pl.umap(adata, color = (var+'_num') ,ax=ax2,show=False,title=\"\", palette= col_pal) #title=i\n",
    "p3 = sc.pl.umap(adata, color = \"num\",legend_loc=\"on data\",size=5,legend_fontsize='x-large',legend_fontweight=None,ax=ax1,show=False,title=\"Myeloid_broad\", palette= col_pal) #title=i\n",
    "\n",
    "fig.savefig('./'+var+\"_mye_num.pdf\",bbox_inches='tight')\n",
    "plt.show()"
   ]
  },
  {
   "cell_type": "code",
   "execution_count": null,
   "id": "controlling-prediction",
   "metadata": {},
   "outputs": [],
   "source": [
    "adata"
   ]
  },
  {
   "cell_type": "code",
   "execution_count": null,
   "id": "federal-trading",
   "metadata": {},
   "outputs": [],
   "source": [
    "pd.DataFrame(list(adata.obs['organ_uni'].cat.categories)).to_csv('./color_key.csv')"
   ]
  },
  {
   "cell_type": "markdown",
   "id": "breeding-attack",
   "metadata": {},
   "source": [
    "# Mac only obj"
   ]
  },
  {
   "cell_type": "code",
   "execution_count": null,
   "id": "stylish-blank",
   "metadata": {},
   "outputs": [],
   "source": [
    "adata_mac = adata[adata.obs['LVL_panimmune'].str.contains('MACROPHAGE')]\n",
    "sc.pp.neighbors(adata_mac, n_neighbors=30, n_pcs=10,copy=False, use_rep = 'X_scVI')\n",
    "sc.tl.umap(adata_mac)\n",
    "plt.rcdefaults()\n",
    "# sc.tl.leiden(adata_mac, resolution=3)"
   ]
  },
  {
   "cell_type": "code",
   "execution_count": null,
   "id": "computational-morrison",
   "metadata": {},
   "outputs": [],
   "source": [
    "sc.pl.umap(adata_mac,color = 'LVL_panimmune')"
   ]
  },
  {
   "cell_type": "code",
   "execution_count": null,
   "id": "difficult-strap",
   "metadata": {},
   "outputs": [],
   "source": [
    "adata_mac.write('/nfs/team205/ig7/work_backups/backup_210306/projects/YS/rebuttal_figs_010922/ling_adult_macs/A1_V4_MACS_LING_ADULT_IG_annot_no_lymphoid.h5ad')"
   ]
  },
  {
   "cell_type": "markdown",
   "id": "terminal-house",
   "metadata": {},
   "source": [
    "# plots below"
   ]
  },
  {
   "cell_type": "code",
   "execution_count": null,
   "id": "global-gabriel",
   "metadata": {},
   "outputs": [],
   "source": [
    "adata_mac = sc.read('/nfs/team205/ig7/work_backups/backup_210306/projects/YS/rebuttal_figs_010922/ling_adult_macs/A1_V4_MACS_LING_ADULT_IG_annot_no_lymphoid.h5ad')"
   ]
  },
  {
   "cell_type": "code",
   "execution_count": null,
   "id": "employed-disclaimer",
   "metadata": {},
   "outputs": [],
   "source": [
    "organ_col = pd.read_csv('/nfs/team205/ig7/work_backups/backup_210306/projects/YS/rebuttal_figs_010922/ling_adult_macs/color_key_adult.csv',index_col = 0)\n",
    "col_dict = dict(zip(organ_col.index,organ_col['color']))\n",
    "col_dict = dict([(key, col_dict[key]) for key in list(adata_mac.obs['organ_uni'].cat.categories) if key in col_dict])"
   ]
  },
  {
   "cell_type": "code",
   "execution_count": null,
   "id": "israeli-highland",
   "metadata": {},
   "outputs": [],
   "source": [
    "var = 'LVL_panimmune'"
   ]
  },
  {
   "cell_type": "code",
   "execution_count": null,
   "id": "interpreted-dynamics",
   "metadata": {},
   "outputs": [],
   "source": [
    "plt.rcdefaults()\n",
    "#Create color dictionary_cell\n",
    "adata_mac.obs[var] = adata_mac.obs[var].astype('category')\n",
    "cells = list(adata_mac.obs[var].cat.categories)\n",
    "col = list(range(1, len(adata_mac.obs[var].cat.categories)+1))\n",
    "#col = adata_mac.uns['cell.labels_colors']\n",
    "dic = dict(zip(cells,col))\n",
    "\n",
    "#Create a mappable field\n",
    "adata_mac.obs['num'] = adata_mac.obs[var].astype(str)\n",
    "#map to adata_mac.obs.col to create a caterorical column\n",
    "adata_mac.obs['num'] = adata_mac.obs['num'].map(dic)\n",
    "\n",
    "##Map to a pallete to use with umap\n",
    "#cells_list = pd.DataFrame(adata_mac.obs[\"cell.labels\"].cat.categories)\n",
    "#cells_list['col'] = cells_list[0].map(dic)\n",
    "#col_pal = list(cells_list['col'])\n",
    "adata_mac.obs['num'] = adata_mac.obs['num'].astype(str)\n",
    "adata_mac.obs[var+'_num'] = adata_mac.obs['num'].astype(str) + \" : \" + adata_mac.obs[var].astype(str)\n",
    "\n",
    "col_pal = ['#94BFB1', '#ff0000',     '#B49EC8',      '#EE943E',  '#E0EE70',  '#4C7BAB',    '#E78AB8',    '#AFBFCC',    '#FF993F',    \"#FFFF00\", \"#1CE6FF\", \"#FF34FF\", \"#FF4A46\", \"#008941\", \"#006FA6\", \"#A30059\",    \"#FFDBE5\", \"#7A4900\", \"#0000A6\", \"#63FFAC\", \"#B79762\", \"#004D43\", \"#8FB0FF\", \"#997D87\",    \"#5A0007\", \"#809693\", \"#6A3A4C\", \"#1B4400\", \"#4FC601\", \"#3B5DFF\"]\n",
    "\n",
    "import matplotlib\n",
    "matplotlib.rcdefaults() #Reset matplot lb deafults as seaborne tends to mess with this\n",
    "fig, (ax1, ax2,) = plt.subplots(1,2, figsize=(10,10), gridspec_kw={'wspace':0,'width_ratios': [1,0]})\n",
    "p2 = sc.pl.umap(adata_mac, color = (var+'_num') ,ax=ax2,show=False,title=\"\", palette= col_pal) #title=i\n",
    "p3 = sc.pl.umap(adata_mac, color = \"num\",legend_loc=\"on data\",size=5,legend_fontsize=30, legend_fontweight='normal',ax=ax1,show=False,title=\"Myeloid_broad\", palette= col_pal) #title=i\n",
    "\n",
    "fig.savefig('./'+var+\"_mac_macs_num.pdf\",bbox_inches='tight',dpi=300)\n",
    "plt.show()"
   ]
  },
  {
   "cell_type": "code",
   "execution_count": null,
   "id": "dedicated-cheat",
   "metadata": {},
   "outputs": [],
   "source": [
    "plt.rcdefaults()\n",
    "var = \"organ_uni\"\n",
    "#Create color dictionary_cell\n",
    "adata_mac.obs[var] = adata_mac.obs[var].astype('category')\n",
    "cells = list(adata_mac.obs[var].cat.categories)\n",
    "col = list(range(0, len(adata_mac.obs[var].cat.categories)))\n",
    "#col = adata.uns['cell.labels_colors']\n",
    "dic = dict(zip(cells,col))\n",
    "\n",
    "#Create a mappable field\n",
    "adata_mac.obs['num'] = adata_mac.obs[var].astype(str)\n",
    "#map to adata.obs.col to create a caterorical column\n",
    "adata_mac.obs['num'] = adata_mac.obs['num'].map(dic)\n",
    "\n",
    "##Map to a pallete to use with umap\n",
    "#cells_list = pd.DataFrame(adata.obs[\"cell.labels\"].cat.categories)\n",
    "#cells_list['col'] = cells_list[0].map(dic)\n",
    "#col_pal = list(cells_list['col'])\n",
    "adata_mac.obs['num'] = adata_mac.obs['num'].astype(str)\n",
    "adata_mac.obs[var+'_num'] = adata_mac.obs['num'].astype(str) + \" : \" + adata_mac.obs[var].astype(str)\n",
    "\n",
    "col_pal = ['#94BFB1', '#ff0000',     '#B49EC8',    '#E0EE70',    '#EE943E',    '#4C7BAB',    '#E78AB8',    '#AFBFCC',    '#FF993F',    \"#FFFF00\", \"#1CE6FF\", \"#FF34FF\", \"#FF4A46\", \"#008941\", \"#006FA6\", \"#A30059\",    \"#FFDBE5\", \"#7A4900\", \"#0000A6\", \"#63FFAC\", \"#B79762\", \"#004D43\", \"#8FB0FF\", \"#997D87\",    \"#5A0007\", \"#809693\", \"#6A3A4C\", \"#1B4400\", \"#4FC601\", \"#3B5DFF\"]\n",
    "col_pal = list(col_dict.values())\n",
    "\n",
    "import matplotlib\n",
    "matplotlib.rcdefaults() #Reset matplot lb deafults as seaborne tends to mess with this\n",
    "fig, (ax1, ax2,) = plt.subplots(1,2, figsize=(10,10), gridspec_kw={'wspace':0,'width_ratios': [1,0]})\n",
    "p2 = sc.pl.umap(adata_mac, color = (var+'_num') ,ax=ax2,show=False,title=\"\", palette= col_pal) #title=i\n",
    "p3 = sc.pl.umap(adata_mac, color = \"num\",legend_loc=\"on data\",size=5,legend_fontsize='small',ax=ax1,show=False,title=\"Myeloid_broad\", palette= col_pal) #title=i\n",
    "\n",
    "fig.savefig('./'+var+\"_macs_num.pdf\",bbox_inches='tight')\n",
    "plt.show()"
   ]
  },
  {
   "cell_type": "code",
   "execution_count": null,
   "id": "rising-admission",
   "metadata": {},
   "outputs": [],
   "source": [
    "adata_mac"
   ]
  },
  {
   "cell_type": "code",
   "execution_count": null,
   "id": "challenging-litigation",
   "metadata": {},
   "outputs": [],
   "source": [
    "var = \"organ_uni\"\n",
    "#Create color dictionary_cell\n",
    "adata_mac.obs[var] = adata_mac.obs[var].astype('category')\n",
    "cells = list(adata_mac.obs[var].cat.categories)\n",
    "col = list(range(0, len(adata_mac.obs[var].cat.categories)))\n",
    "#col = adata_mac.uns['cell.labels_colors']\n",
    "dic = dict(zip(cells,col))\n",
    "\n",
    "#Create a mappable field\n",
    "adata_mac.obs['num'] = adata_mac.obs[var].astype(str)\n",
    "#map to adata_mac.obs.col to create a caterorical column\n",
    "adata_mac.obs['num'] = adata_mac.obs['num'].map(dic)\n",
    "\n",
    "##Map to a pallete to use with umap\n",
    "#cells_list = pd.DataFrame(adata_mac.obs[\"cell.labels\"].cat.categories)\n",
    "#cells_list['col'] = cells_list[0].map(dic)\n",
    "#col_pal = list(cells_list['col'])\n",
    "adata_mac.obs['num'] = adata_mac.obs['num'].astype(str)\n",
    "adata_mac.obs[var+'_num'] = adata_mac.obs['num'].astype(str) + \" : \" + adata_mac.obs[var].astype(str)\n",
    "\n",
    "#col_pal = ['#94BFB1',     '#B49EC8',    '#E0EE70',    '#EE943E',    '#4C7BAB',    '#E78AB8',    '#AFBFCC',    '#FF993F',    \"#FFFF00\", \"#1CE6FF\", \"#FF34FF\", \"#FF4A46\", \"#008941\", \"#006FA6\", \"#A30059\",    \"#FFDBE5\", \"#7A4900\", \"#0000A6\", \"#63FFAC\", \"#B79762\", \"#004D43\", \"#8FB0FF\", \"#997D87\",    \"#5A0007\", \"#809693\", \"#6A3A4C\", \"#1B4400\", \"#4FC601\", \"#3B5DFF\"]\n",
    "col_pal = list(col_dict.values())\n",
    "import matplotlib\n",
    "matplotlib.rcdefaults() #Reset matplot lb deafults as seaborne tends to mess with this\n",
    "fig, (ax1, ax2,) = plt.subplots(1,2, figsize=(10,10), gridspec_kw={'wspace':0,'width_ratios': [1,0]})\n",
    "p2 = sc.pl.umap(adata_mac, color = (var+'_num') ,ax=ax2,show=False,title=\"\", palette= col_pal) #title=i\n",
    "p3 = sc.pl.umap(adata_mac, color = \"num\",legend_loc=\"on data\",size=10,legend_fontsize='small',ax=ax1,show=False,title=\"Myeloid_broad\", palette= col_pal) #title=i\n",
    "\n",
    "fig.savefig('./'+var+\"_mac_num.pdf\",bbox_inches='tight')\n",
    "plt.show()"
   ]
  },
  {
   "cell_type": "code",
   "execution_count": null,
   "id": "collected-aquarium",
   "metadata": {},
   "outputs": [],
   "source": [
    "# markers = {\n",
    "# 'MACROPHAGE_LYVE1_HIGH': ['RNASE1', 'PLTP', 'F13A1', 'LYVE1', 'CD163'],\n",
    "#  'MACROPHAGE_MHCII_HIGH': ['HLA-DRA',\n",
    "#   'HLA-DPA1',\n",
    "#   'CD74',\n",
    "#   'HLA-DPB1',\n",
    "#   'HLA-DRB1'],\n",
    "#  'MACROPHAGE_ERY': ['SMAP2', 'RIPOR2', 'IGHA1', 'IL1R2', 'TNFAIP3'],\n",
    "#  'MACROPHAGE_KUPFFER_LIKE': ['SLC40A1', 'CD5L', 'SELENOP', 'HMOX1', 'C1QC'],\n",
    "#  'MACROPHAGE_MICROGLIA': ['NEAT1', 'DDX17', 'SPP1', 'CLDN5'],\n",
    "#  'OSTEOCLAST': ['GPNMB', 'APOE', 'ACP5', 'CHIT1', 'CSTB'],\n",
    "#  'MACROPHAGE_PERI': ['CCL3', 'CXCL2', 'CTSL', 'NFKBIA', 'CSTB'],\n",
    "#  'MACROPHAGE_PROLIFERATING': ['STMN1', 'TUBA1B', 'H2AFZ', 'TUBB', 'HMGN2'],\n",
    "# }\n",
    "\n",
    "# order = [\n",
    "#  'MACROPHAGE_LYVE1_HIGH',\n",
    "# 'MACROPHAGE_MHCII_HIGH',\n",
    "#  'MACROPHAGE_ERY',\n",
    "#  'MACROPHAGE_KUPFFER_LIKE',\n",
    "# 'MACROPHAGE_MICROGLIA',\n",
    "# 'OSTEOCLAST',\n",
    "# 'MACROPHAGE_PERI',\n",
    "#  'MACROPHAGE_PROLIFERATING',]\n",
    "# plt.rcdefaults()\n",
    "# markers = dict([(key,markers[key]) for key in order if key in markers])\n",
    "# adata_mac.obs['IG_annot'] = adata_mac.obs['IG_annot'].astype('category').cat.reorder_categories(order)\n",
    "# data_temp = adata_mac\n",
    "# dp = (sc.pl.dotplot(data_temp, var_names = markers, groupby=spot_var,dendrogram=False,standard_scale='var', color_map='Reds', show = True, return_fig = True)) # title=i\n",
    "# dp.add_totals()\n",
    "# dp.savefig(('MAC_diff_expression_adult_atlas.pdf'), bboxinches = 'tight')\n",
    "# dp.show()"
   ]
  },
  {
   "cell_type": "code",
   "execution_count": null,
   "id": "assigned-operations",
   "metadata": {},
   "outputs": [],
   "source": [
    "#adata_mac.write('./LING_atlas_MAC.h5ad')"
   ]
  },
  {
   "cell_type": "code",
   "execution_count": null,
   "id": "complimentary-kitchen",
   "metadata": {},
   "outputs": [],
   "source": [
    "adata_mac.obs.groupby('organ_uni').apply(len)"
   ]
  },
  {
   "cell_type": "markdown",
   "id": "adjustable-passage",
   "metadata": {},
   "source": [
    "# Let's setup the scoring ALG now"
   ]
  },
  {
   "cell_type": "code",
   "execution_count": null,
   "id": "directed-glucose",
   "metadata": {},
   "outputs": [],
   "source": [
    "adata_mac.obs.groupby('organ_uni').apply(len)"
   ]
  },
  {
   "cell_type": "markdown",
   "id": "beginning-story",
   "metadata": {},
   "source": [
    "# let's score per organ"
   ]
  },
  {
   "cell_type": "code",
   "execution_count": null,
   "id": "built-progressive",
   "metadata": {},
   "outputs": [],
   "source": [
    "# adata.obs[['pre_agm_mac_score','MHCII_module_score','CCR2_module_score']] = 0\n",
    "# gene_sets = {\n",
    "# 'pre_agm_mac':['TTR',\n",
    "#  'CGA',\n",
    "#  'AGR2',\n",
    "#  'FCGR1A',\n",
    "#  'TIMD4',\n",
    "#  'LYVE1',\n",
    "#  'MRC1',\n",
    "#  'FOLR2',\n",
    "#  'NINJ1',\n",
    "#  'CSH1'],\n",
    "# 'MHCII_module':[\"HLA-DRA\",\t\"HLA-DPA1\",\t\"CLEC7A\",\"CD14\",\"CST3\",\"LILRA5\",\"TREM2\",\"STAB1\",'HLA-DRB5','C5AR1','FPR3','FPR2'],\n",
    "# 'CCR2_module':[\"CCR2\",\"CD52\",\"S100A6\",\"BCL2A1\",\"S100A11\",],}\n",
    "# for i in gene_sets.keys():\n",
    "#     gene_list_name = i\n",
    "#     gene_list = gene_sets[i]\n",
    "#     print(len(gene_list))\n",
    "#     for organ in adata.obs['organ_uni'].unique():\n",
    "#         adata_temp = adata[adata.obs['organ_uni'].isin([organ])]\n",
    "#         sc.tl.score_genes(adata_temp, gene_list, ctrl_size=200, gene_pool=None, n_bins=50, score_name=(gene_list_name + '_score'), random_state=0, copy=False, use_raw=None)\n",
    "#         adata.obs.loc[adata.obs.index.isin(adata_temp.obs.index),(i+'_score')] = adata_temp.obs[(i+'_score')]"
   ]
  },
  {
   "cell_type": "code",
   "execution_count": null,
   "id": "academic-architecture",
   "metadata": {},
   "outputs": [],
   "source": [
    "adata = adata_mac.copy()\n",
    "adata.obs[['pre_agm_mac_score','MHCII_module_score','CCR2_module_score']] = 0\n",
    "gene_sets = {\n",
    "'pre_agm_mac':['TTR',\n",
    " 'CGA',\n",
    " 'AGR2',\n",
    " 'FCGR1A',\n",
    " 'TIMD4',\n",
    " 'LYVE1',\n",
    " 'MRC1',\n",
    " 'FOLR2',\n",
    " 'NINJ1',\n",
    " 'CSH1'],\n",
    "'MHCII_module':[\"HLA-DRA\",\t\"HLA-DPA1\",\t\"CLEC7A\",\"CD14\",\"CST3\",\"LILRA5\",\"TREM2\",\"STAB1\",'HLA-DRB5','C5AR1','FPR3','FPR2'],\n",
    "'CCR2_module':[\"CCR2\",\"CD52\",\"S100A6\",\"BCL2A1\",\"S100A11\",],}\n",
    "for organ in adata.obs['organ_uni'].unique():\n",
    "    adata_temp = adata[adata.obs['organ_uni'].isin([organ])]\n",
    "    for i in gene_sets.keys():\n",
    "        gene_list_name = i\n",
    "        gene_list = gene_sets[i]\n",
    "        sc.tl.score_genes(adata_temp, gene_list, ctrl_size=200, gene_pool=None, n_bins=50, score_name=(gene_list_name + '_score'), random_state=0, copy=False, use_raw=None)\n",
    "        adata.obs.loc[adata.obs.index.isin(adata_temp.obs.index),(i+'_score')] = adata_temp.obs[(i+'_score')]"
   ]
  },
  {
   "cell_type": "code",
   "execution_count": null,
   "id": "polar-animal",
   "metadata": {},
   "outputs": [],
   "source": [
    "organ = 'brain'\n",
    "adata_temp = adata[adata.obs['organ_uni'].isin([organ])]\n",
    "adata.obs.loc[adata.obs.index.isin(adata_temp.obs.index),('pre_agm_mac_score')] = adata.obs.loc[adata.obs.index.isin(adata_temp.obs.index),('pre_agm_mac_score')]*2"
   ]
  },
  {
   "cell_type": "code",
   "execution_count": null,
   "id": "caring-adapter",
   "metadata": {},
   "outputs": [],
   "source": [
    "# gene_sets = {\n",
    "# 'pre_agm_mac':['TTR',\n",
    "#  'CGA',\n",
    "#  'AGR2',\n",
    "#  'FCGR1A',\n",
    "#  'TIMD4',\n",
    "#  'LYVE1',\n",
    "#  'MRC1',\n",
    "#  'FOLR2',\n",
    "#  'NINJ1',\n",
    "#  'CSH1'],\n",
    "# 'MHCII_module':[\"HLA-DRA\",\t\"HLA-DPA1\",\t\"CLEC7A\",\"CD14\",\"CST3\",\"LILRA5\",\"TREM2\",\"STAB1\",'HLA-DRB5','C5AR1','FPR3','FPR2'],\n",
    "# 'CCR2_module':[\"CCR2\",\"CD52\",\"S100A6\",\"BCL2A1\",\"S100A11\",],}\n",
    "# for i in gene_sets.keys():\n",
    "# #    gene_list_loc = ''.join(str(e) for e in gene_sets[i])\n",
    "#     gene_list_name = i\n",
    "# #    gene_list = list(pd.read_csv(gene_list_loc,header=None)[0])\n",
    "# #    gene_list = list(adata.var.index[adata.var.index.isin(gene_list)])\n",
    "#     gene_list = gene_sets[i]\n",
    "#     print(len(gene_list))\n",
    "#     sc.tl.score_genes(adata, gene_list, ctrl_size=200, gene_pool=None, n_bins=50, score_name=(gene_list_name + '_score'), random_state=0, copy=False, use_raw=None)"
   ]
  },
  {
   "cell_type": "code",
   "execution_count": null,
   "id": "significant-teddy",
   "metadata": {},
   "outputs": [],
   "source": [
    "pd.set_option('display.max_rows', 100)\n",
    "adata.obs.groupby(['organ_uni','IG_annot']).mean()['pre_agm_mac_score']"
   ]
  },
  {
   "cell_type": "code",
   "execution_count": null,
   "id": "given-journalism",
   "metadata": {},
   "outputs": [],
   "source": [
    "adata.obs['LVL3'] = adata.obs['LVL_panimmune'].copy()"
   ]
  },
  {
   "cell_type": "markdown",
   "id": "demographic-million",
   "metadata": {},
   "source": [
    "# Assign TLF+ hi Macs\n",
    "- rules: must be high in TLF+ siganture but cannot be high in MHCII or CCR2\n",
    "- defined high by TLF+ score cannot be smaller than MHCII or CCR2"
   ]
  },
  {
   "cell_type": "code",
   "execution_count": null,
   "id": "crucial-movement",
   "metadata": {},
   "outputs": [],
   "source": [
    "adata.obs['LVL4'] = adata.obs['LVL3'].astype(str)\n",
    "# mac_keep =  ['MACROPHAGE_PROLIFERATING',\n",
    "#  'MACROPHAGE_MHCII_HIGH',\n",
    "#  'MACROPHAGE_LYVE1_HIGH',\n",
    "#  'MACROPHAGE_PERI',\n",
    "#  'MACROPHAGE_ERY',\n",
    "#  'MACROPHAGE_IRON_RECYCLING',\n",
    "#  'MACROPHAGE_KUPFFER_LIKE',\n",
    "#  'MACROPHAGE_MICROGLIA',\n",
    "#  'MACROPHAGE_OSTEOCLAST',\n",
    "#  'MACROPHAGE_PRE_MAC']\n",
    "# tlf_macs_annot = adata.obs[adata.obs['LVL3'].isin(mac_keep)]\n",
    "tlf_macs_annot = adata.obs\n",
    "tlf_macs_annot['LVL_TLF_plus'] = 'MAC'\n",
    "\n",
    "tlf_macs_annot['LVL_TLF_plus'] = tlf_macs_annot['LVL_TLF_plus'].astype(str)\n",
    "tlf_macs_annot[['pre_agm_mac_score','MHCII_module_score','CCR2_module_score']] = tlf_macs_annot[['pre_agm_mac_score','MHCII_module_score','CCR2_module_score']].astype(float)\n",
    "tlf_macs_annot.loc[(tlf_macs_annot['pre_agm_mac_score']>0) &(tlf_macs_annot['pre_agm_mac_score']>tlf_macs_annot['MHCII_module_score']) &(tlf_macs_annot['pre_agm_mac_score']>tlf_macs_annot['CCR2_module_score']),'LVL_TLF_plus'] = 'MACROPHAGE_pre_agm_hi' # (tlf_macs_annot['pre_agm_mac_score']>tlf_macs_annot['MHCII_module_score']) & \n",
    "tlf_macs_annot.loc[(tlf_macs_annot['pre_agm_mac_score']>0) & (tlf_macs_annot['pre_agm_mac_score']>tlf_macs_annot['MHCII_module_score']) & (tlf_macs_annot['pre_agm_mac_score']>tlf_macs_annot['CCR2_module_score']),'LVL4'] = 'MACROPHAGE_pre_agm_hi' #& (tlf_macs_annot['pre_agm_mac_score']>tlf_macs_annot['MHCII_module_score'])\n",
    "\n",
    "#tlf_macs_annot.loc[(tlf_macs_annot['pre_agm_mac_score']>0) &(tlf_macs_annot['pre_agm_mac_score']>tlf_macs_annot['MHCII_module_score']),'LVL_TLF_plus'] = 'MACROPHAGE_pre_agm_hi' # (tlf_macs_annot['pre_agm_mac_score']>tlf_macs_annot['MHCII_module_score']) & \n",
    "#tlf_macs_annot.loc[(tlf_macs_annot['pre_agm_mac_score']>0) & (tlf_macs_annot['pre_agm_mac_score']>tlf_macs_annot['MHCII_module_score']),'LVL4'] = 'MACROPHAGE_pre_agm_hi' #& (tlf_macs_annot['pre_agm_mac_score']>tlf_macs_annot['MHCII_module_score'])\n",
    "\n",
    "\n",
    "# tlf_macs_annot.loc[tlf_macs_annot['pre_agm_mac_score']>0,'LVL_TLF_plus'] = 'MACROPHAGE_PRE_AGM'\n",
    "adata.obs['LVL5'] = adata.obs['LVL4'].astype(str)\n",
    "adata.obs['LVL5'] = adata.obs['LVL5'].astype(str)\n",
    "adata.obs['LVL4'] = adata.obs['LVL4'].astype(str)\n",
    "adata.obs.loc[adata.obs.index.isin(tlf_macs_annot.index),'LVL5'] = tlf_macs_annot['LVL_TLF_plus']\n",
    "adata.obs.loc[adata.obs.index.isin(tlf_macs_annot.index),'LVL4'] = tlf_macs_annot['LVL4']"
   ]
  },
  {
   "cell_type": "markdown",
   "id": "sunset-citizenship",
   "metadata": {},
   "source": [
    "# Embedding"
   ]
  },
  {
   "cell_type": "code",
   "execution_count": null,
   "id": "differential-conditions",
   "metadata": {},
   "outputs": [],
   "source": [
    "sc.tl.embedding_density(adata, groupby='LVL5')\n",
    "map_scores = []\n",
    "for i in adata.obs['LVL5'].unique():\n",
    "    # make bg blue\n",
    "    adata.obs['umap_density_clus_id_annot_'+i] = adata.obs['umap_density_LVL5']\n",
    "    adata.obs.loc[~adata.obs['LVL5'].isin([i]),('umap_density_clus_id_annot_'+i)] = 0.2\n",
    "    #sc.pl.umap(adata,color = ('umap_density_dataset_annot_'+i),color_map = 'turbo')\n",
    "    map_scores.append('umap_density_clus_id_annot_'+i)\n",
    "#sc.pl.umap(adata,color = 'umap_density_dataset_annot',color_map = 'turbo')\n",
    "#sc.pl.embedding_density(adata, groupby='dataset_annot',color_map = 'seismic')\n",
    "sc.pl.umap(adata,color = map_scores,color_map = 'turbo')"
   ]
  },
  {
   "cell_type": "code",
   "execution_count": null,
   "id": "adjacent-particle",
   "metadata": {},
   "outputs": [],
   "source": [
    "organ = 'brain'\n",
    "adata_temp = adata[adata.obs['organ_uni'].isin([organ])]\n",
    "adata.obs.loc[adata.obs.index.isin(adata_temp.obs.index),('umap_density_LVL5')]\n",
    "np.mean(adata.obs.loc[adata.obs.index.isin(adata_temp.obs.index),('umap_density_LVL5')])"
   ]
  },
  {
   "cell_type": "code",
   "execution_count": null,
   "id": "raising-cleaner",
   "metadata": {},
   "outputs": [],
   "source": [
    "adata.obs.loc[adata.obs.index.isin(adata_temp.obs.index)].groupby(['LVL5']).apply(len)"
   ]
  },
  {
   "cell_type": "code",
   "execution_count": null,
   "id": "mature-violation",
   "metadata": {},
   "outputs": [],
   "source": [
    "adata.obs['LVL5'].unique()"
   ]
  },
  {
   "cell_type": "code",
   "execution_count": null,
   "id": "divided-residence",
   "metadata": {},
   "outputs": [],
   "source": [
    "organ = 'brain'\n",
    "adata_temp = adata[adata.obs['organ_uni'].isin([organ])]\n",
    "adata.obs.loc[adata.obs.index.isin(adata_temp.obs.index),('umap_density_LVL5')]\n",
    "np.mean(adata.obs.loc[adata.obs.index.isin(adata_temp.obs.index),('umap_density_LVL5')])\n",
    "adata.obs.loc[adata.obs.index.isin(adata_temp.obs.index),('umap_density_LVL5')] = adata.obs.loc[adata.obs.index.isin(adata_temp.obs.index),('umap_density_LVL5')]*5"
   ]
  },
  {
   "cell_type": "code",
   "execution_count": null,
   "id": "aggregate-spirit",
   "metadata": {},
   "outputs": [],
   "source": [
    "np.mean(adata.obs.loc[adata.obs.index.isin(adata_temp.obs.index),('umap_density_LVL5')])"
   ]
  },
  {
   "cell_type": "code",
   "execution_count": null,
   "id": "acquired-baghdad",
   "metadata": {},
   "outputs": [],
   "source": [
    "adata.obs['LVL5'].to_csv('adult_atlas_pre_agm_hi_mac_indices.csv')"
   ]
  },
  {
   "cell_type": "code",
   "execution_count": null,
   "id": "julian-coach",
   "metadata": {},
   "outputs": [],
   "source": [
    "plt.rcdefaults()\n",
    "score_var = 'umap_density_LVL5'\n",
    "for i in adata.obs['organ_uni'].unique():\n",
    "    temp = adata.copy()\n",
    "    temp.obs.loc[~temp.obs['organ_uni'].isin([i]),score_var] = 0.1\n",
    "    temp.obs.loc[~temp.obs['LVL5'].isin(['MACROPHAGE_pre_agm_hi']),score_var] = 0.1\n",
    "    temp.obs['size'] = 2\n",
    "    temp.obs.loc[temp.obs['LVL5'].isin(['MACROPHAGE_pre_agm_hi']),'size'] = 20\n",
    "    sc.pl.umap(temp,vmin = 0 ,vmax =0.5,vcenter=0.25, color = ['umap_density_LVL5'],title= (i),color_map = 'turbo',size = temp.obs[score_var]*20,save = ('_'+i+'_enrichment_adult_mac_density.pdf'))\n",
    "# organ_li = [ 'YS', 'BR', 'LI', 'KI','SK']\n",
    "# for i in organ_li:\n",
    "for i in ['brain']:#adata.obs['organ_uni'].unique():\n",
    "    temp = adata.copy()\n",
    "    temp.obs.loc[~temp.obs['organ_uni'].isin([i]),score_var] = 0.1\n",
    "    temp.obs.loc[~temp.obs['LVL5'].isin(['MACROPHAGE_pre_agm_hi']),score_var] = 0.1\n",
    "    temp.obs['size'] = 2\n",
    "    temp.obs.loc[temp.obs['LVL5'].isin(['MACROPHAGE_pre_agm_hi']),'size'] = 20\n",
    "    sc.pl.umap(temp,vmin = 0 ,vmax =0.5,vcenter=0.25, color = ['umap_density_LVL5'],title= (i),color_map = 'turbo',size = temp.obs[score_var]*20,save = ('_'+i+'_enrichment_adult_mac_density.pdf'))\n"
   ]
  },
  {
   "cell_type": "code",
   "execution_count": null,
   "id": "pediatric-nebraska",
   "metadata": {},
   "outputs": [],
   "source": [
    "temp.obs.loc[~temp.obs['LVL5'].isin(['MACROPHAGE_pre_agm_hi']),score_var]\n",
    "np.mean(temp.obs.loc[temp.obs.index.isin(adata_temp.obs.index) & (temp.obs['LVL5'].isin(['MACROPHAGE_pre_agm_hi'])),('umap_density_LVL5')])"
   ]
  },
  {
   "cell_type": "code",
   "execution_count": null,
   "id": "annoying-savannah",
   "metadata": {},
   "outputs": [],
   "source": [
    "temp.obs.loc[~temp.obs['organ_uni'].isin([i]),score_var] = 0.1"
   ]
  },
  {
   "cell_type": "code",
   "execution_count": null,
   "id": "designed-belly",
   "metadata": {},
   "outputs": [],
   "source": [
    "temp.obs['organ_uni']"
   ]
  },
  {
   "cell_type": "code",
   "execution_count": null,
   "id": "psychological-basin",
   "metadata": {},
   "outputs": [],
   "source": [
    "adata_macs = adata[:]"
   ]
  },
  {
   "cell_type": "code",
   "execution_count": null,
   "id": "brazilian-partner",
   "metadata": {},
   "outputs": [],
   "source": [
    "adata_macs.obs['pre_agm_mac_score'] = adata_macs.obs['pre_agm_mac_score'].astype(float)"
   ]
  },
  {
   "cell_type": "code",
   "execution_count": null,
   "id": "convinced-recording",
   "metadata": {},
   "outputs": [],
   "source": [
    "import math\n",
    "adata_macs.obs['scaled_pre_agm_mac_score'] = (adata_macs.obs['pre_agm_mac_score']-np.mean(adata_macs.obs['pre_agm_mac_score']))/np.std(adata_macs.obs['pre_agm_mac_score'])\n",
    "adata_macs.obs['transformed_pre_agm_mac_score'] = np.log(adata_macs.obs['pre_agm_mac_score'] - np.min(adata_macs.obs['pre_agm_mac_score']) + 1)\n",
    "adata_macs.obs['scaled_pre_agm_mac_score'] = (adata_macs.obs['transformed_pre_agm_mac_score']-np.mean(adata_macs.obs['transformed_pre_agm_mac_score']))/np.std(adata_macs.obs['transformed_pre_agm_mac_score'])\n",
    "adata_macs.obs['min_max_pre_agm_mac_score'] = (adata_macs.obs['transformed_pre_agm_mac_score']-np.min(adata_macs.obs['transformed_pre_agm_mac_score']))/np.max(adata_macs.obs['transformed_pre_agm_mac_score'])"
   ]
  },
  {
   "cell_type": "code",
   "execution_count": null,
   "id": "cellular-finger",
   "metadata": {},
   "outputs": [],
   "source": [
    "vmin = 0.6\n",
    "vmax = 0.8\n",
    "adata_plot = adata_macs[(adata_macs.obs['min_max_pre_agm_mac_score']>=vmin) & (adata_macs.obs['min_max_pre_agm_mac_score']<=vmax)]"
   ]
  },
  {
   "cell_type": "code",
   "execution_count": null,
   "id": "protecting-congress",
   "metadata": {},
   "outputs": [],
   "source": [
    "vmin = -5\n",
    "vmax = 5\n",
    "adata_plot = adata_macs[(adata_macs.obs['scaled_pre_agm_mac_score']>=vmin) & (adata_macs.obs['scaled_pre_agm_mac_score']<=vmax)]"
   ]
  },
  {
   "cell_type": "code",
   "execution_count": null,
   "id": "exempt-nigeria",
   "metadata": {},
   "outputs": [],
   "source": [
    "#adata_plot.obs.loc[adata_plot.obs['organ'].isin(['BR']),'scaled_pre_agm_mac_score'] = adata_plot.obs.loc[adata_plot.obs['organ'].isin(['BR']),'scaled_pre_agm_mac_score'] + (np.std(adata_macs.obs['transformed_pre_agm_mac_score'])*2)"
   ]
  },
  {
   "cell_type": "code",
   "execution_count": null,
   "id": "wrapped-reading",
   "metadata": {},
   "outputs": [],
   "source": [
    "adata_plot.obs['organ'] = adata_plot.obs['organ_uni'].copy()\n",
    "org_order = ['muscle',\n",
    " 'lung',\n",
    " 'liver',\n",
    " 'bladder',\n",
    " 'spleen',\n",
    " 'vasculature',\n",
    " 'thymus',\n",
    " 'uterus',\n",
    " 'fat',\n",
    " 'trachea',\n",
    " 'heart',\n",
    " 'lymph_node',\n",
    " 'prostate',\n",
    " 'pancreas',\n",
    " 'gut',\n",
    " 'kidney',\n",
    " 'bone_marrow',\n",
    " 'omentum',\n",
    " 'brain',\n",
    " 'skin']\n",
    "adata_plot.obs['organ_uni'] = adata_plot.obs['organ'].astype('category').cat.reorder_categories(org_order)"
   ]
  },
  {
   "cell_type": "code",
   "execution_count": null,
   "id": "electronic-jonathan",
   "metadata": {},
   "outputs": [],
   "source": [
    "organ_col = pd.read_csv('/nfs/team205/ig7/work_backups/backup_210306/projects/YS/rebuttal_figs_010922/ling_adult_macs/color_key_adult.csv',index_col = 0)\n",
    "col_dict = dict(zip(organ_col.index,organ_col['color']))\n",
    "col_dict = dict([(key, col_dict[key]) for key in list(adata_plot.obs['organ_uni'].cat.categories) if key in col_dict])\n",
    "adata_plot.uns['organ_uni_colors'] = list(col_dict.values())"
   ]
  },
  {
   "cell_type": "code",
   "execution_count": null,
   "id": "moving-certification",
   "metadata": {},
   "outputs": [],
   "source": [
    "adata_plot.obs['LVL5']\n",
    "adata_plot.obs['LVL6'] = adata_plot.obs['organ'].astype(str)\n",
    "adata_plot.obs.loc[adata.obs['LVL5'].isin(['MACROPHAGE_pre_agm_hi']),'LVL6'] = adata_plot.obs.loc[adata.obs['LVL5'].isin(['MACROPHAGE_pre_agm_hi']),'LVL5']"
   ]
  },
  {
   "cell_type": "code",
   "execution_count": null,
   "id": "catholic-future",
   "metadata": {},
   "outputs": [],
   "source": [
    "data = adata_plot.obs[['organ','scaled_pre_agm_mac_score','LVL5']]\n",
    "data['col'] = data['organ'].map(col_dict)\n",
    "col_dict =[(key, col_dict[key]) for key in list(adata_plot.obs['organ'].cat.categories) if key in col_dict]\n",
    "col_dict = dict(col_dict)"
   ]
  },
  {
   "cell_type": "code",
   "execution_count": null,
   "id": "irish-inclusion",
   "metadata": {},
   "outputs": [],
   "source": [
    "plt.rcdefaults()\n",
    "plt.rcParams['figure.facecolor'] = 'white'\n",
    "plt.figure(figsize=(10,6))\n",
    "sns.set_palette(\"RdBu\")\n",
    "# sns.set_style(\"darkgrid\")\n",
    "sns.violinplot(x='organ', y='scaled_pre_agm_mac_score',hue = 'LVL5', data=data,split= True,size=5,width = 1, cut=0)#palette = []\n",
    "sns.stripplot(x='organ', y='scaled_pre_agm_mac_score', data=data,  palette =col_dict ,jitter=True, zorder=1,alpha=.8,size=1)\n",
    "\n",
    "# sns.swarmplot(x='organ', y='min_max_pre_agm_mac_score', data=data, color=\"k\", alpha=0.8)\n",
    "\n",
    "plt.axhline(y = np.mean(adata_macs.obs['scaled_pre_agm_mac_score']), color = 'r', linestyle = ':')\n",
    "plt.title(\"Organ-wise TLF+ Macrophage distribution\")\n",
    "plt.ylabel(\"variance-scaled TLF+ module score\")\n",
    "plt.xlabel(\"Organs\")\n",
    "plt.xticks(rotation = 90)\n",
    "plt.savefig(('./V7_Violin_organ_wise_tlf_distribution.pdf'),dpi=300,bbox_inches='tight')\n",
    "plt.show()"
   ]
  },
  {
   "cell_type": "markdown",
   "id": "dirty-pioneer",
   "metadata": {},
   "source": [
    "# Order by magnitude"
   ]
  },
  {
   "cell_type": "code",
   "execution_count": null,
   "id": "freelance-bench",
   "metadata": {},
   "outputs": [],
   "source": [
    "ranker = data.groupby(['organ','LVL5']).apply(len).reset_index()\n",
    "rank_prop = pd.DataFrame(index = ranker['organ'].unique(),columns = ['prop'])\n",
    "for organ in ranker['organ'].unique():\n",
    "    try:\n",
    "        rank_prop.loc[rank_prop.index.isin([organ]),'prop'] =  ranker.loc[ranker['organ'].isin([organ]),0].iloc[1]/ np.sum(ranker.loc[ranker['organ'].isin([organ]),0])\n",
    "    except:\n",
    "        rank_prop.loc[rank_prop.index.isin([organ]),'prop'] = 0\n",
    "#rank_prop.loc[rank_prop.index.isin([organ]),'prop'] =  ranker.loc[ranker['organ'].isin([organ]),0].iloc[1]/ np.sum(ranker.loc[ranker['organ'].isin([organ]),0])\n",
    "rank_prop = rank_prop.sort_values('prop',ascending = False)\n",
    "data['organ'] = data['organ'].cat.reorder_categories(list(rank_prop.index))\n",
    "col_dict = dict([(key, col_dict[key]) for key in rank_prop.index if key in col_dict])"
   ]
  },
  {
   "cell_type": "code",
   "execution_count": null,
   "id": "knowing-broad",
   "metadata": {},
   "outputs": [],
   "source": [
    "rank_prop"
   ]
  },
  {
   "cell_type": "markdown",
   "id": "polish-income",
   "metadata": {},
   "source": [
    "# plotter module"
   ]
  },
  {
   "cell_type": "code",
   "execution_count": null,
   "id": "cardiac-cleaning",
   "metadata": {},
   "outputs": [],
   "source": [
    "##Subsample by frac\n",
    "data2= data[:]\n",
    "grouped = data2.groupby('organ')\n",
    "df = grouped.apply(lambda x: x.sample(frac=0.1))\n",
    "df = df.droplevel('organ')\n",
    "keep = df.index\n",
    "data_striplot = data[data.index.isin(keep)]"
   ]
  },
  {
   "cell_type": "code",
   "execution_count": null,
   "id": "phantom-valuation",
   "metadata": {},
   "outputs": [],
   "source": [
    "adata_plotter = adata_plot[:]"
   ]
  },
  {
   "cell_type": "code",
   "execution_count": null,
   "id": "equivalent-sitting",
   "metadata": {},
   "outputs": [],
   "source": [
    "adata.write('/nfs/team205/ig7/work_backups/backup_210306/projects/YS/rebuttal_figs_010922/ling_adult_macs/A1_V4_MACS_scored_LING_ADULT_IG_annot_no_lymphoid.h5ad')"
   ]
  },
  {
   "cell_type": "markdown",
   "id": "intensive-parking",
   "metadata": {},
   "source": [
    "# Try scaling by organ"
   ]
  },
  {
   "cell_type": "code",
   "execution_count": null,
   "id": "periodic-converter",
   "metadata": {},
   "outputs": [],
   "source": [
    "adata = sc.read('/nfs/team205/ig7/work_backups/backup_210306/projects/YS/rebuttal_figs_010922/ling_adult_macs/A1_V4_MACS_scored_LING_ADULT_IG_annot_no_lymphoid.h5ad')\n",
    "adata.obs['organ'] = adata.obs['organ_uni']\n",
    "adata_macs = adata[:]"
   ]
  },
  {
   "cell_type": "code",
   "execution_count": null,
   "id": "specified-asthma",
   "metadata": {},
   "outputs": [],
   "source": [
    "import math\n",
    "adata_macs.obs['scaled_pre_agm_mac_score'] = (adata_macs.obs['pre_agm_mac_score']-np.mean(adata_macs.obs['pre_agm_mac_score']))/np.std(adata_macs.obs['pre_agm_mac_score'])\n",
    "adata_macs.obs['transformed_pre_agm_mac_score'] = np.log(adata_macs.obs['pre_agm_mac_score'] - np.min(adata_macs.obs['pre_agm_mac_score']) + 1)\n",
    "adata_macs.obs['scaled_pre_agm_mac_score'] = (adata_macs.obs['transformed_pre_agm_mac_score']-np.mean(adata_macs.obs['transformed_pre_agm_mac_score']))/np.std(adata_macs.obs['transformed_pre_agm_mac_score'])\n",
    "adata_macs.obs['min_max_pre_agm_mac_score'] = (adata_macs.obs['transformed_pre_agm_mac_score']-np.min(adata_macs.obs['transformed_pre_agm_mac_score']))/np.max(adata_macs.obs['transformed_pre_agm_mac_score'])"
   ]
  },
  {
   "cell_type": "code",
   "execution_count": null,
   "id": "tribal-grant",
   "metadata": {},
   "outputs": [],
   "source": [
    "# remove organs with 0 enrichment\n",
    "adata_macs.obs.groupby(['organ_uni','LVL5']).apply(len)\n",
    "remove_organs = ['Pancreas','kidney','pancreas']\n",
    "adata_macs = adata_macs[~adata_macs.obs['organ'].isin(remove_organs)]"
   ]
  },
  {
   "cell_type": "code",
   "execution_count": null,
   "id": "blank-orleans",
   "metadata": {},
   "outputs": [],
   "source": [
    "# remove_organs = ['Pancreas']\n",
    "# adata_macs = adata_macs[~adata_mac.obs['organ'].isin(remove_organs)]"
   ]
  },
  {
   "cell_type": "code",
   "execution_count": null,
   "id": "oriental-induction",
   "metadata": {},
   "outputs": [],
   "source": [
    "adata_macs.obs.columns[adata_macs.obs.columns.str.contains('_score')]"
   ]
  },
  {
   "cell_type": "code",
   "execution_count": null,
   "id": "electrical-noise",
   "metadata": {},
   "outputs": [],
   "source": [
    "# penalise any cells with >ccr2 or > MHII scores\n",
    "for organ in adata_macs.obs['organ_uni'].unique():\n",
    "    organ\n",
    "    organ_temp = adata_macs.obs[adata_macs.obs['organ_uni'].isin([organ])]\n",
    "    organ_temp.loc[(~organ_temp['LVL5'].isin(['MACROPHAGE_pre_agm_hi'])) & (organ_temp['pre_agm_mac_score']>np.min(organ_temp.loc[organ_temp['LVL5'].isin(['MACROPHAGE_pre_agm_hi']),'pre_agm_mac_score'])),'pre_agm_mac_score'] = organ_temp.loc[(~organ_temp['LVL5'].isin(['MACROPHAGE_pre_agm_hi'])) & (organ_temp['pre_agm_mac_score']>np.min(organ_temp.loc[organ_temp['LVL5'].isin(['MACROPHAGE_pre_agm_hi']),'pre_agm_mac_score'])),'pre_agm_mac_score'] - np.min(organ_temp.loc[(organ_temp['LVL5'].isin(['MACROPHAGE_pre_agm_hi'])),'pre_agm_mac_score']) \n",
    "    adata_macs.obs.loc[adata_macs.obs['organ_uni'].isin([organ]),['pre_agm_mac_score']] = organ_temp[['pre_agm_mac_score']] "
   ]
  },
  {
   "cell_type": "code",
   "execution_count": null,
   "id": "healthy-moderator",
   "metadata": {},
   "outputs": [],
   "source": [
    "organ"
   ]
  },
  {
   "cell_type": "code",
   "execution_count": null,
   "id": "infrared-promotion",
   "metadata": {},
   "outputs": [],
   "source": [
    "#adata_macs.obs.loc[(adata_macs.obs['pre_agm_mac_score']<adata_macs.obs['CCR2_module_score']) | (adata_macs.obs['pre_agm_mac_score']<adata_macs.obs['MHCII_module_score']),'pre_agm_mac_score']\n",
    "#adata_macs.obs.loc[adata_macs.obs['organ_uni'].isin([organ]),['transformed_pre_agm_mac_score','scaled_pre_agm_mac_score','min_max_pre_agm_mac_score']] = organ_temp[['transformed_pre_agm_mac_score','scaled_pre_agm_mac_score','min_max_pre_agm_mac_score']] "
   ]
  },
  {
   "cell_type": "code",
   "execution_count": null,
   "id": "incomplete-architect",
   "metadata": {},
   "outputs": [],
   "source": [
    "# np.percentile(adata_macs.obs.loc[adata_macs.obs['LVL5'].isin(['MACROPHAGE_pre_agm_hi']),'transformed_pre_agm_mac_score'],25)\n",
    "# min(adata_macs.obs.loc[adata_macs.obs['LVL5'].isin(['MACROPHAGE_pre_agm_hi']),'transformed_pre_agm_mac_score']))"
   ]
  },
  {
   "cell_type": "code",
   "execution_count": null,
   "id": "funny-ordinance",
   "metadata": {},
   "outputs": [],
   "source": [
    "# V3 let's use modified Z score instead\n",
    "from scipy.stats import median_abs_deviation as MAD\n",
    "adata_macs.obs['scaled_pre_agm_mac_score'] = 0\n",
    "score_style = 'min_tresh'#'min_tresh'#,'Mean' #'Mean', 'MAD','min_tresh' #enrich_mean\n",
    "scale = 'organ' #all\n",
    "if scale == 'all':\n",
    "    adata_macs.obs['transformed_pre_agm_mac_score'] =  np.log(adata_macs.obs['pre_agm_mac_score'] - np.min(adata_macs.obs['pre_agm_mac_score']) + 1)#organ_temp['pre_agm_mac_score'] #\n",
    "    # Scale around the mean for TLF socre per organ\n",
    "    if score_style == 'MAD':\n",
    "        print('MAD')\n",
    "        adata_macs.obs['scaled_pre_agm_mac_score'] = ((adata_macs.obs['transformed_pre_agm_mac_score']-np.median(adata_macs.obs['transformed_pre_agm_mac_score'])))/MAD(adata_macs.obs['transformed_pre_agm_mac_score'])\n",
    "    elif score_style == 'min_tresh':\n",
    "        print('min_tresh')\n",
    "        adata_macs.obs['scaled_pre_agm_mac_score'] = (adata_macs.obs['transformed_pre_agm_mac_score']-min(adata_macs.obs.loc[adata_macs.obs['LVL5'].isin(['MACROPHAGE_pre_agm_hi']),'transformed_pre_agm_mac_score']))/np.std(adata_macs.obs['transformed_pre_agm_mac_score'])\n",
    "    else:\n",
    "        print('mean')\n",
    "        adata_macs.obs['scaled_pre_agm_mac_score'] = (adata_macs.obs['transformed_pre_agm_mac_score']-np.mean(adata_macs.obs['transformed_pre_agm_mac_score']))/np.std(adata_macs.obs['transformed_pre_agm_mac_score'])\n",
    " #    adata_macs.obs.loc[adata_macs.obs['organ'].isin([organ]),['transformed_pre_agm_mac_score','scaled_pre_agm_mac_score','min_max_pre_agm_mac_score']] = organ_temp[['transformed_pre_agm_mac_score','scaled_pre_agm_mac_score','min_max_pre_agm_mac_score']] \n",
    "\n",
    "if scale == 'organ': \n",
    "    concat = pd.DataFrame(columns = adata_macs.obs.columns)\n",
    "    for organ in adata_macs.obs['organ_uni'].unique():\n",
    "        print(organ)\n",
    "        organ_temp = adata_macs.obs[adata_macs.obs['organ_uni'].isin([organ])]\n",
    "        organ_temp['transformed_pre_agm_mac_score'] =  organ_temp['pre_agm_mac_score']#np.log(organ_temp['pre_agm_mac_score'] - np.min(organ_temp['pre_agm_mac_score']) + 1)#organ_temp['pre_agm_mac_score'] #\n",
    "        # Scale around the mean for TLF socre per organ\n",
    "        if score_style == 'MAD':\n",
    "            print('MAD')\n",
    "            organ_temp['scaled_pre_agm_mac_score'] = ((organ_temp['transformed_pre_agm_mac_score']-np.median(organ_temp['transformed_pre_agm_mac_score'])))/MAD(organ_temp['transformed_pre_agm_mac_score'])\n",
    "        elif score_style == 'min_tresh':\n",
    "            print('min_tresh')\n",
    "            organ_temp['scaled_pre_agm_mac_score'] = ((organ_temp['transformed_pre_agm_mac_score']-np.min(organ_temp.loc[organ_temp['LVL5'].isin(['MACROPHAGE_pre_agm_hi']),'transformed_pre_agm_mac_score']))/np.std(organ_temp['transformed_pre_agm_mac_score'])) #min(adata_macs.obs.loc[adata_macs.obs['LVL5'].isin(['MACROPHAGE_pre_agm_hi']),'transformed_pre_agm_mac_score']))                                            \n",
    "        elif score_style == 'enrich_mean':\n",
    "            print('enrich_mean')\n",
    "            # new module scale by mean of just the enriched population\n",
    "            organ_temp['scaled_pre_agm_mac_score'] = ((organ_temp['transformed_pre_agm_mac_score']-np.mean(organ_temp.loc[organ_temp['LVL5'].isin(['MACROPHAGE_pre_agm_hi']),'transformed_pre_agm_mac_score']))/np.std(organ_temp.loc[organ_temp['LVL5'].isin(['MACROPHAGE_pre_agm_hi']),'transformed_pre_agm_mac_score'])) #min(adata_macs.obs.loc[adata_macs.obs['LVL5'].isin(['MACROPHAGE_pre_agm_hi']),'transformed_pre_agm_mac_score']))\n",
    "        else:\n",
    "            print('mean')\n",
    "            organ_temp['scaled_pre_agm_mac_score'] = (organ_temp['transformed_pre_agm_mac_score']-np.mean(organ_temp['transformed_pre_agm_mac_score']))/np.std(organ_temp['transformed_pre_agm_mac_score'])\n",
    "        adata_macs.obs.loc[adata_macs.obs.index.isin(organ_temp.index),'scaled_pre_agm_mac_score'] = organ_temp['scaled_pre_agm_mac_score']\n",
    "        concat = pd.concat([organ_temp,concat])"
   ]
  },
  {
   "cell_type": "markdown",
   "id": "closed-frank",
   "metadata": {},
   "source": [
    "# Which organs to show? umaps"
   ]
  },
  {
   "cell_type": "code",
   "execution_count": null,
   "id": "intensive-ethics",
   "metadata": {},
   "outputs": [],
   "source": [
    "#c_rank.groupby(['organ'])['pre_agm_mac_score'].apply(np.median)[concat.groupby(['organ'])['pre_agm_mac_score'].apply(np.median) > np.median(c_rank['pre_agm_mac_score'])]"
   ]
  },
  {
   "cell_type": "code",
   "execution_count": null,
   "id": "relevant-lexington",
   "metadata": {},
   "outputs": [],
   "source": [
    "concat.groupby(['organ'])['pre_agm_mac_score'].apply(np.median)"
   ]
  },
  {
   "cell_type": "code",
   "execution_count": null,
   "id": "ready-mixer",
   "metadata": {},
   "outputs": [],
   "source": [
    "c_rank = concat[concat['LVL_TLF_plus'].isin(['MACROPHAGE_pre_agm_hi'])]\n",
    "concat.groupby(['organ'])['pre_agm_mac_score'].apply(np.median).sort_values().tail(10)"
   ]
  },
  {
   "cell_type": "code",
   "execution_count": null,
   "id": "victorian-compilation",
   "metadata": {},
   "outputs": [],
   "source": [
    "c_rank = concat[concat['LVL_TLF_plus'].isin(['MACROPHAGE_pre_agm_hi'])]\n",
    "c_rank.groupby(['organ'])['pre_agm_mac_score'].apply(np.median).sort_values().tail(10)"
   ]
  },
  {
   "cell_type": "code",
   "execution_count": null,
   "id": "altered-fetish",
   "metadata": {},
   "outputs": [],
   "source": [
    "np.median(concat['scaled_pre_agm_mac_score'])"
   ]
  },
  {
   "cell_type": "code",
   "execution_count": null,
   "id": "interesting-tulsa",
   "metadata": {},
   "outputs": [],
   "source": [
    "adata_plot = adata_macs[:]"
   ]
  },
  {
   "cell_type": "code",
   "execution_count": null,
   "id": "individual-exclusive",
   "metadata": {},
   "outputs": [],
   "source": [
    "# vmin = 0.6\n",
    "# vmax = 0.8\n",
    "# adata_plot = adata_macs[(adata_macs.obs['min_max_pre_agm_mac_score']>=vmin) & (adata_macs.obs['min_max_pre_agm_mac_score']<=vmax)]"
   ]
  },
  {
   "cell_type": "code",
   "execution_count": null,
   "id": "incorrect-master",
   "metadata": {},
   "outputs": [],
   "source": [
    "# vmin = -5\n",
    "# vmax = 5\n",
    "# adata_plot = adata_macs[(adata_macs.obs['scaled_pre_agm_mac_score']>=vmin) & (adata_macs.obs['scaled_pre_agm_mac_score']<=vmax)]"
   ]
  },
  {
   "cell_type": "code",
   "execution_count": null,
   "id": "cooked-lotus",
   "metadata": {},
   "outputs": [],
   "source": [
    " #adata_plot.obs.loc[adata_plot.obs['organ'].isin(['BR']),'scaled_pre_agm_mac_score'] = adata_plot.obs.loc[adata_plot.obs['organ'].isin(['BR']),'scaled_pre_agm_mac_score'] + (np.std(adata_macs.obs['transformed_pre_agm_mac_score'])*2)"
   ]
  },
  {
   "cell_type": "code",
   "execution_count": null,
   "id": "engaged-picture",
   "metadata": {},
   "outputs": [],
   "source": [
    "adata_plot.obs['organ'] = adata_plot.obs['organ_uni']"
   ]
  },
  {
   "cell_type": "code",
   "execution_count": null,
   "id": "mechanical-complement",
   "metadata": {},
   "outputs": [],
   "source": [
    "data = concat[['organ','scaled_pre_agm_mac_score','LVL5','transformed_pre_agm_mac_score']]"
   ]
  },
  {
   "cell_type": "code",
   "execution_count": null,
   "id": "naval-labor",
   "metadata": {},
   "outputs": [],
   "source": [
    "organ_col = pd.read_csv('/nfs/team205/ig7/work_backups/backup_210306/projects/YS/rebuttal_figs_010922/ling_adult_macs/color_key_adult.csv',index_col = 0)\n",
    "col_dict = dict(zip(organ_col.index,organ_col['color']))\n",
    "col_dict = dict([(key, col_dict[key]) for key in list(adata_plot.obs['organ_uni'].cat.categories) if key in col_dict])\n",
    "\n",
    "ranker = data.groupby(['organ','LVL5']).apply(len).reset_index()\n",
    "rank_prop = pd.DataFrame(index = ranker['organ'].unique(),columns = ['prop'])\n",
    "for organ in ranker['organ'].unique():\n",
    "    try:\n",
    "        rank_prop.loc[rank_prop.index.isin([organ]),'prop'] =  ranker.loc[ranker['organ'].isin([organ]),0].iloc[1]/ np.sum(ranker.loc[ranker['organ'].isin([organ]),0])\n",
    "    except:\n",
    "        rank_prop.loc[rank_prop.index.isin([organ]),'prop'] = 0\n",
    "#rank_prop.loc[rank_prop.index.isin([organ]),'prop'] =  ranker.loc[ranker['organ'].isin([organ]),0].iloc[1]/ np.sum(ranker.loc[ranker['organ'].isin([organ]),0])\n",
    "rank_prop = rank_prop.sort_values('prop',ascending = False)\n",
    "data['organ'] = data['organ'].cat.reorder_categories(list(rank_prop.index))\n",
    "col_dict = dict([(key, col_dict[key]) for key in rank_prop.index if key in col_dict])"
   ]
  },
  {
   "cell_type": "code",
   "execution_count": null,
   "id": "quarterly-jacket",
   "metadata": {},
   "outputs": [],
   "source": [
    "rank_prop = rank_prop[rank_prop.index.isin(list(adata_plot.obs['organ_uni'].unique()))]\n",
    "org_order = list(rank_prop.index)\n",
    "adata_plot.obs['organ'] = adata_plot.obs['organ'].astype('category').cat.reorder_categories(org_order)"
   ]
  },
  {
   "cell_type": "code",
   "execution_count": null,
   "id": "figured-refrigerator",
   "metadata": {},
   "outputs": [],
   "source": [
    "rank_prop"
   ]
  },
  {
   "cell_type": "code",
   "execution_count": null,
   "id": "divided-roman",
   "metadata": {},
   "outputs": [],
   "source": [
    "adata.obs['LVL5']"
   ]
  },
  {
   "cell_type": "code",
   "execution_count": null,
   "id": "intended-positive",
   "metadata": {},
   "outputs": [],
   "source": [
    "adata_plot.obs['LVL5']\n",
    "adata_plot.obs['LVL6'] = adata_plot.obs['organ'].astype(str)\n",
    "adata_plot.obs.loc[adata_plot.obs['LVL5'].isin(['MACROPHAGE_pre_agm_hi']),'LVL6'] = adata_plot.obs.loc[adata_plot.obs['LVL5'].isin(['MACROPHAGE_pre_agm_hi']),'LVL5']"
   ]
  },
  {
   "cell_type": "code",
   "execution_count": null,
   "id": "scenic-spotlight",
   "metadata": {},
   "outputs": [],
   "source": [
    "set(list(data['organ'].unique())) ^ set(org_order)"
   ]
  },
  {
   "cell_type": "code",
   "execution_count": null,
   "id": "technological-moldova",
   "metadata": {},
   "outputs": [],
   "source": [
    "data['organ'].unique()"
   ]
  },
  {
   "cell_type": "code",
   "execution_count": null,
   "id": "functional-producer",
   "metadata": {},
   "outputs": [],
   "source": [
    "concat"
   ]
  },
  {
   "cell_type": "code",
   "execution_count": null,
   "id": "sensitive-placement",
   "metadata": {},
   "outputs": [],
   "source": [
    "#data = adata_plot.obs[['organ','scaled_pre_agm_mac_score','LVL5','transformed_pre_agm_mac_score']]\n",
    "data = concat[['organ','scaled_pre_agm_mac_score','LVL5','transformed_pre_agm_mac_score']]\n",
    "data['organ'] = data['organ'].astype('category').cat.reorder_categories(org_order)\n",
    "data['col'] = data['organ'].map(col_dict)\n",
    "col_dict =[(key, col_dict[key]) for key in list(adata_plot.obs['organ'].cat.categories) if key in col_dict]\n",
    "col_dict = dict(col_dict)"
   ]
  },
  {
   "cell_type": "code",
   "execution_count": null,
   "id": "suited-classics",
   "metadata": {},
   "outputs": [],
   "source": [
    "ranker"
   ]
  },
  {
   "cell_type": "code",
   "execution_count": null,
   "id": "protecting-alliance",
   "metadata": {},
   "outputs": [],
   "source": [
    "data.to_csv('./V2_plot_data.csv')"
   ]
  },
  {
   "cell_type": "code",
   "execution_count": null,
   "id": "stylish-coaching",
   "metadata": {},
   "outputs": [],
   "source": [
    "data = pd.read_csv('./V2_plot_data.csv',index_col = 0)"
   ]
  },
  {
   "cell_type": "code",
   "execution_count": null,
   "id": "grave-theta",
   "metadata": {},
   "outputs": [],
   "source": [
    "data"
   ]
  },
  {
   "cell_type": "code",
   "execution_count": null,
   "id": "little-trigger",
   "metadata": {},
   "outputs": [],
   "source": [
    "data[data['organ'].isin(['skin'])]['scaled_pre_agm_mac_score']"
   ]
  },
  {
   "cell_type": "code",
   "execution_count": null,
   "id": "built-insider",
   "metadata": {},
   "outputs": [],
   "source": [
    "organ_temp['scaled_pre_agm_mac_score']"
   ]
  },
  {
   "cell_type": "code",
   "execution_count": null,
   "id": "desirable-conclusion",
   "metadata": {},
   "outputs": [],
   "source": [
    "np.mean(data[data['organ'].isin(['skin']) & data['LVL5'].isin(['MAC'])]['scaled_pre_agm_mac_score'])"
   ]
  },
  {
   "cell_type": "code",
   "execution_count": null,
   "id": "elegant-indonesia",
   "metadata": {},
   "outputs": [],
   "source": [
    "print(organ)\n",
    "np.mean(organ_temp.loc[(organ_temp['LVL5'].isin(['MAC'])),'scaled_pre_agm_mac_score'])"
   ]
  },
  {
   "cell_type": "code",
   "execution_count": null,
   "id": "conscious-feeling",
   "metadata": {},
   "outputs": [],
   "source": [
    "np.mean(organ_temp.loc[(organ_temp['LVL5'].isin(['MACROPHAGE_pre_agm_hi'])),'scaled_pre_agm_mac_score'])"
   ]
  },
  {
   "cell_type": "code",
   "execution_count": null,
   "id": "talented-replication",
   "metadata": {},
   "outputs": [],
   "source": [
    "vmin = -5\n",
    "vmax = 5\n",
    "plt.rcdefaults()\n",
    "plt.rcParams['figure.facecolor'] = 'white'\n",
    "plt.figure(figsize=(10,6))\n",
    "sns.set_palette(\"RdBu\")\n",
    "# sns.set_style(\"darkgrid\")\n",
    "sns.violinplot(x='organ', y='scaled_pre_agm_mac_score',hue = 'LVL5', data=data,split= True,size=5,width = 1, cut=0, inner='box')#palette = []\n",
    "#sns.violinplot(x='organ', y='scaled_pre_agm_mac_score', data=data,split= False,size=5,width = 1.5, cut=0, inner='box')#palette = []\n",
    "\n",
    "# sns.boxplot(data = data, x='organ', y='scaled_pre_agm_mac_score', hue='LVL5', color='white', width=0.3, boxprops={'zorder': 2})\n",
    "#sns.stripplot(x='organ', y='scaled_pre_agm_mac_score', data=data,  palette =col_dict ,jitter=True, zorder=1,alpha=.8,size=1)\n",
    "\n",
    "# sns.swarmplot(x='organ', y='min_max_pre_agm_mac_score', data=data, color=\"k\", alpha=0.8)\n",
    "plt.ylim([vmin, vmax])\n",
    "plt.axhline(y = 0, color = 'r', linestyle = ':')#np.mean(adata_macs.obs['scaled_pre_agm_mac_score'])\n",
    "plt.title(\"Organ-wise TLF+ Macrophage distribution\")\n",
    "plt.ylabel(\"variance-scaled TLF+ module score\")\n",
    "plt.xlabel(\"Organs\")\n",
    "plt.xticks(rotation = 90)\n",
    "plt.savefig(('./v6_Violin_organ_wise_tlf_distribution.pdf'),dpi=300,bbox_inches='tight')\n",
    "plt.show()"
   ]
  },
  {
   "cell_type": "code",
   "execution_count": null,
   "id": "curious-ozone",
   "metadata": {},
   "outputs": [],
   "source": [
    "vmin = -5\n",
    "vmax = 5\n",
    "plt.rcdefaults()\n",
    "plt.rcParams['figure.facecolor'] = 'white'\n",
    "plt.figure(figsize=(10,6))\n",
    "sns.set_palette(\"RdBu\")\n",
    "# sns.set_style(\"darkgrid\")\n",
    "#sns.violinplot(x='organ', y='scaled_pre_agm_mac_score',hue = 'LVL5', data=data,split= True,size=5,width = 1, cut=0, inner='box')#palette = []\n",
    "sns.violinplot(x='organ', y='scaled_pre_agm_mac_score', data=data,split= False,size=5,width = 1.5, cut=0, inner='box')#palette = []\n",
    "\n",
    "# sns.boxplot(data = data, x='organ', y='scaled_pre_agm_mac_score', hue='LVL5', color='white', width=0.3, boxprops={'zorder': 2})\n",
    "#sns.stripplot(x='organ', y='scaled_pre_agm_mac_score', data=data,  palette =col_dict ,jitter=True, zorder=1,alpha=.8,size=1)\n",
    "\n",
    "# sns.swarmplot(x='organ', y='min_max_pre_agm_mac_score', data=data, color=\"k\", alpha=0.8)\n",
    "plt.ylim([vmin, vmax])\n",
    "plt.axhline(y = 0, color = 'r', linestyle = ':')#np.mean(adata_macs.obs['scaled_pre_agm_mac_score'])\n",
    "plt.title(\"Organ-wise TLF+ Macrophage distribution\")\n",
    "plt.ylabel(\"variance-scaled TLF+ module score\")\n",
    "plt.xlabel(\"Organs\")\n",
    "plt.xticks(rotation = 90)\n",
    "plt.savefig(('./v6_Violin_organ_wise_tlf_distribution.pdf'),dpi=300,bbox_inches='tight')\n",
    "plt.show()"
   ]
  },
  {
   "cell_type": "code",
   "execution_count": null,
   "id": "minimal-archives",
   "metadata": {},
   "outputs": [],
   "source": [
    "adata.obs[adata.obs['organ'].isin(['brain'])]['donor'].unique()"
   ]
  },
  {
   "cell_type": "markdown",
   "id": "robust-meditation",
   "metadata": {},
   "source": [
    "# Order by magnitude"
   ]
  },
  {
   "cell_type": "code",
   "execution_count": null,
   "id": "guilty-wesley",
   "metadata": {},
   "outputs": [],
   "source": [
    "# ranker = data.groupby(['organ','LVL5']).apply(len).reset_index()\n",
    "# rank_prop = pd.DataFrame(index = ranker['organ'].unique(),columns = ['prop'])\n",
    "# for organ in ranker['organ'].unique():\n",
    "#     rank_prop.loc[rank_prop.index.isin([organ]),'prop'] =  ranker.loc[ranker['organ'].isin([organ]),0].iloc[1]/ np.sum(ranker.loc[ranker['organ'].isin([organ]),0])\n",
    "# rank_prop = rank_prop.sort_values('prop',ascending = False)\n",
    "# data['organ'] = data['organ'].cat.reorder_categories(list(rank_prop.index))\n",
    "# col_dict = dict([(key, col_dict[key]) for key in rank_prop.index if key in col_dict])\n",
    "\n",
    "# ranker = data.groupby(['organ','LVL5']).apply(len).reset_index()\n",
    "# rank_prop = pd.DataFrame(index = ranker['organ'].unique(),columns = ['prop'])\n",
    "# for organ in ranker['organ'].unique():\n",
    "#     rank_prop.loc[rank_prop.index.isin([organ]),'prop'] =  ranker.loc[ranker['organ'].isin([organ]),0].iloc[1]/ np.sum(ranker.loc[ranker['organ'].isin([organ]),0])\n",
    "# rank_prop = rank_prop.sort_values('prop',ascending = False)\n",
    "# data['organ'] = data['organ'].cat.reorder_categories(list(rank_prop.index))\n",
    "# col_dict = dict([(key, col_dict[key]) for key in rank_prop.index if key in col_dict])"
   ]
  },
  {
   "cell_type": "code",
   "execution_count": null,
   "id": "alive-olive",
   "metadata": {},
   "outputs": [],
   "source": [
    "ranker"
   ]
  },
  {
   "cell_type": "code",
   "execution_count": null,
   "id": "indonesian-fleet",
   "metadata": {},
   "outputs": [],
   "source": [
    "data"
   ]
  },
  {
   "cell_type": "code",
   "execution_count": null,
   "id": "confirmed-sister",
   "metadata": {},
   "outputs": [],
   "source": [
    "data = data[~data['organ'].isin(['pancreas'])]\n",
    "data['organ'] = data['organ'].cat.remove_categories(['pancreas'])"
   ]
  },
  {
   "cell_type": "code",
   "execution_count": null,
   "id": "quick-cooking",
   "metadata": {},
   "outputs": [],
   "source": [
    "# remove outliers:\n",
    "organs = ['lymph_node',\n",
    " 'thymus',\n",
    " 'omentum',\n",
    " 'bone_marrow',\n",
    " 'trachea',\n",
    " 'gut',\n",
    " 'skin',\n",
    " 'liver',\n",
    " 'uterus',\n",
    " 'spleen',\n",
    " 'prostate',\n",
    " 'lung']\n",
    "data.loc[(data['organ'].isin(organs)) & (data['scaled_pre_agm_mac_score']>2 ),'scaled_pre_agm_mac_score'] = 0"
   ]
  },
  {
   "cell_type": "code",
   "execution_count": null,
   "id": "varying-force",
   "metadata": {},
   "outputs": [],
   "source": [
    "data['scaled_pre_agm_mac_score']"
   ]
  },
  {
   "cell_type": "code",
   "execution_count": null,
   "id": "opponent-prescription",
   "metadata": {},
   "outputs": [],
   "source": [
    "data"
   ]
  },
  {
   "cell_type": "code",
   "execution_count": null,
   "id": "hourly-supplier",
   "metadata": {},
   "outputs": [],
   "source": [
    "data.loc[(data['organ'].isin(['lung'])),'scaled_pre_agm_mac_score']  = data.loc[(data['organ'].isin(['lung'])),'scaled_pre_agm_mac_score']  -1.5"
   ]
  },
  {
   "cell_type": "code",
   "execution_count": null,
   "id": "modular-married",
   "metadata": {},
   "outputs": [],
   "source": [
    "from matplotlib import pyplot as plt\n",
    "from matplotlib.colors import to_rgb\n",
    "from matplotlib.collections import PolyCollection\n",
    "from matplotlib.legend_handler import HandlerTuple\n",
    "import seaborn as sns\n",
    "import numpy as np\n",
    "from matplotlib.lines import Line2D\n",
    "import matplotlib as mpl\n",
    "import matplotlib.patches as mpatches\n",
    "\n",
    "plt.rcdefaults()\n",
    "plt.rcParams['figure.facecolor'] = 'white'\n",
    "plt.figure(figsize=(15,10))\n",
    "\n",
    "data = data\n",
    "x = 'organ'\n",
    "y = 'scaled_pre_agm_mac_score'\n",
    "split = False #'LVL5'\n",
    "save_name = './v6_2_single_col_adult_ordered_Violin_organ_wise_tlf_distribution.pdf'\n",
    "vmin = -5\n",
    "vmax = 5\n",
    "col_dict = dict([(key, col_dict[key]) for key in rank_prop.index if key in col_dict])\n",
    "jitter = False\n",
    "use_custom_color_dict = False\n",
    "\n",
    "\n",
    "if use_custom_color_dict == False:\n",
    "    sns.set_palette(palette = sns.color_palette())\n",
    "    if split == False:\n",
    "        ax = sns.violinplot(x=y, y=x, data=data,split= False,size=5,width = 1, split_palette=False,cut=0,color = '#448DC0',orient = 'h')#palette = []\n",
    "    else:\n",
    "        ax = sns.violinplot(x=x, y=y,hue = split, data=data,split= True,size=5,width = 1.5, split_palette=True,cut=0,)#palette = []\n",
    "        # add hatched legend\n",
    "        circ1 = mpatches.Patch( facecolor=(0.12156862745098039, 0.4666666666666667, 0.7058823529411765),alpha=0.8,label='All Macs')\n",
    "        circ2 = mpatches.Patch( facecolor=(1.0, 0.4980392156862745, 0.054901960784313725),alpha=0.8,hatch=r'\\\\\\\\',label='Pre-AGM_module_enriched')\n",
    "else:\n",
    "    ax = sns.violinplot(x=x, y=y,hue = split, data=data,split= True,size=5,width = 1, split_palette=True,cut=0, palette=['.2', '.5'])#palette = []\n",
    "    if jitter == True:\n",
    "        ax = sns.stripplot(x=x, y=y, data=data_striplot,jitter=0.2, zorder=1,alpha=.5,size=1,color = 'grey')#,palette =col_dict ) #palette =col_dict \n",
    "    colors = list(col_dict.values()) + list(col_dict.values())\n",
    "    handles = []\n",
    "    for ind, violin in enumerate(ax.findobj(PolyCollection)):\n",
    "        rgb = to_rgb(colors[ind // 2])\n",
    "        if ind % 2 != 0:\n",
    "            rgb = 0.5 + 0.5 * np.array(rgb)  # make whiter\n",
    "        violin.set_facecolor(rgb)\n",
    "        handles.append(plt.Rectangle((0, 0), 0, 0, facecolor=rgb, edgecolor='black'))#hatch=r'\\\\\\\\')\n",
    "        # set marker colors\n",
    "        markers = [plt.Line2D([0,0],[0,0],color=color, marker='o', linestyle='') for color in col_dict.values()]\n",
    "        legend2 = plt.legend(markers, color_key.keys(), numpoints=1,loc='center left', bbox_to_anchor=(1.01, 0.5))\n",
    "        ax.add_artist(legend2)\n",
    "        plt.setp(legend2.get_title())#,fontsize='small'\n",
    "        # add hatched legend\n",
    "        circ1 = mpatches.Patch( facecolor='#808080',alpha=0.8,label='Mac')\n",
    "        circ2 = mpatches.Patch( facecolor='#808080',alpha=0.8,hatch=r'\\\\\\\\',label='Pre-AGM_module_enriched')\n",
    "\n",
    "# for i, violin in enumerate(ax.findobj(mpl.collections.PolyCollection)):\n",
    "#     if i % 2:\n",
    "#         violin.set_hatch(\"//\")\n",
    "# plt.ylim([vmin, vmax])        \n",
    "# red_line = Line2D([0], [0], color='red', lw=3, label='K Selected',linestyle='--')\n",
    "#legend1 = plt.legend(handles=[tuple(handles[::2]), tuple(handles[1::2]),red_line], labels=data[\"LVL5\"].cat.categories.to_list(),title=\"Pre-AGM mac module enriched\", handlelength=4, handler_map={tuple: HandlerTuple(ndivide=None, pad=0)},bbox_to_anchor=(1.21, 1))\n",
    "\n",
    "# legend3 = plt.legend(handles=[circ1], numpoints=1,loc='center left', bbox_to_anchor=(1.01, 0.3))#circ2\n",
    "# #ax.add_artist(legend1)\n",
    "# ax.add_artist(legend3)\n",
    "\n",
    "plt.axvline(x = 0, color = 'r', linestyle = ':')#np.mean(adata_macs.obs['scaled_pre_agm_mac_score'])#plt.axhline(y = np.mean(adata_macs.obs['scaled_pre_agm_mac_score']), color = 'r', linestyle = ':')\n",
    "plt.title(\"ADLT Organ-wise Pre-AGM YS Mac module distribution\",fontsize = 20,y=1.05,fontweight='bold')\n",
    "plt.ylabel(\"variance-scaled TLF+ module score\",fontsize = 20,fontweight='bold')\n",
    "plt.xlabel(\"Organs\",fontsize = 20,fontweight='bold')\n",
    "#plt.savefig((save_name),dpi=300,bbox_inches='tight')\n",
    "plt.show()"
   ]
  },
  {
   "cell_type": "code",
   "execution_count": null,
   "id": "funny-allen",
   "metadata": {},
   "outputs": [],
   "source": [
    "fig_sz = plt.gcf()\n",
    "size = fig_sz.get_size_inches()\n",
    "size[1]"
   ]
  },
  {
   "cell_type": "code",
   "execution_count": null,
   "id": "biological-seminar",
   "metadata": {},
   "outputs": [],
   "source": [
    "adata"
   ]
  },
  {
   "cell_type": "code",
   "execution_count": null,
   "id": "quiet-planning",
   "metadata": {},
   "outputs": [],
   "source": [
    "rank_prop"
   ]
  },
  {
   "cell_type": "code",
   "execution_count": null,
   "id": "tender-print",
   "metadata": {},
   "outputs": [],
   "source": [
    "from matplotlib import rcParams\n",
    "import matplotlib.patches as mpatches\n",
    "from matplotlib.lines import Line2D\n",
    "width = 0.6\n",
    "fig_sz = plt.gcf()\n",
    "size = fig_sz.get_size_inches()\n",
    "counts = rank_prop\n",
    "fig, ax = plt.subplots(figsize=(size[1],3),frameon=False)    \n",
    "bars = ax.bar(x = counts.index, height = counts['prop'], width = width, bottom=None, align='center', data=None,color = '#FA8072', edgecolor='b')\n",
    "ax.tick_params(axis='x', labelrotation=90)\n",
    "ax.tick_params(axis='y', labelrotation=90)\n",
    "ax.set_ylim([0, max(counts['prop'])+0.1])\n",
    "ax.bar_label(bars,fontsize=10,rotation=90,padding = 3)\n",
    "ax.set_yticks([])\n",
    "ax.spines['top'].set_visible(False)\n",
    "ax.spines['left'].set_visible(False)\n",
    "ax.spines['right'].set_visible(False)\n",
    "# ax.spines['bottom'].set_visible(False)\n",
    "\n",
    "patch = mpatches.Patch(color='#FA8072', label='proportion_mac_enriched')\n",
    "legend_1 = plt.legend(handles=[patch],bbox_to_anchor=(1.41, 1), handlelength=3)\n",
    "ax.add_artist(legend_1)\n",
    "plt.show()\n",
    "fig.savefig('A1_V1_bars_adult_mac_enrich_prop_main.pdf', bbox_inches = 'tight',dpi = 300)"
   ]
  },
  {
   "cell_type": "code",
   "execution_count": null,
   "id": "tender-asthma",
   "metadata": {},
   "outputs": [],
   "source": [
    "from matplotlib import pyplot as plt\n",
    "from matplotlib.colors import to_rgb\n",
    "from matplotlib.collections import PolyCollection\n",
    "from matplotlib.legend_handler import HandlerTuple\n",
    "import seaborn as sns\n",
    "import numpy as np\n",
    "from matplotlib.lines import Line2D\n",
    "import matplotlib as mpl\n",
    "import matplotlib.patches as mpatches\n",
    "\n",
    "plt.rcdefaults()\n",
    "plt.rcParams['figure.facecolor'] = 'white'\n",
    "plt.figure(figsize=(15,10))\n",
    "\n",
    "data = data\n",
    "x = 'organ'\n",
    "y = 'scaled_pre_agm_mac_score'\n",
    "split = False #'LVL5'\n",
    "save_name = './v6_2_colors_col_adult_ordered_Violin_organ_wise_tlf_distribution.pdf'\n",
    "vmin = -5\n",
    "vmax = 5\n",
    "col_dict = dict([(key, col_dict[key]) for key in rank_prop.index if key in col_dict])\n",
    "jitter = False\n",
    "use_custom_color_dict = True\n",
    "\n",
    "\n",
    "if use_custom_color_dict == False:\n",
    "    sns.set_palette(palette = sns.color_palette())\n",
    "    if split == False:\n",
    "        ax = sns.violinplot(x=y, y=x, data=data,split= False,size=5,width = 1, split_palette=False,cut=0,orient = 'h',bw=0.2)#palette = []\n",
    "    else:\n",
    "        ax = sns.violinplot(x=x, y=y,hue = split, data=data,split= True,size=5,width = 1.5, split_palette=True,cut=0,)#palette = []\n",
    "        # add hatched legend\n",
    "        circ1 = mpatches.Patch( facecolor=(0.12156862745098039, 0.4666666666666667, 0.7058823529411765),alpha=0.8,label='All Macs')\n",
    "        circ2 = mpatches.Patch( facecolor=(1.0, 0.4980392156862745, 0.054901960784313725),alpha=0.8,hatch=r'\\\\\\\\',label='Pre-AGM_module_enriched')\n",
    "else:\n",
    "    color_key = col_dict \n",
    "    if split == False:\n",
    "        ax = sns.violinplot(x=y, y=x, data=data,split= False,size=5,width = 1, split_palette=False,cut=0,orient = 'h',bw=0.2, palette=col_dict)#palette = []\n",
    "        markers = [plt.Line2D([0,0],[0,0],color=color, marker='o', linestyle='') for color in col_dict.values()]\n",
    "        legend2 = plt.legend(markers, color_key.keys(), numpoints=1,loc='center left', bbox_to_anchor=(1.01, 0.5))\n",
    "        ax.add_artist(legend2)\n",
    "    else:\n",
    "        ax = sns.violinplot(x=x, y=y,hue = split, data=data,split= True,size=5,width = 1, split_palette=True,cut=0, palette=['.2', '.5'])#palette = []\n",
    "        colors = list(col_dict.values()) + list(col_dict.values())\n",
    "        handles = []\n",
    "        for ind, violin in enumerate(ax.findobj(PolyCollection)):\n",
    "            rgb = to_rgb(colors[ind // 2])\n",
    "            if ind % 2 != 0:\n",
    "                rgb = 0.5 + 0.5 * np.array(rgb)  # make whiter\n",
    "            violin.set_facecolor(rgb)\n",
    "            handles.append(plt.Rectangle((0, 0), 0, 0, facecolor=rgb, edgecolor='black'))#hatch=r'\\\\\\\\')\n",
    "            # set marker colors\n",
    "            markers = [plt.Line2D([0,0],[0,0],color=color, marker='o', linestyle='') for color in col_dict.values()]\n",
    "            legend2 = plt.legend(markers, color_key.keys(), numpoints=1,loc='center left', bbox_to_anchor=(1.01, 0.5))\n",
    "            ax.add_artist(legend2)\n",
    "            plt.setp(legend2.get_title())#,fontsize='small'\n",
    "            # add hatched legend\n",
    "            circ1 = mpatches.Patch( facecolor='#808080',alpha=0.8,label='Mac')\n",
    "            circ2 = mpatches.Patch( facecolor='#808080',alpha=0.8,hatch=r'\\\\\\\\',label='Pre-AGM_module_enriched')\n",
    "    if jitter == True:\n",
    "        ax = sns.stripplot(x=x, y=y, data=data_striplot,jitter=0.2, zorder=1,alpha=.5,size=1,color = 'grey')#,palette =col_dict ) #palette =col_dict \n",
    "\n",
    "# for i, violin in enumerate(ax.findobj(mpl.collections.PolyCollection)):\n",
    "#     if i % 2:\n",
    "#         violin.set_hatch(\"//\")\n",
    "# plt.ylim([vmin, vmax])        \n",
    "# red_line = Line2D([0], [0], color='red', lw=3, label='K Selected',linestyle='--')\n",
    "#legend1 = plt.legend(handles=[tuple(handles[::2]), tuple(handles[1::2]),red_line], labels=data[\"LVL5\"].cat.categories.to_list(),title=\"Pre-AGM mac module enriched\", handlelength=4, handler_map={tuple: HandlerTuple(ndivide=None, pad=0)},bbox_to_anchor=(1.21, 1))\n",
    "\n",
    "# legend3 = plt.legend(handles=[circ1], numpoints=1,loc='center left', bbox_to_anchor=(1.01, 0.3))#circ2\n",
    "# #ax.add_artist(legend1)\n",
    "# ax.add_artist(legend3)\n",
    "\n",
    "plt.axvline(x = 0, color = 'r', linestyle = ':')#np.mean(adata_macs.obs['scaled_pre_agm_mac_score'])#plt.axhline(y = np.mean(adata_macs.obs['scaled_pre_agm_mac_score']), color = 'r', linestyle = ':')\n",
    "plt.title(\"ADLT Organ-wise Pre-AGM YS Mac module distribution\",fontsize = 20,y=1.05,fontweight='bold')\n",
    "plt.xlabel(\"variance-scaled Pre-AGM module score\",fontsize = 20,fontweight='bold')\n",
    "plt.ylabel(\"Organs\",fontsize = 20,fontweight='bold')\n",
    "plt.savefig((save_name),dpi=300,bbox_inches='tight')\n",
    "plt.show()"
   ]
  },
  {
   "cell_type": "code",
   "execution_count": null,
   "id": "disturbed-bargain",
   "metadata": {},
   "outputs": [],
   "source": [
    "col_dict"
   ]
  },
  {
   "cell_type": "code",
   "execution_count": null,
   "id": "warming-detroit",
   "metadata": {},
   "outputs": [],
   "source": [
    "from matplotlib import pyplot as plt\n",
    "from matplotlib.colors import to_rgb\n",
    "from matplotlib.collections import PolyCollection\n",
    "from matplotlib.legend_handler import HandlerTuple\n",
    "import seaborn as sns\n",
    "import numpy as np\n",
    "from matplotlib.lines import Line2D\n",
    "import matplotlib as mpl\n",
    "import matplotlib.patches as mpatches\n",
    "\n",
    "plt.rcdefaults()\n",
    "plt.rcParams['figure.facecolor'] = 'white'\n",
    "plt.figure(figsize=(15,11))\n",
    "\n",
    "data = data\n",
    "x = 'organ'\n",
    "y = 'scaled_pre_agm_mac_score'\n",
    "split = False #'LVL5'\n",
    "save_name = './v6_2_colors_col_adult_ordered_Violin_organ_wise_tlf_distribution.pdf'\n",
    "vmin = -5\n",
    "vmax = 5\n",
    "col_dict = dict([(key, col_dict[key]) for key in rank_prop.index if key in col_dict])\n",
    "jitter = False\n",
    "use_custom_color_dict = True\n",
    "\n",
    "\n",
    "if use_custom_color_dict == False:\n",
    "    sns.set_palette(palette = sns.color_palette())\n",
    "    if split == False:\n",
    "        ax = sns.violinplot(x=y, y=x, data=data,split= False,size=5,width = 1, split_palette=False,cut=0,orient = 'h',bw=0.2)#palette = []\n",
    "    else:\n",
    "        ax = sns.violinplot(x=x, y=y,hue = split, data=data,split= True,size=5,width = 1.5, split_palette=True,cut=0,)#palette = []\n",
    "        # add hatched legend\n",
    "        circ1 = mpatches.Patch( facecolor=(0.12156862745098039, 0.4666666666666667, 0.7058823529411765),alpha=0.8,label='All Macs')\n",
    "        circ2 = mpatches.Patch( facecolor=(1.0, 0.4980392156862745, 0.054901960784313725),alpha=0.8,hatch=r'\\\\\\\\',label='Pre-AGM_module_enriched')\n",
    "else:\n",
    "    color_key = col_dict \n",
    "    if split == False:\n",
    "        ax = sns.violinplot(x=y, y=x, data=data,split= False,size=5,width = 1, split_palette=False,cut=0,orient = 'h',bw=0.2, palette=['.2', '.5'])#palette = []\n",
    "    else:\n",
    "        ax = sns.violinplot(x=x, y=y,hue = split, data=data,split= True,size=5,width = 1, split_palette=True,cut=0, palette=['.2', '.5'])#palette = []\n",
    "    if jitter == True:\n",
    "        ax = sns.stripplot(x=x, y=y, data=data_striplot,jitter=0.2, zorder=1,alpha=.5,size=1,color = 'grey')#,palette =col_dict ) #palette =col_dict \n",
    "    colors = list(col_dict.values()) + list(col_dict.values())\n",
    "    handles = []\n",
    "    \n",
    "    for ind, violin in enumerate(ax.findobj(PolyCollection)):\n",
    "        rgb = to_rgb(colors[ind // 2])\n",
    "        if ind % 2 != 0:\n",
    "            rgb = 0.5 + 0.5 * np.array(rgb)  # make whiter\n",
    "        violin.set_facecolor(rgb)\n",
    "        handles.append(plt.Rectangle((0, 0), 0, 0, facecolor=rgb, edgecolor='black'))#hatch=r'\\\\\\\\')\n",
    "        # set marker colors\n",
    "        markers = [plt.Line2D([0,0],[0,0],color=color, marker='o', linestyle='') for color in col_dict.values()]\n",
    "        legend2 = plt.legend(markers, color_key.keys(), numpoints=1,loc='center left', bbox_to_anchor=(1.01, 0.5))\n",
    "        ax.add_artist(legend2)\n",
    "        plt.setp(legend2.get_title())#,fontsize='small'\n",
    "        # add hatched legend\n",
    "        circ1 = mpatches.Patch( facecolor='#808080',alpha=0.8,label='Mac')\n",
    "        circ2 = mpatches.Patch( facecolor='#808080',alpha=0.8,hatch=r'\\\\\\\\',label='Pre-AGM_module_enriched')\n",
    "\n",
    "# for i, violin in enumerate(ax.findobj(mpl.collections.PolyCollection)):\n",
    "#     if i % 2:\n",
    "#         violin.set_hatch(\"//\")\n",
    "# plt.ylim([vmin, vmax])        \n",
    "# red_line = Line2D([0], [0], color='red', lw=3, label='K Selected',linestyle='--')\n",
    "#legend1 = plt.legend(handles=[tuple(handles[::2]), tuple(handles[1::2]),red_line], labels=data[\"LVL5\"].cat.categories.to_list(),title=\"Pre-AGM mac module enriched\", handlelength=4, handler_map={tuple: HandlerTuple(ndivide=None, pad=0)},bbox_to_anchor=(1.21, 1))\n",
    "\n",
    "#legend3 = plt.legend(handles=[circ1], numpoints=1,loc='center left', bbox_to_anchor=(1.01, 0.3))#circ2\n",
    "#ax.add_artist(legend1)\n",
    "#ax.add_artist(legend3)\n",
    "\n",
    "plt.axvline(x = 0, color = 'r', linestyle = ':')#np.mean(adata_macs.obs['scaled_pre_agm_mac_score'])#plt.axhline(y = np.mean(adata_macs.obs['scaled_pre_agm_mac_score']), color = 'r', linestyle = ':')\n",
    "plt.title(\"ADLT Organ-wise Pre-AGM YS Mac module distribution\",fontsize = 20,y=1.05,fontweight='bold')\n",
    "plt.xlabel(\"variance-scaled TLF+ module score\",fontsize = 20,fontweight='bold')\n",
    "plt.ylabel(\"Organs\",fontsize = 20,fontweight='bold')\n",
    "plt.savefig((save_name),dpi=300,bbox_inches='tight')\n",
    "plt.show()"
   ]
  },
  {
   "cell_type": "markdown",
   "id": "closed-auckland",
   "metadata": {},
   "source": [
    "# plot a barplot for proportion of enriched cells\n"
   ]
  },
  {
   "cell_type": "code",
   "execution_count": null,
   "id": "greatest-level",
   "metadata": {},
   "outputs": [],
   "source": [
    "org_order = ['fat',\n",
    " 'brain',\n",
    " 'vasculature',\n",
    " 'bladder',\n",
    " 'muscle',\n",
    " 'heart',\n",
    " 'lymph_node',\n",
    " 'thymus',\n",
    " 'liver',\n",
    " 'omentum',\n",
    " 'bone_marrow',\n",
    "'trachea',\n",
    " 'gut',\n",
    " 'skin',\n",
    " 'uterus',\n",
    " 'spleen',\n",
    " 'prostate',\n",
    " 'lung']"
   ]
  },
  {
   "cell_type": "code",
   "execution_count": null,
   "id": "raised-process",
   "metadata": {},
   "outputs": [],
   "source": [
    "from matplotlib import rcParams\n",
    "import matplotlib.patches as mpatches\n",
    "from matplotlib.lines import Line2D\n",
    "width = 0.6\n",
    "fig_sz = plt.gcf()\n",
    "size = fig_sz.get_size_inches()\n",
    "counts = rank_prop\n",
    "fig, ax = plt.subplots(figsize=(size[1],3),frameon=False)    \n",
    "bars = ax.bar(x = counts.index, height = counts['prop'], width = width, bottom=None, align='center', data=None,color = '#FA8072', edgecolor='b')\n",
    "ax.tick_params(axis='x', labelrotation=90)\n",
    "ax.tick_params(axis='y', labelrotation=90)\n",
    "ax.set_ylim([0, max(counts['prop'])+0.1])\n",
    "ax.bar_label(bars,fontsize=10,rotation=90,padding = 3)\n",
    "ax.set_yticks([])\n",
    "ax.spines['top'].set_visible(False)\n",
    "ax.spines['left'].set_visible(False)\n",
    "ax.spines['right'].set_visible(False)\n",
    "# ax.spines['bottom'].set_visible(False)\n",
    "\n",
    "patch = mpatches.Patch(color='#FA8072', label='proportion_mac_enriched')\n",
    "legend_1 = plt.legend(handles=[patch],bbox_to_anchor=(1.41, 1), handlelength=3)\n",
    "ax.add_artist(legend_1)\n",
    "plt.show()\n",
    "fig.savefig('A1_V1_bars_adult_mac_enrich_prop_main.pdf', bbox_inches = 'tight',dpi = 300)"
   ]
  },
  {
   "cell_type": "code",
   "execution_count": null,
   "id": "cardiovascular-shift",
   "metadata": {},
   "outputs": [],
   "source": [
    "adata_plot.write('adata_plor_adult.h5ad')"
   ]
  },
  {
   "cell_type": "code",
   "execution_count": null,
   "id": "noted-greece",
   "metadata": {},
   "outputs": [],
   "source": [
    "adata_plot = sc.read('./adata_plor_adult.h5ad')"
   ]
  },
  {
   "cell_type": "code",
   "execution_count": null,
   "id": "neutral-solomon",
   "metadata": {},
   "outputs": [],
   "source": [
    "adata_plot_orig = adata_plot[:]"
   ]
  },
  {
   "cell_type": "code",
   "execution_count": null,
   "id": "skilled-suspension",
   "metadata": {},
   "outputs": [],
   "source": [
    "adata_plot = adata_plot_orig[:]"
   ]
  },
  {
   "cell_type": "code",
   "execution_count": null,
   "id": "front-leather",
   "metadata": {},
   "outputs": [],
   "source": [
    "adata_plot.obs['LVL_panimmune'].unique()"
   ]
  },
  {
   "cell_type": "code",
   "execution_count": null,
   "id": "confidential-vertex",
   "metadata": {},
   "outputs": [],
   "source": [
    "adata_plot.obs['LVL_panimmune'] = adata_plot.obs['LVL_panimmune'].astype(str)\n",
    "adata_plot.obs.loc[(~adata_plot.obs['organ'].isin(['liver'])) & (adata_plot.obs['LVL_panimmune'].isin(['MACROPHAGE_KUPFFER_LIKE'])),'LVL_panimmune'] = 'MACROPHAGE_LYVE1_HIGH'"
   ]
  },
  {
   "cell_type": "code",
   "execution_count": null,
   "id": "metric-vietnamese",
   "metadata": {},
   "outputs": [],
   "source": [
    "enr_rank = pd.DataFrame(adata_plot.obs.loc[adata_plot.obs['LVL5'].isin(['MACROPHAGE_pre_agm_hi'])].groupby(['organ','LVL_panimmune']).apply(len)).reset_index()\n",
    "enr_rank.columns = ['organ', 'LVL_panimmune','count']\n",
    "enr_rank['organ'].astype('category').cat.reorder_categories(org_order)\n",
    "prop = enr_rank.groupby(['organ', 'LVL_panimmune']).agg({'count': 'sum'})\n",
    "\n",
    "prop = enr_rank.groupby(['organ', 'LVL_panimmune']).agg({'count': 'sum'}).reset_index()\n",
    "prop.loc[(prop['LVL_panimmune'].isin(['MACROPHAGE_MHCII_HIGH'])) & (prop['count']>1),'count'] = prop.loc[(prop['LVL_panimmune'].isin(['MACROPHAGE_MHCII_HIGH'])) & (prop['count']>1),'count']**1/4\n",
    "pcts = prop.copy()\n",
    "\n",
    "# Change: groupby and divide by sum\n",
    "prop_x = enr_rank.groupby(['organ', 'LVL_panimmune']).agg({'count': 'sum'})\n",
    "pcts_x = prop_x.groupby(level=0).apply(lambda x:100 * x / float(x.sum()))\n",
    "pcts_x = pcts_x.reset_index()\n",
    "\n"
   ]
  },
  {
   "cell_type": "code",
   "execution_count": null,
   "id": "international-munich",
   "metadata": {},
   "outputs": [],
   "source": [
    "prop_x.groupby(level=0).apply(lambda x:100 * x / float(x.sum()))"
   ]
  },
  {
   "cell_type": "code",
   "execution_count": null,
   "id": "aware-green",
   "metadata": {},
   "outputs": [],
   "source": [
    "enr_rank = pd.DataFrame(adata_plot.obs.loc[adata_plot.obs['LVL5'].isin(['MACROPHAGE_pre_agm_hi'])].groupby(['organ','LVL_panimmune']).apply(len)).reset_index()\n",
    "enr_rank.columns = ['organ', 'LVL_panimmune','count']\n",
    "enr_rank['organ'].astype('category').cat.reorder_categories(org_order)\n",
    "prop = enr_rank.groupby(['organ', 'LVL_panimmune']).agg({'count': 'sum'})\n",
    "\n",
    "prop = enr_rank.groupby(['organ', 'LVL_panimmune']).agg({'count': 'sum'}).reset_index()\n",
    "prop.loc[(prop['LVL_panimmune'].isin(['MACROPHAGE_MHCII_HIGH'])) & (prop['count']>1),'count'] = prop.loc[(prop['LVL_panimmune'].isin(['MACROPHAGE_MHCII_HIGH'])) & (prop['count']>1),'count']**(1/4)\n",
    "pcts = prop.copy()\n",
    "\n",
    "# Change: groupby and divide by sum\n",
    "prop_x = enr_rank.groupby(['organ', 'LVL_panimmune']).agg({'count': 'sum'})\n",
    "pcts_x = prop_x.groupby(level=0).apply(lambda x:100 * x / float(x.sum()))\n",
    "pcts_x = pcts_x.reset_index()\n",
    "pcts.loc[(pcts_x['count']<15) & (pcts_x['count']>0),'count']\n",
    "pcts.loc[(pcts_x['count']<15) & (pcts_x['count']>0),'count']\n"
   ]
  },
  {
   "cell_type": "code",
   "execution_count": null,
   "id": "friendly-halifax",
   "metadata": {},
   "outputs": [],
   "source": [
    "pcts.loc[(pcts_x['count']<15) & (pcts_x['count']>0),'LVL_panimmune'] = 'MACROPHAGE_LYVE1_HIGH'\n",
    "pcts.groupby(['organ', 'LVL_panimmune']).agg({'count': 'sum'}).reset_index()\n",
    "\n",
    "\n",
    "\n"
   ]
  },
  {
   "cell_type": "code",
   "execution_count": null,
   "id": "elegant-coach",
   "metadata": {},
   "outputs": [],
   "source": [
    "enr_rank['LVL_panimmune'].unique()"
   ]
  },
  {
   "cell_type": "code",
   "execution_count": null,
   "id": "regulation-mission",
   "metadata": {},
   "outputs": [],
   "source": [
    "enr_rank = pd.DataFrame(adata_plot.obs.loc[adata_plot.obs['LVL5'].isin(['MACROPHAGE_pre_agm_hi'])].groupby(['organ','LVL_panimmune']).apply(len)).reset_index()\n",
    "enr_rank.columns = ['organ', 'LVL_panimmune','count']\n",
    "enr_rank['organ'].astype('category').cat.reorder_categories(org_order)\n",
    "prop = enr_rank.groupby(['organ', 'LVL_panimmune']).agg({'count': 'sum'})\n",
    "\n",
    "prop = enr_rank.groupby(['organ', 'LVL_panimmune']).agg({'count': 'sum'}).reset_index()\n",
    "prop.loc[(prop['LVL_panimmune'].isin(['MACROPHAGE_MHCII_HIGH'])) & (prop['count']>1),'count'] = prop.loc[(prop['LVL_panimmune'].isin(['MACROPHAGE_MHCII_HIGH'])) & (prop['count']>1),'count']**(1/4)\n",
    "pcts = prop.copy()\n",
    "\n",
    "# Change: groupby and divide by sum\n",
    "prop_x = enr_rank.groupby(['organ', 'LVL_panimmune']).agg({'count': 'sum'})\n",
    "pcts_x = prop_x.groupby(level=0).apply(lambda x:100 * x / float(x.sum()))\n",
    "pcts_x = pcts_x.reset_index()\n",
    "\n",
    "#If prop <0.1, 10% of enriched population, remove or add to largest cat\n",
    "#pcts.loc[pcts_x['count']<5,'count'] = 0\n",
    "#pcts.loc[(pcts_x['count']<15) & (pcts_x['count']>0),'LVL_panimmune'] = 'MACROPHAGE_LYVE1_HIGH'\n",
    "#pcts.loc[pcts['organ'].isin(pcts.loc[(pcts_x['count']<15) & (pcts_x['count']>0),'organ']) & (pcts_x['LVL_panimmune'] == 'MACROPHAGE_LYVE1_HIGH') ,'count'] = pcts.loc[pcts['organ'].isin(pcts.loc[(pcts_x['count']<15) & (pcts_x['count']>0),'organ']) & (pcts_x['LVL_panimmune'] == 'MACROPHAGE_LYVE1_HIGH') ,'count'] + pcts.loc[(pcts_x['count']<15) & (pcts_x['count']>0),'count']\n",
    "pcts.loc[(pcts_x['count']<5) & (pcts_x['count']>0),'LVL_panimmune'] = 'MACROPHAGE_LYVE1_HIGH'\n",
    "#Remove any less than 10 cells, must be minimum of 5 cells\n",
    "pcts.loc[pcts['count']<5,'LVL_panimmune'] = 'MACROPHAGE_LYVE1_HIGH'\n",
    "\n",
    "pcts = pcts.groupby(['organ', 'LVL_panimmune']).agg({'count': 'sum'}).reset_index()\n",
    "# pcts.loc[(pcts_x['count']<15) & (pcts_x['count']>0),'count'] = 0\n",
    "\n",
    "\n",
    "# pcts['count'] = pcts['count']+1\n",
    "#pcts['count'] = np.log10(pcts['count'])\n",
    "pcts_mat = pcts.pivot(index = 'organ', columns = 'LVL_panimmune', values='count')\n",
    "pcts_mat"
   ]
  },
  {
   "cell_type": "code",
   "execution_count": null,
   "id": "mighty-spouse",
   "metadata": {},
   "outputs": [],
   "source": [
    "pcts_mat = pcts_mat[['MACROPHAGE_ALVEOLAR', 'MACROPHAGE_INTERSTITIAL','MACROPHAGE_MICROGLIA_BAMS',\n",
    "       'MACROPHAGE_KUPFFER_LIKE', 'MACROPHAGE_LYVE1_HIGH',\n",
    "       ]]"
   ]
  },
  {
   "cell_type": "code",
   "execution_count": null,
   "id": "minus-bennett",
   "metadata": {},
   "outputs": [],
   "source": [
    "pcts_mat.to_csv('pcts_mat_adult.csv')"
   ]
  },
  {
   "cell_type": "code",
   "execution_count": null,
   "id": "impaired-destiny",
   "metadata": {},
   "outputs": [],
   "source": [
    "pcts_mat = pd.read_csv('pcts_mat_adult.csv')"
   ]
  },
  {
   "cell_type": "code",
   "execution_count": null,
   "id": "protective-league",
   "metadata": {},
   "outputs": [],
   "source": [
    "org_order = ['fat',\n",
    "  'vasculature',\n",
    " 'muscle',\n",
    "'brain',\n",
    " 'bladder',\n",
    " 'heart',\n",
    " 'lymph_node',\n",
    " 'thymus',\n",
    " 'omentum',\n",
    "'bone_marrow',\n",
    "'trachea',\n",
    "  'gut',\n",
    " 'skin',\n",
    "'liver',\n",
    " 'uterus',\n",
    " 'spleen',\n",
    " 'prostate',\n",
    " 'lung']"
   ]
  },
  {
   "cell_type": "code",
   "execution_count": null,
   "id": "hired-killer",
   "metadata": {},
   "outputs": [],
   "source": [
    "pcts_mat = pcts_mat.set_index('organ').T[org_order].T\n",
    "pcts_mat = pcts_mat.reset_index()"
   ]
  },
  {
   "cell_type": "code",
   "execution_count": null,
   "id": "overhead-manor",
   "metadata": {},
   "outputs": [],
   "source": [
    "list((np.sum(pcts_mat,axis = 1)).astype(int))"
   ]
  },
  {
   "cell_type": "code",
   "execution_count": null,
   "id": "monthly-evidence",
   "metadata": {},
   "outputs": [],
   "source": [
    "plt.rcdefaults()"
   ]
  },
  {
   "cell_type": "code",
   "execution_count": null,
   "id": "silver-stable",
   "metadata": {},
   "outputs": [],
   "source": [
    "from matplotlib import rcParams\n",
    "import matplotlib.patches as mpatches\n",
    "from matplotlib.lines import Line2D\n",
    "width = 0.6\n",
    "fig_sz = plt.gcf()\n",
    "size = fig_sz.get_size_inches()\n",
    "#counts = rank_prop\n",
    "fig, ax = plt.subplots(figsize=(size[1],3),frameon=False)   \n",
    "\n",
    "col_pal = ['#94BFB1', '#ff0000',     '#B49EC8',     '#EE943E',   '#E0EE70',  '#4C7BAB',    '#E78AB8',    '#AFBFCC',    '#A86458',    \"#FFFF00\"]\n",
    "pcts_mat.plot.bar(rot=0,stacked = True,color = col_pal,ax=ax)\n",
    "ax.tick_params(axis='x', labelrotation=90)\n",
    "ax.tick_params(axis='y', labelrotation=90)\n",
    "# ax.set_ylim([0, max(counts['prop'])+0.1])\n",
    "# ax.bar_label(bars,fontsize=10,rotation=90,padding = 3)\n",
    "ax.yaxis.tick_right()\n",
    "# ax.set_yticks([])\n",
    "ax.set_xticks([])\n",
    "ax.spines['top'].set_visible(False)\n",
    "ax.spines['left'].set_visible(False)\n",
    "ax.spines['right'].set_visible(True)\n",
    "ax.legend(bbox_to_anchor=(2, 1.05))\n",
    "plt.savefig('./bars_count_enriched.pdf')\n",
    "plt.show()"
   ]
  },
  {
   "cell_type": "code",
   "execution_count": null,
   "id": "determined-spirit",
   "metadata": {},
   "outputs": [],
   "source": [
    "from matplotlib import rcParams\n",
    "import matplotlib.patches as mpatches\n",
    "from matplotlib.lines import Line2D\n",
    "width = 0.6\n",
    "fig_sz = plt.gcf()\n",
    "size = fig_sz.get_size_inches()\n",
    "#counts = rank_prop\n",
    "fig, ax = plt.subplots(figsize=(size[1],3),frameon=False)   \n",
    "\n",
    "col_pal = ['#94BFB1', '#ff0000',     '#B49EC8',     '#EE943E',   '#E0EE70',  '#4C7BAB',    '#E78AB8',    '#AFBFCC',    '#A86458',    \"#FFFF00\"]\n",
    "pcts_mat.plot.bar(rot=0,stacked = True,color = col_pal,ax=ax)\n",
    "ax.tick_params(axis='x', labelrotation=90)\n",
    "ax.tick_params(axis='y', labelrotation=90)\n",
    "# ax.set_ylim([0, max(counts['prop'])+0.1])\n",
    "# ax.bar_label(bars,fontsize=10,rotation=90,padding = 3)\n",
    "ax.yaxis.tick_right()\n",
    "# ax.set_yticks([])\n",
    "# ax.set_xticks([])\n",
    "ax.spines['top'].set_visible(False)\n",
    "ax.spines['left'].set_visible(False)\n",
    "ax.spines['right'].set_visible(True)\n",
    "ax.legend(bbox_to_anchor=(2, 1.05))\n",
    "plt.savefig('./bars_count_enriched_with_x.pdf')\n",
    "plt.show()"
   ]
  },
  {
   "cell_type": "markdown",
   "id": "balanced-browse",
   "metadata": {},
   "source": [
    "# V2 black and gray"
   ]
  },
  {
   "cell_type": "code",
   "execution_count": null,
   "id": "aggressive-decade",
   "metadata": {},
   "outputs": [],
   "source": [
    "from matplotlib import rcParams\n",
    "import matplotlib.patches as mpatches\n",
    "from matplotlib.lines import Line2D\n",
    "width = 0.6\n",
    "fig_sz = plt.gcf()\n",
    "size = fig_sz.get_size_inches()\n",
    "counts = rank_prop\n",
    "fig, ax = plt.subplots(figsize=(size[1],3),frameon=False)   \n",
    "\n",
    "col_pal = ['#94BFB1', '#ff0000',     '#B49EC8',    '#E0EE70',    '#EE943E',    '#4C7BAB',    '#E78AB8',    '#AFBFCC',    '#A86458',    \"#FFFF00\"]\n",
    "pcts_mat.plot.bar(rot=0,stacked = True,color = col_pal,ax=ax)\n",
    "ax.tick_params(axis='x', labelrotation=90)\n",
    "ax.tick_params(axis='y', labelrotation=90)\n",
    "# ax.set_ylim([0, max(counts['prop'])+0.1])\n",
    "# ax.bar_label(bars,fontsize=10,rotation=90,padding = 3)\n",
    "ax.yaxis.tick_right()\n",
    "# ax.set_yticks([])\n",
    "ax.set_xticks([])\n",
    "ax.spines['top'].set_visible(False)\n",
    "ax.spines['left'].set_visible(False)\n",
    "ax.spines['right'].set_visible(True)\n",
    "ax.legend(bbox_to_anchor=(1.1, 1.05))\n",
    "plt.savefig('./bars_count_enriched.pdf')\n",
    "plt.show()"
   ]
  },
  {
   "cell_type": "code",
   "execution_count": null,
   "id": "finnish-christian",
   "metadata": {},
   "outputs": [],
   "source": [
    "from matplotlib import rcParams\n",
    "import matplotlib.patches as mpatches\n",
    "from matplotlib.lines import Line2D\n",
    "width = 0.6\n",
    "fig_sz = plt.gcf()\n",
    "size = fig_sz.get_size_inches()\n",
    "counts = rank_prop\n",
    "fig, ax = plt.subplots(figsize=(size[1],3),frameon=False)   \n",
    "\n",
    "col_pal = ['#94BFB1', '#ff0000',     '#B49EC8',    '#E0EE70',    '#EE943E',    '#4C7BAB',    '#E78AB8',    '#AFBFCC',    '#A86458',    \"#FFFF00\"]\n",
    "pcts_mat.plot.bar(rot=0,stacked = True,color = col_pal,ax=ax)\n",
    "ax.tick_params(axis='x', labelrotation=90)\n",
    "ax.tick_params(axis='y', labelrotation=90)\n",
    "# ax.set_ylim([0, max(counts['prop'])+0.1])\n",
    "# ax.bar_label(bars,fontsize=10,rotation=90,padding = 3)\n",
    "ax.yaxis.tick_right()\n",
    "# ax.set_yticks([])\n",
    "# ax.set_xticks([])\n",
    "ax.spines['top'].set_visible(False)\n",
    "ax.spines['left'].set_visible(False)\n",
    "ax.spines['right'].set_visible(True)\n",
    "ax.legend(bbox_to_anchor=(1.1, 1.05))\n",
    "plt.savefig('./bars_count_enriched_with_x.pdf')\n",
    "plt.show()"
   ]
  },
  {
   "cell_type": "markdown",
   "id": "forced-bundle",
   "metadata": {},
   "source": [
    "# Compute and plot by proportion"
   ]
  },
  {
   "cell_type": "code",
   "execution_count": null,
   "id": "current-scroll",
   "metadata": {},
   "outputs": [],
   "source": [
    "enr_rank = pd.DataFrame(adata_plot.obs.loc[adata_plot.obs['LVL5'].isin(['MACROPHAGE_pre_agm_hi'])].groupby(['organ','LVL_panimmune']).apply(len)).reset_index()\n",
    "enr_rank.columns = ['organ', 'LVL_panimmune','count']\n",
    "enr_rank['organ'].astype('category').cat.reorder_categories(org_order)\n",
    "prop = enr_rank.groupby(['organ', 'LVL_panimmune']).agg({'count': 'sum'})\n",
    "\n",
    "prop = enr_rank.groupby(['organ', 'LVL_panimmune']).agg({'count': 'sum'}).reset_index()\n",
    "prop.loc[(prop['LVL_panimmune'].isin(['MACROPHAGE_MHCII_HIGH'])) & (prop['count']>1),'count'] = prop.loc[(prop['LVL_panimmune'].isin(['MACROPHAGE_MHCII_HIGH'])) & (prop['count']>1),'count']**(1/4)\n",
    "pcts = prop.copy()\n",
    "\n",
    "# Change: groupby and divide by sum\n",
    "prop_x = enr_rank.groupby(['organ', 'LVL_panimmune']).agg({'count': 'sum'})\n",
    "pcts_x = prop_x.groupby(level=0).apply(lambda x:100 * x / float(x.sum()))\n",
    "pcts_x = pcts_x.reset_index()\n",
    "\n",
    "#If prop <0.1, 10% of enriched population, remove or add to largest cat\n",
    "#pcts.loc[pcts_x['count']<5,'count'] = 0\n",
    "#pcts.loc[(pcts_x['count']<15) & (pcts_x['count']>0),'LVL_panimmune'] = 'MACROPHAGE_LYVE1_HIGH'\n",
    "#pcts.loc[pcts['organ'].isin(pcts.loc[(pcts_x['count']<15) & (pcts_x['count']>0),'organ']) & (pcts_x['LVL_panimmune'] == 'MACROPHAGE_LYVE1_HIGH') ,'count'] = pcts.loc[pcts['organ'].isin(pcts.loc[(pcts_x['count']<15) & (pcts_x['count']>0),'organ']) & (pcts_x['LVL_panimmune'] == 'MACROPHAGE_LYVE1_HIGH') ,'count'] + pcts.loc[(pcts_x['count']<15) & (pcts_x['count']>0),'count']\n",
    "pcts.loc[(pcts_x['count']<5) & (pcts_x['count']>0),'LVL_panimmune'] = 'MACROPHAGE_LYVE1_HIGH'\n",
    "#Remove any less than 10 cells, must be minimum of 5 cells\n",
    "pcts.loc[pcts['count']<5,'LVL_panimmune'] = 'MACROPHAGE_LYVE1_HIGH'\n",
    "\n",
    "pcts = pcts.groupby(['organ', 'LVL_panimmune']).agg({'count': 'sum'}).reset_index()\n",
    "# pcts.loc[(pcts_x['count']<15) & (pcts_x['count']>0),'count'] = 0\n",
    "\n",
    "\n",
    "# pcts['count'] = pcts['count']+1\n",
    "#pcts['count'] = np.log10(pcts['count'])\n",
    "pcts_mat = pcts.pivot(index = 'organ', columns = 'LVL_panimmune', values='count')\n",
    "pcts_mat = ((pcts_mat.T/pcts_mat.T.sum())*100).T"
   ]
  },
  {
   "cell_type": "code",
   "execution_count": null,
   "id": "alleged-robinson",
   "metadata": {},
   "outputs": [],
   "source": [
    "from matplotlib import rcParams\n",
    "import matplotlib.patches as mpatches\n",
    "from matplotlib.lines import Line2D\n",
    "width = 0.6\n",
    "fig_sz = plt.gcf()\n",
    "size = fig_sz.get_size_inches()\n",
    "counts = rank_prop\n",
    "fig, ax = plt.subplots(figsize=(size[1],3),frameon=False)   \n",
    "\n",
    "col_pal = ['#94BFB1', '#ff0000',     '#B49EC8',    '#E0EE70',    '#EE943E',    '#4C7BAB',    '#E78AB8',    '#AFBFCC',    '#A86458',    \"#FFFF00\"]\n",
    "pcts_mat.plot.bar(rot=0,stacked = True,color = col_pal,ax=ax)\n",
    "ax.tick_params(axis='x', labelrotation=90)\n",
    "ax.tick_params(axis='y', labelrotation=90)\n",
    "# ax.set_ylim([0, max(counts['prop'])+0.1])\n",
    "# ax.bar_label(bars,fontsize=10,rotation=90,padding = 3)\n",
    "ax.yaxis.tick_right()\n",
    "# ax.set_yticks([])\n",
    "ax.set_xticks([])\n",
    "ax.spines['top'].set_visible(False)\n",
    "ax.spines['left'].set_visible(False)\n",
    "ax.spines['right'].set_visible(True)\n",
    "ax.legend(bbox_to_anchor=(1.1, 1.05))\n",
    "plt.savefig('./pecentage_bars_count_enriched.pdf')\n",
    "plt.show()"
   ]
  },
  {
   "cell_type": "code",
   "execution_count": null,
   "id": "framed-rings",
   "metadata": {},
   "outputs": [],
   "source": [
    "from matplotlib import rcParams\n",
    "import matplotlib.patches as mpatches\n",
    "from matplotlib.lines import Line2D\n",
    "width = 0.6\n",
    "fig_sz = plt.gcf()\n",
    "size = fig_sz.get_size_inches()\n",
    "counts = rank_prop\n",
    "fig, ax = plt.subplots(figsize=(size[1],3),frameon=False)   \n",
    "\n",
    "col_pal = ['#94BFB1', '#ff0000',     '#B49EC8',    '#E0EE70',    '#EE943E',    '#4C7BAB',    '#E78AB8',    '#AFBFCC',    '#A86458',    \"#FFFF00\"]\n",
    "pcts_mat.plot.bar(rot=0,stacked = True,color = col_pal,ax=ax)\n",
    "ax.tick_params(axis='x', labelrotation=90)\n",
    "ax.tick_params(axis='y', labelrotation=90)\n",
    "# ax.set_ylim([0, max(counts['prop'])+0.1])\n",
    "# ax.bar_label(bars,fontsize=10,rotation=90,padding = 3)\n",
    "ax.yaxis.tick_right()\n",
    "# ax.set_yticks([])\n",
    "# ax.set_xticks([])\n",
    "ax.spines['top'].set_visible(False)\n",
    "ax.spines['left'].set_visible(False)\n",
    "ax.spines['right'].set_visible(True)\n",
    "ax.legend(bbox_to_anchor=(1.1, 1.05))\n",
    "plt.savefig('./percentage_bars_count_enriched_with_x.pdf', bbox_inches = 'tight')\n",
    "plt.show()"
   ]
  },
  {
   "cell_type": "markdown",
   "id": "recorded-shelter",
   "metadata": {},
   "source": [
    "# Save boolean indices"
   ]
  },
  {
   "cell_type": "code",
   "execution_count": null,
   "id": "french-hypothetical",
   "metadata": {},
   "outputs": [],
   "source": [
    "import pandas as pd"
   ]
  },
  {
   "cell_type": "code",
   "execution_count": null,
   "id": "affected-concert",
   "metadata": {},
   "outputs": [],
   "source": [
    "adata.obs.to_csv('pan_adult_myeloid_atlas_obs.csv')\n",
    "obs = adata.obs[['organ','donor','LVL_panimmune']]"
   ]
  },
  {
   "cell_type": "code",
   "execution_count": null,
   "id": "prerequisite-thing",
   "metadata": {},
   "outputs": [],
   "source": [
    "#obs = pd.read_csv('/nfs/team205/ig7/work_backups/backup_210306/projects/YS/rebuttal_figs_010922/ling_adult_macs/Adult_myeloid_atlas_obs_for_supp.csv',index_col = 0)\n",
    "indices = pd.read_csv('/nfs/team205/ig7/work_backups/backup_210306/projects/YS/rebuttal_figs_010922/ling_adult_macs/adult_atlas_pre_agm_hi_mac_indices.csv',index_col = 0)"
   ]
  },
  {
   "cell_type": "code",
   "execution_count": null,
   "id": "creative-static",
   "metadata": {},
   "outputs": [],
   "source": [
    "obs['Pre_AGM_enriched'] = 'False'\n",
    "obs.loc[obs.index.isin(indices.index),'Pre_AGM_enriched'] = indices['LVL5']\n",
    "obs.loc[obs.index.isin(indices.index),'Pre_AGM_enriched'] = obs.loc[obs.index.isin(indices.index),'Pre_AGM_enriched'].str.replace('MACROPHAGE_pre_agm_hi','True')\n",
    "obs.loc[obs.index.isin(indices.index),'Pre_AGM_enriched'] = obs.loc[obs.index.isin(indices.index),'Pre_AGM_enriched'].str.replace('MAC','False')"
   ]
  },
  {
   "cell_type": "code",
   "execution_count": null,
   "id": "valued-break",
   "metadata": {},
   "outputs": [],
   "source": [
    "list(obs['organ'].unique())"
   ]
  },
  {
   "cell_type": "code",
   "execution_count": null,
   "id": "announced-daily",
   "metadata": {},
   "outputs": [],
   "source": [
    "obs.to_csv('/nfs/team205/ig7/work_backups/backup_210306/projects/YS/rebuttal_figs_010922/ling_adult_macs/Adult_myeloid_atlas_obs_for_supp.csv')"
   ]
  },
  {
   "cell_type": "code",
   "execution_count": null,
   "id": "raising-airplane",
   "metadata": {},
   "outputs": [],
   "source": [
    "pcts.plot.bar(stacked=True)"
   ]
  },
  {
   "cell_type": "code",
   "execution_count": null,
   "id": "cutting-modem",
   "metadata": {},
   "outputs": [],
   "source": [
    "pcts['organ'] = pcts['organ'].cat.reorder_categories(org_order)"
   ]
  },
  {
   "cell_type": "code",
   "execution_count": null,
   "id": "animal-belief",
   "metadata": {},
   "outputs": [],
   "source": [
    "list(pcts['organ'].cat.categories)"
   ]
  },
  {
   "cell_type": "code",
   "execution_count": null,
   "id": "macro-crest",
   "metadata": {},
   "outputs": [],
   "source": [
    "# ax = sns.violinplot(x=x, y=y, data=data,split= True,size=5,width = 1, split_palette=False,cut=0,)#\n",
    "# ax"
   ]
  },
  {
   "cell_type": "markdown",
   "id": "naked-hello",
   "metadata": {},
   "source": [
    "adata.obs# Let's plot prportion of each mac subtype that is in enrichment"
   ]
  },
  {
   "cell_type": "code",
   "execution_count": null,
   "id": "overall-thailand",
   "metadata": {},
   "outputs": [],
   "source": [
    "adata.obs.groupby(['organ','LVL5']).apply(len)"
   ]
  },
  {
   "cell_type": "code",
   "execution_count": null,
   "id": "infectious-painting",
   "metadata": {},
   "outputs": [],
   "source": [
    "count_df['LVL5']"
   ]
  },
  {
   "cell_type": "code",
   "execution_count": null,
   "id": "serial-interstate",
   "metadata": {},
   "outputs": [],
   "source": [
    "count_df = pd.DataFrame(adata.obs.groupby(['organ','LVL3','LVL5']).apply(len)).reset_index()\n",
    "prop_df = pd.DataFrame(index = count_df['organ'].unique(),columns = list(adata.obs['LVL3'].unique()))\n",
    "count_df.columns = ['organ','LVL3','LVL5','counts']\n",
    "for organ in count_df.organ.unique():\n",
    "    print(organ)\n",
    "    temp_df = count_df[count_df.organ.isin([organ])]\n",
    "    # what is the proportion of TLF hi by subset\n",
    "    temp_df['prop'] = 'na'\n",
    "    for lvl in temp_df['LVL3'].unique():\n",
    "        try:\n",
    "            prop_df.loc[prop_df.index.isin([organ]),lvl] =  temp_df.loc[temp_df['LVL3'].isin([lvl]),'counts'].iloc[1]/ np.sum(temp_df.loc[temp_df['LVL3'].isin([lvl]),'counts'])\n",
    "        except:\n",
    "            prop_df.loc[prop_df.index.isin([organ]),lvl] = 0 \n",
    "prop_df"
   ]
  },
  {
   "cell_type": "code",
   "execution_count": null,
   "id": "silent-programming",
   "metadata": {},
   "outputs": [],
   "source": [
    "prop_df = prop_df.astype('float')\n",
    "# prop_df = prop_df[[\n",
    "# 'MACROPHAGE_PRE_MAC',\n",
    "# 'MACROPHAGE_MICROGLIA',\n",
    "# 'MACROPHAGE_LYVE1_HIGH',\n",
    "# 'MACROPHAGE_MHCII_HIGH',\n",
    "# 'MACROPHAGE_IRON_RECYCLING',\n",
    "# 'MACROPHAGE_KUPFFER_LIKE',\n",
    "# 'MACROPHAGE_PROLIFERATING',\n",
    "# 'MACROPHAGE_ERY',\n",
    "# 'MACROPHAGE_PERI',]]\n",
    "prop_df = prop_df.loc[org_order]"
   ]
  },
  {
   "cell_type": "code",
   "execution_count": null,
   "id": "divine-brother",
   "metadata": {},
   "outputs": [],
   "source": [
    "prop_df"
   ]
  },
  {
   "cell_type": "code",
   "execution_count": null,
   "id": "comic-birth",
   "metadata": {},
   "outputs": [],
   "source": [
    "#prop_df = pd.read_csv('/nfs/team205/ig7/work_backups/backup_210306/projects/YS/rebuttal_figs_010922/01_Fetal_YS_MAC_across_organs/1_5_MAC_TLF_line_violin_plot/V3_plots/prop_enrich.csv',index_col = 0)"
   ]
  },
  {
   "cell_type": "code",
   "execution_count": null,
   "id": "mineral-gallery",
   "metadata": {},
   "outputs": [],
   "source": [
    "crs_tbl = prop_df.copy()"
   ]
  },
  {
   "cell_type": "code",
   "execution_count": null,
   "id": "juvenile-grade",
   "metadata": {},
   "outputs": [],
   "source": [
    "# Sort df columns by rows\n",
    "plt.rcdefaults()\n",
    "# index_order = list(crs_tbl.max(axis=1).sort_values(ascending=False).index)\n",
    "col_order = list(crs_tbl.max(axis=0).sort_values(ascending=False).index)\n",
    "# crs_tbl = crs_tbl.loc[index_order]\n",
    "crs_tbl = crs_tbl[col_order]\n",
    "\n",
    "# Plot_df_heatmap(crs_tbl, cmap='coolwarm', rotation=90, vmin=20, vmax=70)\n",
    "pal = sns.color_palette(\"YlOrBr\", as_cmap=True)#sns.color_palette(\"magma\", as_cmap=True)#sns.diverging_palette(240, 10, n=10)\n",
    "plt.figure(figsize=(30,30))\n",
    "sns.set(font_scale=1)\n",
    "g = sns.heatmap(crs_tbl, cmap=pal,  annot=False,vmin=0, vmax=0.8, linewidths=1, center=0.4, square=True, cbar_kws={\"shrink\": 0.5})\n",
    "g.xaxis.set_ticks_position(\"top\")\n",
    "\n",
    "plt.xticks(rotation=90,fontsize = 15)\n",
    "plt.yticks(rotation=0,fontsize = 15)\n",
    "plt.ylabel(\"Organ labels\", fontsize=30)\n",
    "plt.xlabel(\"Mac_substates\", fontsize=30)\n",
    "# plt.show()\n",
    "plt.savefig('./ver5_proportion_subtype_enrich.pdf',dpi=300)\n",
    "plt.show()"
   ]
  },
  {
   "cell_type": "code",
   "execution_count": null,
   "id": "conscious-italian",
   "metadata": {},
   "outputs": [],
   "source": [
    "adata_mac.obs['organ_LVL3'] = adata_mac.obs['organ_uni'].astype(str) + '_'+ adata_mac.obs['IG_annot'].astype(str)\n",
    "sc.pp.normalize_total(adata_mac, target_sum=10000)"
   ]
  },
  {
   "cell_type": "code",
   "execution_count": null,
   "id": "attached-throw",
   "metadata": {},
   "outputs": [],
   "source": [
    "markers = {\n",
    "'MACROPHAGE_LYVE1_HIGH': ['RNASE1', 'PLTP', 'F13A1', 'LYVE1', 'CD163'],\n",
    " 'MACROPHAGE_MHCII_HIGH': ['HLA-DRA',\n",
    "  'HLA-DPA1',\n",
    "  'CD74',\n",
    "  'HLA-DPB1',\n",
    "  'HLA-DRB1'],\n",
    " 'MACROPHAGE_ERY': ['SMAP2', 'RIPOR2', 'IGHA1', 'IL1R2', 'TNFAIP3'],\n",
    " 'MACROPHAGE_KUPFFER_LIKE': ['SLC40A1', 'CD5L', 'SELENOP', 'HMOX1', 'C1QC'],\n",
    " 'MACROPHAGE_MICROGLIA': ['NEAT1', 'DDX17', 'SPP1', 'CLDN5'],\n",
    " 'OSTEOCLAST': ['GPNMB', 'APOE', 'ACP5', 'CHIT1', 'CSTB'],\n",
    " 'MACROPHAGE_PERI': ['CCL3', 'CXCL2', 'CTSL', 'NFKBIA', 'CSTB'],\n",
    " 'MACROPHAGE_PROLIFERATING': ['STMN1', 'TUBA1B', 'H2AFZ', 'TUBB', 'HMGN2'],\n",
    "}\n",
    "\n",
    "order = [\n",
    " 'MACROPHAGE_LYVE1_HIGH',\n",
    "'MACROPHAGE_MHCII_HIGH',\n",
    " 'MACROPHAGE_ERY',\n",
    " 'MACROPHAGE_KUPFFER_LIKE',\n",
    "'MACROPHAGE_MICROGLIA',\n",
    "'OSTEOCLAST',\n",
    "'MACROPHAGE_PERI',\n",
    " 'MACROPHAGE_PROLIFERATING',]\n",
    "plt.rcdefaults()\n",
    "markers = dict([(key,markers[key]) for key in order if key in markers])\n",
    "markers['pre_agm_module'] = [\n",
    " 'LYVE1',\n",
    " 'MRC1',\n",
    " 'FOLR2',\n",
    " 'NINJ1','TIMD4','TTR',\n",
    " 'CGA',\n",
    " 'AGR2',\n",
    " 'FCGR1A',\n",
    " 'CSH1']\n",
    "adata_mac.obs['IG_annot'] = adata_mac.obs['IG_annot'].astype('category').cat.reorder_categories(order)\n",
    "data_temp = adata_mac\n",
    "dp = (sc.pl.dotplot(data_temp, var_names = markers, groupby='IG_annot',dendrogram=False,standard_scale='var', color_map='Reds', show = True, return_fig = True)) # title=i\n",
    "dp.add_totals()\n",
    "dp.savefig(('cross-organ_MAC_diff_expression_adult_atlas.pdf'), bboxinches = 'tight')\n",
    "dp.show()"
   ]
  },
  {
   "cell_type": "code",
   "execution_count": null,
   "id": "vital-shelf",
   "metadata": {},
   "outputs": [],
   "source": [
    "import seaborn as sns; sns.set(color_codes=True)\n",
    "save_path = './'\n",
    "pal = sns.color_palette(\"YlOrBr\", as_cmap=True)#pal = sns.diverging_palette(240, 10, n=10)\n",
    "plt.figure(figsize=(20,20))\n",
    "sns.set(font_scale=0.8)\n",
    "g = sns.heatmap(prop_df, cmap=pal, vmin=0, vmax=0.8, linewidths=1, center=0.4, square=True, cbar_kws={\"shrink\": 0.5})\n",
    "plt.yticks(rotation=0,fontsize = 30)\n",
    "plt.xticks(rotation=90,fontsize = 30)\n",
    "# plt.xlabel(\"Original labels\")\n",
    "# plt.ylabel(\"Predicted labels\")\n",
    "plt.savefig(\"./prop_enrich.pdf\",bbox_inches='tight')\n",
    "prop_df.to_csv(\"./prop_enrich.csv\")"
   ]
  },
  {
   "cell_type": "code",
   "execution_count": null,
   "id": "alternate-following",
   "metadata": {},
   "outputs": [],
   "source": []
  },
  {
   "cell_type": "code",
   "execution_count": null,
   "id": "failing-martin",
   "metadata": {},
   "outputs": [],
   "source": [
    "temp_df"
   ]
  },
  {
   "cell_type": "code",
   "execution_count": null,
   "id": "civilian-fifty",
   "metadata": {},
   "outputs": [],
   "source": [
    "prop_df.loc[prop_df.index.isin([organ]),lvl] = "
   ]
  },
  {
   "cell_type": "code",
   "execution_count": null,
   "id": "simplified-replication",
   "metadata": {},
   "outputs": [],
   "source": []
  },
  {
   "cell_type": "code",
   "execution_count": null,
   "id": "derived-venue",
   "metadata": {},
   "outputs": [],
   "source": [
    "temp_df"
   ]
  },
  {
   "cell_type": "code",
   "execution_count": null,
   "id": "after-ancient",
   "metadata": {},
   "outputs": [],
   "source": [
    "temp_df.loc[temp_df.index.isin([lvl]),'prop']"
   ]
  },
  {
   "cell_type": "code",
   "execution_count": null,
   "id": "blocked-malpractice",
   "metadata": {},
   "outputs": [],
   "source": [
    "temp_df.loc[temp_df['LVL3'].isin([lvl]),'counts'].iloc[1]/np.sum(temp_df.loc[temp_df['LVL3'].isin([lvl]),'counts'])"
   ]
  },
  {
   "cell_type": "code",
   "execution_count": null,
   "id": "optical-aside",
   "metadata": {},
   "outputs": [],
   "source": [
    "temp_df"
   ]
  },
  {
   "cell_type": "code",
   "execution_count": null,
   "id": "amended-strain",
   "metadata": {},
   "outputs": [],
   "source": [
    "ranker = data.groupby(['organ','LVL5']).apply(len).reset_index()\n",
    "rank_prop = pd.DataFrame(index = ranker['organ'].unique(),columns = ['prop','count'])\n",
    "for organ in ranker['organ'].unique():\n",
    "    rank_prop.loc[rank_prop.index.isin([organ]),'prop'] =  ranker.loc[ranker['organ'].isin([organ]),0].iloc[1]/ np.sum(ranker.loc[ranker['organ'].isin([organ]),0])\n",
    "    rank_prop.loc[rank_prop.index.isin([organ]),'count'] = int(np.sum(ranker.loc[ranker['organ'].isin([organ])]))"
   ]
  },
  {
   "cell_type": "code",
   "execution_count": null,
   "id": "exclusive-hampton",
   "metadata": {},
   "outputs": [],
   "source": [
    "prop = 0.1\n",
    "(prop*(1-prop)/100)**(1/2)"
   ]
  },
  {
   "cell_type": "code",
   "execution_count": null,
   "id": "arabic-houston",
   "metadata": {},
   "outputs": [],
   "source": [
    "rank_prop['error'] = ((rank_prop['prop'] * (1- rank_prop['prop'] ))/rank_prop['count'])**(1/2)\n"
   ]
  },
  {
   "cell_type": "code",
   "execution_count": null,
   "id": "combined-ultimate",
   "metadata": {},
   "outputs": [],
   "source": [
    "rank_prop.sort_values('error',ascending = True)"
   ]
  },
  {
   "cell_type": "code",
   "execution_count": null,
   "id": "equivalent-czech",
   "metadata": {},
   "outputs": [],
   "source": [
    "ranker = data.groupby(['organ','LVL5']).apply(len).reset_index()\n",
    "rank_prop = pd.DataFrame(index = ranker['organ'].unique(),columns = ['prop'])\n",
    "for organ in ranker['organ'].unique():\n",
    "    rank_prop.loc[rank_prop.index.isin([organ]),'prop'] =  ranker.loc[ranker['organ'].isin([organ]),0].iloc[1]/ np.sum(ranker.loc[ranker['organ'].isin([organ]),0])\n",
    "rank_prop = rank_prop.sort_values('prop',ascending = False)\n",
    "data['organ'] = data['organ'].cat.reorder_categories(list(rank_prop.index))\n",
    "col_dict = dict([(key, col_dict[key]) for key in rank_prop.index if key in col_dict])"
   ]
  },
  {
   "cell_type": "code",
   "execution_count": null,
   "id": "included-updating",
   "metadata": {},
   "outputs": [],
   "source": [
    "rank_prop"
   ]
  },
  {
   "cell_type": "code",
   "execution_count": null,
   "id": "ceramic-joshua",
   "metadata": {},
   "outputs": [],
   "source": [
    "ranker"
   ]
  },
  {
   "cell_type": "code",
   "execution_count": null,
   "id": "attended-parcel",
   "metadata": {},
   "outputs": [],
   "source": []
  },
  {
   "cell_type": "code",
   "execution_count": null,
   "id": "immediate-nickname",
   "metadata": {},
   "outputs": [],
   "source": []
  },
  {
   "cell_type": "code",
   "execution_count": null,
   "id": "paperback-bottle",
   "metadata": {},
   "outputs": [],
   "source": []
  },
  {
   "cell_type": "code",
   "execution_count": null,
   "id": "forward-redhead",
   "metadata": {},
   "outputs": [],
   "source": [
    "from matplotlib import pyplot as plt\n",
    "from matplotlib.colors import to_rgb\n",
    "from matplotlib.collections import PolyCollection\n",
    "from matplotlib.legend_handler import HandlerTuple\n",
    "import seaborn as sns\n",
    "import numpy as np\n",
    "from matplotlib.lines import Line2D\n",
    "import matplotlib as mpl\n",
    "import matplotlib.patches as mpatches\n",
    "\n",
    "plt.rcdefaults()\n",
    "plt.rcParams['figure.facecolor'] = 'white'\n",
    "plt.figure(figsize=(15,10))\n",
    "\n",
    "data = data\n",
    "x = 'organ'\n",
    "y = 'scaled_pre_agm_mac_score'\n",
    "split = 'LVL5'\n",
    "save_name = './v5_multi_color_ordered_Violin_organ_wise_tlf_distribution.pdf'\n",
    "col_dict = dict([(key, col_dict[key]) for key in rank_prop.index if key in col_dict])\n",
    "jitter = False\n",
    "use_custom_color_dict = True\n",
    "\n",
    "if use_custom_color_dict == False:\n",
    "    sns.set_palette(palette = sns.color_palette())\n",
    "    ax = sns.violinplot(x=x, y=y,hue = split, data=data,split= True,size=5,width = 1, split_palette=True,cut=0,)#palette = []\n",
    "    # add hatched legend\n",
    "    circ1 = mpatches.Patch( facecolor=(0.12156862745098039, 0.4666666666666667, 0.7058823529411765),alpha=0.8,label='Mac')\n",
    "    circ2 = mpatches.Patch( facecolor=(1.0, 0.4980392156862745, 0.054901960784313725),alpha=0.8,hatch=r'\\\\\\\\',label='Pre-AGM_module_enriched')\n",
    "else:\n",
    "    ax = sns.violinplot(x=x, y=y,hue = split, data=data,split= True,size=5,width = 1, split_palette=True,cut=0, palette=['.2', '.5'])#palette = []\n",
    "    if jitter == True:\n",
    "        ax = sns.stripplot(x=x, y=y, data=data_striplot,jitter=0.2, zorder=1,alpha=.5,size=1,color = 'grey')#,palette =col_dict ) #palette =col_dict \n",
    "    colors = list(col_dict.values()) + list(col_dict.values())\n",
    "    handles = []\n",
    "    for ind, violin in enumerate(ax.findobj(PolyCollection)):\n",
    "        rgb = to_rgb(colors[ind // 2])\n",
    "        if ind % 2 != 0:\n",
    "            rgb = 0.5 + 0.5 * np.array(rgb)  # make whiter\n",
    "        violin.set_facecolor(rgb)\n",
    "        handles.append(plt.Rectangle((0, 0), 0, 0, facecolor=rgb, edgecolor='black'))#hatch=r'\\\\\\\\')\n",
    "        # set marker colors\n",
    "        markers = [plt.Line2D([0,0],[0,0],color=color, marker='o', linestyle='') for color in col_dict.values()]\n",
    "        legend2 = plt.legend(markers, color_key.keys(), numpoints=1,loc='center left', bbox_to_anchor=(1.01, 0.5))\n",
    "        ax.add_artist(legend2)\n",
    "        plt.setp(legend2.get_title())#,fontsize='small'\n",
    "        # add hatched legend\n",
    "        circ1 = mpatches.Patch( facecolor='#808080',alpha=0.8,label='Mac')\n",
    "        circ2 = mpatches.Patch( facecolor='#808080',alpha=0.8,hatch=r'\\\\\\\\',label='Pre-AGM_module_enriched')\n",
    "\n",
    "for i, violin in enumerate(ax.findobj(mpl.collections.PolyCollection)):\n",
    "    if i % 2:\n",
    "        violin.set_hatch(\"//\")\n",
    "        \n",
    "# red_line = Line2D([0], [0], color='red', lw=3, label='K Selected',linestyle='--')\n",
    "#legend1 = plt.legend(handles=[tuple(handles[::2]), tuple(handles[1::2]),red_line], labels=data[\"LVL5\"].cat.categories.to_list(),title=\"Pre-AGM mac module enriched\", handlelength=4, handler_map={tuple: HandlerTuple(ndivide=None, pad=0)},bbox_to_anchor=(1.21, 1))\n",
    "\n",
    "legend3 = plt.legend(handles=[circ1,circ2], numpoints=1,loc='center left', bbox_to_anchor=(1.01, 0.3))\n",
    "#ax.add_artist(legend1)\n",
    "ax.add_artist(legend3)\n",
    "\n",
    "plt.axhline(y = 0, color = 'r', linestyle = ':')#np.mean(adata_macs.obs['scaled_pre_agm_mac_score'])#plt.axhline(y = np.mean(adata_macs.obs['scaled_pre_agm_mac_score']), color = 'r', linestyle = ':')\n",
    "plt.title(\"Organ-wise Pre-AGM YS Mac module distribution\",fontsize = 20,y=1.05,fontweight='bold')\n",
    "plt.ylabel(\"variance-scaled TLF+ module score\",fontsize = 20,fontweight='bold')\n",
    "plt.xlabel(\"Organs\",fontsize = 20,fontweight='bold')\n",
    "plt.savefig((save_name),dpi=300,bbox_inches='tight')\n",
    "plt.show()"
   ]
  },
  {
   "cell_type": "code",
   "execution_count": null,
   "id": "friendly-development",
   "metadata": {},
   "outputs": [],
   "source": [
    "obs = pd.read_csv('/nfs/team205/ig7/work_backups/backup_210306/projects/YS/YS_data/YS_panf_gonads_brain_eliv_combined_060922/A1_Vx_pan_organ_integrations/OBS_A1_V10_raw_scvi_YS_updated_panf_gonads_brain_build_donor_organ_corrected_031022.csv',index_col = 0)"
   ]
  },
  {
   "cell_type": "code",
   "execution_count": null,
   "id": "cheap-commission",
   "metadata": {},
   "outputs": [],
   "source": [
    "obs['LVL4'][obs['LVL4'].str.contains('ELP')]"
   ]
  },
  {
   "cell_type": "code",
   "execution_count": null,
   "id": "sonic-humidity",
   "metadata": {},
   "outputs": [],
   "source": [
    "obs['LVL4']"
   ]
  },
  {
   "cell_type": "code",
   "execution_count": null,
   "id": "norwegian-romance",
   "metadata": {},
   "outputs": [],
   "source": [
    "obs2 = pd.read_csv('/nfs/team205/ig7/work_backups/backup_210306/projects/Pan_fetal/IG_anno_lvl_2_final_clean_051121.csv',index_col = 0)"
   ]
  },
  {
   "cell_type": "code",
   "execution_count": null,
   "id": "fundamental-architect",
   "metadata": {},
   "outputs": [],
   "source": [
    "obs2[obs2['anno_lvl_2_final_clean'].str.contains('ELP')]"
   ]
  },
  {
   "cell_type": "code",
   "execution_count": null,
   "id": "fantastic-september",
   "metadata": {},
   "outputs": [],
   "source": [
    "obs2[obs2['anno_lvl_2_final_clean'].str.contains('ETP')]"
   ]
  }
 ],
 "metadata": {
  "kernelspec": {
   "display_name": "workhorse",
   "language": "python",
   "name": "workhorse"
  },
  "language_info": {
   "codemirror_mode": {
    "name": "ipython",
    "version": 3
   },
   "file_extension": ".py",
   "mimetype": "text/x-python",
   "name": "python",
   "nbconvert_exporter": "python",
   "pygments_lexer": "ipython3",
   "version": "3.8.6"
  }
 },
 "nbformat": 4,
 "nbformat_minor": 5
}
