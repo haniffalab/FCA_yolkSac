{
 "cells": [
  {
   "cell_type": "code",
   "execution_count": null,
   "id": "whole-entertainment",
   "metadata": {},
   "outputs": [],
   "source": [
    "import os\n",
    "import sys\n",
    "%matplotlib inline\n",
    "import scanpy as sc\n",
    "import pandas as pd\n",
    "import numpy as np\n",
    "import matplotlib.pyplot as plt\n",
    "from pathlib import Path\n",
    "import datetime\n",
    "\n",
    "sc.settings.verbosity = 3  # verbosity: errors (0), warnings (1), info (2), hints (3)\n",
    "sc.settings.set_figure_params(dpi=300, dpi_save=300)"
   ]
  },
  {
   "cell_type": "code",
   "execution_count": null,
   "id": "architectural-session",
   "metadata": {},
   "outputs": [],
   "source": [
    "adata = sc.read('/home/jovyan/YS_project/YS/Data_objects/final_objects/A4_V7_YS_integrated_data_singlets_with_raw_counts_for_MS_plotting_20211111_with_obsp.h5ad')"
   ]
  },
  {
   "cell_type": "code",
   "execution_count": null,
   "id": "modified-regard",
   "metadata": {},
   "outputs": [],
   "source": [
    "# normalise count data\n",
    "sc.pp.normalize_total(adata)"
   ]
  },
  {
   "cell_type": "code",
   "execution_count": null,
   "id": "unlike-workstation",
   "metadata": {},
   "outputs": [],
   "source": [
    "# log the count data\n",
    "sc.pp.log1p(adata)"
   ]
  },
  {
   "cell_type": "code",
   "execution_count": null,
   "id": "magnetic-arthritis",
   "metadata": {},
   "outputs": [],
   "source": [
    "# Replicate main data scaling\n",
    "# scale the data\n",
    "sc.pp.scale(adata, max_value=10)\n",
    "# scale the negative values in adata.X (which have been normalised, logged and scaled) to zero\n",
    "adata.X = np.where(adata.X < 0, 0, adata.X)"
   ]
  },
  {
   "cell_type": "code",
   "execution_count": null,
   "id": "liberal-patient",
   "metadata": {},
   "outputs": [],
   "source": [
    "sc.pl.umap(adata, color='HNF4A', save='HNF4A_expression_umap_20220317.pdf')"
   ]
  }
 ],
 "metadata": {
  "kernelspec": {
   "display_name": "Python_env_Hlab",
   "language": "python",
   "name": "python_env_hlab"
  },
  "language_info": {
   "codemirror_mode": {
    "name": "ipython",
    "version": 3
   },
   "file_extension": ".py",
   "mimetype": "text/x-python",
   "name": "python",
   "nbconvert_exporter": "python",
   "pygments_lexer": "ipython3",
   "version": "3.9.4"
  }
 },
 "nbformat": 4,
 "nbformat_minor": 5
}
