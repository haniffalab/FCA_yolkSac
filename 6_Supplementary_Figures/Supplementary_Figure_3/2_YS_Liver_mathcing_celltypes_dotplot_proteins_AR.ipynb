{
 "cells": [
  {
   "cell_type": "code",
   "execution_count": null,
   "id": "minus-replica",
   "metadata": {},
   "outputs": [],
   "source": [
    "import os\n",
    "import sys\n",
    "%matplotlib inline\n",
    "import scanpy as sc\n",
    "import pandas as pd\n",
    "import numpy as np\n",
    "import matplotlib.pyplot as plt\n",
    "from pathlib import Path\n",
    "import datetime\n",
    "import rpy2\n",
    "import seaborn as sns\n",
    "\n",
    "sc.settings.verbosity = 3  # verbosity: errors (0), warnings (1), info (2), hints (3)\n",
    "sc.settings.set_figure_params(dpi=300, dpi_save=300)"
   ]
  },
  {
   "cell_type": "code",
   "execution_count": null,
   "id": "hearing-relative",
   "metadata": {},
   "outputs": [],
   "source": [
    "protein_liver = sc.read('Liver_Cite_seq_protein_processed_20220406.h5ad')"
   ]
  },
  {
   "cell_type": "code",
   "execution_count": null,
   "id": "little-departure",
   "metadata": {},
   "outputs": [],
   "source": [
    "protein_liver"
   ]
  },
  {
   "cell_type": "code",
   "execution_count": null,
   "id": "incident-stanford",
   "metadata": {},
   "outputs": [],
   "source": [
    "protein_YS = sc.read('/nfs/team298/ar32/YS_citeseq_submission_1_anndata_objects/cite_seq_protein_simple_processed_for_submission_20220407.h5ad')"
   ]
  },
  {
   "cell_type": "code",
   "execution_count": null,
   "id": "configured-federal",
   "metadata": {},
   "outputs": [],
   "source": [
    "protein_YS.obs['individual_anno'].value_counts()"
   ]
  },
  {
   "cell_type": "code",
   "execution_count": null,
   "id": "forty-voluntary",
   "metadata": {},
   "outputs": [],
   "source": [
    "protein_liver.obs['individual_anno'].value_counts()"
   ]
  },
  {
   "cell_type": "code",
   "execution_count": null,
   "id": "determined-dubai",
   "metadata": {},
   "outputs": [],
   "source": [
    "YS_anno = [\n",
    "'early erythroid',\n",
    "'Erythroid',\n",
    "'Endothelium',\n",
    "'Fibroblast',\n",
    "'MEMP',\n",
    "'MK',\n",
    "'CMP',\n",
    "'Mast_cell',\n",
    "    'HSPC1'\n",
    "#'Monocyte_0', - merge\n",
    "#'Monocyte_1',\n",
    "#'pDC precursor',\n",
    "#'lymphoid progenitor',\n",
    "#'Lymphoid',\n",
    "#'lymphoid- B lin',\n",
    "#'lymphoid- NK/ILC',\n",
    "]\n",
    "\n",
    "liver_anno = [\n",
    "'Early_Erythroid',\n",
    "'Erythroid',\n",
    "'Endothelium',\n",
    "'Fibroblast',\n",
    "'MEMP',\n",
    "'MK',\n",
    "'CMP',\n",
    "'Mast_cell',\n",
    "'Monocyte',\n",
    "'pDC_precursor',\n",
    "    'HSC'\n",
    "#'Pre_B',\n",
    "#'Pre_pro_B_progenitor',\n",
    "#'Immature_B_cell',\n",
    "#'NK',\n",
    "#'ILC_precursor'\n",
    "]"
   ]
  },
  {
   "cell_type": "code",
   "execution_count": null,
   "id": "distinct-summit",
   "metadata": {},
   "outputs": [],
   "source": [
    "# broad\n",
    "# pull over indiv\n",
    "# remove non intersect"
   ]
  },
  {
   "cell_type": "code",
   "execution_count": null,
   "id": "lovely-permit",
   "metadata": {},
   "outputs": [],
   "source": [
    "protein_YS.obs['To_plot_anno'] = protein_YS.obs['broad_anno'].astype(str)\n",
    "\n",
    "for anno in YS_anno:\n",
    "    protein_YS.obs.loc[protein_YS.obs['individual_anno'].isin([anno]), 'To_plot_anno'] = anno"
   ]
  },
  {
   "cell_type": "code",
   "execution_count": null,
   "id": "freelance-identity",
   "metadata": {},
   "outputs": [],
   "source": [
    "protein_YS.obs['To_plot_anno'].value_counts()"
   ]
  },
  {
   "cell_type": "code",
   "execution_count": null,
   "id": "integral-liability",
   "metadata": {},
   "outputs": [],
   "source": [
    "celltypes_to_remove = [\n",
    "'Progenitors',\n",
    "'Endoderm',\n",
    "'Smooth_Muscle',\n",
    "'Microglia',\n",
    "'Mesothelium'\n",
    "]\n",
    "\n",
    "protein_YS = protein_YS[~protein_YS.obs['To_plot_anno'].isin(celltypes_to_remove)]\n",
    "protein_YS.obs['To_plot_anno'].value_counts()"
   ]
  },
  {
   "cell_type": "code",
   "execution_count": null,
   "id": "harmful-writing",
   "metadata": {},
   "outputs": [],
   "source": [
    "protein_liver.obs['To_plot_anno'] = protein_liver.obs['broad_anno'].astype(str)\n",
    "\n",
    "for anno in liver_anno:\n",
    "    protein_liver.obs.loc[protein_liver.obs['individual_anno'].isin([anno]), 'To_plot_anno'] = anno"
   ]
  },
  {
   "cell_type": "code",
   "execution_count": null,
   "id": "abstract-attack",
   "metadata": {},
   "outputs": [],
   "source": [
    "protein_liver.obs['To_plot_anno'].value_counts()"
   ]
  },
  {
   "cell_type": "code",
   "execution_count": null,
   "id": "defined-thriller",
   "metadata": {},
   "outputs": [],
   "source": [
    "celltypes_to_remove = [\n",
    "'Progenitors',\n",
    "'B_lymphoid',\n",
    "'DC',\n",
    "'Granulocyte_precursors',\n",
    "'Hepatocyte'\n",
    "]\n",
    "\n",
    "protein_liver = protein_liver[~protein_liver.obs['To_plot_anno'].isin(celltypes_to_remove)]\n",
    "protein_liver.obs['To_plot_anno'].value_counts()"
   ]
  },
  {
   "cell_type": "code",
   "execution_count": null,
   "id": "growing-wealth",
   "metadata": {},
   "outputs": [],
   "source": [
    "protein_markers = [\n",
    "'CD61',\n",
    "'CD49b',\n",
    "'CD117',\n",
    "'CD146',\n",
    "'CD38',\n",
    "'CD35',\n",
    "'CD9',\n",
    "'CD28',\n",
    "'CD45RA',\n",
    "'TCR_Vg9',\n",
    "'CD235ab',\n",
    "'CD49d',\n",
    "'CD141',\n",
    "'CD71',\n",
    "'CD123',\n",
    "'CD47',\n",
    "'CD43',\n",
    "'CD34',\n",
    "'CD48',\n",
    "'CD49a',\n",
    "'CD62L',\n",
    "'CD201',\n",
    "'MERTK',\n",
    "'CD43',\n",
    "'CD29',\n",
    "]"
   ]
  },
  {
   "cell_type": "code",
   "execution_count": null,
   "id": "gorgeous-graph",
   "metadata": {},
   "outputs": [],
   "source": [
    "sc.pl.dotplot(protein_liver, var_names=protein_markers, groupby='To_plot_anno', cmap='Blues', title='Liver')\n",
    "sc.pl.dotplot(protein_YS, var_names=protein_markers, groupby='To_plot_anno', cmap='Blues', title='YS')"
   ]
  },
  {
   "cell_type": "code",
   "execution_count": null,
   "id": "still-lighting",
   "metadata": {},
   "outputs": [],
   "source": [
    "protein_YS.obs['Dotplot_broad_anno_with_dataset'] = protein_YS.obs['broad_anno'].astype(str) + '_' + 'YS'\n",
    "protein_liver.obs['Dotplot_broad_anno_with_dataset'] = protein_liver.obs['broad_anno'].astype(str) + '_' + 'liver'\n",
    "protein_YS.obs['Dotplot_indiv_anno_with_dataset'] = protein_YS.obs['individual_anno'].astype(str) + '_' + 'YS'\n",
    "protein_liver.obs['Dotplot_indiv_anno_with_dataset'] = protein_liver.obs['individual_anno'].astype(str) + '_' + 'liver'\n",
    "protein_YS.obs['To_plot_anno'] = protein_YS.obs['To_plot_anno'].astype(str) + '_' + 'YS'\n",
    "protein_liver.obs['To_plot_anno'] = protein_liver.obs['To_plot_anno'].astype(str) + '_' + 'liver'"
   ]
  },
  {
   "cell_type": "code",
   "execution_count": null,
   "id": "directed-insulation",
   "metadata": {},
   "outputs": [],
   "source": [
    "adata_list = [protein_YS, protein_liver]\n",
    "protein_both = sc.AnnData.concatenate(*adata_list, join='inner', batch_categories=None ,index_unique=None)"
   ]
  },
  {
   "cell_type": "code",
   "execution_count": null,
   "id": "civic-brooks",
   "metadata": {},
   "outputs": [],
   "source": [
    "sc.pl.dotplot(protein_both, var_names=protein_markers, groupby='To_plot_anno', cmap='Blues')"
   ]
  },
  {
   "cell_type": "code",
   "execution_count": null,
   "id": "residential-polyester",
   "metadata": {},
   "outputs": [],
   "source": [
    "celltypes = [\n",
    "'HSPC1_YS',\n",
    "'HSC_liver',\n",
    "'CMP_YS',\n",
    "'CMP_liver',\n",
    "'MEMP_YS',\n",
    "'MEMP_liver',\n",
    "'Lymphoid_YS',\n",
    "'Lymphoid_liver',\n",
    "'pDC precursor_YS',\n",
    "'pDC_precursor_liver',\n",
    "'Monocyte_YS',\n",
    "'Monocyte_liver',\n",
    "'Macrophage_YS',\n",
    "'Kupffer_cell_liver',\n",
    "'Mast_cell_YS',\n",
    "'Mast_cell_liver',\n",
    "'MK_YS',\n",
    "'MK_liver',\n",
    "'early erythroid_YS',\n",
    "'Early_Erythroid_liver',\n",
    "'Erythroid_YS',\n",
    "'Erythroid_liver',\n",
    "'Endothelium_YS',\n",
    "'Endothelium_liver',\n",
    "'Fibroblast_YS',\n",
    "'Fibroblast_liver']\n",
    "\n",
    "\n",
    "\n",
    "protein_both.obs['To_plot_anno'] = protein_both.obs['To_plot_anno'].cat.reorder_categories(celltypes)"
   ]
  },
  {
   "cell_type": "code",
   "execution_count": null,
   "id": "earned-musical",
   "metadata": {},
   "outputs": [],
   "source": [
    "sc.pl.dotplot(protein_both, var_names=protein_markers, groupby='To_plot_anno', cmap='Blues', save='Decision_tree_protein_markers_on_EL_cite_seq_20220407.pdf')"
   ]
  }
 ],
 "metadata": {
  "kernelspec": {
   "display_name": "Python_env_Hlab",
   "language": "python",
   "name": "python_env_hlab"
  },
  "language_info": {
   "codemirror_mode": {
    "name": "ipython",
    "version": 3
   },
   "file_extension": ".py",
   "mimetype": "text/x-python",
   "name": "python",
   "nbconvert_exporter": "python",
   "pygments_lexer": "ipython3",
   "version": "3.9.4"
  }
 },
 "nbformat": 4,
 "nbformat_minor": 5
}
