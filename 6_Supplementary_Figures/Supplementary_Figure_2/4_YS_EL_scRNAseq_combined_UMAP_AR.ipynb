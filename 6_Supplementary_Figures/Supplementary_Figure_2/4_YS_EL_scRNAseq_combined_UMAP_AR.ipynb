{
 "cells": [
  {
   "cell_type": "code",
   "execution_count": null,
   "id": "caring-pattern",
   "metadata": {},
   "outputs": [],
   "source": [
    "import scanpy as sc\n",
    "import pandas as pd\n",
    "import numpy as np\n",
    "import matplotlib.pyplot as plt\n",
    "import seaborn as sns; sns.set(color_codes=True)\n",
    "from pathlib import Path\n",
    "\n",
    "sc.settings.verbosity = 3  # verbosity: errors (0), warnings (1), info (2), hints (3)\n",
    "sc.settings.set_figure_params(dpi=300, dpi_save=300, color_map='viridis')"
   ]
  },
  {
   "cell_type": "code",
   "execution_count": null,
   "id": "inner-tamil",
   "metadata": {},
   "outputs": [],
   "source": [
    "adata = sc.read('/home/jovyan/YS_project/YS/Data_objects/final_objects/Combined_YS_Fliver_raw_15112021.h5ad')"
   ]
  },
  {
   "cell_type": "code",
   "execution_count": null,
   "id": "collectible-first",
   "metadata": {},
   "outputs": [],
   "source": [
    "adata"
   ]
  },
  {
   "cell_type": "code",
   "execution_count": null,
   "id": "proved-physiology",
   "metadata": {},
   "outputs": [],
   "source": [
    "celltypes = list(adata.obs['broad_cell_labels_organ'].unique())"
   ]
  },
  {
   "cell_type": "code",
   "execution_count": null,
   "id": "together-relay",
   "metadata": {},
   "outputs": [],
   "source": [
    "adata.obs['broad_cell_labels_organ'] = adata.obs['broad_cell_labels_organ'].cat.reorder_categories(celltypes)\n",
    "adata.obs.groupby(['broad_cell_labels_organ']).apply(len)"
   ]
  },
  {
   "cell_type": "code",
   "execution_count": null,
   "id": "hollywood-launch",
   "metadata": {},
   "outputs": [],
   "source": [
    "adata"
   ]
  },
  {
   "cell_type": "markdown",
   "id": "pending-pollution",
   "metadata": {},
   "source": [
    "# All"
   ]
  },
  {
   "cell_type": "code",
   "execution_count": null,
   "id": "continuous-landing",
   "metadata": {},
   "outputs": [],
   "source": [
    "var = \"broad_cell_labels_organ\"\n",
    "#Create color dictionary\n",
    "cells = ['Endothelium_ys','Progenitors_ys','Erythroid_ys','Endoderm_ys','Macrophage_ys','MK_ys','Mesothelium_ys','Fibroblast_ys','Mast_cell_ys','DC_ys','Monocyte_ys','Granulocyte_precursors_ys','Microglia_ys','Smooth_Muscle_ys','Lymphoid_ys','Progenitor_fliv','Kupffer_cell_fliv','Hepatocyte_fliv','Endothelium_fliv','Erythroid_fliv','MK_fliv','DC_fliv','Monocyte_fliv','Granulocyte_precursor_fliv','Mast_cell_fliv','B_lymphoid_fliv','Lymphoid_fliv','Fibroblast_fliv']\n",
    "col = list(range(0, len(adata.obs[var].unique())))\n",
    "#col = adata.uns['cell.labels_colors']\n",
    "dic = dict(zip(cells,col))\n",
    "#Create a mappable field\n",
    "adata.obs['num'] = adata.obs[var]\n",
    "#map to adata.obs.col to create a caterorical column\n",
    "adata.obs['num'] = adata.obs['num'].map(dic)\n",
    "##Map to a pallete to use with umap\n",
    "#cells_list = pd.DataFrame(adata.obs[\"cell.labels\"].cat.categories)\n",
    "#cells_list['col'] = cells_list[0].map(dic)\n",
    "#col_pal = list(cells_list['col'])\n",
    "adata.obs['num'] = adata.obs['num'].astype(str)\n",
    "adata.obs[var+'_num'] = adata.obs['num'].astype(str) + \" : \" + adata.obs[var].astype(str)\n",
    "col_pal = [\"#d0352b\",\"#afbfcc\",\"#FFE8EC\",\"#bd7961\",\"#4c7bab\",\"#ee943f\",\"#eccd6e\",\"#b43c52\",\"#b0a789\",\"#6ea85b\",\"#b49fc8\",\"#05394a\",\"#1e38ad\",\"#5c865e\",\"#e0ee71\",\"#8BA1B4\",\"#2B4560\",\"#A86146\",\"#E4836A\",\"#FFB3C2\",\"#EB7C15\",\"#4E7740\",\"#9678B3\",\"#052D3B\",\"#9E926E\",\"#4040FF\",\"#D4E83B\",\"#923043\"]\n",
    "import matplotlib\n",
    "matplotlib.rcdefaults() #Reset matplot lb deafults as seaborne tends to mess with this\n",
    "fig, (ax1, ax2,) = plt.subplots(1,2, figsize=(10,10), gridspec_kw={'wspace':0,'width_ratios': [1,0]})\n",
    "p2 = sc.pl.umap(adata, color = (var+'_num') ,ax=ax2,show=False,title=\"\", palette= col_pal) #title=i\n",
    "p3 = sc.pl.umap(adata, color = \"num\",legend_loc=None,size=10,legend_fontsize='small',ax=ax1,show=False, palette= col_pal, title=var) #title=i\n",
    "fig.savefig(\"./figures/ext2a_umap.pdf\",bbox_inches='tight')"
   ]
  },
  {
   "cell_type": "code",
   "execution_count": null,
   "id": "amateur-saint",
   "metadata": {},
   "outputs": [],
   "source": []
  },
  {
   "cell_type": "code",
   "execution_count": null,
   "id": "skilled-universal",
   "metadata": {},
   "outputs": [],
   "source": []
  },
  {
   "cell_type": "code",
   "execution_count": null,
   "id": "exclusive-screen",
   "metadata": {},
   "outputs": [],
   "source": []
  },
  {
   "cell_type": "code",
   "execution_count": null,
   "id": "organized-sport",
   "metadata": {},
   "outputs": [],
   "source": []
  },
  {
   "cell_type": "code",
   "execution_count": null,
   "id": "single-avenue",
   "metadata": {},
   "outputs": [],
   "source": []
  },
  {
   "cell_type": "markdown",
   "id": "descending-voice",
   "metadata": {},
   "source": [
    "# YS"
   ]
  },
  {
   "cell_type": "code",
   "execution_count": null,
   "id": "collectible-african",
   "metadata": {},
   "outputs": [],
   "source": [
    "# For future have this ready as a csv to read in "
   ]
  },
  {
   "cell_type": "code",
   "execution_count": null,
   "id": "completed-piece",
   "metadata": {},
   "outputs": [],
   "source": [
    "cells = ['Endothelium_ys','Progenitors_ys','Erythroid_ys','Endoderm_ys','Macrophage_ys','MK_ys','Mesothelium_ys','Fibroblast_ys','Mast_cell_ys','DC_ys','Monocyte_ys','Granulocyte_precursors_ys','Microglia_ys','Smooth_Muscle_ys','Lymphoid_ys','Progenitor_fliv','Kupffer_cell_fliv','Hepatocyte_fliv','Endothelium_fliv','Erythroid_fliv','MK_fliv','DC_fliv','Monocyte_fliv','Granulocyte_precursor_fliv','Mast_cell_fliv','B_lymphoid_fliv','Lymphoid_fliv','Fibroblast_fliv']\n",
    "col_pal = [\"#d0352b\",\"#afbfcc\",\"#FFE8EC\",\"#bd7961\",\"#4c7bab\",\"#ee943f\",\"#eccd6e\",\"#b43c52\",\"#b0a789\",\"#6ea85b\",\"#b49fc8\",\"#05394a\",\"#1e38ad\",\"#5c865e\",\"#e0ee71\",\"#8BA1B4\",\"#2B4560\",\"#A86146\",\"#E4836A\",\"#FFB3C2\",\"#EB7C15\",\"#4E7740\",\"#9678B3\",\"#052D3B\",\"#9E926E\",\"#4040FF\",\"#D4E83B\",\"#923043\"]\n",
    "\n",
    "dict1 = {'categories': cells, 'color': col_pal}"
   ]
  },
  {
   "cell_type": "code",
   "execution_count": null,
   "id": "final-hours",
   "metadata": {},
   "outputs": [],
   "source": [
    "pal = pd.DataFrame(dict1)"
   ]
  },
  {
   "cell_type": "code",
   "execution_count": null,
   "id": "developmental-freedom",
   "metadata": {},
   "outputs": [],
   "source": [
    "pal"
   ]
  },
  {
   "cell_type": "code",
   "execution_count": null,
   "id": "novel-brisbane",
   "metadata": {},
   "outputs": [],
   "source": [
    "plot_tissue = 'YS'\n",
    "alternate_name = 'Liver'\n",
    "adata_var = 'broad_cell_labels_organ'\n",
    "differ_col = 'tissue'\n",
    "\n",
    "# Create a field to assign gray coloring to\n",
    "adata.obs[\"var\"] = adata.obs[adata_var].astype(str)\n",
    "var = 'var'\n",
    "#adata.obs['var'] = adata.obs['var'].astype(str).str.upper()\n",
    "adata.obs[\"var\"].loc[~adata.obs[differ_col].isin([plot_tissue])] = alternate_name\n",
    "#Not in intersect\n",
    "intersecting = set(list(pal[\"categories\"])) & set(list(adata.obs['var'].unique()))\n",
    "print(len(intersecting),intersecting)\n",
    "print(\"non_intersect\",set(list(pal[\"categories\"])) ^ set(list(adata.obs['var'].unique())))"
   ]
  },
  {
   "cell_type": "code",
   "execution_count": null,
   "id": "magnetic-compiler",
   "metadata": {},
   "outputs": [],
   "source": [
    "cells = list(adata.obs[\"var\"][adata.obs[differ_col].isin([plot_tissue])].unique())\n",
    "cells.sort()\n",
    "pal = pal[pal[\"categories\"].isin(cells)]\n",
    "#cells.append(alternate_name)\n",
    "col = list(range(0,len(cells)))\n",
    "#Add gray color for alternate category\n",
    "#pal.loc[len(pal)+1]= [alternate_name,\"#808080\"]\n",
    "pal = pal.set_index('categories')\n",
    "pal = pal.loc[cells]\n",
    "col_pal = list(pal[\"color\"])"
   ]
  },
  {
   "cell_type": "code",
   "execution_count": null,
   "id": "cross-barrel",
   "metadata": {},
   "outputs": [],
   "source": [
    "dic = dict(zip(cells,col))\n",
    "\n",
    "#Create a mappable field\n",
    "adata.obs['num'] = adata.obs[var]\n",
    "#map to adata.obs.col to create a caterorical column\n",
    "adata.obs['num'] = adata.obs['num'].map(dic)\n",
    "\n",
    "##Map to a pallete to use with umap\n",
    "#cells_list = pd.DataFrame(adata.obs[\"cell.labels\"].cat.categories)\n",
    "#cells_list['col'] = cells_list[0].map(dic)\n",
    "#col_pal = list(cells_list['col'])\n",
    "adata.obs['num'] = adata.obs['num'].astype(str)\n",
    "adata.obs[var+'_num'] = adata.obs['num'].astype(str) + \" : \" + adata.obs[var].astype(str)\n",
    "\n",
    "import matplotlib.pyplot as plt\n",
    "plt.rcParams['axes.facecolor'] = 'white'\n",
    "\n",
    "import matplotlib\n",
    "fig, (ax1, ax2) = plt.subplots(1,2, figsize=(10,10), gridspec_kw={'wspace':0,'width_ratios': [1,0]})\n",
    "p2 = sc.pl.umap(adata[adata.obs[differ_col].isin([plot_tissue])], color = (var+'_num') ,ax=ax1,size=5,show=False,title=\"\", palette= col_pal) #title=i\n",
    "p4 = sc.pl.umap(adata[~adata.obs[differ_col].isin([plot_tissue])], color = (var+'_num') ,ax=ax1,size=5,show=False,title=\"\", palette= [\"#808080\"]) #title=i\n",
    "p3 = sc.pl.umap(adata[adata.obs[differ_col].isin([plot_tissue])], color = \"num\",legend_loc=\"on data\",size=2,legend_fontsize='small',ax=ax1,show=False,title=\"ys_broad\", palette= col_pal) #title=i\n",
    "\n",
    "#fig.savefig('./'+var+\"_\"+plot_tissue+\"_with_num.pdf\",bbox_inches='tight')"
   ]
  },
  {
   "cell_type": "code",
   "execution_count": null,
   "id": "false-manchester",
   "metadata": {},
   "outputs": [],
   "source": [
    "dic = dict(zip(cells,col))\n",
    "\n",
    "#Create a mappable field\n",
    "adata.obs['num'] = adata.obs[var]\n",
    "#map to adata.obs.col to create a caterorical column\n",
    "adata.obs['num'] = adata.obs['num'].map(dic)\n",
    "\n",
    "##Map to a pallete to use with umap\n",
    "#cells_list = pd.DataFrame(adata.obs[\"cell.labels\"].cat.categories)\n",
    "#cells_list['col'] = cells_list[0].map(dic)\n",
    "#col_pal = list(cells_list['col'])\n",
    "adata.obs['num'] = adata.obs['num'].astype(str)\n",
    "adata.obs[var+'_num'] = adata.obs['num'].astype(str) + \" : \" + adata.obs[var].astype(str)\n",
    "\n",
    "import matplotlib.pyplot as plt\n",
    "plt.rcParams['axes.facecolor'] = 'white'\n",
    "\n",
    "import matplotlib\n",
    "fig, (ax1, ax2) = plt.subplots(1,2, figsize=(10,10), gridspec_kw={'wspace':0,'width_ratios': [1,0]})\n",
    "p2 = sc.pl.umap(adata[adata.obs[differ_col].isin([plot_tissue])], color = (var+'_num') ,ax=ax1,size=5,show=False,title=\"\", palette= col_pal) #title=i\n",
    "p4 = sc.pl.umap(adata[~adata.obs[differ_col].isin([plot_tissue])], color = (var+'_num') ,ax=ax1,size=5,show=False,title=\"\", palette= [\"#808080\"]) #title=i\n",
    "p3 = sc.pl.umap(adata[adata.obs[differ_col].isin([plot_tissue])], color = \"num\",legend_loc=None,size=2,legend_fontsize='small',ax=ax1,show=False,title=\"ys_broad\", palette= col_pal) #title=i\n",
    "\n",
    "#fig.savefig('./'+var+\"_\"+plot_tissue+\"_no_num.pdf\",bbox_inches='tight')"
   ]
  },
  {
   "cell_type": "markdown",
   "id": "white-conviction",
   "metadata": {},
   "source": [
    "# Liver"
   ]
  },
  {
   "cell_type": "code",
   "execution_count": null,
   "id": "previous-controversy",
   "metadata": {},
   "outputs": [],
   "source": [
    "cells = ['Endothelium_ys','Progenitors_ys','Erythroid_ys','Endoderm_ys','Macrophage_ys','MK_ys','Mesothelium_ys','Fibroblast_ys','Mast_cell_ys','DC_ys','Monocyte_ys','Granulocyte_precursors_ys','Microglia_ys','Smooth_Muscle_ys','Lymphoid_ys','Progenitor_fliv','Kupffer_cell_fliv','Hepatocyte_fliv','Endothelium_fliv','Erythroid_fliv','MK_fliv','DC_fliv','Monocyte_fliv','Granulocyte_precursor_fliv','Mast_cell_fliv','B_lymphoid_fliv','Lymphoid_fliv','Fibroblast_fliv']\n",
    "col_pal = [\"#d0352b\",\"#afbfcc\",\"#FFE8EC\",\"#bd7961\",\"#4c7bab\",\"#ee943f\",\"#eccd6e\",\"#b43c52\",\"#b0a789\",\"#6ea85b\",\"#b49fc8\",\"#05394a\",\"#1e38ad\",\"#5c865e\",\"#e0ee71\",\"#8BA1B4\",\"#2B4560\",\"#A86146\",\"#E4836A\",\"#FFB3C2\",\"#EB7C15\",\"#4E7740\",\"#9678B3\",\"#052D3B\",\"#9E926E\",\"#4040FF\",\"#D4E83B\",\"#923043\"]\n",
    "\n",
    "dict1 = {'categories': cells, 'color': col_pal}"
   ]
  },
  {
   "cell_type": "code",
   "execution_count": null,
   "id": "bronze-sense",
   "metadata": {},
   "outputs": [],
   "source": [
    "pal = pd.DataFrame(dict1)"
   ]
  },
  {
   "cell_type": "code",
   "execution_count": null,
   "id": "cutting-gothic",
   "metadata": {},
   "outputs": [],
   "source": [
    "plot_tissue = 'Liver'\n",
    "alternate_name = 'YS'\n",
    "adata_var = 'broad_cell_labels_organ'\n",
    "differ_col = 'tissue'\n",
    "\n",
    "# Create a field to assign gray coloring to\n",
    "adata.obs[\"var\"] = adata.obs[adata_var].astype(str)\n",
    "var = 'var'\n",
    "#adata.obs['var'] = adata.obs['var'].astype(str).str.upper()\n",
    "adata.obs[\"var\"].loc[~adata.obs[differ_col].isin([plot_tissue])] = alternate_name\n",
    "#Not in intersect\n",
    "intersecting = set(list(pal[\"categories\"])) & set(list(adata.obs['var'].unique()))\n",
    "print(len(intersecting),intersecting)\n",
    "print(\"non_intersect\",set(list(pal[\"categories\"])) ^ set(list(adata.obs['var'].unique())))"
   ]
  },
  {
   "cell_type": "code",
   "execution_count": null,
   "id": "moved-settle",
   "metadata": {},
   "outputs": [],
   "source": [
    "cells = list(adata.obs[\"var\"][adata.obs[differ_col].isin([plot_tissue])].unique())\n",
    "cells.sort()\n",
    "pal = pal[pal[\"categories\"].isin(cells)]\n",
    "#cells.append(alternate_name)\n",
    "col = list(range(0,len(cells)))\n",
    "#Add gray color for alternate category\n",
    "#pal.loc[len(pal)+1]= [alternate_name,\"#808080\"]\n",
    "pal = pal.set_index('categories')\n",
    "pal = pal.loc[cells]\n",
    "col_pal = list(pal[\"color\"])"
   ]
  },
  {
   "cell_type": "code",
   "execution_count": null,
   "id": "about-burns",
   "metadata": {},
   "outputs": [],
   "source": [
    "dic = dict(zip(cells,col))\n",
    "\n",
    "#Create a mappable field\n",
    "adata.obs['num'] = adata.obs[var]\n",
    "#map to adata.obs.col to create a caterorical column\n",
    "adata.obs['num'] = adata.obs['num'].map(dic)\n",
    "\n",
    "##Map to a pallete to use with umap\n",
    "#cells_list = pd.DataFrame(adata.obs[\"cell.labels\"].cat.categories)\n",
    "#cells_list['col'] = cells_list[0].map(dic)\n",
    "#col_pal = list(cells_list['col'])\n",
    "adata.obs['num'] = adata.obs['num'].astype(str)\n",
    "adata.obs[var+'_num'] = adata.obs['num'].astype(str) + \" : \" + adata.obs[var].astype(str)\n",
    "\n",
    "import matplotlib.pyplot as plt\n",
    "plt.rcParams['axes.facecolor'] = 'white'\n",
    "\n",
    "import matplotlib\n",
    "fig, (ax1, ax2) = plt.subplots(1,2, figsize=(10,10), gridspec_kw={'wspace':0,'width_ratios': [1,0]})\n",
    "p2 = sc.pl.umap(adata[adata.obs[differ_col].isin([plot_tissue])], color = (var+'_num') ,ax=ax1,size=5,show=False,title=\"\", palette= col_pal) #title=i\n",
    "p4 = sc.pl.umap(adata[~adata.obs[differ_col].isin([plot_tissue])], color = (var+'_num') ,ax=ax1,size=5,show=False,title=\"\", palette= [\"#808080\"]) #title=i\n",
    "p3 = sc.pl.umap(adata[adata.obs[differ_col].isin([plot_tissue])], color = \"num\",legend_loc=\"on data\",size=2,legend_fontsize='small',ax=ax1,show=False,title=\"ys_broad\", palette= col_pal) #title=i\n",
    "\n",
    "fig.savefig('./'+var+\"_\"+plot_tissue+\"_with_num.pdf\",bbox_inches='tight')"
   ]
  },
  {
   "cell_type": "code",
   "execution_count": null,
   "id": "upper-trader",
   "metadata": {},
   "outputs": [],
   "source": [
    "dic = dict(zip(cells,col))\n",
    "\n",
    "#Create a mappable field\n",
    "adata.obs['num'] = adata.obs[var]\n",
    "#map to adata.obs.col to create a caterorical column\n",
    "adata.obs['num'] = adata.obs['num'].map(dic)\n",
    "\n",
    "##Map to a pallete to use with umap\n",
    "#cells_list = pd.DataFrame(adata.obs[\"cell.labels\"].cat.categories)\n",
    "#cells_list['col'] = cells_list[0].map(dic)\n",
    "#col_pal = list(cells_list['col'])\n",
    "adata.obs['num'] = adata.obs['num'].astype(str)\n",
    "adata.obs[var+'_num'] = adata.obs['num'].astype(str) + \" : \" + adata.obs[var].astype(str)\n",
    "\n",
    "import matplotlib.pyplot as plt\n",
    "plt.rcParams['axes.facecolor'] = 'white'\n",
    "\n",
    "import matplotlib\n",
    "fig, (ax1, ax2) = plt.subplots(1,2, figsize=(10,10), gridspec_kw={'wspace':0,'width_ratios': [1,0]})\n",
    "p2 = sc.pl.umap(adata[adata.obs[differ_col].isin([plot_tissue])], color = (var+'_num') ,ax=ax1,size=5,show=False,title=\"\", palette= col_pal) #title=i\n",
    "p4 = sc.pl.umap(adata[~adata.obs[differ_col].isin([plot_tissue])], color = (var+'_num') ,ax=ax1,size=5,show=False,title=\"\", palette= [\"#808080\"]) #title=i\n",
    "p3 = sc.pl.umap(adata[adata.obs[differ_col].isin([plot_tissue])], color = \"num\",legend_loc=None,size=2,legend_fontsize='small',ax=ax1,show=False,title=\"ys_broad\", palette= col_pal) #title=i\n",
    "\n",
    "fig.savefig('./'+var+\"_\"+plot_tissue+\"_no_num.pdf\",bbox_inches='tight')"
   ]
  },
  {
   "cell_type": "code",
   "execution_count": null,
   "id": "cultural-greene",
   "metadata": {},
   "outputs": [],
   "source": []
  },
  {
   "cell_type": "code",
   "execution_count": null,
   "id": "middle-sitting",
   "metadata": {},
   "outputs": [],
   "source": []
  },
  {
   "cell_type": "code",
   "execution_count": null,
   "id": "confidential-dinner",
   "metadata": {},
   "outputs": [],
   "source": []
  },
  {
   "cell_type": "code",
   "execution_count": null,
   "id": "dental-dealer",
   "metadata": {},
   "outputs": [],
   "source": []
  },
  {
   "cell_type": "code",
   "execution_count": null,
   "id": "italian-procurement",
   "metadata": {},
   "outputs": [],
   "source": [
    "var = \"broad_cell_labels_organ\"\n",
    "#Create color dictionary\n",
    "cells = ['Endothelium_ys','Progenitors_ys','Erythroid_ys','Endoderm_ys','Macrophage_ys','MK_ys','Mesothelium_ys','Fibroblast_ys','Mast_cell_ys','DC_ys','Monocyte_ys','Granulocyte_precursors_ys','Microglia_ys','Smooth_Muscle_ys','Lymphoid_ys','Progenitor_fliv','Kupffer_cell_fliv','Hepatocyte_fliv','Endothelium_fliv','Erythroid_fliv','MK_fliv','DC_fliv','Monocyte_fliv','Granulocyte_precursor_fliv','Mast_cell_fliv','B_lymphoid_fliv','Lymphoid_fliv','Fibroblast_fliv']\n",
    "col = list(range(0, len(adata.obs[var].unique())))\n",
    "#col = adata.uns['cell.labels_colors']\n",
    "dic = dict(zip(cells,col))\n",
    "#Create a mappable field\n",
    "adata.obs['num'] = adata.obs[var]\n",
    "#map to adata.obs.col to create a caterorical column\n",
    "adata.obs['num'] = adata.obs['num'].map(dic)\n",
    "##Map to a pallete to use with umap\n",
    "#cells_list = pd.DataFrame(adata.obs[\"cell.labels\"].cat.categories)\n",
    "#cells_list['col'] = cells_list[0].map(dic)\n",
    "#col_pal = list(cells_list['col'])\n",
    "adata.obs['num'] = adata.obs['num'].astype(str)\n",
    "adata.obs[var+'_num'] = adata.obs['num'].astype(str) + \" : \" + adata.obs[var].astype(str)\n",
    "col_pal = [\"#d0352b\",\"#afbfcc\",\"#FFE8EC\",\"#bd7961\",\"#4c7bab\",\"#ee943f\",\"#eccd6e\",\"#b43c52\",\"#b0a789\",\"#6ea85b\",\"#b49fc8\",\"#05394a\",\"#1e38ad\",\"#5c865e\",\"#e0ee71\",\"#D3D3D3\",\"#D3D3D3\",\"#D3D3D3\",\"#D3D3D3\",\"#D3D3D3\",\"#D3D3D3\",\"#D3D3D3\",\"#D3D3D3\",\"#858585\",\"#858585\",\"#858585\",\"#858585\",\"#858585\"]\n",
    "import matplotlib\n",
    "matplotlib.rcdefaults() #Reset matplot lb deafults as seaborne tends to mess with this\n",
    "fig, (ax1, ax2,) = plt.subplots(1,2, figsize=(10,10), gridspec_kw={'wspace':0,'width_ratios': [1,0]})\n",
    "p2 = sc.pl.umap(adata, color = (var+'_num') ,ax=ax2,show=False,title=\"\", palette= col_pal) #title=i\n",
    "p3 = sc.pl.umap(adata, color = \"num\",legend_loc=None,size=10,legend_fontsize='small',ax=ax1,show=False, palette= col_pal, title=var) #title=i\n",
    "#fig.savefig(\"./figures/ext2b_YS_umap.pdf\",bbox_inches='tight')"
   ]
  },
  {
   "cell_type": "markdown",
   "id": "entire-disclaimer",
   "metadata": {},
   "source": [
    "# Liver"
   ]
  },
  {
   "cell_type": "code",
   "execution_count": null,
   "id": "boxed-consultation",
   "metadata": {},
   "outputs": [],
   "source": [
    "var = \"broad_cell_labels_organ\"\n",
    "#Create color dictionary\n",
    "cells = ['Endothelium_ys','Progenitors_ys','Erythroid_ys','Endoderm_ys','Macrophage_ys','MK_ys','Mesothelium_ys','Fibroblast_ys','Mast_cell_ys','DC_ys','Monocyte_ys','Granulocyte_precursors_ys','Microglia_ys','Smooth_Muscle_ys','Lymphoid_ys','Progenitor_fliv','Kupffer_cell_fliv','Hepatocyte_fliv','Endothelium_fliv','Erythroid_fliv','MK_fliv','DC_fliv','Monocyte_fliv','Granulocyte_precursor_fliv','Mast_cell_fliv','B_lymphoid_fliv','Lymphoid_fliv','Fibroblast_fliv']\n",
    "col = list(range(0, len(adata.obs[var].unique())))\n",
    "#col = adata.uns['cell.labels_colors']\n",
    "dic = dict(zip(cells,col))\n",
    "#Create a mappable field\n",
    "adata.obs['num'] = adata.obs[var]\n",
    "#map to adata.obs.col to create a caterorical column\n",
    "adata.obs['num'] = adata.obs['num'].map(dic)\n",
    "##Map to a pallete to use with umap\n",
    "#cells_list = pd.DataFrame(adata.obs[\"cell.labels\"].cat.categories)\n",
    "#cells_list['col'] = cells_list[0].map(dic)\n",
    "#col_pal = list(cells_list['col'])\n",
    "adata.obs['num'] = adata.obs['num'].astype(str)\n",
    "adata.obs[var+'_num'] = adata.obs['num'].astype(str) + \" : \" + adata.obs[var].astype(str)\n",
    "col_pal = [\"#D3D3D3\",\"#D3D3D3\",\"#D3D3D3\",\"#D3D3D3\",\"#D3D3D3\",\"#D3D3D3\",\"#D3D3D3\",\"#D3D3D3\",\"#D3D3D3\",\"#D3D3D3\",\"#D3D3D3\",\"#D3D3D3\",\"#D3D3D3\",\"#D3D3D3\",\"#D3D3D3\",\"#8BA1B4\",\"#2B4560\",\"#A86146\",\"#E4836A\",\"#FFB3C2\",\"#EB7C15\",\"#4E7740\",\"#9678B3\",\"#052D3B\",\"#9E926E\",\"#4040FF\",\"#D4E83B\",\"#923043\"]\n",
    "import matplotlib\n",
    "matplotlib.rcdefaults() #Reset matplot lb deafults as seaborne tends to mess with this\n",
    "fig, (ax1, ax2,) = plt.subplots(1,2, figsize=(10,10), gridspec_kw={'wspace':0,'width_ratios': [1,0]})\n",
    "p2 = sc.pl.umap(adata, color = (var+'_num') ,ax=ax2,show=False,title=\"\", palette= col_pal) #title=i\n",
    "p3 = sc.pl.umap(adata, color = \"num\",legend_loc=None,size=10,legend_fontsize='small',ax=ax1,show=False, palette= col_pal, title=var) #title=i\n",
    "#fig.savefig(\"./figures/ext2b_liver_umap.pdf\",bbox_inches='tight')"
   ]
  },
  {
   "cell_type": "code",
   "execution_count": null,
   "id": "parallel-accused",
   "metadata": {},
   "outputs": [],
   "source": []
  },
  {
   "cell_type": "code",
   "execution_count": null,
   "id": "dimensional-hobby",
   "metadata": {},
   "outputs": [],
   "source": []
  },
  {
   "cell_type": "code",
   "execution_count": null,
   "id": "prime-performance",
   "metadata": {},
   "outputs": [],
   "source": []
  },
  {
   "cell_type": "code",
   "execution_count": null,
   "id": "civilian-handbook",
   "metadata": {},
   "outputs": [],
   "source": []
  },
  {
   "cell_type": "code",
   "execution_count": null,
   "id": "injured-nutrition",
   "metadata": {},
   "outputs": [],
   "source": []
  }
 ],
 "metadata": {
  "kernelspec": {
   "display_name": "Python_env_Hlab",
   "language": "python",
   "name": "python_env_hlab"
  },
  "language_info": {
   "codemirror_mode": {
    "name": "ipython",
    "version": 3
   },
   "file_extension": ".py",
   "mimetype": "text/x-python",
   "name": "python",
   "nbconvert_exporter": "python",
   "pygments_lexer": "ipython3",
   "version": "3.9.4"
  }
 },
 "nbformat": 4,
 "nbformat_minor": 5
}
