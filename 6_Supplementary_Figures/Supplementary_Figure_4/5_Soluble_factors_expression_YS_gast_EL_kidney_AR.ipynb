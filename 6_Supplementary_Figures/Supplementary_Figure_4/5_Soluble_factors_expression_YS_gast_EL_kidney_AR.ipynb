{
 "cells": [
  {
   "cell_type": "code",
   "execution_count": null,
   "id": "broadband-exception",
   "metadata": {},
   "outputs": [],
   "source": [
    "import scanpy as sc\n",
    "import pandas as pd\n",
    "import numpy as np\n",
    "import matplotlib.pyplot as plt\n",
    "import seaborn as sns; sns.set(color_codes=True)\n",
    "from pathlib import Path\n",
    "\n",
    "sc.settings.verbosity = 3  # verbosity: errors (0), warnings (1), info (2), hints (3)\n",
    "sc.settings.set_figure_params(dpi=80, dpi_save=300, color_map='viridis')"
   ]
  },
  {
   "cell_type": "code",
   "execution_count": null,
   "id": "eight-inquiry",
   "metadata": {},
   "outputs": [],
   "source": [
    "data1 = sc.read('/home/jovyan/YS_project/YS/Data_objects/YS_object_14092021/Combined_YS_Fliver_20210929.h5ad')\n",
    "data1"
   ]
  },
  {
   "cell_type": "code",
   "execution_count": null,
   "id": "dated-vocabulary",
   "metadata": {},
   "outputs": [],
   "source": [
    "data2 = sc.read('/home/jovyan/wgeted_files/gastrulation.h5ad')\n",
    "data2"
   ]
  },
  {
   "cell_type": "code",
   "execution_count": null,
   "id": "pointed-warrior",
   "metadata": {},
   "outputs": [],
   "source": [
    "data2 = data2[data2.obs['corr_concat'].isin(['YS Endoderm_Yolk Sac_gastrulation'])]"
   ]
  },
  {
   "cell_type": "code",
   "execution_count": null,
   "id": "activated-blame",
   "metadata": {},
   "outputs": [],
   "source": [
    "data1.obs['celltypes_for_dotplot'] = data1.obs['broad_cell_labels_organ']\n",
    "data2.obs['celltypes_for_dotplot'] = data2.obs['corr_concat']"
   ]
  },
  {
   "cell_type": "code",
   "execution_count": null,
   "id": "manufactured-prior",
   "metadata": {},
   "outputs": [],
   "source": [
    "adata_list = [data1,data2]\n",
    "adata = sc.AnnData.concatenate(*adata_list, join='inner', batch_categories=None ,index_unique=None)"
   ]
  },
  {
   "cell_type": "code",
   "execution_count": null,
   "id": "innovative-value",
   "metadata": {
    "tags": []
   },
   "outputs": [],
   "source": [
    "cells_to_keep = ['Endoderm_ys','Hepatocyte_fliv','YS Endoderm_Yolk Sac_gastrulation']\n",
    "adata = adata[adata.obs['celltypes_for_dotplot'].isin(cells_to_keep)]\n",
    "adata.obs.groupby(['celltypes_for_dotplot']).apply(len)"
   ]
  },
  {
   "cell_type": "code",
   "execution_count": null,
   "id": "portuguese-belly",
   "metadata": {},
   "outputs": [],
   "source": [
    "adata"
   ]
  },
  {
   "cell_type": "markdown",
   "id": "fancy-finger",
   "metadata": {},
   "source": [
    "# Pre-Process data"
   ]
  },
  {
   "cell_type": "code",
   "execution_count": null,
   "id": "upper-chambers",
   "metadata": {},
   "outputs": [],
   "source": [
    "# normalise count data\n",
    "sc.pp.normalize_total(adata)"
   ]
  },
  {
   "cell_type": "code",
   "execution_count": null,
   "id": "elementary-symbol",
   "metadata": {},
   "outputs": [],
   "source": [
    "# log the count data\n",
    "sc.pp.log1p(adata)"
   ]
  },
  {
   "cell_type": "code",
   "execution_count": null,
   "id": "beautiful-spyware",
   "metadata": {},
   "outputs": [],
   "source": [
    "# scale the data\n",
    "sc.pp.scale(adata, max_value=10)\n",
    "# scale the negative values in adata.X (which have been normalised, logged and scaled) to zero\n",
    "adata.X = np.where(adata.X < 0, 0, adata.X)"
   ]
  },
  {
   "cell_type": "markdown",
   "id": "lightweight-dublin",
   "metadata": {},
   "source": [
    "# Plot"
   ]
  },
  {
   "cell_type": "code",
   "execution_count": null,
   "id": "confirmed-accreditation",
   "metadata": {},
   "outputs": [],
   "source": [
    "adata.obs[\"celltypes_for_dotplot\"] = adata.obs[\"celltypes_for_dotplot\"].astype('category')\n",
    "adata.obs[\"celltypes_for_dotplot\"] = adata.obs[\"celltypes_for_dotplot\"].cat.reorder_categories(['Endoderm_ys','YS Endoderm_Yolk Sac_gastrulation', 'Hepatocyte_fliv'])"
   ]
  },
  {
   "cell_type": "code",
   "execution_count": null,
   "id": "convenient-processing",
   "metadata": {},
   "outputs": [],
   "source": [
    "Coagulation_factors = [\n",
    "    'FGA',\n",
    "    'FGB',\n",
    "    'FGG',\n",
    "    'F2',\n",
    "    'F2R',\n",
    "    'F3',\n",
    "    'F5',\n",
    "    'F7',\n",
    "    # 'F9', not in this data\n",
    "    'F10',\n",
    "    'F11', \n",
    "    'F12',\n",
    "    'F13A1',\n",
    "    'F13B',\n",
    "    'KLKB1',\n",
    "    'KNG1',\n",
    "    'SERPINC1',\n",
    "    'SERPIND1',\n",
    "    'PROC',\n",
    "    'PROS1'\n",
    "]"
   ]
  },
  {
   "cell_type": "code",
   "execution_count": null,
   "id": "alike-birth",
   "metadata": {},
   "outputs": [],
   "source": [
    "DEG_of_interest = [\n",
    "    'MIF',\n",
    "    'LGALS3',\n",
    "    'LY6E',\n",
    "    'PRSS3',\n",
    "    'CLDN7',\n",
    "    'GSTA2',\n",
    "    'PPDPF',\n",
    "    'TMSB10',\n",
    "    'SERPINA4',\n",
    "    'SERPINA5',\n",
    "    'SERPINF2',\n",
    "    'SERPING1',\n",
    "     'ADH1A', \n",
    "     'ADH6', \n",
    "    'ALDOB',\n",
    "    'ALDH1A1',\n",
    "    'APOH',\n",
    "    'CYP3A7',\n",
    "    'CYP4A11',\n",
    "    'CYP27A1',\n",
    "    #'A1BG',\n",
    "    'ITIH1',\n",
    "    'ITIH2',\n",
    "    'GC',\n",
    "    'ALB',\n",
    "    'F12',\n",
    "    'CPB2'\n",
    "]"
   ]
  },
  {
   "cell_type": "code",
   "execution_count": null,
   "id": "rural-grave",
   "metadata": {},
   "outputs": [],
   "source": [
    "adata.var[adata.var_names.str.match(\"A1\")]"
   ]
  },
  {
   "cell_type": "code",
   "execution_count": null,
   "id": "multiple-mountain",
   "metadata": {},
   "outputs": [],
   "source": [
    "data1.var[data1.var_names.str.match(\"A1\")]"
   ]
  },
  {
   "cell_type": "code",
   "execution_count": null,
   "id": "responsible-flavor",
   "metadata": {},
   "outputs": [],
   "source": [
    "data2.var[data2.var_names.str.match(\"A1\")]"
   ]
  },
  {
   "cell_type": "code",
   "execution_count": null,
   "id": "tired-hierarchy",
   "metadata": {},
   "outputs": [],
   "source": [
    "sc.pl.dotplot(adata, var_names=Coagulation_factors, groupby='celltypes_for_dotplot', swap_axes=False, figsize=(8,2.5), use_raw=False, save= 'ext4e_with_gastrulation.pdf') "
   ]
  },
  {
   "cell_type": "code",
   "execution_count": null,
   "id": "conceptual-equity",
   "metadata": {},
   "outputs": [],
   "source": [
    "sc.pl.dotplot(adata, var_names=DEG_of_interest, groupby='celltypes_for_dotplot', swap_axes=False, figsize=(10,2.5), use_raw=False, save= 'ext4f_with_gastrulation.pdf') "
   ]
  },
  {
   "cell_type": "code",
   "execution_count": null,
   "id": "valued-millennium",
   "metadata": {},
   "outputs": [],
   "source": []
  }
 ],
 "metadata": {
  "kernelspec": {
   "display_name": "Python_env_Hlab",
   "language": "python",
   "name": "python_env_hlab"
  },
  "language_info": {
   "codemirror_mode": {
    "name": "ipython",
    "version": 3
   },
   "file_extension": ".py",
   "mimetype": "text/x-python",
   "name": "python",
   "nbconvert_exporter": "python",
   "pygments_lexer": "ipython3",
   "version": "3.9.4"
  }
 },
 "nbformat": 4,
 "nbformat_minor": 5
}
