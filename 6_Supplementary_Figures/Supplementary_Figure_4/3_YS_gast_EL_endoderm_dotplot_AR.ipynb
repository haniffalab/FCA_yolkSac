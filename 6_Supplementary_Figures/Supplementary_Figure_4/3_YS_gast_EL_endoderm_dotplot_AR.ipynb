{
 "cells": [
  {
   "cell_type": "code",
   "execution_count": null,
   "id": "known-waterproof",
   "metadata": {},
   "outputs": [],
   "source": [
    "import scanpy as sc\n",
    "import pandas as pd\n",
    "import numpy as np\n",
    "import matplotlib.pyplot as plt\n",
    "import seaborn as sns; sns.set(color_codes=True)\n",
    "from pathlib import Path\n",
    "\n",
    "sc.settings.verbosity = 3  # verbosity: errors (0), warnings (1), info (2), hints (3)\n",
    "sc.settings.set_figure_params(dpi=80, dpi_save=300, color_map='viridis')"
   ]
  },
  {
   "cell_type": "code",
   "execution_count": null,
   "id": "hollow-amber",
   "metadata": {},
   "outputs": [],
   "source": [
    "YS_EL = sc.read('/home/jovyan/YS_project/YS/Data_objects/final_objects/Combined_YS_Fliver_raw_15112021.h5ad')"
   ]
  },
  {
   "cell_type": "code",
   "execution_count": null,
   "id": "harmful-indonesia",
   "metadata": {},
   "outputs": [],
   "source": [
    "gast = sc.read('/home/jovyan/wgeted_files/gastrulation.h5ad')"
   ]
  },
  {
   "cell_type": "code",
   "execution_count": null,
   "id": "alike-bowling",
   "metadata": {},
   "outputs": [],
   "source": [
    "kidney = sc.read('/home/jovyan/mount_farm/lustre/team298/SharedFolders/ar32/raw_kidney_from_pan_fetal_20220308.h5ad')\n",
    "kidney.var_names_make_unique()"
   ]
  },
  {
   "cell_type": "code",
   "execution_count": null,
   "id": "pleasant-benjamin",
   "metadata": {},
   "outputs": [],
   "source": [
    "liver_rest = sc.read('/home/jovyan/mount_farm/nfs/team298/ar32/YS/All_fetal_liver_data/A5_fetal_liver_alladata_updated_annots_210721.h5ad')\n",
    "liver_rest = liver_rest[~liver_rest.obs['orig.ident'].isin(['F61', 'F35', 'F32'])] # remove any cells under 'F61', 'F35', 'F32' as in combined YS_EL object"
   ]
  },
  {
   "cell_type": "code",
   "execution_count": null,
   "id": "reduced-nightlife",
   "metadata": {},
   "outputs": [],
   "source": [
    "liver_adult = sc.read('/home/jovyan/mount_farm/nfs/team298/ar32/YS/adult_liver/data_set1_sharma_not_raw/Liver_raw_20220303.h5ad')\n",
    "liver_adult = liver_adult[liver_adult.obs['NormalvsTumor'].isin(['Normal'])]"
   ]
  },
  {
   "cell_type": "code",
   "execution_count": null,
   "id": "every-invite",
   "metadata": {},
   "outputs": [],
   "source": [
    "liver_adult.obs['patientno'].value_counts()"
   ]
  },
  {
   "cell_type": "code",
   "execution_count": null,
   "id": "stone-melissa",
   "metadata": {},
   "outputs": [],
   "source": [
    "liver_adult.obs['HCCF1F2_anno'].value_counts()"
   ]
  },
  {
   "cell_type": "code",
   "execution_count": null,
   "id": "banner-limit",
   "metadata": {},
   "outputs": [],
   "source": [
    "# Some anno of cells which match/look like fetal celltypes but are definately adult cells"
   ]
  },
  {
   "cell_type": "code",
   "execution_count": null,
   "id": "muslim-documentary",
   "metadata": {},
   "outputs": [],
   "source": [
    "YS_EL.obs['Celltype_for_plot'] = YS_EL.obs['broad_cell_labels_organ']\n",
    "gast.obs['Celltype_for_plot'] = gast.obs['corr_concat'].astype(str) + '_gast'\n",
    "kidney.obs['Celltype_for_plot'] = kidney.obs['anno_to_use'].astype(str) + '_kidney'\n",
    "liver_rest.obs['Celltype_for_plot'] = liver_rest.obs['cell.labels'].astype(str) + '_liver_not_matched'\n",
    "liver_adult.obs['Celltype_for_plot'] = liver_adult.obs['HCCF1F2_anno'].astype(str) + '_adult_liver'\n",
    "\n",
    "YS_EL.obs['Dataset'] = 'YS_EL'\n",
    "gast.obs['Dataset'] = 'gast'\n",
    "kidney.obs['Dataset'] = 'kidney'\n",
    "liver_rest.obs['Dataset'] = 'liver_rest'\n",
    "liver_adult.obs['Dataset'] = 'liver_adult'"
   ]
  },
  {
   "cell_type": "code",
   "execution_count": null,
   "id": "foster-average",
   "metadata": {},
   "outputs": [],
   "source": [
    "# Define intersecting genes between datasets\n",
    "YS_EL_genes = list(YS_EL.var.index)\n",
    "gast_genes = list(gast.var.index)\n",
    "kidney_genes = list(kidney.var.index)\n",
    "liver_rest_genes = list(liver_rest.var.index)\n",
    "liver_adult_genes = list(liver_adult.var.index)\n",
    "keep_SC_genes = list(set(YS_EL_genes) & set(gast_genes) & set(kidney_genes) & set(liver_rest_genes) & set(liver_adult_genes))\n",
    "#print(\"keep gene list = \" , len(keep_SC_genes), \"YS_EL gene length = \", len(YS_EL_genes) , \"gast gene length = \", len(gast_genes) , \"liver_rest gene length = \", len(liver_rest_genes), \"liver_adult gene length = \", len(liver_adult_genes) )"
   ]
  },
  {
   "cell_type": "code",
   "execution_count": null,
   "id": "processed-athens",
   "metadata": {},
   "outputs": [],
   "source": [
    "YS_EL_intersect1 = YS_EL[:, keep_SC_genes]\n",
    "YS_EL = YS_EL_intersect1\n",
    "gast_intersect = gast[:, keep_SC_genes]\n",
    "gast = gast_intersect\n",
    "kidney_intersect = kidney[:, keep_SC_genes]\n",
    "kidney = kidney_intersect\n",
    "liver_rest_intersect2 = liver_rest[:, keep_SC_genes]\n",
    "liver_rest = liver_rest_intersect2\n",
    "liver_adult_intersect3 = liver_adult[:, keep_SC_genes]\n",
    "liver_adult = liver_adult_intersect3"
   ]
  },
  {
   "cell_type": "code",
   "execution_count": null,
   "id": "sharing-hayes",
   "metadata": {},
   "outputs": [],
   "source": [
    "del YS_EL.uns\n",
    "del YS_EL.obsm\n",
    "\n",
    "del gast.obsm\n",
    "\n",
    "del liver_rest.obsm\n",
    "\n",
    "adata_list = [YS_EL, gast, liver_rest]\n",
    "adata = sc.AnnData.concatenate(*adata_list, join='inner', batch_categories=None ,index_unique=None)"
   ]
  },
  {
   "cell_type": "code",
   "execution_count": null,
   "id": "unable-mainstream",
   "metadata": {},
   "outputs": [],
   "source": [
    "# normalise count data\n",
    "sc.pp.normalize_total(adata)"
   ]
  },
  {
   "cell_type": "code",
   "execution_count": null,
   "id": "periodic-consensus",
   "metadata": {},
   "outputs": [],
   "source": [
    "# log the count data\n",
    "sc.pp.log1p(adata)"
   ]
  },
  {
   "cell_type": "code",
   "execution_count": null,
   "id": "psychological-coral",
   "metadata": {},
   "outputs": [],
   "source": [
    "# scale the data\n",
    "sc.pp.scale(adata, max_value=10)\n",
    "# scale the negative values in adata.X (which have been normalised, logged and scaled) to zero\n",
    "#adata.X = np.where(adata.X < 0, 0, adata.X)"
   ]
  },
  {
   "cell_type": "code",
   "execution_count": null,
   "id": "arabic-rates",
   "metadata": {},
   "outputs": [],
   "source": [
    "# normalise count data\n",
    "sc.pp.normalize_total(kidney)"
   ]
  },
  {
   "cell_type": "code",
   "execution_count": null,
   "id": "medical-lobby",
   "metadata": {},
   "outputs": [],
   "source": [
    "# log the count data\n",
    "sc.pp.log1p(kidney)"
   ]
  },
  {
   "cell_type": "code",
   "execution_count": null,
   "id": "loved-space",
   "metadata": {},
   "outputs": [],
   "source": [
    "# scale the data\n",
    "sc.pp.scale(kidney, max_value=10)\n",
    "# scale the negative values in adata.X (which have been normalised, logged and scaled) to zero\n",
    "#adata.X = np.where(adata.X < 0, 0, adata.X)"
   ]
  },
  {
   "cell_type": "code",
   "execution_count": null,
   "id": "orange-employment",
   "metadata": {},
   "outputs": [],
   "source": [
    "# normalise count data\n",
    "sc.pp.normalize_total(liver_adult)"
   ]
  },
  {
   "cell_type": "code",
   "execution_count": null,
   "id": "temporal-basin",
   "metadata": {},
   "outputs": [],
   "source": [
    "# log the count data\n",
    "sc.pp.log1p(liver_adult)"
   ]
  },
  {
   "cell_type": "code",
   "execution_count": null,
   "id": "limiting-crest",
   "metadata": {},
   "outputs": [],
   "source": [
    "# scale the data\n",
    "sc.pp.scale(liver_adult, max_value=10)\n",
    "# scale the negative values in adata.X (which have been normalised, logged and scaled) to zero\n",
    "#adata.X = np.where(adata.X < 0, 0, adata.X)"
   ]
  },
  {
   "cell_type": "code",
   "execution_count": null,
   "id": "everyday-generator",
   "metadata": {},
   "outputs": [],
   "source": [
    "celltypes_to_keep = [\n",
    "# YS\n",
    "'Progenitors_ys',\n",
    "'Lymphoid_ys',\n",
    "'DC_ys',\n",
    "'Monocyte_ys',\n",
    "'Macrophage_ys',\n",
    "'Microglia_ys',\n",
    "'Granulocyte_precursors_ys',\n",
    "'Mast_cell_ys',\n",
    "'MK_ys',\n",
    "'Erythroid_ys',\n",
    "'Endothelium_ys', \n",
    "'Fibroblast_ys',\n",
    "'Smooth_Muscle_ys',\n",
    "'Mesothelium_ys',\n",
    "'Endoderm_ys',\n",
    "# Matched liver  \n",
    "'Progenitor_fliv',\n",
    "'Lymphoid_fliv',\n",
    "'B_lymphoid_fliv',\n",
    "'DC_fliv',\n",
    "'Monocyte_fliv',\n",
    "'Kupffer_cell_fliv',\n",
    "'Granulocyte_precursor_fliv',\n",
    "'Mast_cell_fliv',\n",
    "'MK_fliv',\n",
    "'Erythroid_fliv',\n",
    "'Endothelium_fliv',\n",
    "'Fibroblast_fliv',\n",
    "'Hepatocyte_fliv',\n",
    "# gast\n",
    "'YS Endoderm_Yolk Sac_gastrulation_gast',\n",
    "# Rest of liver - currently cell.labels\n",
    "'Hepatocyte_liver_not_matched',\n",
    "# kidney\n",
    "'FIBROBLAST_XI_kidney',\n",
    "# adult liver\n",
    "'Hepatocytes_adult_liver',\n",
    "]"
   ]
  },
  {
   "cell_type": "code",
   "execution_count": null,
   "id": "smaller-person",
   "metadata": {},
   "outputs": [],
   "source": [
    "del liver_adult.obsm\n",
    "del liver_adult.uns\n",
    "del liver_adult.layers\n",
    "\n",
    "\n",
    "adata_list = [adata,kidney,liver_adult]\n",
    "adata = sc.AnnData.concatenate(*adata_list, join='inner', batch_categories=None ,index_unique=None)"
   ]
  },
  {
   "cell_type": "markdown",
   "id": "historical-merchant",
   "metadata": {},
   "source": [
    "# Plot"
   ]
  },
  {
   "cell_type": "code",
   "execution_count": null,
   "id": "valid-deficit",
   "metadata": {},
   "outputs": [],
   "source": [
    "genes_plot = ['F10', 'EPO', 'EGFR', 'THPO', 'TNFSF12','EPHA1']"
   ]
  },
  {
   "cell_type": "code",
   "execution_count": null,
   "id": "chemical-footwear",
   "metadata": {},
   "outputs": [],
   "source": [
    "len(adata.obs[\"Celltype_for_plot\"].unique())"
   ]
  },
  {
   "cell_type": "code",
   "execution_count": null,
   "id": "subsequent-trading",
   "metadata": {},
   "outputs": [],
   "source": [
    "adata = adata[adata.obs['Celltype_for_plot'].isin(celltypes_to_keep)]"
   ]
  },
  {
   "cell_type": "code",
   "execution_count": null,
   "id": "local-auckland",
   "metadata": {},
   "outputs": [],
   "source": [
    "adata.obs[\"Celltype_for_plot\"] = adata.obs[\"Celltype_for_plot\"].astype('category')\n",
    "adata.obs[\"Celltype_for_plot\"] = adata.obs[\"Celltype_for_plot\"].cat.reorder_categories([\n",
    "# YS\n",
    "'Progenitors_ys',\n",
    "'Lymphoid_ys',\n",
    "'DC_ys',\n",
    "'Monocyte_ys',\n",
    "'Macrophage_ys',\n",
    "'Microglia_ys',\n",
    "'Granulocyte_precursors_ys',\n",
    "'Mast_cell_ys',\n",
    "'MK_ys',\n",
    "'Erythroid_ys',\n",
    "'Endothelium_ys', \n",
    "'Fibroblast_ys',\n",
    "'Smooth_Muscle_ys',\n",
    "'Mesothelium_ys',\n",
    "'Endoderm_ys',\n",
    "# gast\n",
    "'YS Endoderm_Yolk Sac_gastrulation_gast',\n",
    "# Matched liver  \n",
    "'Progenitor_fliv',\n",
    "'Lymphoid_fliv',\n",
    "'B_lymphoid_fliv',\n",
    "'DC_fliv',\n",
    "'Monocyte_fliv',\n",
    "'Kupffer_cell_fliv',\n",
    "'Granulocyte_precursor_fliv',\n",
    "'Mast_cell_fliv',\n",
    "'MK_fliv',\n",
    "'Erythroid_fliv',\n",
    "'Endothelium_fliv',\n",
    "'Fibroblast_fliv',\n",
    "'Hepatocyte_fliv',\n",
    "# Rest of liver - currently cell.labels\n",
    "'Hepatocyte_liver_not_matched',\n",
    "# adult liver\n",
    "'Hepatocytes_adult_liver',\n",
    "# kidney\n",
    "'FIBROBLAST_XI_kidney',\n",
    "])"
   ]
  },
  {
   "cell_type": "code",
   "execution_count": null,
   "id": "promotional-migration",
   "metadata": {},
   "outputs": [],
   "source": [
    "sc.pl.dotplot(adata, var_names=genes_plot, groupby='Celltype_for_plot', swap_axes=True, use_raw=False, save= 'fig6e_EPo_plot_1_20220310.pdf') #save= 'fig3c'"
   ]
  },
  {
   "cell_type": "code",
   "execution_count": null,
   "id": "organizational-count",
   "metadata": {},
   "outputs": [],
   "source": []
  }
 ],
 "metadata": {
  "kernelspec": {
   "display_name": "Python_env_Hlab",
   "language": "python",
   "name": "python_env_hlab"
  },
  "language_info": {
   "codemirror_mode": {
    "name": "ipython",
    "version": 3
   },
   "file_extension": ".py",
   "mimetype": "text/x-python",
   "name": "python",
   "nbconvert_exporter": "python",
   "pygments_lexer": "ipython3",
   "version": "3.9.4"
  }
 },
 "nbformat": 4,
 "nbformat_minor": 5
}
