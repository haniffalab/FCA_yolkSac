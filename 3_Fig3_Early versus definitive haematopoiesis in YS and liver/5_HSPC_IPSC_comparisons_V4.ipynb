{
 "cells": [
  {
   "cell_type": "code",
   "execution_count": null,
   "id": "competitive-destination",
   "metadata": {},
   "outputs": [],
   "source": [
    "import sys\n",
    "import subprocess\n",
    "\n",
    "#import pkg_resources\n",
    "#required = {'harmonypy','sklearn','scanpy','pandas', 'numpy', 'bbknn', 'scipy', 'matplotlib', 'seaborn' ,'scipy'}\n",
    "#installed = {pkg.key for pkg in pkg_resources.working_set}\n",
    "#missing = required - installed\n",
    "#if missing:\n",
    "#    print(\"Installing missing packages:\" )\n",
    "#    print(missing)\n",
    "#    python = sys.executable\n",
    "#    subprocess.check_call([python, '-m', 'pip', 'install', *missing], stdout=subprocess.DEVNULL)\n",
    "\n",
    "%matplotlib inline\n",
    "from collections import Counter\n",
    "from collections import defaultdict\n",
    "import scanpy as sc\n",
    "import pandas as pd\n",
    "import pickle as pkl\n",
    "import numpy as np\n",
    "from bbknn import bbknn\n",
    "import scipy\n",
    "import matplotlib.pyplot as plt\n",
    "import re\n",
    "import glob\n",
    "import os\n",
    "import sys\n",
    "from geosketch import gs\n",
    "from numpy import cov\n",
    "import scipy.cluster.hierarchy as spc\n",
    "import seaborn as sns; sns.set(color_codes=True)\n",
    "from sklearn.linear_model import LogisticRegression\n",
    "import sklearn\n",
    "import harmonypy as hm\n",
    "from pathlib import Path\n",
    "\n",
    "sc.settings.verbosity = 3  # verbosity: errors (0), warnings (1), info (2), hints (3)\n",
    "sc.settings.set_figure_params(dpi=300, color_map='viridis')\n",
    "plt.rcParams['figure.figsize'] = [10, 10]"
   ]
  },
  {
   "cell_type": "markdown",
   "id": "alive-nursing",
   "metadata": {},
   "source": [
    "# Plot General HSCPC Markers (FIG2A)"
   ]
  },
  {
   "cell_type": "code",
   "execution_count": null,
   "id": "enabling-discrimination",
   "metadata": {},
   "outputs": [],
   "source": [
    "adata = sc.read('./HSC_HSPC_combined_density_estimated.h5ad')"
   ]
  },
  {
   "cell_type": "code",
   "execution_count": null,
   "id": "satisfied-release",
   "metadata": {},
   "outputs": [],
   "source": [
    "adata_ipsc = sc.read('/nfs/team205/ig7/work_backups/backup_210306/projects/YS/YS_310122_notebooks/fig3_Macrophages/Process_IPSC_mac_data/IPSC_DC_lin_use_this/v6_IPSC_mac_lin.h5ad')\n",
    "adata_ipsc = adata_ipsc[adata_ipsc.obs['LR_assignment_v2'].str.contains('HSPC')]\n",
    "sc.pp.scale(adata_ipsc,zero_center=True,max_value=10)"
   ]
  },
  {
   "cell_type": "code",
   "execution_count": null,
   "id": "seasonal-correspondence",
   "metadata": {},
   "outputs": [],
   "source": [
    "adata_ipsc.obs['tissue'] = 'IPSC'\n",
    "adata_ipsc.obs['dataset_annot'] = adata_ipsc.obs['LR_assignment_v2'].copy()\n",
    "adata = adata.concatenate(adata_ipsc,join='inner')"
   ]
  },
  {
   "cell_type": "code",
   "execution_count": null,
   "id": "compressed-capital",
   "metadata": {},
   "outputs": [],
   "source": [
    "adata.obs.groupby(['dataset','fetal_ids']).apply(len)"
   ]
  },
  {
   "cell_type": "code",
   "execution_count": null,
   "id": "dramatic-shield",
   "metadata": {},
   "outputs": [],
   "source": [
    "adata.obs.groupby(['dataset']).apply(len)"
   ]
  },
  {
   "cell_type": "code",
   "execution_count": null,
   "id": "official-heather",
   "metadata": {},
   "outputs": [],
   "source": [
    "'dataset_annot'"
   ]
  },
  {
   "cell_type": "code",
   "execution_count": null,
   "id": "dense-report",
   "metadata": {},
   "outputs": [],
   "source": [
    "general_hsc = {\n",
    "'HSC':[\"CD34\",\t\"MLLT3\",\t\"SPINK2\",\t\"HOPX\",\t\"HLF\",\t\"CLEC9A\",'PROM1','HLA-DRA','HLA-DRB1',\t'SOX17',\"HOXA3\",\t\"HOXA4\",\t\"HOXA5\",\t\"HOXA7\",\t\"HOXA10\",\"ICAM3\",\t\"SELL\",\t\"PLAC8\",\t\"CD74\"],#\n",
    "}\n",
    "\n",
    "general_hsc_surface_markers = {\n",
    "'HSC_markers':[\"CD34\",\t\"MLLT3\",\t\"SPINK2\",\t\"HOPX\",\"MLLT3\",\"MECOM\",\t\"HLF\",\"HLF\"],#\n",
    "'HSC_maturity_markers':[\"CLEC9A\",\"FLT3\",\"CD48\",'PROM1','HLA-DRA','HLA-DRB1',],\n",
    "'HSC_surface_tetraspaninis':['CD9','CD81','CD63','CD24','CD74'],\n",
    "'HSC_maintenance':[\"SOX17\",\"HOXA3\",\t\"HOXA4\",\t\"HOXA5\",\t\"HOXA7\",\t\"HOXA9\",\"HOXA10\"],\n",
    "}\n",
    "\n",
    "\n",
    "# HE_origin = {\n",
    "# 'HSC':[\"KDR\",\t\"FLT1\",\t\"CDH5\",],\n",
    "# }\n",
    "\n",
    "HE_origin_alternate_adhesion_combined = {\n",
    "#'HSC':[\"PLVAP\",\t\"PECAM1\",\"ESAM\",\t\"CDH5\",\t\"FLT1\",\"KDR\",'ALDH1A1' , 'KCNK17',\"ICAM3\",\t\"SELL\",\t\"PLAC8\",\t\"CD74\"],\n",
    "#HSC':[\"PLVAP\",\"ESAM\",\"PECAM1\",\t\"CDH5\",\t\"FLT1\",\"KDR\", 'KCNK17',\"ICAM3\",\t\"SELL\",\t\"PLAC8\",\t\"CD74\"],\n",
    "'HSC':[\"PLVAP\",\"ESAM\",\"PECAM1\",\t\"CDH5\",\t\"FLT1\",\"KDR\", 'KCNK17'],\n",
    "}\n",
    "\n",
    "# YS_HSP_DE_difinitive = {\n",
    "# 'HSC':[\"ICAM3\",\t\"SELL\",\t\"PLAC8\",\t\"CD74\",\t\"SOX17\",],\n",
    "# }\n",
    "\n",
    "# YS_HSP_DE_difinitive_alternate = {\n",
    "# 'HSC':[\"ICAM3\",\t\"SELL\",\t\"PLAC8\",\t\"CD74\",\t\"SOX17\",\"CD63\",\t\"CD37\",],\n",
    "# }\n",
    "\n",
    "\n",
    "general_hsc_surface_markers_supp_HSC_survival = {\n",
    "'HSC_surface_tetraspaninis':['CD9','CD81','CD63','CD24','CD74'],\n",
    "'HSC_maturity_markers':['PROM1','HLA-DRA','HLA-DRB1',\"CLEC9A\",\"FLT3\",\"CD48\"],\n",
    "}"
   ]
  },
  {
   "cell_type": "code",
   "execution_count": null,
   "id": "light-thriller",
   "metadata": {},
   "outputs": [],
   "source": [
    "adata.obs['dataset_annot'].unique()"
   ]
  },
  {
   "cell_type": "code",
   "execution_count": null,
   "id": "cloudy-infrastructure",
   "metadata": {},
   "outputs": [],
   "source": [
    "# order these categories by lineage time\n",
    "ordering =  ['Gastrula_HSPC_lineage_Yolk Sac_gastrulation',\n",
    " 'YS_HSPC_1',\n",
    " 'YS_HSPC_2',\n",
    " 'AGM_10_HSPC',\n",
    " 'EL_HSC',\n",
    " 'FBM_HSC/MPP',\n",
    " 'HSPC_1_IPSC',\n",
    "'HSPC_2_IPSC'\n",
    "]\n",
    "adata.obs['dataset_annot'] = pd.Categorical(adata.obs['dataset_annot'], categories=ordering) "
   ]
  },
  {
   "cell_type": "code",
   "execution_count": null,
   "id": "special-trinity",
   "metadata": {},
   "outputs": [],
   "source": [
    "data_temp = adata\n",
    "markers = HE_origin_alternate_adhesion_combined\n",
    "spot_var = 'dataset_annot'\n",
    "save_title = 'HE_origin_alternate_adhesion_combined_v5_with_IPSC'\n",
    "\n",
    "(sc.pl.dotplot(data_temp, var_names = markers, groupby=spot_var,dendrogram=False, color_map='Reds', show = True,standard_scale='var',save =save_title))\n",
    "sc.pl.stacked_violin(data_temp ,var_names= markers, groupby=spot_var,  log=False, use_raw=None, num_categories=7, title=None, colorbar_title='Median exp', figsize=None, dendrogram=False, gene_symbols=None, var_group_positions=None, var_group_labels=None, standard_scale='var', var_group_rotation=None, layer=None, stripplot=False, jitter=False, size=1, scale='width', yticklabels=False, order=None, swap_axes=False, show=None, save=save_title, return_fig=False, row_palette=None, cmap='Reds', ax=None, vmin=None, vmax=None, vcenter=None, norm=None)"
   ]
  },
  {
   "cell_type": "code",
   "execution_count": null,
   "id": "fantastic-virtue",
   "metadata": {},
   "outputs": [],
   "source": [
    "data_temp = adata\n",
    "markers = general_hsc\n",
    "spot_var = 'dataset_annot'\n",
    "save_title = 'general_hsc_v5_with_IPSC'\n",
    "\n",
    "(sc.pl.dotplot(data_temp, var_names = markers, groupby=spot_var,dendrogram=False, color_map='Reds', show = True,standard_scale='var',save =save_title))\n",
    "sc.pl.stacked_violin(data_temp ,var_names= markers, groupby=spot_var,  log=False, use_raw=None, num_categories=7, title=None, colorbar_title='Median exp', figsize=None, dendrogram=False, gene_symbols=None, var_group_positions=None, var_group_labels=None, standard_scale='var', var_group_rotation=None, layer=None, stripplot=False, jitter=False, size=1, scale='width', yticklabels=False, order=None, swap_axes=False, show=None, save=save_title, return_fig=False, row_palette=None, cmap='Reds', ax=None, vmin=None, vmax=None, vcenter=None, norm=None)"
   ]
  },
  {
   "cell_type": "code",
   "execution_count": null,
   "id": "consistent-society",
   "metadata": {},
   "outputs": [],
   "source": [
    "data_temp = adata\n",
    "markers = HE_origin_alternate_adhesion_combined\n",
    "spot_var = 'dataset_annot'\n",
    "save_title = 'HE_origin_alternate_v5_with_IPSC'\n",
    "\n",
    "(sc.pl.dotplot(data_temp, var_names = markers, groupby=spot_var,dendrogram=False, color_map='Reds', show = True,standard_scale='var',save =save_title))\n",
    "sc.pl.stacked_violin(data_temp ,var_names= markers, groupby=spot_var,  log=False, use_raw=None, num_categories=7, title=None, colorbar_title='Median exp', figsize=None, dendrogram=False, gene_symbols=None, var_group_positions=None, var_group_labels=None, standard_scale='var', var_group_rotation=None, layer=None, stripplot=False, jitter=False, size=1, scale='width', yticklabels=False, order=None, swap_axes=False, show=None, save=save_title, return_fig=False, row_palette=None, cmap='Reds', ax=None, vmin=None, vmax=None, vcenter=None, norm=None)"
   ]
  },
  {
   "cell_type": "code",
   "execution_count": null,
   "id": "worse-canadian",
   "metadata": {},
   "outputs": [],
   "source": [
    "adata = sc.read('/nfs/team205/ig7/work_backups/backup_210306/projects/YS/YS_090321_notebooks/HSPC_comp/batch_by_organ_SCVI_HSPC_integration_output_batch_dataset_20220119.h5ad')"
   ]
  },
  {
   "cell_type": "code",
   "execution_count": null,
   "id": "naughty-camel",
   "metadata": {},
   "outputs": [],
   "source": [
    "gene_sets = {'metabolic' :['/nfs/team205/ig7/resources/GO-0045333_cell_respiration.csv'],\n",
    "'cell_cycle' : ['/nfs/team205/ig7/resources/GO-0022402_cell_cycle_genes.csv'],\n",
    "'cell_cell_adhesion':['/nfs/team205/ig7/resources/GO_0016337_cell_cell_adhesion.csv'],\n",
    "'cell_matrix_adhesion': ['/nfs/team205/ig7/resources/GO_0007160_cell_matrix_adhesion.csv'],\n",
    "'endo_cell_matrix_adhesion' :[ '/nfs/team205/ig7/resources/GO_0090673_endo_cell_matrix_adhesion.csv'],\n",
    "'GNF2_SELL':['/nfs/team205/ig7/resources/GNF2_SELL.csv'],\n",
    "'GNF2_ICAM3':['/nfs/team205/ig7/resources/GNF2_ICAM3.csv'],}\n",
    "for i in gene_sets.keys():\n",
    "    gene_list_loc = ''.join(str(e) for e in gene_sets[i])\n",
    "    gene_list_name = i\n",
    "    gene_list = list(pd.read_csv(gene_list_loc,header=None)[0])\n",
    "    gene_list = list(adata.var.index[adata.var.index.isin(gene_list)])\n",
    "    print(len(gene_list))\n",
    "    sc.tl.score_genes(adata, gene_list, ctrl_size=50, gene_pool=None, n_bins=25, score_name=(gene_list_name + '_score'), random_state=0, copy=False, use_raw=None)\n",
    "    \n",
    "scores = adata.obs[[s + '_score' for s in list(gene_sets.keys())]]\n",
    "scores['group'] = adata.obs['dataset']\n",
    "scores.groupby('group').median()\n",
    "sns.heatmap(scores.groupby('group').median(),  annot=True,vmin=-1, vmax=1, linewidths=1, center=0, square=True, cbar_kws={\"shrink\": 0.5})"
   ]
  },
  {
   "cell_type": "code",
   "execution_count": null,
   "id": "guided-ceramic",
   "metadata": {},
   "outputs": [],
   "source": [
    "sc.pp.neighbors(adata, n_neighbors=20, n_pcs=10)\n",
    "sc.tl.umap(adata)\n",
    "sc.pl.umap(adata,color = 'dataset_annot')"
   ]
  },
  {
   "cell_type": "code",
   "execution_count": null,
   "id": "daily-highway",
   "metadata": {},
   "outputs": [],
   "source": [
    "sc.pl.umap(adata,color = 'dataset_annot')"
   ]
  },
  {
   "cell_type": "code",
   "execution_count": null,
   "id": "literary-recommendation",
   "metadata": {},
   "outputs": [],
   "source": [
    "sc.tl.embedding_density(adata, groupby='dataset_annot')\n",
    "map_scores = []\n",
    "for i in adata.obs['dataset_annot'].unique():\n",
    "    # make bg blue\n",
    "    adata.obs['umap_density_dataset_annot_'+i] = adata.obs['umap_density_dataset_annot']\n",
    "    adata.obs.loc[~adata.obs['dataset_annot'].isin([i]),('umap_density_dataset_annot_'+i)] = 0.1\n",
    "    #sc.pl.umap(adata,color = ('umap_density_dataset_annot_'+i),color_map = 'turbo')\n",
    "    map_scores.append('umap_density_dataset_annot_'+i)\n",
    "#sc.pl.umap(adata,color = 'umap_density_dataset_annot',color_map = 'turbo')\n",
    "#sc.pl.embedding_density(adata, groupby='dataset_annot',color_map = 'seismic')\n",
    "sc.pl.umap(adata,color = map_scores,color_map = 'turbo',legend_loc=None,save = ('all_density_HSC'))"
   ]
  },
  {
   "cell_type": "code",
   "execution_count": null,
   "id": "modular-facial",
   "metadata": {},
   "outputs": [],
   "source": [
    "sc.tl.embedding_density(adata, groupby='dataset_annot')\n",
    "map_scores = []\n",
    "for i in adata.obs['dataset_annot'].unique():\n",
    "    # make bg blue\n",
    "    adata.obs['umap_density_dataset_annot_'+i] = adata.obs['umap_density_dataset_annot']\n",
    "    adata.obs.loc[~adata.obs['dataset_annot'].isin([i]),('umap_density_dataset_annot_'+i)] = 0.1\n",
    "    #sc.pl.umap(adata,color = ('umap_density_dataset_annot_'+i),color_map = 'turbo')\n",
    "    map_scores.append('umap_density_dataset_annot_'+i)\n",
    "    \n",
    "    sc.pl.umap(adata,color = map_scores,color_map = 'turbo',legend_loc=None,save = (i+'_density_HSC'))\n",
    "    \n",
    "#sc.pl.umap(adata,color = 'umap_density_dataset_annot',color_map = 'turbo')\n",
    "#sc.pl.embedding_density(adata, groupby='dataset_annot',color_map = 'seismic')\n",
    "sc.pl.umap(adata,color = map_scores,color_map = 'turbo',legend_loc=None)"
   ]
  },
  {
   "cell_type": "markdown",
   "id": "affected-petite",
   "metadata": {},
   "source": [
    "# cell cycle scoring"
   ]
  },
  {
   "cell_type": "code",
   "execution_count": null,
   "id": "improving-williams",
   "metadata": {},
   "outputs": [],
   "source": [
    "gene_sets = {#'metabolic' :['/nfs/team205/ig7/resources/GO-0045333_cell_respiration.csv'],\n",
    "'cell_cycle' : ['/nfs/team205/ig7/resources/GO-0022402_cell_cycle_genes.csv'],\n",
    "# 'cell_cell_adhesion':['/nfs/team205/ig7/resources/GO_0016337_cell_cell_adhesion.csv'],\n",
    "# 'cell_matrix_adhesion': ['/nfs/team205/ig7/resources/GO_0007160_cell_matrix_adhesion.csv'],\n",
    "# 'endo_cell_matrix_adhesion' :[ '/nfs/team205/ig7/resources/GO_0090673_endo_cell_matrix_adhesion.csv'],\n",
    "# 'GNF2_SELL':['/nfs/team205/ig7/resources/GNF2_SELL.csv'],\n",
    "# 'GNF2_ICAM3':['/nfs/team205/ig7/resources/GNF2_ICAM3.csv'],}\n",
    "            }\n",
    "for i in gene_sets.keys():\n",
    "    gene_list_loc = ''.join(str(e) for e in gene_sets[i])\n",
    "    gene_list_name = i\n",
    "    gene_list = list(pd.read_csv(gene_list_loc,header=None)[0])\n",
    "    gene_list = list(adata.var.index[adata.var.index.isin(gene_list)])\n",
    "    print(len(gene_list))\n",
    "    sc.tl.score_genes(adata, gene_list, ctrl_size=50, gene_pool=None, n_bins=25, score_name=(gene_list_name + '_score'), random_state=0, copy=False, use_raw=None)"
   ]
  },
  {
   "cell_type": "code",
   "execution_count": null,
   "id": "false-helena",
   "metadata": {},
   "outputs": [],
   "source": [
    "cycle_2 = ['CDK1','MKI67']\n",
    "sc.tl.score_genes(adata,cycle_2 , ctrl_size=50, gene_pool=None, n_bins=25, score_name=('cycle_2' + '_score'), random_state=0, copy=False, use_raw=None)\n",
    "gene_sets ={\n",
    "    'cell_cycle' : ['/nfs/team205/ig7/resources/GO-0022402_cell_cycle_genes.csv'],\n",
    "    'cycle_2':[]\n",
    "}"
   ]
  },
  {
   "cell_type": "code",
   "execution_count": null,
   "id": "aggregate-minority",
   "metadata": {},
   "outputs": [],
   "source": [
    "# order these categories by lineage time\n",
    "ordering =  ['Gastrula_HSPC_lineage_Yolk Sac_gastrulation',\n",
    " 'YS_HSPC_1',\n",
    " 'YS_HSPC_2',\n",
    " 'AGM_10_HSPC',\n",
    " 'EL_HSC',\n",
    " 'FBM_HSC/MPP']\n",
    "adata.obs['dataset_annot'] = pd.Categorical(adata.obs['dataset_annot'], categories=ordering) "
   ]
  },
  {
   "cell_type": "code",
   "execution_count": null,
   "id": "certified-cutting",
   "metadata": {},
   "outputs": [],
   "source": [
    "scores = adata.obs[[s + '_score' for s in list(gene_sets.keys())]]\n",
    "scores['group'] = adata.obs['dataset_annot']\n",
    "scores_median = scores.groupby('group').median()\n",
    "scores.groupby('group').median()"
   ]
  },
  {
   "cell_type": "code",
   "execution_count": null,
   "id": "capable-cloud",
   "metadata": {},
   "outputs": [],
   "source": [
    "sns_plot = sns.heatmap(scores_temp.groupby('group').median(),  annot=False,vmin=float(np.min(scores_temp.groupby('group').median())), vmax=float(np.max(scores_temp.groupby('group').median())), linewidths=1, center=float(np.mean(scores_temp.groupby('group').median())), square=True, cbar_kws={\"shrink\": 0.5},cmap = \"vlag\")\n",
    "sns_plot.figure.savefig(\"./HPSC_prolif.pdf\")"
   ]
  },
  {
   "cell_type": "code",
   "execution_count": null,
   "id": "spoken-darkness",
   "metadata": {},
   "outputs": [],
   "source": [
    "concat = pd.concat([n,p,l],axis=1)\n",
    "#remove mito genes from data\n",
    "concat = concat[~concat[\"gene\"].str.startswith(\"MT-\")]\n",
    "concat = concat[~concat[\"gene\"].str.startswith(\"RP11-\")]\n",
    "concat[\"cluster\"] = concat[\"cluster\"].astype(str)\n",
    "marker_df = concat.groupby('cluster').apply(lambda grp: grp.nlargest(20, 'logfc')).reset_index(drop=True)\n",
    "marker_df = marker_df.groupby('cluster').apply(lambda grp: grp.nsmallest(10, 'pvals_adj')).reset_index(drop=True)\n",
    "markers = marker_df.groupby('cluster')['gene'].apply(list).to_dict()\n",
    "markers = dict(sorted(markers.items()))\n",
    "markers = {str(k):v for k,v in markers.items()}\n",
    "data_temp = YS_HSC \n",
    "markers = markers\n",
    "(sc.pl.dotplot(data_temp, var_names = markers, groupby=spot_var,dendrogram=False, color_map='Reds', show = True,standard_scale='var',save= 'clotting_over_time'))"
   ]
  },
  {
   "cell_type": "markdown",
   "id": "continuous-maldives",
   "metadata": {},
   "source": [
    "# Dotplots for HSC_surival _cut"
   ]
  },
  {
   "cell_type": "code",
   "execution_count": null,
   "id": "pointed-preserve",
   "metadata": {},
   "outputs": [],
   "source": [
    "YS_HSC = adata[adata.obs['dataset_annot'].isin(['Gastrula_HSPC_lineage_Yolk Sac_gastrulation', 'YS_HSPC_1', 'YS_HSPC_2'])]"
   ]
  },
  {
   "cell_type": "code",
   "execution_count": null,
   "id": "amended-space",
   "metadata": {},
   "outputs": [],
   "source": [
    "YS_HSC.obs['stage_groups'] = YS_HSC.obs['dataset_annot'][:]\n",
    "YS_HSC.obs['stage_groups'] = YS_HSC.obs['stage_groups'].astype(str)\n",
    "stages= ['CS10', 'CS11', 'CS22', 'CS23', 'CS14', 'CS18', 'CS15']\n",
    "groups = ['CS10_11', 'CS10_11', 'CS22_23', 'CS22_23', 'CS14_15', 'CS18', 'CS14_15']\n",
    "dic = dict(zip(stages,groups))\n",
    "#YS_HSC.obs['stage_groups'] = YS_HSC.obs['stage'].map(dic)\n",
    "YS_HSC.obs.loc[YS_HSC.obs['stage'].isin(stages),'stage_groups'] = YS_HSC.obs['stage'].map(dic)\n",
    "YS_HSC.obs['stage_groups'].unique()\n",
    "# order these categories by lineage time\n",
    "YS_HSC.obs['stage_groups'] = YS_HSC.obs['stage_groups'].str.replace('Gastrula_HSPC_lineage_Yolk Sac_gastrulation','CS7')\n",
    "\n",
    "ordering =  ['CS7', 'CS10_11', 'CS14_15', 'CS18','CS22_23']\n",
    "YS_HSC.obs['stage_groups'] = pd.Categorical(YS_HSC.obs['stage_groups'], categories=ordering) "
   ]
  },
  {
   "cell_type": "code",
   "execution_count": null,
   "id": "christian-miller",
   "metadata": {},
   "outputs": [],
   "source": [
    "lineage_bias = {\n",
    "'YS_HSPC_migration':['CD9','CD81','IGFBP2','RAC1','RAC2','ADAM10','RUNX1'],\n",
    "'EMP_generation':['EZH2'],\n",
    "    'HSC_maturity_markers':[\"CLEC9A\",\"FLT3\",\"CD48\",'PROM1','HLA-DRA','HLA-DRB1',],\n",
    "}"
   ]
  },
  {
   "cell_type": "code",
   "execution_count": null,
   "id": "instant-beach",
   "metadata": {},
   "outputs": [],
   "source": [
    "\n",
    "lineage_bias = {\n",
    "'YS_HSPC_migration':['CD9','CD81','IGFBP2','RAC1','RAC2','RUNX1'],\n",
    "'EMP_generation':['EZH2'],\n",
    "'Migration':['ADAM10'],\n",
    "# 'HSC_maturity_markers':[\"CD48\",'PROM1','HLA-DRA',],\n",
    "}\n",
    "data = YS_HSC[:]\n",
    "plot_name = 'survival_over_time'\n",
    "plot_var = 'stage_groups'\n",
    "markers = lineage_bias\n",
    "\n",
    "sc.pl.matrixplot(data, var_names = markers, groupby=plot_var, dendrogram=False,\n",
    "                 colorbar_title='mean z-score',  vmin=-2, vmax=3, vcenter=-0.2,cmap='RdBu_r',swap_axes=False,save = plot_name)\n",
    "(sc.pl.dotplot(data, var_names = markers, groupby=plot_var,dendrogram=False, color_map='Reds', show = True,standard_scale='var',swap_axes=True,save = plot_name,dot_max=0.5,figsize =[4,5]))\n",
    "sc.pl.stacked_violin(data ,var_names= markers, groupby=plot_var, log=False, use_raw=None, num_categories=7, title=None, colorbar_title='Median exp', figsize=None, dendrogram=False, gene_symbols=None, var_group_positions=None, var_group_labels=None, standard_scale=None, var_group_rotation=None, layer=None, stripplot=False, jitter=False, size=1, scale='width', yticklabels=False, order=None, swap_axes=True, show=None, return_fig=False, row_palette=None, cmap='Reds', ax=None, vmin=None, vmax=None, vcenter=None, norm=None,save = plot_name)\n",
    "#YS_HSC, var_names = lineage_bias, groupby='stage_groups',dendrogram=False, color_map='Reds', show = True,standard_scale='var')\n",
    "sc.pl.tracksplot(data ,var_names= markers, groupby=plot_var, use_raw=None, log=False, dendrogram=False, gene_symbols=None, var_group_positions=None, var_group_labels=None, layer=None, show=None, save=None )"
   ]
  },
  {
   "cell_type": "markdown",
   "id": "congressional-overhead",
   "metadata": {},
   "source": [
    "# Dotplots for HSC_surival full"
   ]
  },
  {
   "cell_type": "code",
   "execution_count": null,
   "id": "written-switzerland",
   "metadata": {},
   "outputs": [],
   "source": [
    "lineage_bias = {\n",
    "'YS_HSPC_migration':['CD9','CD81','IGFBP2','RAC1','RAC2'],\n",
    "'EMP_generation':['EZH2'],\n",
    "'transmigration':['ADAM10'],\n",
    "'Mega_k_transition':['ITGA2B','FLI1','TPT1'],\n",
    "'ery_transition_inhibition':['CD24','RUNX3','SERPINB1'],\n",
    "'HB_genes':['HBZ','HBA1','HBG1','HBE1'],\n",
    "'ery_bias':['GATA1','KLF1','ALAS2'],\n",
    "'survival':['IGFBP2','THPO'],\n",
    "'CD74':['CD74'],\n",
    "'long_term_engraftment':['CD63','SOX17'],\n",
    "#'erypsis':[\"TAL1\",\t\"LMO2\",\t\"LDB1\",\t\"GATA1\",\t\"MYB\",\t\"ZFPM1\",\t\"KLF1\",\t\"KLF3\",\t\"KLF11\",\t\"FLI1\",\t\"RB1\",\t\"SPI1\",\t\"EPOR\",\t\"STAT5A\",\t\"TRIM10\",\t\"GATA2\",],\n",
    "#'mkpsis':[\"RUNX1\",\t\"MPL\",\t\"NFE2\",],\n",
    "}\n",
    "\n",
    "lineage_bias = {\n",
    "'YS_HSPC_migration':['CD9','CD81','IGFBP2','RAC1','RAC2'],\n",
    "'EMP_generation':['EZH2'],\n",
    "'transmigration':['ADAM10','PLAC8','ICAM1','SELL'],\n",
    "#'erypsis':[\"TAL1\",\t\"LMO2\",\t\"LDB1\",\t\"GATA1\",\t\"MYB\",\t\"ZFPM1\",\t\"KLF1\",\t\"KLF3\",\t\"KLF11\",\t\"FLI1\",\t\"RB1\",\t\"SPI1\",\t\"EPOR\",\t\"STAT5A\",\t\"TRIM10\",\t\"GATA2\",],\n",
    "#'mkpsis':[\"RUNX1\",\t\"MPL\",\t\"NFE2\",],\n",
    "}"
   ]
  },
  {
   "cell_type": "code",
   "execution_count": null,
   "id": "electoral-harmony",
   "metadata": {},
   "outputs": [],
   "source": [
    "YS_HSC = adata[adata.obs['dataset_annot'].isin(['Gastrula_HSPC_lineage_Yolk Sac_gastrulation', 'YS_HSPC_1', 'YS_HSPC_2'])]"
   ]
  },
  {
   "cell_type": "code",
   "execution_count": null,
   "id": "later-necessity",
   "metadata": {},
   "outputs": [],
   "source": [
    "YS_HSC.obs['stage_groups'] = YS_HSC.obs['dataset_annot'][:]\n",
    "YS_HSC.obs['stage_groups'] = YS_HSC.obs['stage_groups'].astype(str)\n",
    "stages= ['CS10', 'CS11', 'CS22', 'CS23', 'CS14', 'CS18', 'CS15']\n",
    "groups = ['CS10_11', 'CS10_11', 'CS22_23', 'CS22_23', 'CS14_15', 'CS18', 'CS14_15']\n",
    "dic = dict(zip(stages,groups))\n",
    "#YS_HSC.obs['stage_groups'] = YS_HSC.obs['stage'].map(dic)\n",
    "YS_HSC.obs.loc[YS_HSC.obs['stage'].isin(stages),'stage_groups'] = YS_HSC.obs['stage'].map(dic)\n",
    "YS_HSC.obs['stage_groups'].unique()\n",
    "# order these categories by lineage time\n",
    "YS_HSC.obs['stage_groups'] = YS_HSC.obs['stage_groups'].str.replace('Gastrula_HSPC_lineage_Yolk Sac_gastrulation','CS7')\n",
    "\n",
    "\n",
    "ordering =  ['CS7', 'CS10_11', 'CS14_15', 'CS18','CS22_23']\n",
    "YS_HSC.obs['stage_groups'] = pd.Categorical(YS_HSC.obs['stage_groups'], categories=ordering) "
   ]
  },
  {
   "cell_type": "code",
   "execution_count": null,
   "id": "facial-incidence",
   "metadata": {},
   "outputs": [],
   "source": [
    "#YS_HSC.obs.groupby(['stage_groups','component',]).count()"
   ]
  },
  {
   "cell_type": "code",
   "execution_count": null,
   "id": "public-perth",
   "metadata": {},
   "outputs": [],
   "source": [
    "lineage_bias = {\n",
    "'YS_HSPC_migration':['CD9','CD81','IGFBP2','RAC1','RAC2','ADAM10','RUNX1'],\n",
    "'EMP_generation':['EZH2'],\n",
    "'transmigration':['PLAC8','ICAM1','SELL','CCL4','CXCR4','CXCL12'],\n",
    "#'LT_HSC_BM_homing':['CCR3','CCR9',,'IL18','KIT','CDH5'],\n",
    "#'erypsis':[\"TAL1\",\t\"LMO2\",\t\"LDB1\",\t\"GATA1\",\t\"MYB\",\t\"ZFPM1\",\t\"KLF1\",\t\"KLF3\",\t\"KLF11\",\t\"FLI1\",\t\"RB1\",\t\"SPI1\",\t\"EPOR\",\t\"STAT5A\",\t\"TRIM10\",\t\"GATA2\",],\n",
    "#'mkpsis':[\"RUNX1\",\t\"MPL\",\t\"NFE2\",],\n",
    "}"
   ]
  },
  {
   "cell_type": "code",
   "execution_count": null,
   "id": "experimental-business",
   "metadata": {},
   "outputs": [],
   "source": [
    "sc.pl.matrixplot(YS_HSC, var_names = lineage_bias, groupby='stage_groups', dendrogram=False,\n",
    "                 colorbar_title='mean z-score',  vmin=-2, vmax=3, vcenter=-0.2,cmap='RdBu_r',swap_axes=False,save = 'HSC_surival_migration_adhesion')\n",
    "\n",
    "(sc.pl.dotplot(YS_HSC, var_names = lineage_bias, groupby='stage_groups',dendrogram=False, color_map='Reds', show = True,standard_scale='var',swap_axes=True,save = 'HSC_surival_migration_adhesion'))\n",
    "sc.pl.stacked_violin(YS_HSC ,var_names= lineage_bias, groupby='stage_groups',  log=False, use_raw=None, num_categories=7, title=None, colorbar_title='Median exp', figsize=None, dendrogram=False, gene_symbols=None, var_group_positions=None, var_group_labels=None, standard_scale=None, var_group_rotation=None, layer=None, stripplot=False, jitter=False, size=1, scale='width', yticklabels=False, order=None, swap_axes=False, show=None, return_fig=False, row_palette=None, cmap='Reds', ax=None, vmin=None, vmax=None, vcenter=None, norm=None,save = 'HSC_surival_migration_adhesion')\n",
    "#YS_HSC, var_names = lineage_bias, groupby='stage_groups',dendrogram=False, color_map='Reds', show = True,standard_scale='var')\n",
    "sc.pl.tracksplot(YS_HSC ,var_names= lineage_bias, groupby='stage_groups', use_raw=None, log=False, dendrogram=False, gene_symbols=None, var_group_positions=None, var_group_labels=None, layer=None, show=None, save=None )"
   ]
  },
  {
   "cell_type": "markdown",
   "id": "signal-change",
   "metadata": {},
   "source": [
    "# Dotplots for Liver & AGM & BM too"
   ]
  },
  {
   "cell_type": "code",
   "execution_count": null,
   "id": "instructional-advertising",
   "metadata": {},
   "outputs": [],
   "source": [
    "adata.obs['dataset'].unique()"
   ]
  },
  {
   "cell_type": "code",
   "execution_count": null,
   "id": "overhead-halifax",
   "metadata": {},
   "outputs": [],
   "source": [
    "adata.obs['dataset'].unique()"
   ]
  },
  {
   "cell_type": "code",
   "execution_count": null,
   "id": "intended-bristol",
   "metadata": {},
   "outputs": [],
   "source": [
    "adata.obs['stage_groups'] = adata.obs['dataset_annot'][:]\n",
    "adata.obs['stage_groups'] = adata.obs['stage_groups'].astype(str)\n",
    "stages= ['CS10', 'CS11', 'CS22', 'CS23', 'CS14', 'CS18', 'CS15']\n",
    "groups = ['CS10_11', 'CS10_11', 'CS22_23', 'CS22_23', 'CS14_15', 'CS18', 'CS14_15']\n",
    "dic = dict(zip(stages,groups))\n",
    "#adata.obs['stage_groups'] = adata.obs['stage'].map(dic)\n",
    "adata.obs.loc[adata.obs['stage'].isin(stages),'stage_groups'] = adata.obs['stage'].map(dic)\n",
    "adata.obs['stage_groups'].unique()\n",
    "\n",
    "# order these categories by lineage time\n",
    "ordering =  ['Gastrula_HSPC_lineage_Yolk Sac_gastrulation', 'CS10_11', 'CS14_15', 'CS18','CS22_23', 'EL_HSC', 'FBM_HSC/MPP']\n",
    "adata.obs['stage_groups'] = pd.Categorical(adata.obs['stage_groups'], categories=ordering) "
   ]
  },
  {
   "cell_type": "code",
   "execution_count": null,
   "id": "reduced-circus",
   "metadata": {},
   "outputs": [],
   "source": [
    "adata_no_hsc = adata[~adata.obs['dataset'].isin(['YS','Gastrula'])]"
   ]
  },
  {
   "cell_type": "code",
   "execution_count": null,
   "id": "unnecessary-morris",
   "metadata": {},
   "outputs": [],
   "source": [
    "data = adata_no_hsc[:]\n",
    "plot_name = 'combined_surival_migration_adhesion'\n",
    "plot_var = 'dataset'\n",
    "markers = lineage_bias\n",
    "\n",
    "sc.pl.matrixplot(data, var_names = markers, groupby=plot_var, dendrogram=False,\n",
    "                 colorbar_title='mean z-score',  vmin=-2, vmax=3, vcenter=-0.2,cmap='RdBu_r',swap_axes=False,save = plot_name)\n",
    "(sc.pl.dotplot(data, var_names = markers, groupby=plot_var,dendrogram=False, color_map='Reds', show = True,standard_scale='var',swap_axes=True,save = plot_name,dot_max=0.5,figsize =[5,5]))\n",
    "sc.pl.stacked_violin(data ,var_names= markers, groupby=plot_var,  log=False, use_raw=None, num_categories=7, title=None, colorbar_title='Median exp', figsize=None, dendrogram=False, gene_symbols=None, var_group_positions=None, var_group_labels=None, standard_scale=None, var_group_rotation=None, layer=None, stripplot=False, jitter=False, size=1, scale='width', yticklabels=False, order=None, swap_axes=False, show=None, return_fig=False, row_palette=None, cmap='Reds', ax=None, vmin=None, vmax=None, vcenter=None, norm=None,save = plot_name)\n",
    "#YS_HSC, var_names = lineage_bias, groupby='stage_groups',dendrogram=False, color_map='Reds', show = True,standard_scale='var')\n",
    "sc.pl.tracksplot(data ,var_names= markers, groupby=plot_var, use_raw=None, log=False, dendrogram=False, gene_symbols=None, var_group_positions=None, var_group_labels=None, layer=None, show=None, save=None )"
   ]
  },
  {
   "cell_type": "code",
   "execution_count": null,
   "id": "transparent-physics",
   "metadata": {},
   "outputs": [],
   "source": [
    "lineage_bias = {\n",
    "'YS_HSPC_migration':['CD9','CD81','IGFBP2','RAC1','RAC2','ADAM10','RUNX1'],\n",
    "'EMP_generation':['EZH2'],\n",
    "}"
   ]
  },
  {
   "cell_type": "code",
   "execution_count": null,
   "id": "dangerous-israel",
   "metadata": {},
   "outputs": [],
   "source": [
    "data = adata_no_hsc[:]\n",
    "plot_name = 'cut_version_combined_surival_migration_adhesion'\n",
    "plot_var = 'dataset'\n",
    "markers = lineage_bias\n",
    "\n",
    "sc.pl.matrixplot(data, var_names = markers, groupby=plot_var, dendrogram=False,\n",
    "                 colorbar_title='mean z-score',  vmin=-2, vmax=3, vcenter=-0.2,cmap='RdBu_r',swap_axes=False,save = plot_name)\n",
    "(sc.pl.dotplot(data, var_names = markers, groupby=plot_var,dendrogram=False, color_map='Reds', show = True,standard_scale='var',swap_axes=True,save = plot_name,dot_max=0.5,figsize =[5,5]))\n",
    "sc.pl.stacked_violin(data ,var_names= markers, groupby=plot_var,  log=False, use_raw=None, num_categories=7, title=None, colorbar_title='Median exp', figsize=None, dendrogram=False, gene_symbols=None, var_group_positions=None, var_group_labels=None, standard_scale=None, var_group_rotation=None, layer=None, stripplot=False, jitter=False, size=1, scale='width', yticklabels=False, order=None, swap_axes=False, show=None, return_fig=False, row_palette=None, cmap='Reds', ax=None, vmin=None, vmax=None, vcenter=None, norm=None,save = plot_name)\n",
    "#YS_HSC, var_names = lineage_bias, groupby='stage_groups',dendrogram=False, color_map='Reds', show = True,standard_scale='var')\n",
    "sc.pl.tracksplot(data ,var_names= markers, groupby=plot_var, use_raw=None, log=False, dendrogram=False, gene_symbols=None, var_group_positions=None, var_group_labels=None, layer=None, show=None, save=None )"
   ]
  },
  {
   "cell_type": "code",
   "execution_count": null,
   "id": "sunset-protest",
   "metadata": {},
   "outputs": [],
   "source": [
    "EL_stages = {\n",
    "'F61':'CS18',\n",
    "'F35':'CS22_23', #CS23\n",
    "'F32':'CS22_23', #CS22\n",
    "}\n",
    "EL_adata = adata[adata.obs['dataset'].isin(['EL'])]\n",
    "EL_adata.obs['stage'] = EL_adata.obs['fetal_ids'].map(EL_stages)\n",
    "\n",
    "ordering =  ['CS7','CS10_11','CS18','CS22_23']\n",
    "EL_adata.obs['stage'] = pd.Categorical(EL_adata.obs['stage'], categories=ordering) "
   ]
  },
  {
   "cell_type": "code",
   "execution_count": null,
   "id": "administrative-consideration",
   "metadata": {},
   "outputs": [],
   "source": [
    "EL_adata.obs['stage'].unique()"
   ]
  },
  {
   "cell_type": "code",
   "execution_count": null,
   "id": "recent-wales",
   "metadata": {},
   "outputs": [],
   "source": [
    "data = EL_adata[:]\n",
    "plot_name = 'fliv_surival_migration_adhesion'\n",
    "plot_var = 'stage'\n",
    "markers = lineage_bias\n",
    "\n",
    "sc.pl.matrixplot(data, var_names = markers, groupby=plot_var, dendrogram=False,\n",
    "                 colorbar_title='mean z-score',  vmin=-2, vmax=3, vcenter=-0.2,cmap='RdBu_r',swap_axes=False,save = plot_name)\n",
    "(sc.pl.dotplot(data, var_names = markers, groupby=plot_var,dendrogram=False, color_map='Reds', show = True,standard_scale='var',swap_axes=True,save = plot_name,dot_max=0.5,figsize =[3,5]))\n",
    "sc.pl.stacked_violin(data ,var_names= markers, groupby=plot_var,  log=False, use_raw=None, num_categories=7, title=None, colorbar_title='Median exp', figsize=None, dendrogram=False, gene_symbols=None, var_group_positions=None, var_group_labels=None, standard_scale=None, var_group_rotation=None, layer=None, stripplot=False, jitter=False, size=1, scale='width', yticklabels=False, order=None, swap_axes=False, show=None, return_fig=False, row_palette=None, cmap='Reds', ax=None, vmin=None, vmax=None, vcenter=None, norm=None,save = plot_name)\n",
    "#YS_HSC, var_names = lineage_bias, groupby='stage_groups',dendrogram=False, color_map='Reds', show = True,standard_scale='var')\n",
    "sc.pl.tracksplot(data ,var_names= markers, groupby=plot_var, use_raw=None, log=False, dendrogram=False, gene_symbols=None, var_group_positions=None, var_group_labels=None, layer=None, show=None, save=None )"
   ]
  },
  {
   "cell_type": "code",
   "execution_count": null,
   "id": "acute-scott",
   "metadata": {},
   "outputs": [],
   "source": []
  },
  {
   "cell_type": "markdown",
   "id": "elect-construction",
   "metadata": {},
   "source": [
    "### Immature erythroblasts with extensive ex vivo self-renewal capacity emerge from the early mammalian fetus\n",
    "- mayb 2 waves of erythroid production?? propr to gastrula data and after gastrula data - self renewing\n",
    "- Sdf-1 (CXCL12) induces CD9 expression "
   ]
  },
  {
   "cell_type": "code",
   "execution_count": null,
   "id": "african-magic",
   "metadata": {},
   "outputs": [],
   "source": []
  },
  {
   "cell_type": "code",
   "execution_count": null,
   "id": "imposed-language",
   "metadata": {},
   "outputs": [],
   "source": []
  },
  {
   "cell_type": "markdown",
   "id": "legitimate-shareware",
   "metadata": {},
   "source": [
    "# try to order by stage"
   ]
  },
  {
   "cell_type": "code",
   "execution_count": null,
   "id": "above-treasury",
   "metadata": {},
   "outputs": [],
   "source": [
    "scanpy.tl.diffmap(adata, n_comps=15, neighbors_key=None, random_state=0, copy=False)"
   ]
  },
  {
   "cell_type": "code",
   "execution_count": null,
   "id": "relevant-instrument",
   "metadata": {},
   "outputs": [],
   "source": []
  },
  {
   "cell_type": "code",
   "execution_count": null,
   "id": "oriented-ottawa",
   "metadata": {},
   "outputs": [],
   "source": [
    "adata.obs['stage_groups'] = YS_HSC.obs['dataset_annot'][:]\n",
    "YS_HSC.obs['stage_groups'] = YS_HSC.obs['stage_groups'].astype(str)\n",
    "stages= ['CS10', 'CS11', 'CS22', 'CS23', 'CS14', 'CS18', 'CS15']\n",
    "groups = ['CS10_11', 'CS10_11', 'CS22_23', 'CS22_23', 'CS14_15', 'CS18', 'CS14_15']\n",
    "dic = dict(zip(stages,groups))\n",
    "#YS_HSC.obs['stage_groups'] = YS_HSC.obs['stage'].map(dic)\n",
    "YS_HSC.obs.loc[YS_HSC.obs['stage'].isin(stages),'stage_groups'] = YS_HSC.obs['stage'].map(dic)"
   ]
  },
  {
   "cell_type": "code",
   "execution_count": null,
   "id": "hydraulic-concentrate",
   "metadata": {},
   "outputs": [],
   "source": [
    "sc.tl.embedding_density(adata, groupby='dataset_annot')\n",
    "map_scores = []\n",
    "for i in adata.obs['dataset_annot'].unique():\n",
    "    # make bg blue\n",
    "    adata.obs['umap_density_dataset_annot_'+i] = adata.obs['umap_density_dataset_annot']\n",
    "    adata.obs.loc[~adata.obs['dataset_annot'].isin([i]),('umap_density_dataset_annot_'+i)] = 0.1\n",
    "    #sc.pl.umap(adata,color = ('umap_density_dataset_annot_'+i),color_map = 'turbo')\n",
    "    map_scores.append('umap_density_dataset_annot_'+i)\n",
    "#sc.pl.umap(adata,color = 'umap_density_dataset_annot',color_map = 'turbo')\n",
    "#sc.pl.embedding_density(adata, groupby='dataset_annot',color_map = 'seismic')\n",
    "sc.pl.umap(adata,color = map_scores,color_map = 'turbo',legend_loc=None)"
   ]
  },
  {
   "cell_type": "code",
   "execution_count": null,
   "id": "chemical-manual",
   "metadata": {},
   "outputs": [],
   "source": [
    "adata.obs['dataset_annot'].unique()"
   ]
  },
  {
   "cell_type": "markdown",
   "id": "martial-mongolia",
   "metadata": {},
   "source": [
    "# DE in HSPC for GSEA over time"
   ]
  },
  {
   "cell_type": "code",
   "execution_count": null,
   "id": "established-lobby",
   "metadata": {},
   "outputs": [],
   "source": [
    "gene_sets = {'metabolic' :['/nfs/team205/ig7/resources/GO-0045333_cell_respiration.csv'],\n",
    "'cell_cycle' : ['/nfs/team205/ig7/resources/GO-0022402_cell_cycle_genes.csv'],\n",
    "'cell_cell_adhesion':['/nfs/team205/ig7/resources/GO_0016337_cell_cell_adhesion.csv'],\n",
    "'cell_matrix_adhesion': ['/nfs/team205/ig7/resources/GO_0007160_cell_matrix_adhesion.csv'],\n",
    "'endo_cell_matrix_adhesion' :[ '/nfs/team205/ig7/resources/GO_0090673_endo_cell_matrix_adhesion.csv'],\n",
    "'GNF2_SELL':['/nfs/team205/ig7/resources/GNF2_SELL.csv'],\n",
    "'GNF2_ICAM3':['/nfs/team205/ig7/resources/GNF2_ICAM3.csv'],}\n",
    "for i in gene_sets.keys():\n",
    "    gene_list_loc = ''.join(str(e) for e in gene_sets[i])\n",
    "    gene_list_name = i\n",
    "    gene_list = list(pd.read_csv(gene_list_loc,header=None)[0])\n",
    "    gene_list = list(adata.var.index[adata.var.index.isin(gene_list)])\n",
    "    print(len(gene_list))\n",
    "    sc.tl.score_genes(YS_HSC, gene_list, ctrl_size=50, gene_pool=None, n_bins=25, score_name=(gene_list_name + '_score'), random_state=0, copy=False, use_raw=None)\n",
    "    \n",
    "scores = YS_HSC.obs[[s + '_score' for s in list(gene_sets.keys())]]\n",
    "scores['group'] = YS_HSC.obs['stage_groups']\n",
    "scores.groupby('group').median()"
   ]
  },
  {
   "cell_type": "code",
   "execution_count": null,
   "id": "herbal-metro",
   "metadata": {},
   "outputs": [],
   "source": [
    "gene_list_name + '_score'"
   ]
  },
  {
   "cell_type": "markdown",
   "id": "virgin-exhibit",
   "metadata": {},
   "source": [
    "## Plot HB genes across time starting from early gastrula ery"
   ]
  },
  {
   "cell_type": "code",
   "execution_count": null,
   "id": "opposed-tract",
   "metadata": {},
   "outputs": [],
   "source": [
    "YS_HSC.obs['celltype_for_comparison'].unique()"
   ]
  },
  {
   "cell_type": "code",
   "execution_count": null,
   "id": "union-swedish",
   "metadata": {},
   "outputs": [],
   "source": [
    "scores = YS_HSC.obs[[s + '_score' for s in list(gene_sets.keys())]]\n",
    "scores['group'] = YS_HSC.obs['stage_groups']\n",
    "scores.groupby('group').median()"
   ]
  },
  {
   "cell_type": "code",
   "execution_count": null,
   "id": "found-aspect",
   "metadata": {},
   "outputs": [],
   "source": [
    "sns.heatmap(scores.groupby('group').median(),  annot=True,vmin=-1, vmax=1, linewidths=1, center=0, square=True, cbar_kws={\"shrink\": 0.5})"
   ]
  },
  {
   "cell_type": "code",
   "execution_count": null,
   "id": "proud-youth",
   "metadata": {},
   "outputs": [],
   "source": [
    "sc.tl.rank_genes_groups(YS_HSC, 'stage_groups', method='wilcoxon',n_genes=500)\n",
    "result = YS_HSC.uns['rank_genes_groups']\n",
    "groups = result['names'].dtype.names\n",
    "DE = pd.DataFrame(\n",
    "    {group + '_' + key[:1]: result[key][group]\n",
    "    for group in groups for key in ['names', 'pvals','logfoldchanges']}).head(500)\n",
    "\n",
    "DE_name =\"./DEGS_YS_HSC_overtime.csv\"\n",
    "DE.to_csv(DE_name)\n",
    "\n",
    "degs = DE[:]"
   ]
  },
  {
   "cell_type": "code",
   "execution_count": null,
   "id": "separated-puppy",
   "metadata": {},
   "outputs": [],
   "source": [
    "degs = DE[:]\n",
    "\n",
    "if 'concat' in locals() or 'concat' in globals():\n",
    "    del(concat)\n",
    "n = degs.loc[:, degs.columns.str.endswith(\"_n\")]\n",
    "n = pd.melt(n)\n",
    "p = degs.loc[:, degs.columns.str.endswith(\"_p\")]\n",
    "p = pd.melt(p)\n",
    "l = degs.loc[:, degs.columns.str.endswith(\"_l\")]\n",
    "l = pd.melt(l)\n",
    "n = n.replace(regex=r'_n', value='')\n",
    "\n",
    "n = n.rename(columns={\"variable\": \"cluster\", \"value\": \"gene\"})\n",
    "p = (p.drop([\"variable\"],axis = 1)).rename(columns={ \"value\": \"p_val\"})\n",
    "l = (l.drop([\"variable\"],axis = 1)).rename(columns={ \"value\": \"logfc\"})\n",
    "\n",
    "concat = pd.concat([n,p,l],axis=1)\n",
    "\n",
    "#remove mito genes from data\n",
    "concat = concat[~concat[\"gene\"].str.startswith(\"MT-\")]\n",
    "concat = concat[~concat[\"gene\"].str.startswith(\"RP11-\")]\n",
    "concat = concat[~concat[\"gene\"].str.startswith(\"RPL\")]\n",
    "concat = concat[~concat[\"gene\"].str.startswith(\"RPS\")]\n",
    "\n",
    "concat[\"cluster\"] = concat[\"cluster\"].astype(str)\n",
    "marker_df = concat.groupby('cluster').apply(lambda grp: grp.nsmallest(20, 'p_val')).reset_index(drop=True)\n",
    "marker_df = marker_df.groupby('cluster').apply(lambda grp: grp.nlargest(5, 'logfc')).reset_index(drop=True)\n",
    "markers = marker_df.groupby('cluster')['gene'].apply(list).to_dict()\n",
    "markers = dict(sorted(markers.items()))\n",
    "markers = {str(k):v for k,v in markers.items()}"
   ]
  },
  {
   "cell_type": "code",
   "execution_count": null,
   "id": "hybrid-cincinnati",
   "metadata": {},
   "outputs": [],
   "source": [
    "markers"
   ]
  },
  {
   "cell_type": "code",
   "execution_count": null,
   "id": "deadly-plasma",
   "metadata": {},
   "outputs": [],
   "source": [
    "markers ={'CS7': ['U2AF1L5', 'C11orf98', 'MRPL38', 'DDX39B', 'SARNP'],\n",
    "'CS10_11': ['IGFBP2', 'SLC16A3', 'BNIP3', 'MAP2K2', 'PSMA2'],\n",
    " 'CS14_15': ['GPX1', 'AC090498.1', 'MTRNR2L12', 'ATP6V0C', 'UQCRHL'],\n",
    " 'CS18': ['MTRNR2L12', 'GPX1', 'AC090498.1', 'ATP6V0C', 'UQCRHL'],\n",
    " 'CS22_23': ['ALB', 'AC104389.1', 'AREG', 'LUM', 'FRZB'],}"
   ]
  },
  {
   "cell_type": "code",
   "execution_count": null,
   "id": "precious-impact",
   "metadata": {},
   "outputs": [],
   "source": [
    "(sc.pl.dotplot(YS_HSC, var_names = markers,groupby='stage_groups',dendrogram=False, color_map='Reds', show = True,standard_scale='var',swap_axes=False,save = 'HSC_DEGS_by_time'))"
   ]
  },
  {
   "cell_type": "code",
   "execution_count": null,
   "id": "adaptive-fashion",
   "metadata": {},
   "outputs": [],
   "source": [
    "concat"
   ]
  },
  {
   "cell_type": "code",
   "execution_count": null,
   "id": "presidential-accordance",
   "metadata": {},
   "outputs": [],
   "source": [
    "import gseapy\n",
    "gene_set_names = gseapy.get_library_name(database='Human')\n",
    "glist = list(concat['gene'][concat['cluster'].isin(['CS7'])])\n",
    "#glist = list(concat['gene'][concat['cluster'].isin(['monocyte_Yolk Sac_gastrulation'])])"
   ]
  },
  {
   "cell_type": "code",
   "execution_count": null,
   "id": "disturbed-block",
   "metadata": {},
   "outputs": [],
   "source": [
    "# order these categories by lineage time\n",
    "ordering =  ['Gastrula_HSPC_lineage_Yolk Sac_gastrulation', 'CS10_11', 'CS14_15', 'CS18','CS22_23','AGM_10_HSPC', 'EL_HSC', 'FBM_HSC/MPP']\n",
    "adata.obs['stage_groups'] = pd.Categorical(adata.obs['stage_groups'], categories=ordering) "
   ]
  },
  {
   "cell_type": "code",
   "execution_count": null,
   "id": "constant-worth",
   "metadata": {},
   "outputs": [],
   "source": [
    "adata.obs['stage_groups'].unique()"
   ]
  },
  {
   "cell_type": "markdown",
   "id": "egyptian-employment",
   "metadata": {},
   "source": [
    "# Reference main ys obj"
   ]
  },
  {
   "cell_type": "code",
   "execution_count": null,
   "id": "suitable-referral",
   "metadata": {},
   "outputs": [],
   "source": [
    "ys_main = sc.read('/nfs/team205/ig7/work_backups/backup_210306/projects/YS/YS_data/A4_V7_YS_integrated_data_singlets_with_raw_counts_for_MS_plotting_20211111_with_obsp.h5ad')"
   ]
  },
  {
   "cell_type": "markdown",
   "id": "sticky-encounter",
   "metadata": {},
   "source": [
    "# Proportions of each population by age"
   ]
  },
  {
   "cell_type": "code",
   "execution_count": null,
   "id": "changed-restaurant",
   "metadata": {},
   "outputs": [],
   "source": [
    "list(ys_main.obs['cell.labels'].unique())"
   ]
  },
  {
   "cell_type": "code",
   "execution_count": null,
   "id": "latest-allocation",
   "metadata": {},
   "outputs": [],
   "source": [
    "plt.rcParams['figure.figsize'] = [5, 5]"
   ]
  },
  {
   "cell_type": "code",
   "execution_count": null,
   "id": "suspected-shelf",
   "metadata": {},
   "outputs": [],
   "source": [
    "keep = [ 'HSPC_1',\n",
    "'HSPC_2',\n",
    "'MEMP',\n",
    " 'Early_Erythroid',\n",
    " 'Erythroid',\n",
    " 'MK',]\n",
    "ys_main.obs['cell.labels'] = ys_main.obs['cell.labels'].astype(str)\n",
    "ys_main.obs['stage_groups'] = ys_main.obs['cell.labels'][:]\n",
    "ys_main.obs['stage_groups'] = ys_main.obs['stage_groups'].astype(str)\n",
    "stages= ['CS10', 'CS11', 'CS22', 'CS23', 'CS14', 'CS18', 'CS15']\n",
    "groups = ['CS10_11', 'CS10_11', 'CS22_23', 'CS22_23', 'CS14_15', 'CS18', 'CS14_15']\n",
    "dic = dict(zip(stages,groups))\n",
    "#YS_HSC.obs['stage_groups'] = YS_HSC.obs['stage'].map(dic)\n",
    "ys_main.obs.loc[ys_main.obs['stage'].isin(stages),'stage_groups'] = ys_main.obs['stage'].map(dic)\n",
    "ys_main.obs['stage_groups'].unique()\n",
    "\n",
    "obs = ys_main.obs[ys_main.obs['cell.labels'].isin(keep)]\n",
    "obs['cell.labels'] = pd.Categorical(obs['cell.labels'], categories=keep) \n",
    "\n",
    "count1 = pd.DataFrame((obs.groupby(['stage_groups','cell.labels'], observed=True).count()).iloc[:,0])\n",
    "count1 = count1.reset_index() \n",
    "for i in count1['stage_groups']:\n",
    "    total = np.sum(count1.loc[count1['stage_groups'].isin([i]),'stage'])\n",
    "    count1.loc[count1['stage_groups'].isin([i]),'stage'] = (count1.loc[count1['stage_groups'].isin([i]),'stage']/total)*100\n",
    "# Reorder categories\n",
    "count1['cell.labels'] = pd.Categorical(count1['cell.labels'], categories=keep) \n",
    "# Reorder categories\n",
    "count1.pivot_table('stage','stage_groups','cell.labels').plot.bar(stacked=True, figsize=(10,10)).legend(loc='upper right')"
   ]
  },
  {
   "cell_type": "code",
   "execution_count": null,
   "id": "extensive-metallic",
   "metadata": {},
   "outputs": [],
   "source": [
    "plt.rcParams['figure.figsize'] = [5, 5]"
   ]
  },
  {
   "cell_type": "code",
   "execution_count": null,
   "id": "rocky-redhead",
   "metadata": {},
   "outputs": [],
   "source": [
    "sc.pl.umap(adata,color = 'dataset_annot',palette = col_dic,save = 'HSPC_combined_color_umap')"
   ]
  },
  {
   "cell_type": "code",
   "execution_count": null,
   "id": "trying-shopper",
   "metadata": {},
   "outputs": [],
   "source": [
    "sc.tl.embedding_density(adata, groupby='dataset_annot')\n",
    "map_scores = []\n",
    "for i in adata.obs['dataset_annot'].unique():\n",
    "    # make bg blue\n",
    "    adata.obs['umap_density_dataset_annot_'+i] = adata.obs['umap_density_dataset_annot']\n",
    "    adata.obs.loc[~adata.obs['dataset_annot'].isin([i]),('umap_density_dataset_annot_'+i)] = 0.1\n",
    "    #sc.pl.umap(adata,color = ('umap_density_dataset_annot_'+i),color_map = 'turbo')\n",
    "    map_scores.append('umap_density_dataset_annot_'+i)\n",
    "#sc.pl.umap(adata,color = 'umap_density_dataset_annot',color_map = 'turbo')\n",
    "#sc.pl.embedding_density(adata, groupby='dataset_annot',color_map = 'seismic')\n",
    "sc.pl.umap(adata,color = map_scores,color_map = 'turbo',legend_loc=None)"
   ]
  },
  {
   "cell_type": "code",
   "execution_count": null,
   "id": "english-gibson",
   "metadata": {},
   "outputs": [],
   "source": [
    "sc.tl.embedding_density(adata, groupby='dataset_annot')\n",
    "map_scores = []\n",
    "for i in adata.obs['dataset_annot'].unique():\n",
    "    # make bg blue\n",
    "    adata.obs['umap_density_dataset_annot_'+i] = adata.obs['umap_density_dataset_annot']\n",
    "    adata.obs.loc[~adata.obs['dataset_annot'].isin([i]),('umap_density_dataset_annot_'+i)] = 0.1\n",
    "    #sc.pl.umap(adata,color = ('umap_density_dataset_annot_'+i),color_map = 'turbo')\n",
    "    map_scores.append('umap_density_dataset_annot_'+i)\n",
    "#sc.pl.umap(adata,color = 'umap_density_dataset_annot',color_map = 'turbo')\n",
    "#sc.pl.embedding_density(adata, groupby='dataset_annot',color_map = 'seismic')\n",
    "sc.pl.umap(adata,color = map_scores,color_map = 'turbo',legend_loc=None)"
   ]
  },
  {
   "cell_type": "code",
   "execution_count": null,
   "id": "sharp-plate",
   "metadata": {},
   "outputs": [],
   "source": [
    "adata.write('./HSC_HSPC_combined_density_estimated.h5ad')"
   ]
  },
  {
   "cell_type": "markdown",
   "id": "international-shock",
   "metadata": {},
   "source": [
    "### Itga2b regulation at the onset of definitive hematopoiesis and commitment to differentiation\n",
    "CD41 contributes to hematopoietic stem cell (HSC) and megakaryocyte/platelet functions. CD41 expression marks the onset of definitive hematopoiesis in the embryo where it participates in regulating the numbers of multipotential progenitors. Key to platelet aggregation, CD41 expression also characterises their precursor, the megakaryocyte, and is specifically up regulated during megakaryopoiesis. Though phenotypically unique, megakaryocytes and HSC share numerous features, including key transcription factors, which could indicate common sub-regulatory networ\n",
    "\n",
    "### CD9\n",
    "- Tetraspanin CD9 has also been described as a regulator of HSPC adhesion and homing. Pretreatment of cord blood CD34+ cells with an anti-CD9 monoclonal antibody inhibited CXCL12-mediated transendothelial migration; however, adhesion to fibronectin and endothelial cells was enhanced (Leung et al., 2011). \n",
    "- CD9 blockage inhibits homing to BM and spleen\n",
    "- Additionally, antibody pretreatment of CD34+ cells significantly impaired their homing to the BM and sorted CD34+ CD9– cells displayed lower BM homing capacity compared with that of total CD34+ cells.\n",
    "* **Tetraspanin Scaffold Proteins Function as Key Regulators of Hematopoietic Stem Cells https://www.frontiersin.org/articles/10.3389/fcell.2020.00598/full**\n",
    "* **The tetraspanin CD9 regulates migration, adhesion, and homing of human cord blood CD34+ hematopoietic stem and progenitor cells**\n",
    "* **Differential Expression of the Tetraspanin CD9 in Normal and Leukemic Stem Cells**\n",
    "* **CD9, a key actor in the dissemination of lymphoblastic leukemia, modulating CXCR4-mediated migration via RAC1 signaling**\n",
    "- After C-X-C motif chemokine ligand 12 (CXCL12) stimulation, CD9 promoted the formation of long cytoplasmic actin-rich protrusions. We demonstrated that CD9 enhanced RAC1 activation, in both REH cells and blasts from patients. \n",
    "- inhibition of RAC1 activation decreased migration in vitro,\n",
    "\n",
    "* **Disruption of CD9 Expression Affects Adhesion, Migration, and Actin Polymerization through RAC1 Signalling Pathway in ETV6/RUNX1 Pre-B Lymphocytes**\n",
    "- demonstrated that cells depleted in CD9 have lost their ability to activate RAC1 in response to CXCL12\n",
    "\n",
    "\n",
    "### RAC1\n",
    "- Disruption of CD9 Expression Affects Adhesion, Migration, and Actin Polymerization through RAC1 Signalling Pathway in ETV6/RUNX1 Pre-B Lymphocytes.\n",
    "* **Rac1 Regulates Migration of Yolk Sac Hematopoietic Progenitors into the Blood, a Process Essential for Subsequent Seeding of Fetal Liver Hematopoiesis.**\n",
    "- Rac1/2 and cdc42 deletion prevents FL HSC from reaching the marrow for transition of hematopoiesis, consistent with their importance in upstream regulation of actin polymerization, epistatically above both WAVE and WASP\n",
    "* **The Wave2 scaffold Hem-1 is required for transition of fetal liver hematopoiesis to bone marrow**\n",
    "\n",
    "- Rac1 is dispensable for steady-state hematopoiesis\n",
    "- RAC1- demonstrated defective proliferative signaling via the receptor tyrosine kinase, c-kit, while loss of Rac2 activity leads to a pro-apoptotic phenotype\n",
    "* **On how Rac controls hematopoietic stem cell activity**\n",
    "\n",
    "- Rac2-deficient HSCs show defective migration and adhesion resulting in reduced retention in the marrow and increased mobilization into circulation.26  Rac1-deficient HSCs/Ps demonstrate decreased homing to BM and impaired endosteal microlocalization upon transplantation. However, if already resident in BM, Rac1 deficiency does not impair steady-state hematopoiesis, suggesting Rac1 is a key molecular switch regulating engraftment.21 \n",
    "* **Rac1 is essential for intraembryonic hematopoiesis and for the initial seeding of fetal liver with definitive hematopoietic progenitor cells**\n",
    "\n",
    "### CD81\n",
    "- Pull-down experiments revealed that CD81-Rac interaction was direct and independent of Rac activation status. Knockdown of CD81 resulted in enhanced protrusion rate, altered focal adhesion formation, and decreased cell migration, correlating with increased active Rac.\n",
    "* **CD81 regulates cell migration through its association with Rac GTPase**\n",
    "* **CD81 is essential for the formation of membrane protrusions and regulates Rac1-activation in adhesion-dependent immune cell migration**\n",
    "\n",
    "### CD74\n",
    "- Here, we demonstrate that mice lacking CD74 exhibit an accumulation of HSCs in the bone marrow (BM) due to their increased potential to repopulate and compete for BM niches.\n",
    "-    CD74 is a regulator of hematopoietic stem cell maintenance:: lack of CD74, leads to lack of HSC migration\n",
    "\n",
    "### TPT1\n",
    "- Megakaryocytic lineage transition\n",
    "- overexpression remarkably induced cell proliferation, migration and invasion, and significantly attenuated cell adhesion ability in vitro in epithelial ovarian cancer through TPT1 and downstream PI3K/AKT signaling\n",
    "-    LncRNA TPT1-AS1 promotes tumorigenesis and metastasis in epithelial ovarian cancer by inducing TPT1 expression.\n",
    "\n",
    "### CD24\n",
    "- Inhibits Erythroid differentiation TNF-induced CD24 expression at the RNA and protein level\n",
    "- The Role of CD24 in TNF-Alpha-Inhibited Erythroid Differentiation and Its Signaling Pathway\n",
    "\n",
    "### Cd63\n",
    "- tetraspanin CD63 was found to interact with the tissue inhibitor of metalloproteinase-1 (TIMP1), a protein important for HSC quiescence and long-term engraftment (Jung et al., 2006). TIMP1 was shown to bind to the CD63/β1 integrin complex on the surface of human CD34+ HSPCs to induce adhesion and migration (Wilk et al., 2013). Moreover, this group determined that homing and short-term engraftment of HSPCs were also increased upon exogenous stimulation with TIMP1. The interaction of TIMP1 and CD63 was also shown to impact HSPC proliferation through the activation of the PI3K/AKT signaling pathway\n",
    "\n",
    "- CD34+ HSPCs to induce adhesion and migration (Wilk et al., 2013). Moreover, this group determined that homing and short-term engraftment of HSPCs were also increased upon exogenous stimulation with TIMP1. The interaction of TIMP1 and CD63 was also shown to impact HSPC proliferation through the activation of the PI3K/AKT signaling pathway (Rossi et al., 2015) and the enrichment of myeloid progenitors, impacting granulopoiesis (Kobuch et al.,\n",
    "\n",
    "### EZh2\n",
    "- Ezh2 is essential for YS hematopoiesis but dispensable for subsequent aorta–gonad–mesonephros (AGM) blood development. Loss of EZH2 activity in hemogenic endothelium (HE) leads to the generation of phenotypically intact but functionally deficient erythro-myeloid progenitors (EMPs), while the generation of primitive erythroid cells is not affected.\n",
    "* **Ezh2 is essential for the generation of functional yolk sac derived erythro-myeloid progenitors **\n",
    "\n",
    "### IGFBP2\n",
    "* **IGF binding protein 2 supports the survival and cycling of hematopoietic stem cells**\n",
    "\n",
    "# Extrinsic modifiers\n",
    "\n",
    "### NOTCH1\n",
    "- Notch signaling was inhibited by CD9 knockdown or CD9 antibody in cell lines. Finally, CD9 antibody showed anti-tumor effects in cell proliferation MTT assay, transwell migration assay and colony formation assay.\n",
    "* **Tetraspanin CD9 interacts with α-secretase to enhance its oncogenic function in pancreatic cancer**\n",
    "\n",
    "* **Notch1 regulates progenitor cell proliferation and differentiation during mouse yolk sac hematopoiesis**\n",
    "* **Notch Stimulates Both Self-Renewal and Lineage Plasticity in a Subset of Murine CD9High Committed Megakaryocytic Progenitors**"
   ]
  }
 ],
 "metadata": {
  "kernelspec": {
   "display_name": "workhorse",
   "language": "python",
   "name": "workhorse"
  },
  "language_info": {
   "codemirror_mode": {
    "name": "ipython",
    "version": 3
   },
   "file_extension": ".py",
   "mimetype": "text/x-python",
   "name": "python",
   "nbconvert_exporter": "python",
   "pygments_lexer": "ipython3",
   "version": "3.8.6"
  }
 },
 "nbformat": 4,
 "nbformat_minor": 5
}
