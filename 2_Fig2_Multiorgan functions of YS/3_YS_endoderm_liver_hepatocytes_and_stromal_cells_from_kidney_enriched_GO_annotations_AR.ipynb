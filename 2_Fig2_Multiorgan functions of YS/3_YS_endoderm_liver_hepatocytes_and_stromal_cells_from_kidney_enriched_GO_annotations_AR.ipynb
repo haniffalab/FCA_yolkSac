{
 "cells": [
  {
   "cell_type": "markdown",
   "id": "centered-wallet",
   "metadata": {},
   "source": [
    "# Figure 4e"
   ]
  },
  {
   "cell_type": "code",
   "execution_count": null,
   "id": "tutorial-third",
   "metadata": {},
   "outputs": [],
   "source": [
    "import numpy as np\n",
    "import pandas as pd\n",
    "import scanpy as sc\n",
    "sc.settings.set_figure_params(dpi=300)"
   ]
  },
  {
   "cell_type": "code",
   "execution_count": null,
   "id": "potential-holder",
   "metadata": {},
   "outputs": [],
   "source": [
    "data1 = sc.read('/home/jovyan/YS_project/YS/Data_objects/YS_object_14092021/Combined_YS_Fliver_20210929.h5ad')\n",
    "data2 = sc.read('/home/jovyan/wgeted_files/gastrulation.h5ad')\n",
    "liver_rest = sc.read('/home/jovyan/mount_farm/nfs/team298/ar32/YS/All_fetal_liver_data/A5_fetal_liver_alladata_updated_annots_210721.h5ad')\n",
    "liver_adult = sc.read('/home/jovyan/mount_farm/nfs/team298/ar32/YS/adult_liver/data_set1_sharma_not_raw/Liver_raw_20220303.h5ad')"
   ]
  },
  {
   "cell_type": "code",
   "execution_count": null,
   "id": "refined-oriental",
   "metadata": {},
   "outputs": [],
   "source": [
    "data2 = data2[data2.obs['corr_concat'].isin(['YS Endoderm_Yolk Sac_gastrulation'])]\n",
    "\n",
    "data1.obs['celltypes_for_dotplot'] = data1.obs['broad_cell_labels_organ']\n",
    "data2.obs['celltypes_for_dotplot'] = data2.obs['corr_concat']\n",
    "\n",
    "adata_list = [data1,data2]\n",
    "adata = sc.AnnData.concatenate(*adata_list, join='inner', batch_categories=None ,index_unique=None)\n",
    "\n",
    "cells_to_keep = ['Endoderm_ys','Hepatocyte_fliv','YS Endoderm_Yolk Sac_gastrulation']\n",
    "adata = adata[adata.obs['celltypes_for_dotplot'].isin(cells_to_keep)]\n",
    "\n",
    "adata.obs[\"celltypes_for_dotplot\"] = adata.obs[\"celltypes_for_dotplot\"].astype('category')\n",
    "adata.obs[\"celltypes_for_dotplot\"] = adata.obs[\"celltypes_for_dotplot\"].cat.reorder_categories(['Endoderm_ys','YS Endoderm_Yolk Sac_gastrulation', 'Hepatocyte_fliv'])"
   ]
  },
  {
   "cell_type": "code",
   "execution_count": null,
   "id": "electric-domestic",
   "metadata": {},
   "outputs": [],
   "source": [
    "stages= ['CS7','CS10', 'CS11', 'CS22', 'CS23', 'CS14', 'CS18', 'CS15','F61', 'F35', 'F32']\n",
    "groups = ['CS7','CS10_11', 'CS10_11', 'CS22_23', 'CS22_23', 'CS14_15', 'CS18', 'CS14_15','liv_CS18','liv_CS22_23','liv_CS22_23']\n",
    "dic = dict(zip(stages,groups))\n",
    "adata.obs['stage_groups'] = adata.obs['stage'].map(dic)\n",
    "adata.obs['stage_groups'] = adata.obs['stage_groups'].astype(str)\n",
    "adata.obs.loc[adata.obs['stage_groups'] == 'nan', 'stage_groups'] = 'Gast_CS7'\n",
    "adata.obs['stage_groups'] = adata.obs['stage_groups'].astype('category')\n",
    "adata.obs['stage_groups'] = adata.obs['stage_groups'].cat.reorder_categories(['Gast_CS7','CS10_11','CS14_15','CS18','CS22_23','liv_CS18','liv_CS22_23'])"
   ]
  },
  {
   "cell_type": "code",
   "execution_count": null,
   "id": "applied-postcard",
   "metadata": {},
   "outputs": [],
   "source": [
    "liver_rest = liver_rest[~liver_rest.obs['orig.ident'].isin(['F61', 'F35', 'F32'])]\n",
    "\n",
    "liver_rest.obs['celltypes_for_dotplot'] = liver_rest.obs['cell.labels']\n",
    "liver_rest = liver_rest[liver_rest.obs['celltypes_for_dotplot'].isin(['Hepatocyte'])]\n",
    "liver_rest.obs['stage_groups'] = 'fetal_liver'\n",
    "\n",
    "adata_list = [adata,liver_rest]\n",
    "adata = sc.AnnData.concatenate(*adata_list, join='inner', batch_categories=None ,index_unique=None)"
   ]
  },
  {
   "cell_type": "code",
   "execution_count": null,
   "id": "registered-hours",
   "metadata": {},
   "outputs": [],
   "source": [
    "liver_adult = liver_adult[liver_adult.obs['NormalvsTumor'].isin(['Normal'])]\n",
    "\n",
    "liver_adult.obs['celltypes_for_dotplot'] = liver_adult.obs['HCCF1F2_anno']\n",
    "liver_adult.obs['stage_groups'] = 'adult_liver'"
   ]
  },
  {
   "cell_type": "code",
   "execution_count": null,
   "id": "bound-hughes",
   "metadata": {},
   "outputs": [],
   "source": [
    "sc.pp.normalize_total(adata)\n",
    "sc.pp.log1p(adata)\n",
    "sc.pp.scale(adata, max_value=10)\n",
    "\n",
    "sc.pp.normalize_total(liver_adult)\n",
    "sc.pp.log1p(liver_adult)\n",
    "sc.pp.scale(liver_adult, max_value=10)"
   ]
  },
  {
   "cell_type": "code",
   "execution_count": null,
   "id": "adapted-survey",
   "metadata": {},
   "outputs": [],
   "source": [
    "liver_adult = liver_adult[liver_adult.obs['celltypes_for_dotplot'].isin(['Hepatocytes'])]\n",
    "\n",
    "adata_list = [adata,liver_adult]\n",
    "adata = sc.AnnData.concatenate(*adata_list, join='inner', batch_categories=None ,index_unique=None)"
   ]
  },
  {
   "cell_type": "code",
   "execution_count": null,
   "id": "sharp-billy",
   "metadata": {},
   "outputs": [],
   "source": [
    "genes = {\n",
    "'Common_pathway':['F2','F5','F10'],\n",
    "    'Extrinsic_pathway':['F3','F7'],\n",
    "    'Intrinsic_pathway':['F12','F11','F8'],\n",
    "    'Fibrinogen_and_crosslinking':['FGA','FGB','FGG','F13A1','F13B'],\n",
    "    'Anticoagulation':['SERPINC1','PROC','PROS1'],\n",
    "    'Fibrinolysis':['SERPINF2','PLAT','PLAU','SERPINE1','SERPINB2'] # 'SERPINB2' = 'PAI2'\n",
    "}\n",
    "\n",
    "adata.obs['stage_groups'] = adata.obs['stage_groups'].astype('category')\n",
    "adata.obs['stage_groups'] = adata.obs['stage_groups'].cat.reorder_categories(['Gast_CS7','CS10_11','CS14_15','CS18','CS22_23','liv_CS18','liv_CS22_23','fetal_liver','adult_liver'])\n",
    "\n",
    "sc.pl.dotplot(adata, var_names=genes, groupby='stage_groups', swap_axes=False, figsize=(8,2.5), use_raw=False, save='4e_clotting_actors_over_time_in_human_YS_20220310.pdf')"
   ]
  }
 ],
 "metadata": {
  "kernelspec": {
   "display_name": "Python_env_Hlab",
   "language": "python",
   "name": "python_env_hlab"
  },
  "language_info": {
   "codemirror_mode": {
    "name": "ipython",
    "version": 3
   },
   "file_extension": ".py",
   "mimetype": "text/x-python",
   "name": "python",
   "nbconvert_exporter": "python",
   "pygments_lexer": "ipython3",
   "version": "3.9.4"
  }
 },
 "nbformat": 4,
 "nbformat_minor": 5
}
