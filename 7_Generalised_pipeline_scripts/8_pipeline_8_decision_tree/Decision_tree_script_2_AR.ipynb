{
 "cells": [
  {
   "cell_type": "markdown",
   "id": "moderate-campaign",
   "metadata": {},
   "source": [
    "# Extended figure 2d part 2"
   ]
  },
  {
   "cell_type": "code",
   "execution_count": null,
   "id": "bigger-arthritis",
   "metadata": {},
   "outputs": [],
   "source": [
    "#Install required libraries and load data\n",
    "library(rpart) # version 4.1-15\n",
    "library(rattle) # version 5.4.0\n",
    "library(rpart.plot) # version 3.0.9\n",
    "library(RColorBrewer) # version 1.1-2\n",
    "library(caret) # version 6.0-86\n",
    "library(rlang) # version 0.4.10\n",
    "library(reshape2) # version 1.4.3 \n",
    "library(scales) # version 1.1.0 \n",
    "library(dplyr)\n",
    "library(repr)\n",
    "library(data.table)"
   ]
  },
  {
   "cell_type": "code",
   "execution_count": null,
   "id": "sitting-optimization",
   "metadata": {},
   "outputs": [],
   "source": [
    "# Load the Ab matrix for the FBM MNC CITE-seq data in as 'train'. This is DSB normalised data, with each cell type subset to k=10 (to account for class imbalance). \n",
    "train <- read.csv('/home/jovyan/YS_project/YS_CiteSeq_final_script_templates/Decision_tree/protein_train_test_new_anno_20220331.csv', \n",
    "                  header=TRUE, sep=\",\", row.names=\"X\")"
   ]
  },
  {
   "cell_type": "code",
   "execution_count": null,
   "id": "institutional-roller",
   "metadata": {},
   "outputs": [],
   "source": [
    "train"
   ]
  },
  {
   "cell_type": "code",
   "execution_count": null,
   "id": "starting-hollow",
   "metadata": {},
   "outputs": [],
   "source": [
    "mytree <- rpart(\n",
    "  cell.labels ~ ., \n",
    "  data = train, \n",
    "  method = \"class\", \n",
    "  cp = -1, #-ve complexity ensures tree growth isn't terminated in favour of reduced complexity. can lead to overfitting, but can be pruned later\n",
    "  minsplit = 2, # minumim n(obs) in a node before split attempted (this is pre-pruning). Set to =2 to ensure that tree growth is unrestricted\n",
    "  xval = 100 #  This runs 10-fold cross-validation on my training data (as default)\n",
    ")"
   ]
  },
  {
   "cell_type": "code",
   "execution_count": null,
   "id": "empty-tanzania",
   "metadata": {},
   "outputs": [],
   "source": [
    "mytree"
   ]
  },
  {
   "cell_type": "code",
   "execution_count": null,
   "id": "serial-plaintiff",
   "metadata": {},
   "outputs": [],
   "source": [
    "df <- as.data.frame(mytree$cptable)\n",
    "colnames(df) <- c(\"CP\", \"nsplit\", \"relError\", \"xerror\", \"xstd\")\n",
    "df[\"CP_plus_xerror\"] <- df[\"CP\"] + df[\"xerror\"]\n",
    "df"
   ]
  },
  {
   "cell_type": "code",
   "execution_count": null,
   "id": "exempt-binding",
   "metadata": {},
   "outputs": [],
   "source": [
    "# Note this tree making has some stochasicity \n",
    "plotcp(mytree)"
   ]
  },
  {
   "cell_type": "markdown",
   "id": "downtown-malpractice",
   "metadata": {},
   "source": [
    "# Pruning - off visual \n",
    "- inputted 23 celltypes"
   ]
  },
  {
   "cell_type": "code",
   "execution_count": null,
   "id": "excited-entity",
   "metadata": {},
   "outputs": [],
   "source": [
    "# tune std\n",
    "\n",
    "# determine best and then take step up if not suitable"
   ]
  },
  {
   "cell_type": "code",
   "execution_count": null,
   "id": "israeli-singing",
   "metadata": {},
   "outputs": [],
   "source": [
    "df_backup <- data.frame(df)"
   ]
  },
  {
   "cell_type": "code",
   "execution_count": null,
   "id": "proud-institute",
   "metadata": {},
   "outputs": [],
   "source": [
    "df_backup"
   ]
  },
  {
   "cell_type": "code",
   "execution_count": null,
   "id": "established-vampire",
   "metadata": {},
   "outputs": [],
   "source": [
    "df <- data.frame(df_backup)"
   ]
  },
  {
   "cell_type": "markdown",
   "id": "portuguese-driver",
   "metadata": {},
   "source": [
    "# Attempt auto pruning"
   ]
  },
  {
   "cell_type": "code",
   "execution_count": null,
   "id": "illegal-emission",
   "metadata": {},
   "outputs": [],
   "source": [
    "pruneLevel <- df[\"CP\"][df[\"xerror\"] < min(df[\"xerror\"] + df[\"xstd\"])]  # Define pruning equation       # View nsplits which pass automatic pruning criteria\n",
    "df <- df[df$CP %in% pruneLevel,]                                       # Subset df for complexities which pass pruning step one\n",
    "df               "
   ]
  },
  {
   "cell_type": "code",
   "execution_count": null,
   "id": "modular-discretion",
   "metadata": {},
   "outputs": [],
   "source": [
    "# Step two: Select for top 3 pruning levels which have smallest(cp+xerror)\n",
    "df <- df[order(df[\"CP_plus_xerror\"]),][0:3,]\n",
    "df"
   ]
  },
  {
   "cell_type": "markdown",
   "id": "latest-brisbane",
   "metadata": {},
   "source": [
    "# n_split = 44 CP makes no sense, 19 is less celltypes than inputted so going for 27 as next suitable n_split"
   ]
  },
  {
   "cell_type": "code",
   "execution_count": null,
   "id": "intimate-canal",
   "metadata": {},
   "outputs": [],
   "source": [
    "# Step three: Select the pruning level with lowest nsplit with all classes present as terminal node in decision tree \n",
    "# Built decision trees for all +ve complexities in df above: nsplit=32 omits 5 classes. nsplit=48 contains all classes > auto_cp must be set at this threshold)\n",
    "df <- as.data.frame(mytree$cptable)\n",
    "colnames(df) <- c(\"CP\", \"nsplit\", \"relError\", \"xerror\", \"xstd\")\n",
    "auto_cp <- df[\"CP\"][df[\"nsplit\"]==27]  # Define pruning equation   \n",
    "auto_cp"
   ]
  },
  {
   "cell_type": "code",
   "execution_count": null,
   "id": "english-thailand",
   "metadata": {},
   "outputs": [],
   "source": []
  },
  {
   "cell_type": "code",
   "execution_count": null,
   "id": "elder-hydrogen",
   "metadata": {},
   "outputs": [],
   "source": [
    "# visualise final tree\n",
    "mytree <- prune(mytree, cp = auto_cp) \n",
    "printcp(mytree)"
   ]
  },
  {
   "cell_type": "code",
   "execution_count": null,
   "id": "extreme-postcard",
   "metadata": {},
   "outputs": [],
   "source": []
  },
  {
   "cell_type": "code",
   "execution_count": null,
   "id": "expired-township",
   "metadata": {},
   "outputs": [],
   "source": [
    "df <- as.data.frame(mytree$cptable)\n",
    "colnames(df) <- c(\"CP\", \"nsplit\", \"relError\", \"xerror\", \"xstd\")\n",
    "df"
   ]
  },
  {
   "cell_type": "code",
   "execution_count": null,
   "id": "cognitive-uruguay",
   "metadata": {},
   "outputs": [],
   "source": [
    "# Visually inspect the feature (Ab) importance in the DT model with final complexity we've selected \n",
    "# Make dataframe of Abs and their importance\n",
    "df <- as.data.frame(mytree$variable.importance)\n",
    "df[\"ab\"] = rownames(df)\n",
    "\n",
    "# Plot the Abs (ordered by importance) as a barplot\n",
    "options(repr.plot.width=100, repr.plot.height=100)\n",
    "ggplot(df, aes(x=reorder(ab, mytree$variable.importance), y=mytree$variable.importance)) + # \n",
    "  geom_bar(stat = \"identity\", width=0.5)  +\n",
    "  theme(axis.text.y = element_text(hjust=1, size=70), axis.title.y = element_text(size=70, face=\"bold\"), axis.title.x = element_text(size=70, face=\"bold\")) +\n",
    "  coord_flip()"
   ]
  },
  {
   "cell_type": "code",
   "execution_count": null,
   "id": "creative-scenario",
   "metadata": {},
   "outputs": [],
   "source": [
    "# Time to evaluate the DT model for how generalisable it is (incl. purity and recall) using a test dataset\n",
    "\n",
    "# Load the test data in\n",
    "test_data <- read.csv('/home/jovyan/YS_project/YS_CiteSeq_final_script_templates/Decision_tree/protein_test_test_new_anno_20220331.csv', \n",
    "                  header=TRUE, sep=\",\", row.names=\"X\")\n",
    "test_data[1:5]"
   ]
  },
  {
   "cell_type": "code",
   "execution_count": null,
   "id": "elegant-yugoslavia",
   "metadata": {},
   "outputs": [],
   "source": [
    "# Run class predictions for the test data\n",
    "preds <- factor(predict(mytree, newdata=test_data, type=\"class\"), levels=levels(factor(test_data$cell.labels))) # added in levels argument to be a factor"
   ]
  },
  {
   "cell_type": "code",
   "execution_count": null,
   "id": "alternate-liechtenstein",
   "metadata": {},
   "outputs": [],
   "source": [
    "#table_mat <- table(test_data$cell.labels, predict_unseen)\n",
    "#table_mat"
   ]
  },
  {
   "cell_type": "code",
   "execution_count": null,
   "id": "scientific-symbol",
   "metadata": {},
   "outputs": [],
   "source": [
    "preds"
   ]
  },
  {
   "cell_type": "code",
   "execution_count": null,
   "id": "acquired-drain",
   "metadata": {},
   "outputs": [],
   "source": [
    "# reorder the levels for preds (so that the confusion matrix looks nice)\n",
    "celltype_list <- c(\n",
    "'HSPC1',\n",
    "'HSPC2',\n",
    "'CMP',\n",
    "'MEMP',\n",
    "'lymphoid progenitor',\n",
    "'lymphoid- NK/ILC',\n",
    "'lymphoid- B lin',\n",
    "'Lymphoid',\n",
    "'pDC precursor',\n",
    "'Monocyte_0',\n",
    "'Monocyte_1',\n",
    "'Macrophage',\n",
    "'Microglia',\n",
    "'Mast_cell',\n",
    "'early MK',\n",
    "'MK',\n",
    "'early erythroid',\n",
    "'Erythroid',\n",
    "'Endothelium',\n",
    "'Fibroblast',\n",
    "'Smooth_Muscle',\n",
    "'Mesothelium',\n",
    "'Endoderm'\n",
    ")"
   ]
  },
  {
   "cell_type": "code",
   "execution_count": null,
   "id": "mineral-republic",
   "metadata": {},
   "outputs": [],
   "source": [
    "anno <- factor(test_data$cell.labels) # added in levels argument to be a factor\n",
    "anno"
   ]
  },
  {
   "cell_type": "code",
   "execution_count": null,
   "id": "accurate-endorsement",
   "metadata": {},
   "outputs": [],
   "source": [
    "length(preds)"
   ]
  },
  {
   "cell_type": "code",
   "execution_count": null,
   "id": "reserved-universe",
   "metadata": {},
   "outputs": [],
   "source": [
    "length(anno)"
   ]
  },
  {
   "cell_type": "code",
   "execution_count": null,
   "id": "copyrighted-afghanistan",
   "metadata": {},
   "outputs": [],
   "source": [
    "levels(preds) <- celltype_list\n",
    "levels(anno) <- celltype_list"
   ]
  },
  {
   "cell_type": "code",
   "execution_count": null,
   "id": "structural-receptor",
   "metadata": {},
   "outputs": [],
   "source": [
    "# To evaluate both true positives (sensitivity) and true negatives (specificity), I generate confusion matrix\n",
    "c_mat <- confusionMatrix(data=preds, reference=anno) # default beta=1 \n",
    "confusion_matrix_df <- melt(data.frame(c_mat$table))\n",
    "head(confusion_matrix_df)"
   ]
  },
  {
   "cell_type": "code",
   "execution_count": null,
   "id": "furnished-breath",
   "metadata": {},
   "outputs": [],
   "source": [
    "# Plot heatmap of confusion matrix (save as pdf in R)\n",
    "options(repr.plot.width=15, repr.plot.height=15)\n",
    "ggplot(confusion_matrix_df, aes(x=Prediction, y=Reference)) + \n",
    "  geom_tile(aes(fill = value)) + # background colours are mapped according to the value column\n",
    "  scale_fill_gradient2(low = \"white\", high = muted(\"midnightblue\"), midpoint = 0) + # colour\n",
    "  theme(axis.text.x = element_text(angle=90, hjust=1, vjust=1, size=15, face=\"bold\"),\n",
    "        plot.title = element_text(size=30, face=\"bold\"),\n",
    "        axis.text.y = element_text(size=20, face=\"bold\")) + \n",
    "  ggtitle(\"Confusion matrix for CITE-seq decision tree\") + \n",
    "  theme(legend.title=element_text(face=\"bold\", size=8)) + \n",
    "  xlab(\"Test data predicted label based on DT\") + ylab(\"Test data actual label\") +\n",
    "  labs(fill=\"\")\n"
   ]
  },
  {
   "cell_type": "markdown",
   "id": "small-extreme",
   "metadata": {},
   "source": [
    "# Plot tree"
   ]
  },
  {
   "cell_type": "code",
   "execution_count": null,
   "id": "premium-profile",
   "metadata": {},
   "outputs": [],
   "source": [
    "rpart.plot(mytree, type = 3, clip.right.labs = FALSE, \n",
    "           branch = 0, under = FALSE, extra=FALSE, box.palette=0, cex=NULL, compress = TRUE, ycompress = TRUE, Margin=0,)   "
   ]
  },
  {
   "cell_type": "code",
   "execution_count": null,
   "id": "statewide-power",
   "metadata": {},
   "outputs": [],
   "source": [
    "rpart.plot(mytree, type = 3, clip.right.labs = FALSE, \n",
    "           branch = 1, under = FALSE, extra=FALSE, box.palette=0, cex=NULL, compress = TRUE, ycompress = TRUE, Margin=0,)"
   ]
  },
  {
   "cell_type": "code",
   "execution_count": null,
   "id": "alert-rally",
   "metadata": {},
   "outputs": [],
   "source": [
    "rpart.plot(mytree, type = 3, clip.right.labs = FALSE, \n",
    "           branch = 1, under = FALSE, extra=FALSE, box.palette=0, cex=NULL, compress = TRUE, ycompress = TRUE, Margin=0,add.labs=FALSE,)  "
   ]
  },
  {
   "cell_type": "code",
   "execution_count": null,
   "id": "contemporary-salon",
   "metadata": {},
   "outputs": [],
   "source": [
    "#jpeg('rplot_decision_tree_test.jpg')\n",
    "#rpart.plot(mytree, type = 3, clip.right.labs = FALSE, \n",
    "#          branch = 1, under = FALSE, extra=FALSE, box.palette=0, cex=NULL, compress = TRUE, ycompress = TRUE, Margin=0,)\n",
    "#dev.off()"
   ]
  },
  {
   "cell_type": "code",
   "execution_count": null,
   "id": "impressive-offense",
   "metadata": {},
   "outputs": [],
   "source": [
    "pdf('rplot_decision_tree_with_labels_20220401.pdf')\n",
    "rpart.plot(mytree, type = 3, clip.right.labs = FALSE, \n",
    "           branch = 1, under = FALSE, extra=FALSE, box.palette=0, cex=NULL, compress = TRUE, ycompress = TRUE, Margin=0,)\n",
    "dev.off()"
   ]
  },
  {
   "cell_type": "code",
   "execution_count": null,
   "id": "paperback-feedback",
   "metadata": {},
   "outputs": [],
   "source": [
    "pdf('rplot_decision_tree_without_labels_20220401.pdf')\n",
    "rpart.plot(mytree, type = 3, clip.right.labs = FALSE, \n",
    "           branch = 1, under = FALSE, extra=FALSE, box.palette=0, cex=NULL, compress = TRUE, ycompress = TRUE, Margin=0,add.labs=FALSE,)\n",
    "dev.off()"
   ]
  },
  {
   "cell_type": "code",
   "execution_count": null,
   "id": "yellow-charm",
   "metadata": {},
   "outputs": [],
   "source": []
  }
 ],
 "metadata": {
  "kernelspec": {
   "display_name": "Python_env_Hlab",
   "language": "python",
   "name": "python_env_hlab"
  },
  "language_info": {
   "codemirror_mode": {
    "name": "ipython",
    "version": 3
   },
   "file_extension": ".py",
   "mimetype": "text/x-python",
   "name": "python",
   "nbconvert_exporter": "python",
   "pygments_lexer": "ipython3",
   "version": "3.9.4"
  }
 },
 "nbformat": 4,
 "nbformat_minor": 5
}
