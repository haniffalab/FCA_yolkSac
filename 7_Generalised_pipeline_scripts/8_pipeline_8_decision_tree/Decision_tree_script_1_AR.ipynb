{
 "cells": [
  {
   "cell_type": "markdown",
   "id": "prime-glass",
   "metadata": {},
   "source": [
    "# Extended figure 2d part 1"
   ]
  },
  {
   "cell_type": "markdown",
   "id": "unknown-rogers",
   "metadata": {},
   "source": [
    "# Import packages and data "
   ]
  },
  {
   "cell_type": "code",
   "execution_count": null,
   "id": "worth-benjamin",
   "metadata": {},
   "outputs": [],
   "source": [
    "import numpy as np\n",
    "import pandas as pd\n",
    "import scanpy as sc\n",
    "import seaborn as sns\n",
    "import scipy.stats\n",
    "import anndata\n",
    "import matplotlib.pyplot as plt\n",
    "import matplotlib as mpl\n",
    "from matplotlib.axes._axes import _log as matplotlib_axes_logger\n",
    "from scipy import sparse\n",
    "matplotlib_axes_logger.setLevel('ERROR')"
   ]
  },
  {
   "cell_type": "code",
   "execution_count": null,
   "id": "external-salmon",
   "metadata": {},
   "outputs": [],
   "source": [
    "sc.settings.verbosity = 1  # verbosity: errors (0), warnings (1), info (2), hints (3)\n",
    "# Set up the plot config for viewing the annotation clearly.\n",
    "sc.settings.set_figure_params(dpi=120, dpi_save=1000)\n",
    "sc.logging.print_versions()"
   ]
  },
  {
   "cell_type": "markdown",
   "id": "knowing-footwear",
   "metadata": {},
   "source": [
    "# Import the DSB-normalised fetal YS CITE-seq data"
   ]
  },
  {
   "cell_type": "code",
   "execution_count": null,
   "id": "controlled-zealand",
   "metadata": {},
   "outputs": [],
   "source": [
    "adata = sc.read('/home/jovyan/YS_project/YS_CiteSeq_final_script_templates/protein_pipeline_19112021/Cite_seq_protein_processed_20220331.h5ad')"
   ]
  },
  {
   "cell_type": "code",
   "execution_count": null,
   "id": "inner-substitute",
   "metadata": {
    "scrolled": true
   },
   "outputs": [],
   "source": [
    "adata"
   ]
  },
  {
   "cell_type": "code",
   "execution_count": null,
   "id": "distinct-february",
   "metadata": {},
   "outputs": [],
   "source": [
    "adata.obs.rename(columns = {\"individual_anno\":\"cell.labels\"}, inplace=\"True\")"
   ]
  },
  {
   "cell_type": "code",
   "execution_count": null,
   "id": "individual-street",
   "metadata": {},
   "outputs": [],
   "source": [
    "cell_numbers = adata.obs.groupby([\"cell.labels\"]).apply(len)\n",
    "cell_numbers"
   ]
  },
  {
   "cell_type": "code",
   "execution_count": null,
   "id": "auburn-database",
   "metadata": {},
   "outputs": [],
   "source": [
    "adata.X"
   ]
  },
  {
   "cell_type": "code",
   "execution_count": null,
   "id": "boxed-fifty",
   "metadata": {},
   "outputs": [],
   "source": [
    "ref = adata"
   ]
  },
  {
   "cell_type": "markdown",
   "id": "amazing-industry",
   "metadata": {},
   "source": [
    "We will now save data for input into the Use Rpart package (for decision tree building)"
   ]
  },
  {
   "cell_type": "markdown",
   "id": "outside-castle",
   "metadata": {},
   "source": [
    "# Save train data (k=10 per cell type) \n",
    "- reduced from 11 to 6"
   ]
  },
  {
   "cell_type": "code",
   "execution_count": null,
   "id": "greenhouse-simulation",
   "metadata": {},
   "outputs": [],
   "source": [
    "tot_adata = anndata.AnnData\n",
    "for i in adata.obs[\"cell.labels\"].unique().tolist():\n",
    "    #print(i)\n",
    "    subset = adata[adata.obs[\"cell.labels\"].isin([i])].copy()\n",
    "    #print(subset.shape)\n",
    "    sc.pp.subsample(subset, n_obs = 6, random_state=1)\n",
    "    tot_adata = tot_adata.concatenate(subset, join='outer', index_unique=None)"
   ]
  },
  {
   "cell_type": "code",
   "execution_count": null,
   "id": "patient-essex",
   "metadata": {},
   "outputs": [],
   "source": [
    "# Save the metadata\n",
    "adata = tot_adata\n",
    "metadata = adata.obs[\"cell.labels\"]\n",
    "df = pd.DataFrame(data=adata.X, index=adata.obs.index, columns=adata.var.index)\n",
    "df.insert(0, \"cell.labels\", metadata)\n",
    "df.to_csv('./protein_train_test_new_anno_20220331.csv', sep=',', header=True, index=True, index_label='X')"
   ]
  },
  {
   "cell_type": "markdown",
   "id": "sapphire-transition",
   "metadata": {},
   "source": [
    "# Save test data (k=10 per cell type)"
   ]
  },
  {
   "cell_type": "code",
   "execution_count": null,
   "id": "familiar-happening",
   "metadata": {},
   "outputs": [],
   "source": [
    "adata = ref"
   ]
  },
  {
   "cell_type": "code",
   "execution_count": null,
   "id": "faced-power",
   "metadata": {},
   "outputs": [],
   "source": [
    "tot_adata = anndata.AnnData\n",
    "for i in adata.obs[\"cell.labels\"].unique().tolist():\n",
    "    #print(i)\n",
    "    subset = adata[adata.obs[\"cell.labels\"].isin([i])].copy()\n",
    "    #print(subset.shape)\n",
    "    sc.pp.subsample(subset, n_obs = 6, random_state=2)\n",
    "    tot_adata = tot_adata.concatenate(subset, join='outer', index_unique=None)"
   ]
  },
  {
   "cell_type": "code",
   "execution_count": null,
   "id": "separate-alexandria",
   "metadata": {},
   "outputs": [],
   "source": [
    "# Save the metadata\n",
    "adata = tot_adata\n",
    "metadata = adata.obs[\"cell.labels\"]\n",
    "df = pd.DataFrame(data=adata.X, index=adata.obs.index, columns=adata.var.index)\n",
    "df.insert(0, \"cell.labels\", metadata)\n",
    "df.to_csv('./protein_test_test_new_anno_20220331.csv', sep=',', header=True, index=True, index_label='X')"
   ]
  },
  {
   "cell_type": "code",
   "execution_count": null,
   "id": "negative-animal",
   "metadata": {},
   "outputs": [],
   "source": [
    "ref"
   ]
  },
  {
   "cell_type": "code",
   "execution_count": null,
   "id": "handy-fight",
   "metadata": {},
   "outputs": [],
   "source": [
    "list(ref.obs['cell.labels'].unique())"
   ]
  }
 ],
 "metadata": {
  "kernelspec": {
   "display_name": "Python_env_Hlab",
   "language": "python",
   "name": "python_env_hlab"
  },
  "language_info": {
   "codemirror_mode": {
    "name": "ipython",
    "version": 3
   },
   "file_extension": ".py",
   "mimetype": "text/x-python",
   "name": "python",
   "nbconvert_exporter": "python",
   "pygments_lexer": "ipython3",
   "version": "3.9.4"
  }
 },
 "nbformat": 4,
 "nbformat_minor": 5
}
