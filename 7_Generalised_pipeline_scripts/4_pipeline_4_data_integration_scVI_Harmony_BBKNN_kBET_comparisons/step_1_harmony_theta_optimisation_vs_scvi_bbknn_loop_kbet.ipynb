{
 "cells": [
  {
   "cell_type": "code",
   "execution_count": null,
   "metadata": {},
   "outputs": [],
   "source": [
    "%matplotlib inline\n",
    "from collections import Counter\n",
    "from collections import defaultdict\n",
    "import scanpy as sc\n",
    "#import scrublet as scr\n",
    "import pandas as pd\n",
    "import pickle as pkl\n",
    "import numpy as np\n",
    "from bbknn import bbknn\n",
    "import scipy\n",
    "import matplotlib.pyplot as plt\n",
    "import re\n",
    "import glob\n",
    "import os\n",
    "import sys\n",
    "from geosketch import gs\n",
    "from numpy import cov\n",
    "import scipy.cluster.hierarchy as spc\n",
    "import seaborn as sns; sns.set(color_codes=True)\n",
    "from sklearn.linear_model import LogisticRegression\n",
    "import sklearn\n",
    "import harmonypy as hm\n",
    "sc.settings.verbosity = 3  # verbosity: errors (0), warnings (1), info (2), hints (3)\n",
    "sc.settings.set_figure_params(dpi=80, color_map='viridis')\n",
    "sc.logging.print_versions()"
   ]
  },
  {
   "cell_type": "code",
   "execution_count": 2,
   "metadata": {},
   "outputs": [],
   "source": [
    "#Introduce variables\n",
    "\n",
    "#name of first object (arbitrary)\n",
    "data1 = \"_Training\"\n",
    "Object1 = \"/nfs/team205/ig7/work_backups/backup_210306/projects/YS/YS_090321_notebooks/YS_Reprocess_250721_updates/mouse_gastrulation_human_YS_combination/combined_ys_fliv_mouse_111021.h5ad\"\n",
    "\n",
    "#provide categorical containing batch information\n",
    "batch = \"lr_batch\"\n",
    "\n",
    "#Procide PC intervals to study\n",
    "inte = [1,2,3,4,5,6,7,8,9,10] #thta value\n",
    "\n",
    "#provide cateorical to join between datasets, this shoould be annotations for cells (obs col)\n",
    "cat1 = 'corr_concat'\n",
    "\n",
    "#Use BBKNN or Harmony? \n",
    "correction = \"Harmony\"\n",
    "\n",
    "#provide an output path and a folder name to be created\n",
    "output = \"/nfs/team205/ig7/work_backups/backup_210306/projects/YS/YS_090321_notebooks/YS_Reprocess_250721_updates/mouse_gastrulation_human_YS_combination/kbet_cross-species/kbet_loop_out_harmony_theta_var_v3_increase_batch_increased_k/\""
   ]
  },
  {
   "cell_type": "markdown",
   "metadata": {},
   "source": [
    "## Start of processing module"
   ]
  },
  {
   "cell_type": "code",
   "execution_count": 3,
   "metadata": {},
   "outputs": [],
   "source": [
    "# Load dataset 1\n",
    "adata_orig = sc.read(Object1)"
   ]
  },
  {
   "cell_type": "code",
   "execution_count": 4,
   "metadata": {},
   "outputs": [],
   "source": [
    "#adata_orig.obs[\"id_lane\"] = adata_orig.obs[\"lanes\"].astype(str) + \"_\" + adata_orig.obs[\"fetal.ids\"].astype(str)"
   ]
  },
  {
   "cell_type": "code",
   "execution_count": 5,
   "metadata": {},
   "outputs": [],
   "source": [
    "#list(adata_orig.obs[\"id_lane\"].unique())"
   ]
  },
  {
   "cell_type": "markdown",
   "metadata": {},
   "source": [
    "# Start of predictive and output loop"
   ]
  },
  {
   "cell_type": "code",
   "execution_count": 10,
   "metadata": {},
   "outputs": [
    {
     "name": "stdout",
     "output_type": "stream",
     "text": [
      "/nfs/team205/ig7/work_backups/backup_210306/projects/YS/YS_090321_notebooks/YS_Reprocess_250721_updates/mouse_gastrulation_human_YS_combination/kbet_cross-species/kbet_loop_out_harmony_theta_var_v3_increase_batch_increased_k/kbet_loop_out_harmony_theta_var_v3_increase_batch_increased_k\n"
     ]
    }
   ],
   "source": [
    "os.mkdir(output)\n",
    "os.chdir(output)\n",
    "print(os.getcwd())"
   ]
  },
  {
   "cell_type": "markdown",
   "metadata": {},
   "source": [
    "# Dev Notes\n",
    "\n",
    "Loop to compute umap coords for each harmony loop, the umap coords can be fed into kbet for testing\n",
    "\n",
    "## To add:\n",
    "- loop to export umap coords for each theta value as .csv\n",
    "- Sil score function for each set of umap coords (to plot together with kbet)\n",
    "- Magic function to compute kbet\n",
    "- Rand and MI to show that logit regression annotation outcome does not change with change in Harmony theta"
   ]
  },
  {
   "cell_type": "markdown",
   "metadata": {},
   "source": [
    "# Work-in-progress"
   ]
  },
  {
   "cell_type": "code",
   "execution_count": 12,
   "metadata": {},
   "outputs": [
    {
     "name": "stderr",
     "output_type": "stream",
     "text": [
      "Trying to set attribute `.obs` of view, copying.\n"
     ]
    },
    {
     "name": "stdout",
     "output_type": "stream",
     "text": [
      "/nfs/team205/ig7/work_backups/backup_210306/projects/YS/YS_090321_notebooks/YS_Reprocess_250721_updates/mouse_gastrulation_human_YS_combination/kbet_cross-species/kbet_loop_out_harmony_theta_var_v3_increase_batch_increased_k/kbet_loop_out_harmony_theta_var_v3_increase_batch_increased_k/kbet_loop_out_harmony_theta_var_v3_increase_batch_increased_k/kbet_loop_out_harmony_theta_var_v3_increase_batch_increased_k\n",
      "Commencing harmony\n"
     ]
    },
    {
     "name": "stderr",
     "output_type": "stream",
     "text": [
      "2021-10-11 15:37:19,049 - harmonypy - INFO - Iteration 1 of 10\n",
      "Iteration 1 of 10\n",
      "2021-10-11 15:37:50,535 - harmonypy - INFO - Iteration 2 of 10\n",
      "Iteration 2 of 10\n",
      "2021-10-11 15:38:22,436 - harmonypy - INFO - Iteration 3 of 10\n",
      "Iteration 3 of 10\n",
      "2021-10-11 15:38:57,110 - harmonypy - INFO - Converged after 3 iterations\n",
      "Converged after 3 iterations\n"
     ]
    },
    {
     "name": "stdout",
     "output_type": "stream",
     "text": [
      "computing neighbors\n",
      "    using 'X_pca' with n_pcs = 50\n",
      "    finished: added to `.uns['neighbors']`\n",
      "    `.obsp['distances']`, distances for each pair of neighbors\n",
      "    `.obsp['connectivities']`, weighted adjacency matrix (0:00:18)\n",
      "computing UMAP\n"
     ]
    },
    {
     "name": "stderr",
     "output_type": "stream",
     "text": [
      "Trying to set attribute `.uns` of view, copying.\n"
     ]
    },
    {
     "name": "stdout",
     "output_type": "stream",
     "text": [
      "    finished: added\n",
      "    'X_umap', UMAP coordinates (adata.obsm) (0:00:11)\n",
      "Commencing harmony\n"
     ]
    },
    {
     "name": "stderr",
     "output_type": "stream",
     "text": [
      "2021-10-11 15:39:43,147 - harmonypy - INFO - Iteration 1 of 10\n",
      "Iteration 1 of 10\n",
      "2021-10-11 15:40:17,918 - harmonypy - INFO - Iteration 2 of 10\n",
      "Iteration 2 of 10\n",
      "2021-10-11 15:40:55,437 - harmonypy - INFO - Iteration 3 of 10\n",
      "Iteration 3 of 10\n",
      "2021-10-11 15:41:17,002 - harmonypy - INFO - Converged after 3 iterations\n",
      "Converged after 3 iterations\n"
     ]
    },
    {
     "name": "stdout",
     "output_type": "stream",
     "text": [
      "computing neighbors\n",
      "    using 'X_pca' with n_pcs = 50\n",
      "    finished: added to `.uns['neighbors']`\n",
      "    `.obsp['distances']`, distances for each pair of neighbors\n",
      "    `.obsp['connectivities']`, weighted adjacency matrix (0:00:02)\n",
      "computing UMAP\n"
     ]
    },
    {
     "name": "stderr",
     "output_type": "stream",
     "text": [
      "Trying to set attribute `.uns` of view, copying.\n"
     ]
    },
    {
     "name": "stdout",
     "output_type": "stream",
     "text": [
      "    finished: added\n",
      "    'X_umap', UMAP coordinates (adata.obsm) (0:00:08)\n",
      "Commencing harmony\n"
     ]
    },
    {
     "name": "stderr",
     "output_type": "stream",
     "text": [
      "2021-10-11 15:41:43,715 - harmonypy - INFO - Iteration 1 of 10\n",
      "Iteration 1 of 10\n",
      "2021-10-11 15:42:22,412 - harmonypy - INFO - Iteration 2 of 10\n",
      "Iteration 2 of 10\n",
      "2021-10-11 15:43:07,140 - harmonypy - INFO - Iteration 3 of 10\n",
      "Iteration 3 of 10\n",
      "2021-10-11 15:43:26,042 - harmonypy - INFO - Converged after 3 iterations\n",
      "Converged after 3 iterations\n"
     ]
    },
    {
     "name": "stdout",
     "output_type": "stream",
     "text": [
      "computing neighbors\n",
      "    using 'X_pca' with n_pcs = 50\n",
      "    finished: added to `.uns['neighbors']`\n",
      "    `.obsp['distances']`, distances for each pair of neighbors\n",
      "    `.obsp['connectivities']`, weighted adjacency matrix (0:00:02)\n",
      "computing UMAP\n"
     ]
    },
    {
     "name": "stderr",
     "output_type": "stream",
     "text": [
      "Trying to set attribute `.uns` of view, copying.\n"
     ]
    },
    {
     "name": "stdout",
     "output_type": "stream",
     "text": [
      "    finished: added\n",
      "    'X_umap', UMAP coordinates (adata.obsm) (0:00:11)\n",
      "Commencing harmony\n"
     ]
    },
    {
     "name": "stderr",
     "output_type": "stream",
     "text": [
      "2021-10-11 15:43:55,041 - harmonypy - INFO - Iteration 1 of 10\n",
      "Iteration 1 of 10\n",
      "2021-10-11 15:44:35,025 - harmonypy - INFO - Iteration 2 of 10\n",
      "Iteration 2 of 10\n",
      "2021-10-11 15:45:12,506 - harmonypy - INFO - Iteration 3 of 10\n",
      "Iteration 3 of 10\n",
      "2021-10-11 15:45:30,026 - harmonypy - INFO - Converged after 3 iterations\n",
      "Converged after 3 iterations\n"
     ]
    },
    {
     "name": "stdout",
     "output_type": "stream",
     "text": [
      "computing neighbors\n",
      "    using 'X_pca' with n_pcs = 50\n",
      "    finished: added to `.uns['neighbors']`\n",
      "    `.obsp['distances']`, distances for each pair of neighbors\n",
      "    `.obsp['connectivities']`, weighted adjacency matrix (0:00:02)\n",
      "computing UMAP\n"
     ]
    },
    {
     "name": "stderr",
     "output_type": "stream",
     "text": [
      "Trying to set attribute `.uns` of view, copying.\n"
     ]
    },
    {
     "name": "stdout",
     "output_type": "stream",
     "text": [
      "    finished: added\n",
      "    'X_umap', UMAP coordinates (adata.obsm) (0:00:09)\n",
      "Commencing harmony\n"
     ]
    },
    {
     "name": "stderr",
     "output_type": "stream",
     "text": [
      "2021-10-11 15:46:01,644 - harmonypy - INFO - Iteration 1 of 10\n",
      "Iteration 1 of 10\n",
      "2021-10-11 15:46:40,632 - harmonypy - INFO - Iteration 2 of 10\n",
      "Iteration 2 of 10\n",
      "2021-10-11 15:47:16,402 - harmonypy - INFO - Iteration 3 of 10\n",
      "Iteration 3 of 10\n",
      "2021-10-11 15:47:39,210 - harmonypy - INFO - Converged after 3 iterations\n",
      "Converged after 3 iterations\n"
     ]
    },
    {
     "name": "stdout",
     "output_type": "stream",
     "text": [
      "computing neighbors\n",
      "    using 'X_pca' with n_pcs = 50\n",
      "    finished: added to `.uns['neighbors']`\n",
      "    `.obsp['distances']`, distances for each pair of neighbors\n",
      "    `.obsp['connectivities']`, weighted adjacency matrix (0:00:02)\n",
      "computing UMAP\n"
     ]
    },
    {
     "name": "stderr",
     "output_type": "stream",
     "text": [
      "Trying to set attribute `.uns` of view, copying.\n"
     ]
    },
    {
     "name": "stdout",
     "output_type": "stream",
     "text": [
      "    finished: added\n",
      "    'X_umap', UMAP coordinates (adata.obsm) (0:00:10)\n",
      "Commencing harmony\n"
     ]
    },
    {
     "name": "stderr",
     "output_type": "stream",
     "text": [
      "2021-10-11 15:48:10,704 - harmonypy - INFO - Iteration 1 of 10\n",
      "Iteration 1 of 10\n",
      "2021-10-11 15:48:50,116 - harmonypy - INFO - Iteration 2 of 10\n",
      "Iteration 2 of 10\n",
      "2021-10-11 15:49:28,806 - harmonypy - INFO - Iteration 3 of 10\n",
      "Iteration 3 of 10\n",
      "2021-10-11 15:49:52,619 - harmonypy - INFO - Iteration 4 of 10\n",
      "Iteration 4 of 10\n",
      "2021-10-11 15:50:21,008 - harmonypy - INFO - Iteration 5 of 10\n",
      "Iteration 5 of 10\n",
      "2021-10-11 15:50:43,211 - harmonypy - INFO - Iteration 6 of 10\n",
      "Iteration 6 of 10\n",
      "2021-10-11 15:51:06,505 - harmonypy - INFO - Iteration 7 of 10\n",
      "Iteration 7 of 10\n",
      "2021-10-11 15:51:39,516 - harmonypy - INFO - Iteration 8 of 10\n",
      "Iteration 8 of 10\n",
      "2021-10-11 15:52:20,400 - harmonypy - INFO - Iteration 9 of 10\n",
      "Iteration 9 of 10\n",
      "2021-10-11 15:53:04,306 - harmonypy - INFO - Iteration 10 of 10\n",
      "Iteration 10 of 10\n",
      "2021-10-11 15:53:44,816 - harmonypy - INFO - Stopped before convergence\n",
      "Stopped before convergence\n"
     ]
    },
    {
     "name": "stdout",
     "output_type": "stream",
     "text": [
      "computing neighbors\n",
      "    using 'X_pca' with n_pcs = 50\n",
      "    finished: added to `.uns['neighbors']`\n",
      "    `.obsp['distances']`, distances for each pair of neighbors\n",
      "    `.obsp['connectivities']`, weighted adjacency matrix (0:00:02)\n",
      "computing UMAP\n"
     ]
    },
    {
     "name": "stderr",
     "output_type": "stream",
     "text": [
      "Trying to set attribute `.uns` of view, copying.\n"
     ]
    },
    {
     "name": "stdout",
     "output_type": "stream",
     "text": [
      "    finished: added\n",
      "    'X_umap', UMAP coordinates (adata.obsm) (0:00:10)\n",
      "Commencing harmony\n"
     ]
    },
    {
     "name": "stderr",
     "output_type": "stream",
     "text": [
      "2021-10-11 15:54:22,501 - harmonypy - INFO - Iteration 1 of 10\n",
      "Iteration 1 of 10\n",
      "2021-10-11 15:55:09,220 - harmonypy - INFO - Iteration 2 of 10\n",
      "Iteration 2 of 10\n",
      "2021-10-11 15:55:30,901 - harmonypy - INFO - Iteration 3 of 10\n",
      "Iteration 3 of 10\n",
      "2021-10-11 15:55:55,112 - harmonypy - INFO - Converged after 3 iterations\n",
      "Converged after 3 iterations\n"
     ]
    },
    {
     "name": "stdout",
     "output_type": "stream",
     "text": [
      "computing neighbors\n",
      "    using 'X_pca' with n_pcs = 50\n",
      "    finished: added to `.uns['neighbors']`\n",
      "    `.obsp['distances']`, distances for each pair of neighbors\n",
      "    `.obsp['connectivities']`, weighted adjacency matrix (0:00:02)\n",
      "computing UMAP\n"
     ]
    },
    {
     "name": "stderr",
     "output_type": "stream",
     "text": [
      "Trying to set attribute `.uns` of view, copying.\n"
     ]
    },
    {
     "name": "stdout",
     "output_type": "stream",
     "text": [
      "    finished: added\n",
      "    'X_umap', UMAP coordinates (adata.obsm) (0:00:08)\n",
      "Commencing harmony\n"
     ]
    },
    {
     "name": "stderr",
     "output_type": "stream",
     "text": [
      "2021-10-11 15:56:28,907 - harmonypy - INFO - Iteration 1 of 10\n",
      "Iteration 1 of 10\n",
      "2021-10-11 15:57:06,305 - harmonypy - INFO - Iteration 2 of 10\n",
      "Iteration 2 of 10\n",
      "2021-10-11 15:57:42,317 - harmonypy - INFO - Iteration 3 of 10\n",
      "Iteration 3 of 10\n",
      "2021-10-11 15:58:11,413 - harmonypy - INFO - Iteration 4 of 10\n",
      "Iteration 4 of 10\n",
      "2021-10-11 15:58:41,608 - harmonypy - INFO - Iteration 5 of 10\n",
      "Iteration 5 of 10\n",
      "2021-10-11 15:58:58,315 - harmonypy - INFO - Iteration 6 of 10\n",
      "Iteration 6 of 10\n",
      "2021-10-11 15:59:34,904 - harmonypy - INFO - Iteration 7 of 10\n",
      "Iteration 7 of 10\n",
      "2021-10-11 16:00:15,417 - harmonypy - INFO - Iteration 8 of 10\n",
      "Iteration 8 of 10\n",
      "2021-10-11 16:00:46,911 - harmonypy - INFO - Converged after 8 iterations\n",
      "Converged after 8 iterations\n"
     ]
    },
    {
     "name": "stdout",
     "output_type": "stream",
     "text": [
      "computing neighbors\n",
      "    using 'X_pca' with n_pcs = 50\n",
      "    finished: added to `.uns['neighbors']`\n",
      "    `.obsp['distances']`, distances for each pair of neighbors\n",
      "    `.obsp['connectivities']`, weighted adjacency matrix (0:00:02)\n",
      "computing UMAP\n"
     ]
    },
    {
     "name": "stderr",
     "output_type": "stream",
     "text": [
      "Trying to set attribute `.uns` of view, copying.\n"
     ]
    },
    {
     "name": "stdout",
     "output_type": "stream",
     "text": [
      "    finished: added\n",
      "    'X_umap', UMAP coordinates (adata.obsm) (0:00:08)\n",
      "Commencing harmony\n"
     ]
    },
    {
     "name": "stderr",
     "output_type": "stream",
     "text": [
      "2021-10-11 16:01:21,927 - harmonypy - INFO - Iteration 1 of 10\n",
      "Iteration 1 of 10\n",
      "2021-10-11 16:02:01,007 - harmonypy - INFO - Iteration 2 of 10\n",
      "Iteration 2 of 10\n",
      "2021-10-11 16:02:25,116 - harmonypy - INFO - Iteration 3 of 10\n",
      "Iteration 3 of 10\n",
      "2021-10-11 16:02:53,010 - harmonypy - INFO - Converged after 3 iterations\n",
      "Converged after 3 iterations\n"
     ]
    },
    {
     "name": "stdout",
     "output_type": "stream",
     "text": [
      "computing neighbors\n",
      "    using 'X_pca' with n_pcs = 50\n",
      "    finished: added to `.uns['neighbors']`\n",
      "    `.obsp['distances']`, distances for each pair of neighbors\n",
      "    `.obsp['connectivities']`, weighted adjacency matrix (0:00:02)\n",
      "computing UMAP\n"
     ]
    },
    {
     "name": "stderr",
     "output_type": "stream",
     "text": [
      "Trying to set attribute `.uns` of view, copying.\n"
     ]
    },
    {
     "name": "stdout",
     "output_type": "stream",
     "text": [
      "    finished: added\n",
      "    'X_umap', UMAP coordinates (adata.obsm) (0:00:08)\n",
      "Commencing harmony\n"
     ]
    },
    {
     "name": "stderr",
     "output_type": "stream",
     "text": [
      "2021-10-11 16:03:28,501 - harmonypy - INFO - Iteration 1 of 10\n",
      "Iteration 1 of 10\n",
      "2021-10-11 16:04:12,312 - harmonypy - INFO - Iteration 2 of 10\n",
      "Iteration 2 of 10\n",
      "2021-10-11 16:04:55,402 - harmonypy - INFO - Iteration 3 of 10\n",
      "Iteration 3 of 10\n",
      "2021-10-11 16:05:36,908 - harmonypy - INFO - Converged after 3 iterations\n",
      "Converged after 3 iterations\n"
     ]
    },
    {
     "name": "stdout",
     "output_type": "stream",
     "text": [
      "computing neighbors\n",
      "    using 'X_pca' with n_pcs = 50\n",
      "    finished: added to `.uns['neighbors']`\n",
      "    `.obsp['distances']`, distances for each pair of neighbors\n",
      "    `.obsp['connectivities']`, weighted adjacency matrix (0:00:02)\n",
      "computing UMAP\n"
     ]
    },
    {
     "name": "stderr",
     "output_type": "stream",
     "text": [
      "Trying to set attribute `.uns` of view, copying.\n"
     ]
    },
    {
     "name": "stdout",
     "output_type": "stream",
     "text": [
      "    finished: added\n",
      "    'X_umap', UMAP coordinates (adata.obsm) (0:00:08)\n"
     ]
    }
   ],
   "source": [
    "#Create output directory\n",
    "if os.path.exists(output) == True:\n",
    "    print(\"Path already exists!\")\n",
    "else:\n",
    "    os.mkdir(output)\n",
    "\n",
    "os.chdir('./'+output)\n",
    "print(os.getcwd())\n",
    "\n",
    "#Start of the subset and plotting loop\n",
    "\n",
    "adata = adata_orig[:]\n",
    "\n",
    "common_cat = \"corr_concat\" \n",
    "adata.obs[common_cat] = adata.obs[cat1].astype(str) + data1\n",
    "\n",
    "#Get PCA by covarainces of variable genes\n",
    "#sc.pp.normalize_per_cell(adata, counts_per_cell_after=1e4)\n",
    "#sc.pp.log1p(adata)\n",
    "#sc.pp.highly_variable_genes(adata, min_mean=0.1, max_mean=4)\n",
    "\n",
    "#Create a subsample to save on re sampling\n",
    "grouped = adata.obs.groupby('corr_concat')\n",
    "df = grouped.apply(lambda x: x.sample(frac=0.4))\n",
    "df = df.droplevel('corr_concat')\n",
    "keep = df.index\n",
    "adata = adata[adata.obs.index.isin(keep)]\n",
    "\n",
    "#Get control PCA, snn and umap coord without harmony:\n",
    "#sc.pp.pca(adata, n_comps=50, use_highly_variable=True, svd_solver='arpack')\n",
    "#sc.pp.neighbors(adata,n_neighbors=15, n_pcs=50)\n",
    "#sc.tl.umap(adata)\n",
    "\n",
    "#make a copy\n",
    "adata_loop_start = adata[:]\n",
    "\n",
    "#Create a dataframe holder for umap coords\n",
    "temp_umap = pd.DataFrame(adata.obsm[\"X_umap\"])\n",
    "temp_umap.columns=[\"X_umap1\",\"X_umap2\"]\n",
    "temp_umap[\"batch\"] = list(adata.obs[batch])\n",
    "temp_umap[\"clusters\"] = list(adata.obs[cat1])\n",
    "\n",
    "map_name = (\"control_no_batch\")\n",
    "temp_umap.to_csv(map_name+'.csv')\n",
    "\n",
    "\n",
    "adata = adata_loop_start[:]\n",
    "for i in inte:\n",
    "#Batch correction\n",
    "    if (correction == \"Harmony\"): \n",
    "        print(\"Commencing harmony\")\n",
    "        #Create hm subset\n",
    "        adata_hm = adata[:]\n",
    "        #sc.pp.pca(adata_hm, n_comps=50, use_highly_variable=True, svd_solver='arpack')\n",
    "        #Set harmony variables\n",
    "        data_mat = np.array(adata_hm.obsm[\"X_pca\"])\n",
    "        meta_data = adata_hm.obs\n",
    "        vars_use = [batch]\n",
    "        #Run Harmony\n",
    "        ho = hm.run_harmony(data_mat, meta_data, vars_use, theta = i)\n",
    "        res = (pd.DataFrame(ho.Z_corr)).T\n",
    "        res.columns = ['X{}'.format(i + 1) for i in range(res.shape[1])]\n",
    "        #Insert coordinates back into object\n",
    "        adata_hm.obsm[\"X_pca_back\"]= adata_hm.obsm[\"X_pca\"][:]\n",
    "        adata_hm.obsm[\"X_pca\"] = np.array(res)\n",
    "        #Run neighbours\n",
    "        sc.pp.neighbors(adata_hm,n_neighbors=15, n_pcs=50)\n",
    "        adata = adata_hm[:]\n",
    "        sc.tl.umap(adata)\n",
    "\n",
    "    else:\n",
    "        print(\"Commencing BBKNN\")\n",
    "        sc.pp.pca(adata, n_comps=i, use_highly_variable=False, svd_solver='arpack')\n",
    "        sc.external.pp.bbknn(adata, batch_key=batch, approx=True, metric='angular', copy=False, n_pcs=i, trim=None, n_trees=10, use_faiss=True, set_op_mix_ratio=1.0, local_connectivity=1)\n",
    "        sc.tl.umap(adata)\n",
    "        \n",
    "    #Create a dataframe holder for umap coords\n",
    "    temp_umap = pd.DataFrame(adata.obsm[\"X_umap\"])\n",
    "    temp_umap.columns=[\"X_umap1\",\"X_umap2\"]\n",
    "    temp_umap[\"batch\"] = list(adata.obs[batch])\n",
    "    temp_umap[\"clusters\"] = list(adata.obs[cat1])\n",
    "\n",
    "    map_name = (\"harmony_theta_\"+str(i))\n",
    "    temp_umap.to_csv(map_name+'.csv')"
   ]
  },
  {
   "cell_type": "markdown",
   "metadata": {},
   "source": [
    "# Compute sil score for each set of umap coords"
   ]
  },
  {
   "cell_type": "code",
   "execution_count": 24,
   "metadata": {},
   "outputs": [
    {
     "data": {
      "text/plain": [
       "'./kbet_loop_out_harmony_theta_var_v3_increase_batch_increased_k/sil_scores'"
      ]
     },
     "execution_count": 24,
     "metadata": {},
     "output_type": "execute_result"
    }
   ],
   "source": [
    "outpath"
   ]
  },
  {
   "cell_type": "code",
   "execution_count": 26,
   "metadata": {},
   "outputs": [],
   "source": [
    "# Read files from directory\n",
    "from sklearn.metrics import silhouette_score\n",
    "\n",
    "relevant_path = output\n",
    "included_extensions = ['.csv']\n",
    "\n",
    "#provide an output path and a folder name to be created\n",
    "output_dir = \"sil_scores\"\n",
    "\n",
    "\n",
    "outpath = relevant_path + output_dir\n",
    "if os.path.exists(outpath) == True:\n",
    "    print(\"Path already exists!\")\n",
    "else:\n",
    "    os.mkdir(outpath)\n",
    "file_names = [fn for fn in os.listdir(relevant_path)\n",
    "              if any(fn.endswith(ext) for ext in included_extensions)]\n",
    "\n",
    "#Create append lists\n",
    "name_ls = []\n",
    "sil = []\n",
    "\n",
    "for i in (file_names):\n",
    "    map = pd.read_csv(relevant_path+i,index_col = 0)\n",
    "    points = map.iloc[:,0:2]\n",
    "    labels = map[\"batch\"]\n",
    "    sil.append(silhouette_score(points, labels, metric = 'euclidean'))\n",
    "    name = i.replace(\"harmony_\",\"\")\n",
    "    name = name.replace(\".csv\",\"\")\n",
    "    name_ls.append(name)\n",
    "\n",
    "#combine both lists\n",
    "append = pd.DataFrame(list(zip(sil, name_ls)))\n",
    "append.columns = [\"sil\",\"var\"]\n",
    "append.to_csv(outpath +\"/sil_score_appended.csv\")"
   ]
  },
  {
   "cell_type": "code",
   "execution_count": 27,
   "metadata": {},
   "outputs": [
    {
     "data": {
      "text/html": [
       "<div>\n",
       "<style scoped>\n",
       "    .dataframe tbody tr th:only-of-type {\n",
       "        vertical-align: middle;\n",
       "    }\n",
       "\n",
       "    .dataframe tbody tr th {\n",
       "        vertical-align: top;\n",
       "    }\n",
       "\n",
       "    .dataframe thead th {\n",
       "        text-align: right;\n",
       "    }\n",
       "</style>\n",
       "<table border=\"1\" class=\"dataframe\">\n",
       "  <thead>\n",
       "    <tr style=\"text-align: right;\">\n",
       "      <th></th>\n",
       "      <th>sil</th>\n",
       "      <th>var</th>\n",
       "    </tr>\n",
       "  </thead>\n",
       "  <tbody>\n",
       "    <tr>\n",
       "      <th>0</th>\n",
       "      <td>-0.201495</td>\n",
       "      <td>theta_9</td>\n",
       "    </tr>\n",
       "    <tr>\n",
       "      <th>1</th>\n",
       "      <td>-0.169710</td>\n",
       "      <td>theta_1</td>\n",
       "    </tr>\n",
       "    <tr>\n",
       "      <th>2</th>\n",
       "      <td>-0.223098</td>\n",
       "      <td>theta_6</td>\n",
       "    </tr>\n",
       "    <tr>\n",
       "      <th>3</th>\n",
       "      <td>-0.159208</td>\n",
       "      <td>theta_4</td>\n",
       "    </tr>\n",
       "    <tr>\n",
       "      <th>4</th>\n",
       "      <td>-0.174679</td>\n",
       "      <td>theta_2</td>\n",
       "    </tr>\n",
       "    <tr>\n",
       "      <th>5</th>\n",
       "      <td>-0.204124</td>\n",
       "      <td>theta_8</td>\n",
       "    </tr>\n",
       "    <tr>\n",
       "      <th>6</th>\n",
       "      <td>-0.199403</td>\n",
       "      <td>theta_10</td>\n",
       "    </tr>\n",
       "    <tr>\n",
       "      <th>7</th>\n",
       "      <td>-0.173042</td>\n",
       "      <td>theta_3</td>\n",
       "    </tr>\n",
       "    <tr>\n",
       "      <th>8</th>\n",
       "      <td>-0.240162</td>\n",
       "      <td>theta_7</td>\n",
       "    </tr>\n",
       "    <tr>\n",
       "      <th>9</th>\n",
       "      <td>-0.210665</td>\n",
       "      <td>control_no_batch</td>\n",
       "    </tr>\n",
       "    <tr>\n",
       "      <th>10</th>\n",
       "      <td>-0.178629</td>\n",
       "      <td>theta_5</td>\n",
       "    </tr>\n",
       "  </tbody>\n",
       "</table>\n",
       "</div>"
      ],
      "text/plain": [
       "         sil               var\n",
       "0  -0.201495           theta_9\n",
       "1  -0.169710           theta_1\n",
       "2  -0.223098           theta_6\n",
       "3  -0.159208           theta_4\n",
       "4  -0.174679           theta_2\n",
       "5  -0.204124           theta_8\n",
       "6  -0.199403          theta_10\n",
       "7  -0.173042           theta_3\n",
       "8  -0.240162           theta_7\n",
       "9  -0.210665  control_no_batch\n",
       "10 -0.178629           theta_5"
      ]
     },
     "execution_count": 27,
     "metadata": {},
     "output_type": "execute_result"
    }
   ],
   "source": [
    "append"
   ]
  },
  {
   "cell_type": "code",
   "execution_count": 4,
   "metadata": {},
   "outputs": [
    {
     "data": {
      "text/plain": [
       "'/nfs/team205/ig7/work_backups/backup_210306/projects/YS/YS_090321_notebooks/YS_Reprocess_250721_updates/mouse_gastrulation_human_YS_combination/kbet_cross-species/kbet_loop_out_harmony_theta_var_v3_increase_batch_increased_k/'"
      ]
     },
     "execution_count": 4,
     "metadata": {},
     "output_type": "execute_result"
    }
   ],
   "source": [
    "output"
   ]
  },
  {
   "cell_type": "markdown",
   "metadata": {},
   "source": [
    "# Run R script for kbet calculation"
   ]
  },
  {
   "cell_type": "code",
   "execution_count": null,
   "metadata": {},
   "outputs": [
    {
     "name": "stdout",
     "output_type": "stream",
     "text": [
      "Loading required package: usethis\n",
      "\u001b[?25hSkipping install of 'kBET' from a github remote, the SHA1 (4c9dafab) has not changed since last install.\n",
      "  Use `force = TRUE` to force installation\n",
      "\u001b[?25h\u001b[?25h\u001b[?25h\u001b[?25h\u001b[?25h\u001b[?25h\u001b[?25h\u001b[?25h\u001b[?25h[1] \"control_no_batch.csv\"\n",
      "[1] \"ExE ectoderm_mouse_gastrulation_Training\"\n",
      "Initial neighbourhood size is set to 588.\n",
      "reducing dimensions with svd first...\n",
      "finding knns...done. Time:\n",
      "   user  system elapsed \n",
      "  0.649   0.044   0.694 \n",
      "KNN input is a list, extracting nearest neighbour index.\n",
      "Number of kBET tests is set to 236.\n",
      "No outsiders found.[1] \"ExE endoderm_mouse_gastrulation_Training\"\n",
      "Initial neighbourhood size is set to 467.\n",
      "reducing dimensions with svd first...\n",
      "finding knns...done. Time:\n",
      "   user  system elapsed \n",
      "  0.364   0.008   0.372 \n",
      "KNN input is a list, extracting nearest neighbour index.\n",
      "Number of kBET tests is set to 187.\n",
      "[1] \"Visceral endoderm_mouse_gastrulation_Training\"\n",
      "Initial neighbourhood size is set to 64.\n",
      "reducing dimensions with svd first...\n",
      "finding knns...done. Time:\n",
      "   user  system elapsed \n",
      "  0.005   0.000   0.004 \n",
      "KNN input is a list, extracting nearest neighbour index.\n",
      "Number of kBET tests is set to 26.\n",
      "[1] \"Blood progenitors 2_mouse_gastrulation_Training\"\n",
      "Initial neighbourhood size is set to 129.\n",
      "reducing dimensions with svd first...\n",
      "finding knns...done. Time:\n",
      "   user  system elapsed \n",
      "  0.017   0.000   0.017 \n",
      "KNN input is a list, extracting nearest neighbour index.\n",
      "Number of kBET tests is set to 52.\n",
      "[1] \"Blood progenitors 1_mouse_gastrulation_Training\"\n",
      "Initial neighbourhood size is set to 37.\n",
      "reducing dimensions with svd first...\n",
      "finding knns...done. Time:\n",
      "   user  system elapsed \n",
      "  0.001   0.000   0.002 \n",
      "KNN input is a list, extracting nearest neighbour index.\n",
      "Number of kBET tests is set to 25.\n",
      "[1] \"ExE mesoderm_mouse_gastrulation_Training\"\n",
      "Initial neighbourhood size is set to 128.\n",
      "reducing dimensions with svd first...\n",
      "finding knns...done. Time:\n",
      "   user  system elapsed \n",
      "  0.016   0.000   0.016 \n",
      "KNN input is a list, extracting nearest neighbour index.\n",
      "Number of kBET tests is set to 52.\n",
      "[1] \"Haematoendothelial progenitors_mouse_gastrulation_Training\"\n",
      "Initial neighbourhood size is set to 136.\n",
      "reducing dimensions with svd first...\n",
      "finding knns...done. Time:\n",
      "   user  system elapsed \n",
      "  0.015   0.004   0.019 \n",
      "KNN input is a list, extracting nearest neighbour index.\n",
      "Number of kBET tests is set to 55.\n",
      "[1] \"HSPC_1_ys_ys_fliv_Training\"\n",
      "reducing dimensions with svd first...\n",
      "finding knns...done. Time:\n",
      "   user  system elapsed \n",
      "  0.018   0.000   0.018 \n",
      "KNN input is a list, extracting nearest neighbour index.\n",
      "Number of kBET tests is set to 76.\n",
      "[1] \"Endoderm_ys_ys_fliv_Training\"\n",
      "reducing dimensions with svd first...\n",
      "finding knns...done. Time:\n",
      "   user  system elapsed \n",
      "  0.129   0.004   0.133 \n",
      "KNN input is a list, extracting nearest neighbour index.\n",
      "Number of kBET tests is set to 181.\n",
      "[1] \"Lymphoid_progenitor_ys_ys_fliv_Training\"\n",
      "reducing dimensions with svd first...\n",
      "finding knns...done. Time:\n",
      "   user  system elapsed \n",
      "  0.002   0.000   0.002 \n",
      "KNN input is a list, extracting nearest neighbour index.\n",
      "Number of kBET tests is set to 26.\n",
      "[1] \"Mesothelium_ys_ys_fliv_Training\"\n",
      "reducing dimensions with svd first...\n",
      "finding knns...done. Time:\n",
      "   user  system elapsed \n",
      "  0.018   0.000   0.018 \n",
      "KNN input is a list, extracting nearest neighbour index.\n",
      "Number of kBET tests is set to 71.\n",
      "[1] \"MEMP_ys_ys_fliv_Training\"\n",
      "reducing dimensions with svd first...\n",
      "finding knns...done. Time:\n",
      "   user  system elapsed \n",
      "  0.001   0.000   0.001 \n",
      "KNN input is a list, extracting nearest neighbour index.\n",
      "Number of kBET tests is set to 25.\n",
      "[1] \"Fibroblast_ys_ys_fliv_Training\"\n",
      "reducing dimensions with svd first...\n",
      "finding knns...done. Time:\n",
      "   user  system elapsed \n",
      "  6.538   0.220   6.758 \n",
      "KNN input is a list, extracting nearest neighbour index.\n",
      "Number of kBET tests is set to 765.\n"
     ]
    }
   ],
   "source": [
    "! Rscript /nfs/team205/ig7/work_backups/backup_210306/projects/YS/YS_090321_notebooks/YS_Reprocess_250721_updates/mouse_gastrulation_human_YS_combination/kbet_cross-species/2_kbet_R_increased_batch.r $output"
   ]
  },
  {
   "cell_type": "markdown",
   "metadata": {},
   "source": [
    "# Plot Kbet"
   ]
  },
  {
   "cell_type": "code",
   "execution_count": 60,
   "metadata": {},
   "outputs": [],
   "source": [
    "%matplotlib inline\n",
    "import numpy as np\n",
    "import scanpy as sc\n",
    "import scipy as sci\n",
    "import pandas as pd\n",
    "\n",
    "import matplotlib as mpl\n",
    "import matplotlib.pyplot as plt\n",
    "import seaborn as sns\n",
    "from sklearn.metrics import adjusted_rand_score\n",
    "from sklearn.metrics import adjusted_mutual_info_score\n",
    "\n",
    "import gc\n",
    "import os\n",
    "import re"
   ]
  },
  {
   "cell_type": "code",
   "execution_count": 27,
   "metadata": {},
   "outputs": [
    {
     "data": {
      "text/plain": [
       "['avg_kbet_score_concat.csv',\n",
       " 'harmony_theta_1_kbet_scores.csv',\n",
       " 'harmony_theta_2_kbet_scores.csv',\n",
       " 'control_no_batch_kbet_scores.csv',\n",
       " 'harmony_theta_8_kbet_scores.csv',\n",
       " 'harmony_theta_4_kbet_scores.csv',\n",
       " 'harmony_theta_7_kbet_scores.csv',\n",
       " 'harmony_theta_9_kbet_scores.csv',\n",
       " 'harmony_theta_3_kbet_scores.csv',\n",
       " 'harmony_theta_6_kbet_scores.csv',\n",
       " 'harmony_theta_5_kbet_scores.csv',\n",
       " 'harmony_theta_10_kbet_scores.csv']"
      ]
     },
     "execution_count": 27,
     "metadata": {},
     "output_type": "execute_result"
    }
   ],
   "source": [
    "directory = \"/nfs/team205/ig7/work_backups/backup_210306/projects/YS/YS_090321_notebooks/YS_Reprocess_250721_updates/mouse_gastrulation_human_YS_combination/kbet_cross-species/kbet_loop_out_harmony_theta_var_v3_increase_batch_increased_k/kbet_scores\"\n",
    "tables = os.listdir(directory)\n",
    "tables = [x for x in tables if x.endswith('.csv') and not x.startswith(\"concatenated\")]\n",
    "tables"
   ]
  },
  {
   "cell_type": "code",
   "execution_count": 28,
   "metadata": {},
   "outputs": [],
   "source": [
    "#name = \"./concatenated_scores_minus_PCs.csv\"\n",
    "#file = pd.read_csv(name)\n",
    "#file = file.drop([0])\n",
    "read_list_order = [\n",
    "'control_no_batch_kbet_scores.csv',\n",
    "'harmony_theta_1_kbet_scores.csv',\n",
    " 'harmony_theta_2_kbet_scores.csv',\n",
    " 'harmony_theta_3_kbet_scores.csv',\n",
    " 'harmony_theta_4_kbet_scores.csv',\n",
    " 'harmony_theta_5_kbet_scores.csv',\n",
    " 'harmony_theta_6_kbet_scores.csv',\n",
    " 'harmony_theta_7_kbet_scores.csv',\n",
    " 'harmony_theta_8_kbet_scores.csv',\n",
    " 'harmony_theta_9_kbet_scores.csv',]"
   ]
  },
  {
   "cell_type": "code",
   "execution_count": 29,
   "metadata": {},
   "outputs": [
    {
     "name": "stdout",
     "output_type": "stream",
     "text": [
      "control_no_batch_kbet_scores.csv\n",
      "harmony_theta_1_kbet_scores.csv\n",
      "harmony_theta_2_kbet_scores.csv\n",
      "harmony_theta_3_kbet_scores.csv\n",
      "harmony_theta_4_kbet_scores.csv\n",
      "harmony_theta_5_kbet_scores.csv\n",
      "harmony_theta_6_kbet_scores.csv\n",
      "harmony_theta_7_kbet_scores.csv\n",
      "harmony_theta_8_kbet_scores.csv\n",
      "harmony_theta_9_kbet_scores.csv\n"
     ]
    }
   ],
   "source": [
    "names = list()\n",
    "kbet_scores = list()\n",
    "for i in read_list_order :\n",
    "    print(i)\n",
    "    file = pd.read_csv(directory+\"/\"+i,index_col=0)\n",
    "    #Extract kbet score\n",
    "    test_name = i.replace(\"_kbet_scores.csv\",\"\")\n",
    "    test_name = test_name.replace(\"_no_batch\",\"\")\n",
    "    test_name = test_name.replace(\"harmony_\",\"\")\n",
    "    test_name = test_name.replace(\"_\",\"=\")\n",
    "    temp_kbet = (file['kbet'][file.iloc[:,0].isin([\"avg_kbet\"])]).values[0]\n",
    "    names.append(test_name)\n",
    "    kbet_scores.append(temp_kbet)\n",
    "    \n",
    "kbet_out = pd.DataFrame({'test': names,'kbet_score': kbet_scores })\n",
    "kbet_out.to_csv(directory+\"/\"+\"avg_kbet_score_concat.csv\")"
   ]
  },
  {
   "cell_type": "code",
   "execution_count": 35,
   "metadata": {},
   "outputs": [
    {
     "data": {
      "text/html": [
       "<div>\n",
       "<style scoped>\n",
       "    .dataframe tbody tr th:only-of-type {\n",
       "        vertical-align: middle;\n",
       "    }\n",
       "\n",
       "    .dataframe tbody tr th {\n",
       "        vertical-align: top;\n",
       "    }\n",
       "\n",
       "    .dataframe thead th {\n",
       "        text-align: right;\n",
       "    }\n",
       "</style>\n",
       "<table border=\"1\" class=\"dataframe\">\n",
       "  <thead>\n",
       "    <tr style=\"text-align: right;\">\n",
       "      <th></th>\n",
       "      <th>test</th>\n",
       "      <th>kbet_score</th>\n",
       "    </tr>\n",
       "  </thead>\n",
       "  <tbody>\n",
       "    <tr>\n",
       "      <th>0</th>\n",
       "      <td>control</td>\n",
       "      <td>0.471955</td>\n",
       "    </tr>\n",
       "    <tr>\n",
       "      <th>1</th>\n",
       "      <td>theta=1</td>\n",
       "      <td>0.415127</td>\n",
       "    </tr>\n",
       "    <tr>\n",
       "      <th>2</th>\n",
       "      <td>theta=2</td>\n",
       "      <td>0.410712</td>\n",
       "    </tr>\n",
       "    <tr>\n",
       "      <th>3</th>\n",
       "      <td>theta=3</td>\n",
       "      <td>0.454836</td>\n",
       "    </tr>\n",
       "    <tr>\n",
       "      <th>4</th>\n",
       "      <td>theta=4</td>\n",
       "      <td>0.439770</td>\n",
       "    </tr>\n",
       "    <tr>\n",
       "      <th>5</th>\n",
       "      <td>theta=5</td>\n",
       "      <td>0.392563</td>\n",
       "    </tr>\n",
       "    <tr>\n",
       "      <th>6</th>\n",
       "      <td>theta=6</td>\n",
       "      <td>0.477272</td>\n",
       "    </tr>\n",
       "    <tr>\n",
       "      <th>7</th>\n",
       "      <td>theta=7</td>\n",
       "      <td>0.491624</td>\n",
       "    </tr>\n",
       "    <tr>\n",
       "      <th>8</th>\n",
       "      <td>theta=8</td>\n",
       "      <td>0.512968</td>\n",
       "    </tr>\n",
       "    <tr>\n",
       "      <th>9</th>\n",
       "      <td>theta=9</td>\n",
       "      <td>0.487144</td>\n",
       "    </tr>\n",
       "  </tbody>\n",
       "</table>\n",
       "</div>"
      ],
      "text/plain": [
       "      test  kbet_score\n",
       "0  control    0.471955\n",
       "1  theta=1    0.415127\n",
       "2  theta=2    0.410712\n",
       "3  theta=3    0.454836\n",
       "4  theta=4    0.439770\n",
       "5  theta=5    0.392563\n",
       "6  theta=6    0.477272\n",
       "7  theta=7    0.491624\n",
       "8  theta=8    0.512968\n",
       "9  theta=9    0.487144"
      ]
     },
     "execution_count": 35,
     "metadata": {},
     "output_type": "execute_result"
    }
   ],
   "source": [
    "kbet_out"
   ]
  },
  {
   "cell_type": "code",
   "execution_count": 30,
   "metadata": {},
   "outputs": [
    {
     "data": {
      "text/plain": [
       "9    -0.210665\n",
       "1    -0.169710\n",
       "6    -0.199403\n",
       "4    -0.174679\n",
       "7    -0.173042\n",
       "3    -0.159208\n",
       "10   -0.178629\n",
       "2    -0.223098\n",
       "8    -0.240162\n",
       "5    -0.204124\n",
       "0    -0.201495\n",
       "Name: sil, dtype: float64"
      ]
     },
     "execution_count": 30,
     "metadata": {},
     "output_type": "execute_result"
    }
   ],
   "source": [
    "#Read sil scores\n",
    "sil = pd.read_csv(\"/nfs/team205/ig7/work_backups/backup_210306/projects/YS/YS_090321_notebooks/YS_Reprocess_250721_updates/mouse_gastrulation_human_YS_combination/kbet_cross-species/kbet_loop_out_harmony_theta_var_v3_increase_batch_increased_k/sil_scores/sil_score_appended.csv\",index_col = 0)\n",
    "sil = sil.sort_values(by=['var'])\n",
    "\n",
    "#redorder = \n",
    "sil.iloc[:,0]"
   ]
  },
  {
   "cell_type": "code",
   "execution_count": 31,
   "metadata": {},
   "outputs": [],
   "source": [
    "sil = sil[~sil['var'].isin(['theta_10'])]"
   ]
  },
  {
   "cell_type": "code",
   "execution_count": 32,
   "metadata": {},
   "outputs": [
    {
     "data": {
      "text/html": [
       "<div>\n",
       "<style scoped>\n",
       "    .dataframe tbody tr th:only-of-type {\n",
       "        vertical-align: middle;\n",
       "    }\n",
       "\n",
       "    .dataframe tbody tr th {\n",
       "        vertical-align: top;\n",
       "    }\n",
       "\n",
       "    .dataframe thead th {\n",
       "        text-align: right;\n",
       "    }\n",
       "</style>\n",
       "<table border=\"1\" class=\"dataframe\">\n",
       "  <thead>\n",
       "    <tr style=\"text-align: right;\">\n",
       "      <th></th>\n",
       "      <th>test</th>\n",
       "      <th>kbet_score</th>\n",
       "    </tr>\n",
       "  </thead>\n",
       "  <tbody>\n",
       "    <tr>\n",
       "      <th>0</th>\n",
       "      <td>control</td>\n",
       "      <td>0.471955</td>\n",
       "    </tr>\n",
       "    <tr>\n",
       "      <th>1</th>\n",
       "      <td>theta=1</td>\n",
       "      <td>0.415127</td>\n",
       "    </tr>\n",
       "    <tr>\n",
       "      <th>2</th>\n",
       "      <td>theta=2</td>\n",
       "      <td>0.410712</td>\n",
       "    </tr>\n",
       "    <tr>\n",
       "      <th>3</th>\n",
       "      <td>theta=3</td>\n",
       "      <td>0.454836</td>\n",
       "    </tr>\n",
       "    <tr>\n",
       "      <th>4</th>\n",
       "      <td>theta=4</td>\n",
       "      <td>0.439770</td>\n",
       "    </tr>\n",
       "    <tr>\n",
       "      <th>5</th>\n",
       "      <td>theta=5</td>\n",
       "      <td>0.392563</td>\n",
       "    </tr>\n",
       "    <tr>\n",
       "      <th>6</th>\n",
       "      <td>theta=6</td>\n",
       "      <td>0.477272</td>\n",
       "    </tr>\n",
       "    <tr>\n",
       "      <th>7</th>\n",
       "      <td>theta=7</td>\n",
       "      <td>0.491624</td>\n",
       "    </tr>\n",
       "    <tr>\n",
       "      <th>8</th>\n",
       "      <td>theta=8</td>\n",
       "      <td>0.512968</td>\n",
       "    </tr>\n",
       "    <tr>\n",
       "      <th>9</th>\n",
       "      <td>theta=9</td>\n",
       "      <td>0.487144</td>\n",
       "    </tr>\n",
       "  </tbody>\n",
       "</table>\n",
       "</div>"
      ],
      "text/plain": [
       "      test  kbet_score\n",
       "0  control    0.471955\n",
       "1  theta=1    0.415127\n",
       "2  theta=2    0.410712\n",
       "3  theta=3    0.454836\n",
       "4  theta=4    0.439770\n",
       "5  theta=5    0.392563\n",
       "6  theta=6    0.477272\n",
       "7  theta=7    0.491624\n",
       "8  theta=8    0.512968\n",
       "9  theta=9    0.487144"
      ]
     },
     "execution_count": 32,
     "metadata": {},
     "output_type": "execute_result"
    }
   ],
   "source": [
    "kbet_out"
   ]
  },
  {
   "cell_type": "markdown",
   "metadata": {},
   "source": [
    "# Rand and MI"
   ]
  },
  {
   "cell_type": "code",
   "execution_count": 45,
   "metadata": {},
   "outputs": [
    {
     "data": {
      "text/plain": [
       "['control_no_batch.csv',\n",
       " 'harmony_theta_1.csv',\n",
       " 'harmony_theta_10.csv',\n",
       " 'harmony_theta_2.csv',\n",
       " 'harmony_theta_3.csv',\n",
       " 'harmony_theta_4.csv',\n",
       " 'harmony_theta_5.csv',\n",
       " 'harmony_theta_6.csv',\n",
       " 'harmony_theta_7.csv',\n",
       " 'harmony_theta_8.csv',\n",
       " 'harmony_theta_9.csv']"
      ]
     },
     "execution_count": 45,
     "metadata": {},
     "output_type": "execute_result"
    }
   ],
   "source": [
    "directory = \"/nfs/team205/ig7/work_backups/backup_210306/projects/YS/YS_090321_notebooks/YS_Reprocess_250721_updates/mouse_gastrulation_human_YS_combination/kbet_cross-species/kbet_loop_out_harmony_theta_var_v3_increase_batch_increased_k/\"\n",
    "tables = os.listdir(directory)\n",
    "tables = [x for x in tables if x.endswith('.csv') and not x.startswith(\"concatenated\")]\n",
    "read_list_order = sorted(tables)"
   ]
  },
  {
   "cell_type": "code",
   "execution_count": 62,
   "metadata": {},
   "outputs": [
    {
     "name": "stdout",
     "output_type": "stream",
     "text": [
      "control_no_batch.csv\n",
      "harmony_theta_1.csv\n",
      "harmony_theta_10.csv\n",
      "harmony_theta_2.csv\n",
      "harmony_theta_3.csv\n",
      "harmony_theta_4.csv\n",
      "harmony_theta_5.csv\n",
      "harmony_theta_6.csv\n",
      "harmony_theta_7.csv\n",
      "harmony_theta_8.csv\n",
      "harmony_theta_9.csv\n"
     ]
    }
   ],
   "source": [
    "define_control = 'control_no_batch.csv'\n",
    "control = pd.read_csv(directory+\"/\"+define_control,index_col=0)\n",
    "\n",
    "names = list()\n",
    "kbet_scores = list()\n",
    "for i in read_list_order :\n",
    "    print(i)\n",
    "    file = pd.read_csv(directory+\"/\"+i,index_col=0)\n",
    "    rand = adjusted_rand_score(list(control['clusters']), list(file['clusters']))\n",
    "    mi=sklearn.metrics.adjusted_mutual_info_score(list(control['clusters']), list(file['clusters']), average_method='arithmetic')"
   ]
  },
  {
   "cell_type": "code",
   "execution_count": null,
   "metadata": {},
   "outputs": [],
   "source": [
    " print(i)\n",
    "    file = pd.read_csv(directory+\"/\"+i,index_col=0)\n",
    "    #Extract kbet score\n",
    "    test_name = i.replace(\"_kbet_scores.csv\",\"\")\n",
    "    test_name = test_name.replace(\"_no_batch\",\"\")\n",
    "    test_name = test_name.replace(\"harmony_\",\"\")\n",
    "    test_name = test_name.replace(\"_\",\"=\")\n",
    "    temp_kbet = (file['kbet'][file.iloc[:,0].isin([\"avg_kbet\"])]).values[0]\n",
    "    names.append(test_name)\n",
    "    kbet_scores.append(temp_kbet)\n",
    "    \n",
    "kbet_out = pd.DataFrame({'test': names,'kbet_score': kbet_scores })\n",
    "kbet_out.to_csv(directory+\"/\"+\"avg_kbet_score_concat.csv\")"
   ]
  },
  {
   "cell_type": "code",
   "execution_count": 33,
   "metadata": {},
   "outputs": [
    {
     "ename": "NameError",
     "evalue": "name 'rand_x' is not defined",
     "output_type": "error",
     "traceback": [
      "\u001b[0;31m---------------------------------------------------------------------------\u001b[0m",
      "\u001b[0;31mNameError\u001b[0m                                 Traceback (most recent call last)",
      "\u001b[0;32m<ipython-input-33-24f20ddc7f9a>\u001b[0m in \u001b[0;36m<module>\u001b[0;34m\u001b[0m\n\u001b[1;32m      1\u001b[0m \u001b[0mig\u001b[0m\u001b[0;34m,\u001b[0m\u001b[0max\u001b[0m \u001b[0;34m=\u001b[0m \u001b[0mplt\u001b[0m\u001b[0;34m.\u001b[0m\u001b[0msubplots\u001b[0m\u001b[0;34m(\u001b[0m\u001b[0mfigsize\u001b[0m \u001b[0;34m=\u001b[0m \u001b[0;34m(\u001b[0m\u001b[0;36m10\u001b[0m\u001b[0;34m,\u001b[0m\u001b[0;36m5\u001b[0m\u001b[0;34m)\u001b[0m\u001b[0;34m)\u001b[0m\u001b[0;34m\u001b[0m\u001b[0;34m\u001b[0m\u001b[0m\n\u001b[1;32m      2\u001b[0m \u001b[0;31m# make a plot\u001b[0m\u001b[0;34m\u001b[0m\u001b[0;34m\u001b[0m\u001b[0;34m\u001b[0m\u001b[0m\n\u001b[0;32m----> 3\u001b[0;31m \u001b[0max\u001b[0m\u001b[0;34m.\u001b[0m\u001b[0mplot\u001b[0m\u001b[0;34m(\u001b[0m\u001b[0mrand_x\u001b[0m\u001b[0;34m,\u001b[0m \u001b[0mrand_y\u001b[0m\u001b[0;34m,\u001b[0m \u001b[0;34m'bx-'\u001b[0m\u001b[0;34m,\u001b[0m \u001b[0mcolor\u001b[0m\u001b[0;34m=\u001b[0m\u001b[0;34m\"blue\"\u001b[0m\u001b[0;34m)\u001b[0m\u001b[0;34m\u001b[0m\u001b[0;34m\u001b[0m\u001b[0m\n\u001b[0m\u001b[1;32m      4\u001b[0m \u001b[0;31m# set x-axis label\u001b[0m\u001b[0;34m\u001b[0m\u001b[0;34m\u001b[0m\u001b[0;34m\u001b[0m\u001b[0m\n\u001b[1;32m      5\u001b[0m \u001b[0max\u001b[0m\u001b[0;34m.\u001b[0m\u001b[0mset_xlabel\u001b[0m\u001b[0;34m(\u001b[0m\u001b[0;34m\"Harmony theta value\"\u001b[0m\u001b[0;34m,\u001b[0m\u001b[0mfontsize\u001b[0m\u001b[0;34m=\u001b[0m\u001b[0;36m12\u001b[0m\u001b[0;34m)\u001b[0m\u001b[0;34m\u001b[0m\u001b[0;34m\u001b[0m\u001b[0m\n",
      "\u001b[0;31mNameError\u001b[0m: name 'rand_x' is not defined"
     ]
    },
    {
     "data": {
      "image/png": "[encoded data removed]",
      "text/plain": [
       "<Figure size 720x360 with 1 Axes>"
      ]
     },
     "metadata": {
      "needs_background": "light"
     },
     "output_type": "display_data"
    }
   ],
   "source": [
    "ig,ax = plt.subplots(figsize = (10,5))\n",
    "# make a plot\n",
    "ax.plot(rand_x, rand_y, 'bx-', color=\"blue\")\n",
    "# set x-axis label\n",
    "ax.set_xlabel(\"Harmony theta value\",fontsize=12)\n",
    "# set y-axis label\n",
    "rand_label = \"adj_Rand_Index: mean=\"+str(mean_rand) + \" SD=\" + str(sd_rand)\n",
    "ax.set_ylabel(rand_label,color=\"blue\",fontsize=14)\n",
    "# make a plot with different y-axis using second axis object\n",
    "ax2=ax.twinx()\n",
    "ax2.plot(mi_x, mi_y, 'bx-',color=\"red\")\n",
    "mi_label = \"Mutual Information score: mean=\"+str(mean_mi) + \" SD=\" + str(sd_mi)\n",
    "ax2.set_ylabel(mi_label,color=\"red\",fontsize=12)\n",
    "plt.title('Effect of different Harmony theta on celltype classification')\n",
    "plt.savefig(\"./Harmony_theta_effect.pdf\",dpi=200)\n",
    "#Set X ticks to integer values\n",
    "plt.xticks(np.arange(min(rand_x), (max(rand_x)+1), 1.0))\n",
    "plt.show();"
   ]
  },
  {
   "cell_type": "code",
   "execution_count": 34,
   "metadata": {},
   "outputs": [
    {
     "data": {
      "image/png": "[encoded data removed]",
      "text/plain": [
       "<Figure size 720x504 with 2 Axes>"
      ]
     },
     "metadata": {
      "needs_background": "light"
     },
     "output_type": "display_data"
    }
   ],
   "source": [
    "from matplotlib import rcParams\n",
    "rcParams.update({'figure.autolayout': True})\n",
    "\n",
    "x = kbet_out.iloc[:,0]\n",
    "y= kbet_out.iloc[:,1]\n",
    "\n",
    "# create figure and axis objects with subplots()\n",
    "fig,ax = plt.subplots(figsize = (10,7))\n",
    "# make a plot\n",
    "ax.plot(x, y, 'bx-', color=\"blue\")\n",
    "ax.grid()\n",
    "# set x-axis label\n",
    "ax.set_xlabel(\"Variable Harmony theta selection\",fontsize=12)\n",
    "plt.xticks(rotation=90)\n",
    "\n",
    "# set y-axis label\n",
    "rand_label = \"Mean cluster kBET rejection rates\"\n",
    "ax.set_ylabel(rand_label,color=\"blue\",fontsize=14)\n",
    "\n",
    "# make a plot with different y-axis using second axis object\n",
    "ax2=ax.twinx()\n",
    "ax2.plot(x, sil.iloc[:,0], 'bx-',color=\"red\")\n",
    "mi_label = \"Sil scores for associated corrections\"\n",
    "ax2.set_ylabel(mi_label,color=\"red\",fontsize=12)\n",
    "\n",
    "\n",
    "\n",
    "plt.title('Harmony Theta optimisation')\n",
    "plt.savefig(\"./kbet_harmony_theta.pdf\",dpi=200)\n",
    "#Set X ticks to integer values\n",
    "plt.show();"
   ]
  },
  {
   "cell_type": "code",
   "execution_count": null,
   "metadata": {},
   "outputs": [],
   "source": []
  }
 ],
 "metadata": {
  "kernelspec": {
   "display_name": "workhorse",
   "language": "python",
   "name": "workhorse"
  },
  "language_info": {
   "codemirror_mode": {
    "name": "ipython",
    "version": 3
   },
   "file_extension": ".py",
   "mimetype": "text/x-python",
   "name": "python",
   "nbconvert_exporter": "python",
   "pygments_lexer": "ipython3",
   "version": "3.8.6"
  }
 },
 "nbformat": 4,
 "nbformat_minor": 4
}
