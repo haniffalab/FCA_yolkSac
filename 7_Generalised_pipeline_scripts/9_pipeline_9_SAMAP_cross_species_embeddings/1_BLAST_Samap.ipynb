{
 "cells": [
  {
   "cell_type": "markdown",
   "id": "structural-artist",
   "metadata": {},
   "source": [
    "# Run SAMAp blast"
   ]
  },
  {
   "cell_type": "code",
   "execution_count": 12,
   "id": "fallen-undergraduate",
   "metadata": {},
   "outputs": [],
   "source": [
    "# modified tblastx cmd to use max = 4 threads"
   ]
  },
  {
   "cell_type": "markdown",
   "id": "initial-college",
   "metadata": {},
   "source": [
    "# Define NCBI BLAST version.\n",
    "ncbi_blast_version='2.9.0'\n",
    "\n",
    "# Download NCBI BLAST tarball.\n",
    "wget \"ftp://ftp.ncbi.nlm.nih.gov/blast/executables/blast+/${ncbi_blast_version}/ncbi-blast-${ncbi_blast_version}+-x64-linux.tar.gz\"\n",
    "\n",
    "# Extract NCBI BLAST binaries in current conda environment bin directory.\n",
    "tar -xzvf \"ncbi-blast-${ncbi_blast_version}+-x64-linux.tar.gz\" \\\n",
    "    -C \"${CONDA_PREFIX}/bin/\" \\\n",
    "    --strip-components=2 \\\n",
    "    \"ncbi-blast-${ncbi_blast_version}+/bin/\""
   ]
  },
  {
   "cell_type": "code",
   "execution_count": null,
   "id": "prospective-haven",
   "metadata": {},
   "outputs": [],
   "source": [
    "#file1 = '/nfs/team205/ig7/work_backups/backup_210306/projects/YS/YS_090321_notebooks/YS_Reprocess_250721_updates/mouse_gastrulation_human_YS_combination/SAMAp/transcriptomes/mouse_human_ref_genome/Homo_sapiens.GRCh38.dna.primary_assembly.fa' \n",
    "file1 = '/nfs/team205/ig7/work_backups/backup_210306/projects/YS/YS_090321_notebooks/YS_Reprocess_250721_updates/mouse_gastrulation_human_YS_combination/SAMAp/transcriptomes/Homo_sapiens.GRCh38.cdna.all.fa'\n",
    "type1 = 'nucl' #or 'prot' if file1 is a proteome \n",
    "id1 = 'hu' #2-character ID (e.g. 'sc' for schistosome) \n",
    "#file2 = '/nfs/team205/ig7/work_backups/backup_210306/projects/YS/YS_090321_notebooks/YS_Reprocess_250721_updates/mouse_gastrulation_human_YS_combination/SAMAp/transcriptomes/mouse_human_ref_genome/Mus_musculus.GRCm38.dna.primary_assembly.fa' \n",
    "file2 = '/nfs/team205/ig7/work_backups/backup_210306/projects/YS/YS_090321_notebooks/YS_Reprocess_250721_updates/mouse_gastrulation_human_YS_combination/SAMAp/transcriptomes/Mus_musculus.GRCm38.cdna.all.fa'\n",
    "type2 = 'nucl'  #2-character ID (e.g. 'pl' for planarian) \n",
    "id2 = 'mu'\n",
    "\n",
    "#! cd /nfs/team205/ig7/work_backups/backup_210306/projects/YS/YS_090321_notebooks/YS_Reprocess_250721_updates/mouse_gastrulation_human_YS_combination/SAMAp/ ; tar -xzvf \"ncbi-blast-${ncbi_blast_version}+-x64-linux.tar.gz\" \\ -C \"${CONDA_PREFIX}/bin/\" \\ --strip-components=2 \\  \"ncbi-blast-${ncbi_blast_version}+/bin/\"\n",
    "! bash /nfs/team205/ig7/work_backups/backup_210306/projects/YS/YS_090321_notebooks/YS_Reprocess_250721_updates/mouse_gastrulation_human_YS_combination/SAMAp/map_genes.sh --tr1 {file1} --t1 {type1} --n1 {id1} --tr2 {file2} --t2 {type2} --n2 {id2}"
   ]
  }
 ],
 "metadata": {
  "kernelspec": {
   "display_name": "workhorse",
   "language": "python",
   "name": "workhorse"
  },
  "language_info": {
   "codemirror_mode": {
    "name": "ipython",
    "version": 3
   },
   "file_extension": ".py",
   "mimetype": "text/x-python",
   "name": "python",
   "nbconvert_exporter": "python",
   "pygments_lexer": "ipython3",
   "version": "3.8.6"
  }
 },
 "nbformat": 4,
 "nbformat_minor": 5
}
