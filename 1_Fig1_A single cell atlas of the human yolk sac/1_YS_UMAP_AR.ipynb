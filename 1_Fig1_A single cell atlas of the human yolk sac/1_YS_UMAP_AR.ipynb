{
 "cells": [
  {
   "cell_type": "markdown",
   "id": "criminal-brick",
   "metadata": {},
   "source": [
    "# Figure 1b"
   ]
  },
  {
   "cell_type": "code",
   "execution_count": null,
   "id": "light-permit",
   "metadata": {},
   "outputs": [],
   "source": [
    "import scanpy as sc\n",
    "import pandas as pd\n",
    "import numpy as np\n",
    "import matplotlib.pyplot as plt\n",
    "import seaborn as sns; sns.set(color_codes=True)\n",
    "from pathlib import Path\n",
    "\n",
    "sc.settings.verbosity = 3  # verbosity: errors (0), warnings (1), info (2), hints (3)\n",
    "sc.settings.set_figure_params(dpi=300, dpi_save=300, color_map='viridis')"
   ]
  },
  {
   "cell_type": "code",
   "execution_count": null,
   "id": "dynamic-breath",
   "metadata": {},
   "outputs": [],
   "source": [
    "adata = sc.read(\"/home/jovyan/YS_project/YS/Data_objects/final_objects/A4_V7_YS_integrated_data_singlets_with_raw_counts_for_MS_plotting_20211111_with_obsp.h5ad\")"
   ]
  },
  {
   "cell_type": "markdown",
   "id": "frozen-insertion",
   "metadata": {},
   "source": [
    "# Main"
   ]
  },
  {
   "cell_type": "code",
   "execution_count": null,
   "id": "violent-enzyme",
   "metadata": {},
   "outputs": [],
   "source": [
    "var = \"broad_cell.labels\"\n",
    "#Create color dictionary\n",
    "cells = ['Endothelium','Progenitors','Erythroid','Endoderm','Macrophage','MK','Mesothelium','Fibroblast','Mast_cell','DC','Monocyte','Granulocyte_precursors','Microglia','Smooth_Muscle','Lymphoid']\n",
    "col = list(range(0, len(adata.obs[var].unique())))\n",
    "#col = adata.uns['cell.labels_colors']\n",
    "dic = dict(zip(cells,col))\n",
    "#Create a mappable field\n",
    "adata.obs['num'] = adata.obs[var]\n",
    "#map to adata.obs.col to create a caterorical column\n",
    "adata.obs['num'] = adata.obs['num'].map(dic)\n",
    "##Map to a pallete to use with umap\n",
    "#cells_list = pd.DataFrame(adata.obs[\"cell.labels\"].cat.categories)\n",
    "#cells_list['col'] = cells_list[0].map(dic)\n",
    "#col_pal = list(cells_list['col'])\n",
    "adata.obs['num'] = adata.obs['num'].astype(str)\n",
    "adata.obs[var+'_num'] = adata.obs['num'].astype(str) + \" : \" + adata.obs[var].astype(str)\n",
    "col_pal = [\"#d0352b\",\"#afbfcc\",\"#FFE8EC\",\"#bd7961\",\"#4c7bab\",\"#ee943f\",\"#eccd6e\",\"#b43c52\",\"#b0a789\",\"#6ea85b\",\"#b49fc8\",\"#05394a\",\"#1e38ad\",\"#5c865e\",\"#e0ee71\"]\n",
    "import matplotlib\n",
    "matplotlib.rcdefaults() #Reset matplot lb deafults as seaborne tends to mess with this\n",
    "fig, (ax1, ax2,) = plt.subplots(1,2, figsize=(10,10), gridspec_kw={'wspace':0,'width_ratios': [1,0]})\n",
    "p2 = sc.pl.umap(adata, color = (var+'_num') ,ax=ax2,show=False,title=\"\", palette= col_pal) #title=i\n",
    "p3 = sc.pl.umap(adata, color = \"num\",legend_loc=None,size=10,legend_fontsize='small',ax=ax1,show=False, palette= col_pal, title=var) #title=i\n",
    "fig.savefig(\"./figures/1b_main_umap.pdf\",bbox_inches='tight')"
   ]
  },
  {
   "cell_type": "markdown",
   "id": "reverse-airline",
   "metadata": {},
   "source": [
    "# Insert"
   ]
  },
  {
   "cell_type": "code",
   "execution_count": null,
   "id": "registered-cornwall",
   "metadata": {},
   "outputs": [],
   "source": [
    "adata.obs['fig1b_mini'] = \"Mesoderm\"\n",
    "adata.obs.loc[(adata.obs['broad_cell.labels'] == \"Mesothelium\"), 'fig1b_mini'] = \"Mesothelium\"\n",
    "adata.obs.loc[(adata.obs['broad_cell.labels'] == \"Endoderm\"), 'fig1b_mini'] = \"Endoderm\"\n",
    "adata.obs['fig1b_mini'] = adata.obs['fig1b_mini'].astype('category')\n",
    "\n",
    "var = \"fig1b_mini\"\n",
    "#Create color dictionary\n",
    "cells = ['Mesoderm', 'Mesothelium', 'Endoderm']\n",
    "col = list(range(0, len(adata.obs[var].unique())))\n",
    "#col = adata.uns['cell.labels_colors']\n",
    "dic = dict(zip(cells,col))\n",
    "#Create a mappable field\n",
    "adata.obs['num'] = adata.obs[var]\n",
    "#map to adata.obs.col to create a caterorical column\n",
    "adata.obs['num'] = adata.obs['num'].map(dic)\n",
    "##Map to a pallete to use with umap\n",
    "#cells_list = pd.DataFrame(adata.obs[\"cell.labels\"].cat.categories)\n",
    "#cells_list['col'] = cells_list[0].map(dic)\n",
    "#col_pal = list(cells_list['col'])\n",
    "adata.obs['num'] = adata.obs['num'].astype(str)\n",
    "adata.obs[var+'_num'] = adata.obs['num'].astype(str) + \" : \" + adata.obs[var].astype(str)\n",
    "col_pal = [\"#F8F1C8\",\"#EBCB70\",\"#BB775E\"] \n",
    "import matplotlib\n",
    "matplotlib.rcdefaults() #Reset matplot lb deafults as seaborne tends to mess with this\n",
    "fig, (ax1, ax2,) = plt.subplots(1,2, figsize=(10,10), gridspec_kw={'wspace':0,'width_ratios': [1,0]})\n",
    "p2 = sc.pl.umap(adata, color = (var+'_num') ,ax=ax2,show=False,title=\"\", palette= col_pal) #title=i\n",
    "p3 = sc.pl.umap(adata, color = \"num\",legend_loc=None,size=10,legend_fontsize='small',ax=ax1,show=False, palette= col_pal, title=var) #title=i\n",
    "fig.savefig(\"./figures/1b_components_umap.pdf\",bbox_inches='tight')"
   ]
  }
 ],
 "metadata": {
  "kernelspec": {
   "display_name": "Python_env_Hlab",
   "language": "python",
   "name": "python_env_hlab"
  },
  "language_info": {
   "codemirror_mode": {
    "name": "ipython",
    "version": 3
   },
   "file_extension": ".py",
   "mimetype": "text/x-python",
   "name": "python",
   "nbconvert_exporter": "python",
   "pygments_lexer": "ipython3",
   "version": "3.9.4"
  }
 },
 "nbformat": 4,
 "nbformat_minor": 5
}
